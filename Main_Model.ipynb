{
  "cells": [
    {
      "cell_type": "markdown",
      "metadata": {
        "id": "view-in-github",
        "colab_type": "text"
      },
      "source": [
        "<a href=\"https://colab.research.google.com/github/amyth18/CS598-Deep-Learning-Final-Project/blob/main/Main_Model.ipynb\" target=\"_parent\"><img src=\"https://colab.research.google.com/assets/colab-badge.svg\" alt=\"Open In Colab\"/></a>"
      ]
    },
    {
      "cell_type": "markdown",
      "source": [
        "# Overview\n",
        "\n",
        "In this notebook we provide the complete implementation of the methodology proposed in the paper titled [A disease inference method based on symptom extraction and bidirectional Long Short Term Memory networks](https://https://pubmed.ncbi.nlm.nih.gov/31301375/) by Donglin Guo et al.\n",
        "\n",
        "The notebook is divided in 4 major parts.\n",
        "1. Data preprocessing\n",
        "2. Feature engineering\n",
        "3. Main model (Definition/Training/Evaluation)\n",
        "4. 2 Baseline models (Definition/Training/Evaluation)\n",
        "\n",
        "The implementation for 3rd baseline model (DeepLabeler) is provided in a seperate notebook at this [location](https://github.com/amyth18/CS598-Deep-Learning-Final-Project/blob/main/Other_Baseline_Models.ipynb)\n",
        "\n",
        "The data preprocessing step needs to be performed only once and the output from this step can be used to run the other sections any number of times.\n",
        "\n",
        "We have tested this notebook in **Google Colab pro+ environment**. We highly recommend using GPU when training the model."
      ],
      "metadata": {
        "id": "p1kHa9ZOaHbf"
      }
    },
    {
      "cell_type": "markdown",
      "source": [
        "# Pre-Requisites\n",
        "\n",
        "Before you can run this notebook you need to gain access to MIMIC III version 1.4 dataset from physionet.org, please refer to Pre-Requisites section in the Readme file in the GitHub repository for more details.\n",
        "\n",
        "For this notebook we specifically we need the `NOTEVENTS.csv` and `DIAGNOSES_ICD.csv` files from the MIMIC III dataset.\n",
        "\n",
        "We use Google Drive to store all our data including the original dataset, transformed/pre-processed dataset, trained models and evaluation results. Before you get started please create a top level folder in your Google Drive and update the project level env variable ```PROJECT_PATH``` in the **Intial Setup** section.\n",
        "\n",
        "Once the top level folder is created, please save the MIMIC III dataset (i.e the de-compressed csv files) in a folder called ```mimic3```. If you don't have space to save all the files, you can only save the `NOTEVENTS.csv` and `DIAGNOSES_ICD.csv`files.\n",
        "\n",
        "Also, in the same top level folder create the following folders where the notebook will save various results.\n",
        "1. ```models```\n",
        "2. ```results```\n",
        "3. ```stats```"
      ],
      "metadata": {
        "id": "c3foWUCKuiJc"
      }
    },
    {
      "cell_type": "markdown",
      "source": [
        "# Initial Setup"
      ],
      "metadata": {
        "id": "WZAYNZiE-_z7"
      }
    },
    {
      "cell_type": "markdown",
      "source": [
        "Install and import the required packages"
      ],
      "metadata": {
        "id": "PKAq_yUVG8M7"
      }
    },
    {
      "cell_type": "code",
      "source": [
        "! pip install gensim --upgrade\n",
        "! pip install psutil\n",
        "! pip install transformers"
      ],
      "metadata": {
        "id": "EHtTRNjY6fjL"
      },
      "execution_count": null,
      "outputs": []
    },
    {
      "cell_type": "code",
      "source": [
        "import pandas as pd\n",
        "import torch\n",
        "import torch.nn as nn\n",
        "import numpy as np\n",
        "import pickle\n",
        "\n",
        "from torch.utils.data import Dataset\n",
        "from torch.utils.data import DataLoader\n",
        "from torch.utils.data.dataset import random_split\n",
        "from torch.utils.data import DataLoader\n",
        "\n",
        "import gensim\n",
        "from os import path"
      ],
      "metadata": {
        "id": "yZM4PBDMRCc_"
      },
      "execution_count": null,
      "outputs": []
    },
    {
      "cell_type": "markdown",
      "source": [
        "Mount the Google Drive into colab environment. The Google Drive contains our dataset as well acts as persistence for intermdiate data, model and results. Running this cell will prompt you to select a Google account whose credentials will be used to mount and access the drive."
      ],
      "metadata": {
        "id": "ZM16Y04aHB5S"
      }
    },
    {
      "cell_type": "code",
      "execution_count": null,
      "metadata": {
        "colab": {
          "base_uri": "https://localhost:8080/"
        },
        "id": "tFlP8qR9EAEW",
        "outputId": "06d38ca1-8c44-40b8-d07f-b2b5d21431fe"
      },
      "outputs": [
        {
          "output_type": "stream",
          "name": "stdout",
          "text": [
            "Mounted at /content/drive\n"
          ]
        }
      ],
      "source": [
        "from google.colab import drive\n",
        "drive.mount(\"/content/drive\")"
      ]
    },
    {
      "cell_type": "markdown",
      "source": [
        "Project level settings. Please ensure you set the project path correctly."
      ],
      "metadata": {
        "id": "TlEASa_slIgC"
      }
    },
    {
      "cell_type": "code",
      "source": [
        "PROJECT_PATH = \"/content/drive/My Drive/DLH Final Project\"\n",
        "W2V_MODEL_PATH = f\"{PROJECT_PATH}/models/word2vec.model\"\n",
        "\n",
        "W2V_EMB_SIZE = 128\n",
        "LSTM_HIDDEN_VEC_SIZE = 100\n",
        "TRAINING_BATCH_SIZE = 400"
      ],
      "metadata": {
        "id": "AiRRN0vElQ7k"
      },
      "execution_count": null,
      "outputs": []
    },
    {
      "cell_type": "markdown",
      "metadata": {
        "id": "ASN9TUHWgnz7"
      },
      "source": [
        "# Data Preprocessing\n",
        "\n",
        "In this section we perform the following pre-processing steps on out data set and produce a dataframe that is then used for feature engineering in the next section.\n",
        "\n",
        "1.   We first find the top #50 ICD codes (i.e top 50 conditions that are commonly diagnosed in admissions)\n",
        "\n",
        "2.   We then select only those adminisions from `df_icd_codes` dataframe that contain atleat one of the top #50 ICD9 codes.\n",
        "\n",
        "3. We then perform inner join on the filtered `df_icd_codes` to the `df` (i.e. NOTEVENTS.csv) to select discharge summary text from only those admimissions that contain at least one top #50 ICD9 code.\n",
        "\n",
        "4. We then generate Word2Vec embeddings using all the filtered discharge summaries using Gensim. This will be used later in feature engineering.\n",
        "\n",
        "5. We then extract only the symptom phrases from the discharge summaries using a pre-trained BERT model. The symptoms will then form the input features (represented in 2 forms) for our prediction model. This step is performed Feature Engineering section.\n",
        "\n",
        "The following diagram shows the data pre-processing pipeline.\n",
        "\n",
        "<img src='https://drive.google.com/uc?id=1_xjgfBbe3NccdvLo2dyefvD3mqumTr98'>"
      ]
    },
    {
      "cell_type": "markdown",
      "metadata": {
        "id": "bZrO8Ao004k3"
      },
      "source": [
        "## Load Data"
      ]
    },
    {
      "cell_type": "markdown",
      "source": [
        "We are primarily interested in the following 2 files/tables from the MIMIC III dataset.\n",
        "1.   NOTESEVENTS.csv (context discharge summary in \"TEXT\" field for each hospital admission.)\n",
        "2.   DIAGNOSES_ICD.csv (contains ICD9 codes for conditions diagnosed in an admimission)\n",
        "\n"
      ],
      "metadata": {
        "id": "t3Bw9AC1Hh0w"
      }
    },
    {
      "cell_type": "code",
      "execution_count": null,
      "metadata": {
        "colab": {
          "base_uri": "https://localhost:8080/",
          "height": 199
        },
        "id": "pcubO8rgEqXh",
        "outputId": "38a59cff-0b1a-463b-d3f0-e0be7f42d3ff"
      },
      "outputs": [
        {
          "output_type": "stream",
          "name": "stderr",
          "text": [
            "/usr/local/lib/python3.7/dist-packages/IPython/core/interactiveshell.py:2882: DtypeWarning: Columns (4,5) have mixed types.Specify dtype option on import or set low_memory=False.\n",
            "  exec(code_obj, self.user_global_ns, self.user_ns)\n"
          ]
        },
        {
          "output_type": "execute_result",
          "data": {
            "text/plain": [
              "   SUBJECT_ID   HADM_ID                                               TEXT\n",
              "0       22532  167853.0  Admission Date:  [**2151-7-16**]       Dischar...\n",
              "1       13702  107527.0  Admission Date:  [**2118-6-2**]       Discharg...\n",
              "2       13702  167118.0  Admission Date:  [**2119-5-4**]              D..."
            ],
            "text/html": [
              "\n",
              "  <div id=\"df-6096588a-53d3-405c-b698-766b2c0a745d\">\n",
              "    <div class=\"colab-df-container\">\n",
              "      <div>\n",
              "<style scoped>\n",
              "    .dataframe tbody tr th:only-of-type {\n",
              "        vertical-align: middle;\n",
              "    }\n",
              "\n",
              "    .dataframe tbody tr th {\n",
              "        vertical-align: top;\n",
              "    }\n",
              "\n",
              "    .dataframe thead th {\n",
              "        text-align: right;\n",
              "    }\n",
              "</style>\n",
              "<table border=\"1\" class=\"dataframe\">\n",
              "  <thead>\n",
              "    <tr style=\"text-align: right;\">\n",
              "      <th></th>\n",
              "      <th>SUBJECT_ID</th>\n",
              "      <th>HADM_ID</th>\n",
              "      <th>TEXT</th>\n",
              "    </tr>\n",
              "  </thead>\n",
              "  <tbody>\n",
              "    <tr>\n",
              "      <th>0</th>\n",
              "      <td>22532</td>\n",
              "      <td>167853.0</td>\n",
              "      <td>Admission Date:  [**2151-7-16**]       Dischar...</td>\n",
              "    </tr>\n",
              "    <tr>\n",
              "      <th>1</th>\n",
              "      <td>13702</td>\n",
              "      <td>107527.0</td>\n",
              "      <td>Admission Date:  [**2118-6-2**]       Discharg...</td>\n",
              "    </tr>\n",
              "    <tr>\n",
              "      <th>2</th>\n",
              "      <td>13702</td>\n",
              "      <td>167118.0</td>\n",
              "      <td>Admission Date:  [**2119-5-4**]              D...</td>\n",
              "    </tr>\n",
              "  </tbody>\n",
              "</table>\n",
              "</div>\n",
              "      <button class=\"colab-df-convert\" onclick=\"convertToInteractive('df-6096588a-53d3-405c-b698-766b2c0a745d')\"\n",
              "              title=\"Convert this dataframe to an interactive table.\"\n",
              "              style=\"display:none;\">\n",
              "        \n",
              "  <svg xmlns=\"http://www.w3.org/2000/svg\" height=\"24px\"viewBox=\"0 0 24 24\"\n",
              "       width=\"24px\">\n",
              "    <path d=\"M0 0h24v24H0V0z\" fill=\"none\"/>\n",
              "    <path d=\"M18.56 5.44l.94 2.06.94-2.06 2.06-.94-2.06-.94-.94-2.06-.94 2.06-2.06.94zm-11 1L8.5 8.5l.94-2.06 2.06-.94-2.06-.94L8.5 2.5l-.94 2.06-2.06.94zm10 10l.94 2.06.94-2.06 2.06-.94-2.06-.94-.94-2.06-.94 2.06-2.06.94z\"/><path d=\"M17.41 7.96l-1.37-1.37c-.4-.4-.92-.59-1.43-.59-.52 0-1.04.2-1.43.59L10.3 9.45l-7.72 7.72c-.78.78-.78 2.05 0 2.83L4 21.41c.39.39.9.59 1.41.59.51 0 1.02-.2 1.41-.59l7.78-7.78 2.81-2.81c.8-.78.8-2.07 0-2.86zM5.41 20L4 18.59l7.72-7.72 1.47 1.35L5.41 20z\"/>\n",
              "  </svg>\n",
              "      </button>\n",
              "      \n",
              "  <style>\n",
              "    .colab-df-container {\n",
              "      display:flex;\n",
              "      flex-wrap:wrap;\n",
              "      gap: 12px;\n",
              "    }\n",
              "\n",
              "    .colab-df-convert {\n",
              "      background-color: #E8F0FE;\n",
              "      border: none;\n",
              "      border-radius: 50%;\n",
              "      cursor: pointer;\n",
              "      display: none;\n",
              "      fill: #1967D2;\n",
              "      height: 32px;\n",
              "      padding: 0 0 0 0;\n",
              "      width: 32px;\n",
              "    }\n",
              "\n",
              "    .colab-df-convert:hover {\n",
              "      background-color: #E2EBFA;\n",
              "      box-shadow: 0px 1px 2px rgba(60, 64, 67, 0.3), 0px 1px 3px 1px rgba(60, 64, 67, 0.15);\n",
              "      fill: #174EA6;\n",
              "    }\n",
              "\n",
              "    [theme=dark] .colab-df-convert {\n",
              "      background-color: #3B4455;\n",
              "      fill: #D2E3FC;\n",
              "    }\n",
              "\n",
              "    [theme=dark] .colab-df-convert:hover {\n",
              "      background-color: #434B5C;\n",
              "      box-shadow: 0px 1px 3px 1px rgba(0, 0, 0, 0.15);\n",
              "      filter: drop-shadow(0px 1px 2px rgba(0, 0, 0, 0.3));\n",
              "      fill: #FFFFFF;\n",
              "    }\n",
              "  </style>\n",
              "\n",
              "      <script>\n",
              "        const buttonEl =\n",
              "          document.querySelector('#df-6096588a-53d3-405c-b698-766b2c0a745d button.colab-df-convert');\n",
              "        buttonEl.style.display =\n",
              "          google.colab.kernel.accessAllowed ? 'block' : 'none';\n",
              "\n",
              "        async function convertToInteractive(key) {\n",
              "          const element = document.querySelector('#df-6096588a-53d3-405c-b698-766b2c0a745d');\n",
              "          const dataTable =\n",
              "            await google.colab.kernel.invokeFunction('convertToInteractive',\n",
              "                                                     [key], {});\n",
              "          if (!dataTable) return;\n",
              "\n",
              "          const docLinkHtml = 'Like what you see? Visit the ' +\n",
              "            '<a target=\"_blank\" href=https://colab.research.google.com/notebooks/data_table.ipynb>data table notebook</a>'\n",
              "            + ' to learn more about interactive tables.';\n",
              "          element.innerHTML = '';\n",
              "          dataTable['output_type'] = 'display_data';\n",
              "          await google.colab.output.renderOutput(dataTable, element);\n",
              "          const docLink = document.createElement('div');\n",
              "          docLink.innerHTML = docLinkHtml;\n",
              "          element.appendChild(docLink);\n",
              "        }\n",
              "      </script>\n",
              "    </div>\n",
              "  </div>\n",
              "  "
            ]
          },
          "metadata": {},
          "execution_count": 38
        }
      ],
      "source": [
        "df = pd.read_csv(f\"{PROJECT_PATH}/mimic3/NOTEEVENTS.csv\")\n",
        "df[[\"SUBJECT_ID\", \"HADM_ID\", \"TEXT\"]].head(3)"
      ]
    },
    {
      "cell_type": "code",
      "source": [
        "df_icd_codes = pd.read_csv(\n",
        "    f\"{PROJECT_PATH}/mimic3/DIAGNOSES_ICD.csv\")\n",
        "\n",
        "df_icd_codes[[\"SUBJECT_ID\", \"HADM_ID\", \"ICD9_CODE\"]].head(3)"
      ],
      "metadata": {
        "id": "0DQMAoiAPJyh",
        "colab": {
          "base_uri": "https://localhost:8080/",
          "height": 143
        },
        "outputId": "c19011e3-66e2-4778-b8e9-71fa0b93e0de"
      },
      "execution_count": null,
      "outputs": [
        {
          "output_type": "execute_result",
          "data": {
            "text/plain": [
              "   SUBJECT_ID  HADM_ID ICD9_CODE\n",
              "0         109   172335     40301\n",
              "1         109   172335       486\n",
              "2         109   172335     58281"
            ],
            "text/html": [
              "\n",
              "  <div id=\"df-7de8187a-8aad-4711-8042-324f57598aba\">\n",
              "    <div class=\"colab-df-container\">\n",
              "      <div>\n",
              "<style scoped>\n",
              "    .dataframe tbody tr th:only-of-type {\n",
              "        vertical-align: middle;\n",
              "    }\n",
              "\n",
              "    .dataframe tbody tr th {\n",
              "        vertical-align: top;\n",
              "    }\n",
              "\n",
              "    .dataframe thead th {\n",
              "        text-align: right;\n",
              "    }\n",
              "</style>\n",
              "<table border=\"1\" class=\"dataframe\">\n",
              "  <thead>\n",
              "    <tr style=\"text-align: right;\">\n",
              "      <th></th>\n",
              "      <th>SUBJECT_ID</th>\n",
              "      <th>HADM_ID</th>\n",
              "      <th>ICD9_CODE</th>\n",
              "    </tr>\n",
              "  </thead>\n",
              "  <tbody>\n",
              "    <tr>\n",
              "      <th>0</th>\n",
              "      <td>109</td>\n",
              "      <td>172335</td>\n",
              "      <td>40301</td>\n",
              "    </tr>\n",
              "    <tr>\n",
              "      <th>1</th>\n",
              "      <td>109</td>\n",
              "      <td>172335</td>\n",
              "      <td>486</td>\n",
              "    </tr>\n",
              "    <tr>\n",
              "      <th>2</th>\n",
              "      <td>109</td>\n",
              "      <td>172335</td>\n",
              "      <td>58281</td>\n",
              "    </tr>\n",
              "  </tbody>\n",
              "</table>\n",
              "</div>\n",
              "      <button class=\"colab-df-convert\" onclick=\"convertToInteractive('df-7de8187a-8aad-4711-8042-324f57598aba')\"\n",
              "              title=\"Convert this dataframe to an interactive table.\"\n",
              "              style=\"display:none;\">\n",
              "        \n",
              "  <svg xmlns=\"http://www.w3.org/2000/svg\" height=\"24px\"viewBox=\"0 0 24 24\"\n",
              "       width=\"24px\">\n",
              "    <path d=\"M0 0h24v24H0V0z\" fill=\"none\"/>\n",
              "    <path d=\"M18.56 5.44l.94 2.06.94-2.06 2.06-.94-2.06-.94-.94-2.06-.94 2.06-2.06.94zm-11 1L8.5 8.5l.94-2.06 2.06-.94-2.06-.94L8.5 2.5l-.94 2.06-2.06.94zm10 10l.94 2.06.94-2.06 2.06-.94-2.06-.94-.94-2.06-.94 2.06-2.06.94z\"/><path d=\"M17.41 7.96l-1.37-1.37c-.4-.4-.92-.59-1.43-.59-.52 0-1.04.2-1.43.59L10.3 9.45l-7.72 7.72c-.78.78-.78 2.05 0 2.83L4 21.41c.39.39.9.59 1.41.59.51 0 1.02-.2 1.41-.59l7.78-7.78 2.81-2.81c.8-.78.8-2.07 0-2.86zM5.41 20L4 18.59l7.72-7.72 1.47 1.35L5.41 20z\"/>\n",
              "  </svg>\n",
              "      </button>\n",
              "      \n",
              "  <style>\n",
              "    .colab-df-container {\n",
              "      display:flex;\n",
              "      flex-wrap:wrap;\n",
              "      gap: 12px;\n",
              "    }\n",
              "\n",
              "    .colab-df-convert {\n",
              "      background-color: #E8F0FE;\n",
              "      border: none;\n",
              "      border-radius: 50%;\n",
              "      cursor: pointer;\n",
              "      display: none;\n",
              "      fill: #1967D2;\n",
              "      height: 32px;\n",
              "      padding: 0 0 0 0;\n",
              "      width: 32px;\n",
              "    }\n",
              "\n",
              "    .colab-df-convert:hover {\n",
              "      background-color: #E2EBFA;\n",
              "      box-shadow: 0px 1px 2px rgba(60, 64, 67, 0.3), 0px 1px 3px 1px rgba(60, 64, 67, 0.15);\n",
              "      fill: #174EA6;\n",
              "    }\n",
              "\n",
              "    [theme=dark] .colab-df-convert {\n",
              "      background-color: #3B4455;\n",
              "      fill: #D2E3FC;\n",
              "    }\n",
              "\n",
              "    [theme=dark] .colab-df-convert:hover {\n",
              "      background-color: #434B5C;\n",
              "      box-shadow: 0px 1px 3px 1px rgba(0, 0, 0, 0.15);\n",
              "      filter: drop-shadow(0px 1px 2px rgba(0, 0, 0, 0.3));\n",
              "      fill: #FFFFFF;\n",
              "    }\n",
              "  </style>\n",
              "\n",
              "      <script>\n",
              "        const buttonEl =\n",
              "          document.querySelector('#df-7de8187a-8aad-4711-8042-324f57598aba button.colab-df-convert');\n",
              "        buttonEl.style.display =\n",
              "          google.colab.kernel.accessAllowed ? 'block' : 'none';\n",
              "\n",
              "        async function convertToInteractive(key) {\n",
              "          const element = document.querySelector('#df-7de8187a-8aad-4711-8042-324f57598aba');\n",
              "          const dataTable =\n",
              "            await google.colab.kernel.invokeFunction('convertToInteractive',\n",
              "                                                     [key], {});\n",
              "          if (!dataTable) return;\n",
              "\n",
              "          const docLinkHtml = 'Like what you see? Visit the ' +\n",
              "            '<a target=\"_blank\" href=https://colab.research.google.com/notebooks/data_table.ipynb>data table notebook</a>'\n",
              "            + ' to learn more about interactive tables.';\n",
              "          element.innerHTML = '';\n",
              "          dataTable['output_type'] = 'display_data';\n",
              "          await google.colab.output.renderOutput(dataTable, element);\n",
              "          const docLink = document.createElement('div');\n",
              "          docLink.innerHTML = docLinkHtml;\n",
              "          element.appendChild(docLink);\n",
              "        }\n",
              "      </script>\n",
              "    </div>\n",
              "  </div>\n",
              "  "
            ]
          },
          "metadata": {},
          "execution_count": 39
        }
      ]
    },
    {
      "cell_type": "markdown",
      "source": [
        "## Data Filtering and Tranformation"
      ],
      "metadata": {
        "id": "n1xDk_pMlBPo"
      }
    },
    {
      "cell_type": "markdown",
      "source": [
        "Normalize disease codes i.e we select only the first three characters of the ICD9_CODE representing only the high level category of the disease."
      ],
      "metadata": {
        "id": "BD7yzn3DoFCd"
      }
    },
    {
      "cell_type": "code",
      "source": [
        "df_icd_codes.dropna()\n",
        "df_icd_codes['ICD9_CODE'] = df_icd_codes['ICD9_CODE'].astype(\"string\")"
      ],
      "metadata": {
        "id": "zIOM101sr5qI"
      },
      "execution_count": null,
      "outputs": []
    },
    {
      "cell_type": "code",
      "source": [
        "df_icd_codes.head(5)"
      ],
      "metadata": {
        "colab": {
          "base_uri": "https://localhost:8080/",
          "height": 206
        },
        "id": "WXo5I70PwFCJ",
        "outputId": "864eb04b-4b2e-4097-f3b3-a71fa1c738a2"
      },
      "execution_count": null,
      "outputs": [
        {
          "output_type": "execute_result",
          "data": {
            "text/plain": [
              "   ROW_ID  SUBJECT_ID  HADM_ID  SEQ_NUM ICD9_CODE\n",
              "0    1297         109   172335      1.0     40301\n",
              "1    1298         109   172335      2.0       486\n",
              "2    1299         109   172335      3.0     58281\n",
              "3    1300         109   172335      4.0      5855\n",
              "4    1301         109   172335      5.0      4254"
            ],
            "text/html": [
              "\n",
              "  <div id=\"df-9f223fd0-7dd4-4361-b1e8-0fa9096c2f1c\">\n",
              "    <div class=\"colab-df-container\">\n",
              "      <div>\n",
              "<style scoped>\n",
              "    .dataframe tbody tr th:only-of-type {\n",
              "        vertical-align: middle;\n",
              "    }\n",
              "\n",
              "    .dataframe tbody tr th {\n",
              "        vertical-align: top;\n",
              "    }\n",
              "\n",
              "    .dataframe thead th {\n",
              "        text-align: right;\n",
              "    }\n",
              "</style>\n",
              "<table border=\"1\" class=\"dataframe\">\n",
              "  <thead>\n",
              "    <tr style=\"text-align: right;\">\n",
              "      <th></th>\n",
              "      <th>ROW_ID</th>\n",
              "      <th>SUBJECT_ID</th>\n",
              "      <th>HADM_ID</th>\n",
              "      <th>SEQ_NUM</th>\n",
              "      <th>ICD9_CODE</th>\n",
              "    </tr>\n",
              "  </thead>\n",
              "  <tbody>\n",
              "    <tr>\n",
              "      <th>0</th>\n",
              "      <td>1297</td>\n",
              "      <td>109</td>\n",
              "      <td>172335</td>\n",
              "      <td>1.0</td>\n",
              "      <td>40301</td>\n",
              "    </tr>\n",
              "    <tr>\n",
              "      <th>1</th>\n",
              "      <td>1298</td>\n",
              "      <td>109</td>\n",
              "      <td>172335</td>\n",
              "      <td>2.0</td>\n",
              "      <td>486</td>\n",
              "    </tr>\n",
              "    <tr>\n",
              "      <th>2</th>\n",
              "      <td>1299</td>\n",
              "      <td>109</td>\n",
              "      <td>172335</td>\n",
              "      <td>3.0</td>\n",
              "      <td>58281</td>\n",
              "    </tr>\n",
              "    <tr>\n",
              "      <th>3</th>\n",
              "      <td>1300</td>\n",
              "      <td>109</td>\n",
              "      <td>172335</td>\n",
              "      <td>4.0</td>\n",
              "      <td>5855</td>\n",
              "    </tr>\n",
              "    <tr>\n",
              "      <th>4</th>\n",
              "      <td>1301</td>\n",
              "      <td>109</td>\n",
              "      <td>172335</td>\n",
              "      <td>5.0</td>\n",
              "      <td>4254</td>\n",
              "    </tr>\n",
              "  </tbody>\n",
              "</table>\n",
              "</div>\n",
              "      <button class=\"colab-df-convert\" onclick=\"convertToInteractive('df-9f223fd0-7dd4-4361-b1e8-0fa9096c2f1c')\"\n",
              "              title=\"Convert this dataframe to an interactive table.\"\n",
              "              style=\"display:none;\">\n",
              "        \n",
              "  <svg xmlns=\"http://www.w3.org/2000/svg\" height=\"24px\"viewBox=\"0 0 24 24\"\n",
              "       width=\"24px\">\n",
              "    <path d=\"M0 0h24v24H0V0z\" fill=\"none\"/>\n",
              "    <path d=\"M18.56 5.44l.94 2.06.94-2.06 2.06-.94-2.06-.94-.94-2.06-.94 2.06-2.06.94zm-11 1L8.5 8.5l.94-2.06 2.06-.94-2.06-.94L8.5 2.5l-.94 2.06-2.06.94zm10 10l.94 2.06.94-2.06 2.06-.94-2.06-.94-.94-2.06-.94 2.06-2.06.94z\"/><path d=\"M17.41 7.96l-1.37-1.37c-.4-.4-.92-.59-1.43-.59-.52 0-1.04.2-1.43.59L10.3 9.45l-7.72 7.72c-.78.78-.78 2.05 0 2.83L4 21.41c.39.39.9.59 1.41.59.51 0 1.02-.2 1.41-.59l7.78-7.78 2.81-2.81c.8-.78.8-2.07 0-2.86zM5.41 20L4 18.59l7.72-7.72 1.47 1.35L5.41 20z\"/>\n",
              "  </svg>\n",
              "      </button>\n",
              "      \n",
              "  <style>\n",
              "    .colab-df-container {\n",
              "      display:flex;\n",
              "      flex-wrap:wrap;\n",
              "      gap: 12px;\n",
              "    }\n",
              "\n",
              "    .colab-df-convert {\n",
              "      background-color: #E8F0FE;\n",
              "      border: none;\n",
              "      border-radius: 50%;\n",
              "      cursor: pointer;\n",
              "      display: none;\n",
              "      fill: #1967D2;\n",
              "      height: 32px;\n",
              "      padding: 0 0 0 0;\n",
              "      width: 32px;\n",
              "    }\n",
              "\n",
              "    .colab-df-convert:hover {\n",
              "      background-color: #E2EBFA;\n",
              "      box-shadow: 0px 1px 2px rgba(60, 64, 67, 0.3), 0px 1px 3px 1px rgba(60, 64, 67, 0.15);\n",
              "      fill: #174EA6;\n",
              "    }\n",
              "\n",
              "    [theme=dark] .colab-df-convert {\n",
              "      background-color: #3B4455;\n",
              "      fill: #D2E3FC;\n",
              "    }\n",
              "\n",
              "    [theme=dark] .colab-df-convert:hover {\n",
              "      background-color: #434B5C;\n",
              "      box-shadow: 0px 1px 3px 1px rgba(0, 0, 0, 0.15);\n",
              "      filter: drop-shadow(0px 1px 2px rgba(0, 0, 0, 0.3));\n",
              "      fill: #FFFFFF;\n",
              "    }\n",
              "  </style>\n",
              "\n",
              "      <script>\n",
              "        const buttonEl =\n",
              "          document.querySelector('#df-9f223fd0-7dd4-4361-b1e8-0fa9096c2f1c button.colab-df-convert');\n",
              "        buttonEl.style.display =\n",
              "          google.colab.kernel.accessAllowed ? 'block' : 'none';\n",
              "\n",
              "        async function convertToInteractive(key) {\n",
              "          const element = document.querySelector('#df-9f223fd0-7dd4-4361-b1e8-0fa9096c2f1c');\n",
              "          const dataTable =\n",
              "            await google.colab.kernel.invokeFunction('convertToInteractive',\n",
              "                                                     [key], {});\n",
              "          if (!dataTable) return;\n",
              "\n",
              "          const docLinkHtml = 'Like what you see? Visit the ' +\n",
              "            '<a target=\"_blank\" href=https://colab.research.google.com/notebooks/data_table.ipynb>data table notebook</a>'\n",
              "            + ' to learn more about interactive tables.';\n",
              "          element.innerHTML = '';\n",
              "          dataTable['output_type'] = 'display_data';\n",
              "          await google.colab.output.renderOutput(dataTable, element);\n",
              "          const docLink = document.createElement('div');\n",
              "          docLink.innerHTML = docLinkHtml;\n",
              "          element.appendChild(docLink);\n",
              "        }\n",
              "      </script>\n",
              "    </div>\n",
              "  </div>\n",
              "  "
            ]
          },
          "metadata": {},
          "execution_count": 41
        }
      ]
    },
    {
      "cell_type": "markdown",
      "source": [
        "Get top #50 ICD9 codes and create an index for each code."
      ],
      "metadata": {
        "id": "wIKf6j0HArw7"
      }
    },
    {
      "cell_type": "code",
      "source": [
        "counts = df_icd_codes[\"ICD9_CODE\"].value_counts().head(50)\n",
        "top_icd_codes = counts.index.to_list()\n",
        "\n",
        "sorted_top_icd_codes = sorted(top_icd_codes)\n",
        "icd_code_to_idx = dict((k, v) for v, k in enumerate(sorted_top_icd_codes))"
      ],
      "metadata": {
        "id": "jNY4o2-_PsJD"
      },
      "execution_count": null,
      "outputs": []
    },
    {
      "cell_type": "markdown",
      "source": [
        "Filter data to include admimission with top 50 diseases only and group and reorganize data in the following format <subject_id, hadm_id, [icd_code1, icd_code2 ...]>"
      ],
      "metadata": {
        "id": "3wSpzZYNpeIv"
      }
    },
    {
      "cell_type": "code",
      "source": [
        "df_admissions_with_top_diseases = \\\n",
        "df_icd_codes[df_icd_codes[\"ICD9_CODE\"].isin(top_icd_codes)]\n",
        "\n",
        "df_admissions_with_top_diseases = \\\n",
        "df_admissions_with_top_diseases.groupby(\n",
        "['SUBJECT_ID', 'HADM_ID'])['ICD9_CODE'].apply(\n",
        "        list).to_frame().reset_index()"
      ],
      "metadata": {
        "id": "zCBDPURVB2C5"
      },
      "execution_count": null,
      "outputs": []
    },
    {
      "cell_type": "markdown",
      "source": [
        "Now select discharge summaries for the admimissions that contain atleast one of the top #50 ICD codes."
      ],
      "metadata": {
        "id": "5lLEQXITBIyU"
      }
    },
    {
      "cell_type": "code",
      "source": [
        "df_dataset = pd.merge(df, df_admissions_with_top_diseases, \n",
        "                       on=[\"SUBJECT_ID\", \"HADM_ID\"])\n",
        "\n",
        "df_dataset = df_dataset[df_dataset[\"CATEGORY\"] \n",
        "                          == 'Discharge summary'].reset_index()"
      ],
      "metadata": {
        "id": "BGIpZW0wfKaO"
      },
      "execution_count": null,
      "outputs": []
    },
    {
      "cell_type": "markdown",
      "source": [
        "So our dataset now looks like this."
      ],
      "metadata": {
        "id": "z9cOWY2jQHsK"
      }
    },
    {
      "cell_type": "code",
      "source": [
        "df_dataset = df_dataset[[\"SUBJECT_ID\", \"HADM_ID\", \"TEXT\", \"ICD9_CODE\"]]\n",
        "df_dataset.head(3)"
      ],
      "metadata": {
        "colab": {
          "base_uri": "https://localhost:8080/",
          "height": 143
        },
        "id": "mJmeYMT3xiTE",
        "outputId": "41b13cd9-e258-4481-80fb-e6bd2bca8090"
      },
      "execution_count": null,
      "outputs": [
        {
          "output_type": "execute_result",
          "data": {
            "text/plain": [
              "   SUBJECT_ID   HADM_ID                                               TEXT  \\\n",
              "0       22532  167853.0  Admission Date:  [**2151-7-16**]       Dischar...   \n",
              "1       22532  167853.0  Admission Date:  [**2151-7-16**]       Dischar...   \n",
              "2       13702  107527.0  Admission Date:  [**2118-6-2**]       Discharg...   \n",
              "\n",
              "                       ICD9_CODE  \n",
              "0      [42731, 2762, 5070, 5119]  \n",
              "1      [42731, 2762, 5070, 5119]  \n",
              "2  [51881, 486, 2761, 2449, 311]  "
            ],
            "text/html": [
              "\n",
              "  <div id=\"df-3bcf2325-309d-4e3c-bf26-5113d0dbe8ed\">\n",
              "    <div class=\"colab-df-container\">\n",
              "      <div>\n",
              "<style scoped>\n",
              "    .dataframe tbody tr th:only-of-type {\n",
              "        vertical-align: middle;\n",
              "    }\n",
              "\n",
              "    .dataframe tbody tr th {\n",
              "        vertical-align: top;\n",
              "    }\n",
              "\n",
              "    .dataframe thead th {\n",
              "        text-align: right;\n",
              "    }\n",
              "</style>\n",
              "<table border=\"1\" class=\"dataframe\">\n",
              "  <thead>\n",
              "    <tr style=\"text-align: right;\">\n",
              "      <th></th>\n",
              "      <th>SUBJECT_ID</th>\n",
              "      <th>HADM_ID</th>\n",
              "      <th>TEXT</th>\n",
              "      <th>ICD9_CODE</th>\n",
              "    </tr>\n",
              "  </thead>\n",
              "  <tbody>\n",
              "    <tr>\n",
              "      <th>0</th>\n",
              "      <td>22532</td>\n",
              "      <td>167853.0</td>\n",
              "      <td>Admission Date:  [**2151-7-16**]       Dischar...</td>\n",
              "      <td>[42731, 2762, 5070, 5119]</td>\n",
              "    </tr>\n",
              "    <tr>\n",
              "      <th>1</th>\n",
              "      <td>22532</td>\n",
              "      <td>167853.0</td>\n",
              "      <td>Admission Date:  [**2151-7-16**]       Dischar...</td>\n",
              "      <td>[42731, 2762, 5070, 5119]</td>\n",
              "    </tr>\n",
              "    <tr>\n",
              "      <th>2</th>\n",
              "      <td>13702</td>\n",
              "      <td>107527.0</td>\n",
              "      <td>Admission Date:  [**2118-6-2**]       Discharg...</td>\n",
              "      <td>[51881, 486, 2761, 2449, 311]</td>\n",
              "    </tr>\n",
              "  </tbody>\n",
              "</table>\n",
              "</div>\n",
              "      <button class=\"colab-df-convert\" onclick=\"convertToInteractive('df-3bcf2325-309d-4e3c-bf26-5113d0dbe8ed')\"\n",
              "              title=\"Convert this dataframe to an interactive table.\"\n",
              "              style=\"display:none;\">\n",
              "        \n",
              "  <svg xmlns=\"http://www.w3.org/2000/svg\" height=\"24px\"viewBox=\"0 0 24 24\"\n",
              "       width=\"24px\">\n",
              "    <path d=\"M0 0h24v24H0V0z\" fill=\"none\"/>\n",
              "    <path d=\"M18.56 5.44l.94 2.06.94-2.06 2.06-.94-2.06-.94-.94-2.06-.94 2.06-2.06.94zm-11 1L8.5 8.5l.94-2.06 2.06-.94-2.06-.94L8.5 2.5l-.94 2.06-2.06.94zm10 10l.94 2.06.94-2.06 2.06-.94-2.06-.94-.94-2.06-.94 2.06-2.06.94z\"/><path d=\"M17.41 7.96l-1.37-1.37c-.4-.4-.92-.59-1.43-.59-.52 0-1.04.2-1.43.59L10.3 9.45l-7.72 7.72c-.78.78-.78 2.05 0 2.83L4 21.41c.39.39.9.59 1.41.59.51 0 1.02-.2 1.41-.59l7.78-7.78 2.81-2.81c.8-.78.8-2.07 0-2.86zM5.41 20L4 18.59l7.72-7.72 1.47 1.35L5.41 20z\"/>\n",
              "  </svg>\n",
              "      </button>\n",
              "      \n",
              "  <style>\n",
              "    .colab-df-container {\n",
              "      display:flex;\n",
              "      flex-wrap:wrap;\n",
              "      gap: 12px;\n",
              "    }\n",
              "\n",
              "    .colab-df-convert {\n",
              "      background-color: #E8F0FE;\n",
              "      border: none;\n",
              "      border-radius: 50%;\n",
              "      cursor: pointer;\n",
              "      display: none;\n",
              "      fill: #1967D2;\n",
              "      height: 32px;\n",
              "      padding: 0 0 0 0;\n",
              "      width: 32px;\n",
              "    }\n",
              "\n",
              "    .colab-df-convert:hover {\n",
              "      background-color: #E2EBFA;\n",
              "      box-shadow: 0px 1px 2px rgba(60, 64, 67, 0.3), 0px 1px 3px 1px rgba(60, 64, 67, 0.15);\n",
              "      fill: #174EA6;\n",
              "    }\n",
              "\n",
              "    [theme=dark] .colab-df-convert {\n",
              "      background-color: #3B4455;\n",
              "      fill: #D2E3FC;\n",
              "    }\n",
              "\n",
              "    [theme=dark] .colab-df-convert:hover {\n",
              "      background-color: #434B5C;\n",
              "      box-shadow: 0px 1px 3px 1px rgba(0, 0, 0, 0.15);\n",
              "      filter: drop-shadow(0px 1px 2px rgba(0, 0, 0, 0.3));\n",
              "      fill: #FFFFFF;\n",
              "    }\n",
              "  </style>\n",
              "\n",
              "      <script>\n",
              "        const buttonEl =\n",
              "          document.querySelector('#df-3bcf2325-309d-4e3c-bf26-5113d0dbe8ed button.colab-df-convert');\n",
              "        buttonEl.style.display =\n",
              "          google.colab.kernel.accessAllowed ? 'block' : 'none';\n",
              "\n",
              "        async function convertToInteractive(key) {\n",
              "          const element = document.querySelector('#df-3bcf2325-309d-4e3c-bf26-5113d0dbe8ed');\n",
              "          const dataTable =\n",
              "            await google.colab.kernel.invokeFunction('convertToInteractive',\n",
              "                                                     [key], {});\n",
              "          if (!dataTable) return;\n",
              "\n",
              "          const docLinkHtml = 'Like what you see? Visit the ' +\n",
              "            '<a target=\"_blank\" href=https://colab.research.google.com/notebooks/data_table.ipynb>data table notebook</a>'\n",
              "            + ' to learn more about interactive tables.';\n",
              "          element.innerHTML = '';\n",
              "          dataTable['output_type'] = 'display_data';\n",
              "          await google.colab.output.renderOutput(dataTable, element);\n",
              "          const docLink = document.createElement('div');\n",
              "          docLink.innerHTML = docLinkHtml;\n",
              "          element.appendChild(docLink);\n",
              "        }\n",
              "      </script>\n",
              "    </div>\n",
              "  </div>\n",
              "  "
            ]
          },
          "metadata": {},
          "execution_count": 45
        }
      ]
    },
    {
      "cell_type": "code",
      "source": [
        "df_dataset.to_csv(f\"{PROJECT_PATH}/mimic3/df_dataset.csv\")"
      ],
      "metadata": {
        "id": "qdxOPD_hLhz_"
      },
      "execution_count": null,
      "outputs": []
    },
    {
      "cell_type": "markdown",
      "source": [
        "## Text Processing Utilities\n",
        "Utility functions to clean and transform text."
      ],
      "metadata": {
        "id": "8S0aC63Sz4FZ"
      }
    },
    {
      "cell_type": "code",
      "source": [
        "def sanitize_text(text):\n",
        "      test = text.strip()\n",
        "      text = re.sub(r'\\s\\s+', ' ', text)\n",
        "      text = re.sub(r'[^a-zA-z0-9\\/\\.\\?\\!\\s;,\\'\\-]', '', text)\n",
        "      text = re.sub(r'[\\.\\-\\/\\?\\!;,]', ' ', text)\n",
        "      text = re.sub(r'[\\[\\]]', '', text)\n",
        "      return text"
      ],
      "metadata": {
        "id": "qwZCHuuGz8Mc"
      },
      "execution_count": null,
      "outputs": []
    },
    {
      "cell_type": "code",
      "source": [
        "def sanitize_words(sentence):\n",
        "  return [w.lower() for w in sentence if w not in eng_stop_words and not w.isdigit()]"
      ],
      "metadata": {
        "id": "ougAgJK80FbE"
      },
      "execution_count": null,
      "outputs": []
    },
    {
      "cell_type": "markdown",
      "source": [
        "## Generate Word2Vec Embeddings"
      ],
      "metadata": {
        "id": "RIwaO1C1td27"
      }
    },
    {
      "cell_type": "markdown",
      "source": [
        "### Text Extraction Utility\n",
        "Utility to extract sentences from discharge summary text."
      ],
      "metadata": {
        "id": "fK9-70r1YfPn"
      }
    },
    {
      "cell_type": "code",
      "source": [
        "import re\n",
        "import nltk\n",
        "\n",
        "from nltk.corpus import stopwords\n",
        "nltk.download('stopwords')\n",
        "\n",
        "eng_stop_words =  stopwords.words('english')\n",
        "\n",
        "class MySentences(object):\n",
        "    def __init__(self, dframe):\n",
        "        self.dframe = dframe\n",
        "\n",
        "    def __iter__(self):\n",
        "        for idx in range(len(self.dframe)):\n",
        "          text = sanitize_text(self.dframe[\"TEXT\"][idx])\n",
        "          yield sanitize_words(text.split())"
      ],
      "metadata": {
        "colab": {
          "base_uri": "https://localhost:8080/"
        },
        "id": "x_FLXtt3YoNV",
        "outputId": "dafc1ab1-b439-4fad-8d70-33185f5604d5"
      },
      "execution_count": null,
      "outputs": [
        {
          "output_type": "stream",
          "name": "stdout",
          "text": [
            "[nltk_data] Downloading package stopwords to /root/nltk_data...\n",
            "[nltk_data]   Package stopwords is already up-to-date!\n"
          ]
        }
      ]
    },
    {
      "cell_type": "markdown",
      "source": [
        "We generate Word2Vec embeddings on the raw discharge summary text. These embeddings will be used later when we extract only the symptoms from the dischage summaries and generate Word2Vec embedding for those symptoms. \n",
        "\n",
        "Note: This step needs to be done only once before start the of project."
      ],
      "metadata": {
        "id": "taHoY3XCAv3J"
      }
    },
    {
      "cell_type": "code",
      "execution_count": null,
      "metadata": {
        "id": "xElMsqPx0sc9"
      },
      "outputs": [],
      "source": [
        "# NOTE: We only need to perform this once at the start of the project.\n",
        "w2v_model_path = W2V_MODEL_PATH\n",
        "if not path.exists(w2v_model_path):\n",
        "  sgen = MySentences(df_dataset) # a memory-friendly iterator\n",
        "  model = gensim.models.Word2Vec(sgen, min_count=5, \n",
        "                                 vector_size=W2V_EMB_SIZE, \n",
        "                                 window=5, sg=1, \n",
        "                                 workers=4, sample=1e-05)\n",
        "  model.save(w2v_model_path)"
      ]
    },
    {
      "cell_type": "markdown",
      "source": [
        "## Symptom Extraction Using BERT"
      ],
      "metadata": {
        "id": "ptlioc9saM5-"
      }
    },
    {
      "cell_type": "markdown",
      "source": [
        "### Symptom Extraction Utility"
      ],
      "metadata": {
        "id": "YsbgOVq2YYit"
      }
    },
    {
      "cell_type": "markdown",
      "source": [
        "Performs data cleaning, curation and symptom extraction using pre-trained BERT model on clinical text."
      ],
      "metadata": {
        "id": "Zz9WPSrjOCoP"
      }
    },
    {
      "cell_type": "code",
      "execution_count": null,
      "metadata": {
        "id": "TV7TblwfIxta",
        "colab": {
          "base_uri": "https://localhost:8080/"
        },
        "outputId": "15e61602-35e7-4463-cd04-8a07ef28b7c8"
      },
      "outputs": [
        {
          "output_type": "stream",
          "name": "stdout",
          "text": [
            "[nltk_data] Downloading package stopwords to /root/nltk_data...\n",
            "[nltk_data]   Package stopwords is already up-to-date!\n"
          ]
        }
      ],
      "source": [
        "from typing import List\n",
        "import re\n",
        "import nltk\n",
        "from transformers import AutoTokenizer, pipeline,  AutoModelForTokenClassification\n",
        "\n",
        "from nltk.corpus import stopwords\n",
        "nltk.download('stopwords')\n",
        "\n",
        "eng_stop_words =  stopwords.words('english')\n",
        "\n",
        "class MySymptoms(object):\n",
        "    def __init__(self, dframe):\n",
        "        self.dframe = dframe\n",
        "        tokenizer = AutoTokenizer.from_pretrained(\n",
        "            \"samrawal/bert-base-uncased_clinical-ner\")\n",
        "        model = AutoModelForTokenClassification.from_pretrained(\n",
        "            \"samrawal/bert-base-uncased_clinical-ner\")\n",
        "        symptom_extractor = pipeline('ner', model=model, tokenizer=tokenizer,\n",
        "                                     device=0)\n",
        "        text_anno = symptom_extractor(self.dframe[\"TEXT\"].tolist(), \n",
        "                                           batch_size=256)\n",
        "        self.data = list(zip(text_anno, self.dframe[\"TEXT\"].tolist()))        \n",
        "\n",
        "    def extract_symptoms(self, input_anno_text) -> List[str]:\n",
        "      \"\"\"\n",
        "      The method extract the symptom phrases from the input\n",
        "      \"\"\"\n",
        "      extractions, text = input_anno_text\n",
        "      span_extract = []\n",
        "      for extract in extractions:\n",
        "        if 'problem' in extract['entity']:\n",
        "          span_extract.append((extract['start'], extract['end']))\n",
        "\n",
        "      # Check if this span_extract is empty\n",
        "      if not span_extract:\n",
        "        return []\n",
        "      \n",
        "      span_st = span_extract[0][0]\n",
        "      final_span = []\n",
        "      final_end = span_extract[0][1]\n",
        "      for idx, (st, end) in enumerate(span_extract):\n",
        "        if idx == 0:\n",
        "          continue\n",
        "        if st - span_extract[idx-1][1] <= 2:\n",
        "          final_end = end\n",
        "          if idx == len(span_extract) - 1:\n",
        "            final_span.append((span_st, final_end))\n",
        "        else:\n",
        "          final_span.append((span_st, final_end))\n",
        "          span_st = st\n",
        "          final_end = end\n",
        "\n",
        "      text_extracts = [text[st:end].replace(\"\\n\", \" \") for st, end in final_span]\n",
        "      return text_extracts\n",
        "\n",
        "    def __iter__(self):\n",
        "        for idx in range(len(self.dframe)):\n",
        "          symptoms = \" \".join(self.extract_symptoms(self.data[idx]))\n",
        "          text = sanitize_text(symptoms)\n",
        "          yield sanitize_words(text.split())"
      ]
    },
    {
      "cell_type": "markdown",
      "source": [
        "Now, extract only the phrases related to symptoms using pre-trained BERT model on clinical test from the discharge summary. In the paper the authoes have used MetaMap for this, we could not access MetaMap in time so we are using an alternate method. We intend to run our experiment with MetaMap during our final implementation.\n",
        "\n"
      ],
      "metadata": {
        "id": "rAtNNVUmCdw3"
      }
    },
    {
      "cell_type": "code",
      "source": [
        "from tqdm import tqdm\n",
        "from os import path\n",
        "\n",
        "\n",
        "df_dataset_bert = None\n",
        "\n",
        "dataset_path = f\"{PROJECT_PATH}/mimic3/df_dataset_bert.csv\"\n",
        "if not path.exists(dataset_path):\n",
        "  # make a copy for transformations.\n",
        "  df_dataset_bert = df_dataset.copy()  \n",
        "  sgen = MySymptoms(df_dataset_bert)\n",
        "  symptom_col = list()\n",
        "  for s in tqdm(sgen):\n",
        "    symptom_col.append(s)\n",
        "  # add the new column to the dataset.\n",
        "  df_dataset_bert[\"SYMPTOMS\"] = symptom_col\n",
        "  df_dataset_bert = df_dataset_bert[df_dataset_bert.apply(lambda x: len(x.SYMPTOMS) > 0, axis=1)]\n",
        "  df_dataset_bert = df_dataset_bert.reset_index()\n",
        "else:\n",
        "  df_dataset_bert = pd.read_csv(f\"{PROJECT_PATH}/mimic3/df_dataset-bert.csv\",\n",
        "                  converters={'SYMPTOMS': eval, 'ICD9_CODE': eval})"
      ],
      "metadata": {
        "colab": {
          "base_uri": "https://localhost:8080/",
          "height": 35
        },
        "id": "GFO96uEPsVC6",
        "outputId": "167fbc6f-79bc-46e9-f015-e4d1d5a24bb4"
      },
      "execution_count": null,
      "outputs": [
        {
          "output_type": "stream",
          "name": "stderr",
          "text": [
            "55988it [00:12, 4562.57it/s]\n"
          ]
        }
      ]
    },
    {
      "cell_type": "code",
      "source": [
        "df_dataset_bert.head(5)"
      ],
      "metadata": {
        "colab": {
          "base_uri": "https://localhost:8080/",
          "height": 337
        },
        "id": "0pVx7Sct_zD4",
        "outputId": "0f0cb2ad-e55c-4149-d413-8b01f145174a"
      },
      "execution_count": null,
      "outputs": [
        {
          "output_type": "execute_result",
          "data": {
            "text/plain": [
              "   index  SUBJECT_ID   HADM_ID  \\\n",
              "0      0       22532  167853.0   \n",
              "1      1       22532  167853.0   \n",
              "2      2       13702  107527.0   \n",
              "3      3       13702  167118.0   \n",
              "4      4       13702  196489.0   \n",
              "\n",
              "                                                TEXT  \\\n",
              "0  Admission Date:  [**2151-7-16**]       Dischar...   \n",
              "1  Admission Date:  [**2151-7-16**]       Dischar...   \n",
              "2  Admission Date:  [**2118-6-2**]       Discharg...   \n",
              "3  Admission Date:  [**2119-5-4**]              D...   \n",
              "4  Admission Date:  [**2124-7-21**]              ...   \n",
              "\n",
              "                                     ICD9_CODE  \\\n",
              "0                    [42731, 2762, 5070, 5119]   \n",
              "1                    [42731, 2762, 5070, 5119]   \n",
              "2                [51881, 486, 2761, 2449, 311]   \n",
              "3                                  [496, 2762]   \n",
              "4  [5849, 2760, 2762, 41401, 2724, 2449, 4019]   \n",
              "\n",
              "                                            SYMPTOMS  \n",
              "0  [cavitary, lesions, left, lung, apex, infectio...  \n",
              "1  [productive, cough, lb, weight, loss, shortnes...  \n",
              "2  [emphysema, shortness, breath, copd, flare, fe...  \n",
              "3  [copd, severe, tbm, perc, tr, failed, ach, cop...  \n",
              "4  [copd, exacerbation, shortness, breath, troduo...  "
            ],
            "text/html": [
              "\n",
              "  <div id=\"df-73d96394-b777-4acc-a6cd-5f1a5f17b19e\">\n",
              "    <div class=\"colab-df-container\">\n",
              "      <div>\n",
              "<style scoped>\n",
              "    .dataframe tbody tr th:only-of-type {\n",
              "        vertical-align: middle;\n",
              "    }\n",
              "\n",
              "    .dataframe tbody tr th {\n",
              "        vertical-align: top;\n",
              "    }\n",
              "\n",
              "    .dataframe thead th {\n",
              "        text-align: right;\n",
              "    }\n",
              "</style>\n",
              "<table border=\"1\" class=\"dataframe\">\n",
              "  <thead>\n",
              "    <tr style=\"text-align: right;\">\n",
              "      <th></th>\n",
              "      <th>index</th>\n",
              "      <th>SUBJECT_ID</th>\n",
              "      <th>HADM_ID</th>\n",
              "      <th>TEXT</th>\n",
              "      <th>ICD9_CODE</th>\n",
              "      <th>SYMPTOMS</th>\n",
              "    </tr>\n",
              "  </thead>\n",
              "  <tbody>\n",
              "    <tr>\n",
              "      <th>0</th>\n",
              "      <td>0</td>\n",
              "      <td>22532</td>\n",
              "      <td>167853.0</td>\n",
              "      <td>Admission Date:  [**2151-7-16**]       Dischar...</td>\n",
              "      <td>[42731, 2762, 5070, 5119]</td>\n",
              "      <td>[cavitary, lesions, left, lung, apex, infectio...</td>\n",
              "    </tr>\n",
              "    <tr>\n",
              "      <th>1</th>\n",
              "      <td>1</td>\n",
              "      <td>22532</td>\n",
              "      <td>167853.0</td>\n",
              "      <td>Admission Date:  [**2151-7-16**]       Dischar...</td>\n",
              "      <td>[42731, 2762, 5070, 5119]</td>\n",
              "      <td>[productive, cough, lb, weight, loss, shortnes...</td>\n",
              "    </tr>\n",
              "    <tr>\n",
              "      <th>2</th>\n",
              "      <td>2</td>\n",
              "      <td>13702</td>\n",
              "      <td>107527.0</td>\n",
              "      <td>Admission Date:  [**2118-6-2**]       Discharg...</td>\n",
              "      <td>[51881, 486, 2761, 2449, 311]</td>\n",
              "      <td>[emphysema, shortness, breath, copd, flare, fe...</td>\n",
              "    </tr>\n",
              "    <tr>\n",
              "      <th>3</th>\n",
              "      <td>3</td>\n",
              "      <td>13702</td>\n",
              "      <td>167118.0</td>\n",
              "      <td>Admission Date:  [**2119-5-4**]              D...</td>\n",
              "      <td>[496, 2762]</td>\n",
              "      <td>[copd, severe, tbm, perc, tr, failed, ach, cop...</td>\n",
              "    </tr>\n",
              "    <tr>\n",
              "      <th>4</th>\n",
              "      <td>4</td>\n",
              "      <td>13702</td>\n",
              "      <td>196489.0</td>\n",
              "      <td>Admission Date:  [**2124-7-21**]              ...</td>\n",
              "      <td>[5849, 2760, 2762, 41401, 2724, 2449, 4019]</td>\n",
              "      <td>[copd, exacerbation, shortness, breath, troduo...</td>\n",
              "    </tr>\n",
              "  </tbody>\n",
              "</table>\n",
              "</div>\n",
              "      <button class=\"colab-df-convert\" onclick=\"convertToInteractive('df-73d96394-b777-4acc-a6cd-5f1a5f17b19e')\"\n",
              "              title=\"Convert this dataframe to an interactive table.\"\n",
              "              style=\"display:none;\">\n",
              "        \n",
              "  <svg xmlns=\"http://www.w3.org/2000/svg\" height=\"24px\"viewBox=\"0 0 24 24\"\n",
              "       width=\"24px\">\n",
              "    <path d=\"M0 0h24v24H0V0z\" fill=\"none\"/>\n",
              "    <path d=\"M18.56 5.44l.94 2.06.94-2.06 2.06-.94-2.06-.94-.94-2.06-.94 2.06-2.06.94zm-11 1L8.5 8.5l.94-2.06 2.06-.94-2.06-.94L8.5 2.5l-.94 2.06-2.06.94zm10 10l.94 2.06.94-2.06 2.06-.94-2.06-.94-.94-2.06-.94 2.06-2.06.94z\"/><path d=\"M17.41 7.96l-1.37-1.37c-.4-.4-.92-.59-1.43-.59-.52 0-1.04.2-1.43.59L10.3 9.45l-7.72 7.72c-.78.78-.78 2.05 0 2.83L4 21.41c.39.39.9.59 1.41.59.51 0 1.02-.2 1.41-.59l7.78-7.78 2.81-2.81c.8-.78.8-2.07 0-2.86zM5.41 20L4 18.59l7.72-7.72 1.47 1.35L5.41 20z\"/>\n",
              "  </svg>\n",
              "      </button>\n",
              "      \n",
              "  <style>\n",
              "    .colab-df-container {\n",
              "      display:flex;\n",
              "      flex-wrap:wrap;\n",
              "      gap: 12px;\n",
              "    }\n",
              "\n",
              "    .colab-df-convert {\n",
              "      background-color: #E8F0FE;\n",
              "      border: none;\n",
              "      border-radius: 50%;\n",
              "      cursor: pointer;\n",
              "      display: none;\n",
              "      fill: #1967D2;\n",
              "      height: 32px;\n",
              "      padding: 0 0 0 0;\n",
              "      width: 32px;\n",
              "    }\n",
              "\n",
              "    .colab-df-convert:hover {\n",
              "      background-color: #E2EBFA;\n",
              "      box-shadow: 0px 1px 2px rgba(60, 64, 67, 0.3), 0px 1px 3px 1px rgba(60, 64, 67, 0.15);\n",
              "      fill: #174EA6;\n",
              "    }\n",
              "\n",
              "    [theme=dark] .colab-df-convert {\n",
              "      background-color: #3B4455;\n",
              "      fill: #D2E3FC;\n",
              "    }\n",
              "\n",
              "    [theme=dark] .colab-df-convert:hover {\n",
              "      background-color: #434B5C;\n",
              "      box-shadow: 0px 1px 3px 1px rgba(0, 0, 0, 0.15);\n",
              "      filter: drop-shadow(0px 1px 2px rgba(0, 0, 0, 0.3));\n",
              "      fill: #FFFFFF;\n",
              "    }\n",
              "  </style>\n",
              "\n",
              "      <script>\n",
              "        const buttonEl =\n",
              "          document.querySelector('#df-73d96394-b777-4acc-a6cd-5f1a5f17b19e button.colab-df-convert');\n",
              "        buttonEl.style.display =\n",
              "          google.colab.kernel.accessAllowed ? 'block' : 'none';\n",
              "\n",
              "        async function convertToInteractive(key) {\n",
              "          const element = document.querySelector('#df-73d96394-b777-4acc-a6cd-5f1a5f17b19e');\n",
              "          const dataTable =\n",
              "            await google.colab.kernel.invokeFunction('convertToInteractive',\n",
              "                                                     [key], {});\n",
              "          if (!dataTable) return;\n",
              "\n",
              "          const docLinkHtml = 'Like what you see? Visit the ' +\n",
              "            '<a target=\"_blank\" href=https://colab.research.google.com/notebooks/data_table.ipynb>data table notebook</a>'\n",
              "            + ' to learn more about interactive tables.';\n",
              "          element.innerHTML = '';\n",
              "          dataTable['output_type'] = 'display_data';\n",
              "          await google.colab.output.renderOutput(dataTable, element);\n",
              "          const docLink = document.createElement('div');\n",
              "          docLink.innerHTML = docLinkHtml;\n",
              "          element.appendChild(docLink);\n",
              "        }\n",
              "      </script>\n",
              "    </div>\n",
              "  </div>\n",
              "  "
            ]
          },
          "metadata": {},
          "execution_count": 61
        }
      ]
    },
    {
      "cell_type": "markdown",
      "source": [
        "Save the final dataset to disk."
      ],
      "metadata": {
        "id": "RRjzh4vVWHtu"
      }
    },
    {
      "cell_type": "code",
      "source": [
        "df_dataset_bert = df_dataset_bert[[\"SUBJECT_ID\", \"HADM_ID\", \"ICD9_CODE\", \"SYMPTOMS\"]]\n",
        "df_dataset_bert.to_csv(f\"{PROJECT_PATH}/mimic3/df_dataset_bert.csv\")"
      ],
      "metadata": {
        "id": "FdOf2y7w9E_7"
      },
      "execution_count": null,
      "outputs": []
    },
    {
      "cell_type": "markdown",
      "source": [
        "# Dataset Exploration\n",
        "\n",
        "Frequency distribution of top#50 most commonly diagnosed ICD9 Codes in hospital admimissions."
      ],
      "metadata": {
        "id": "kgc2rRz-WBbI"
      }
    },
    {
      "cell_type": "code",
      "source": [
        "codes = [code for codes in df_dataset['ICD9_CODE'].to_list() \\\n",
        "            for code in codes]\n",
        "\n",
        "codes_df = pd.DataFrame({\n",
        "    \"CODES\": codes\n",
        "})\n",
        "\n",
        "code_counts = codes_df.groupby(\"CODES\")[\"CODES\"].count()\n",
        "code_freq = code_counts.sort_values(ascending=False)/len(df_dataset)\n",
        "code_freq.plot.bar(figsize=(20, 10))"
      ],
      "metadata": {
        "colab": {
          "base_uri": "https://localhost:8080/",
          "height": 529
        },
        "id": "bbQQeollUO64",
        "outputId": "1ce0d85b-faf5-4369-9429-2562849638c4"
      },
      "execution_count": null,
      "outputs": [
        {
          "output_type": "execute_result",
          "data": {
            "text/plain": [
              "<matplotlib.axes._subplots.AxesSubplot at 0x7f32f9768250>"
            ]
          },
          "metadata": {},
          "execution_count": 64
        },
        {
          "output_type": "display_data",
          "data": {
            "text/plain": [
              "<Figure size 1440x720 with 1 Axes>"
            ],
            "image/png": "[encoded data removed]"
          },
          "metadata": {
            "needs_background": "light"
          }
        }
      ]
    },
    {
      "cell_type": "markdown",
      "source": [
        "Most commom symptom words seen in the discharge summary."
      ],
      "metadata": {
        "id": "zFCYZY-g1ibF"
      }
    },
    {
      "cell_type": "code",
      "source": [
        "symptoms = [symptom for symptoms in df_dataset['SYMPTOMS'].to_list() \\\n",
        "            for symptom in symptoms]\n",
        "\n",
        "symp_df = pd.DataFrame({\n",
        "    \"SYMPTOMS\": symptoms\n",
        "})\n",
        "\n",
        "symptom_counts = symp_df.groupby(\"SYMPTOMS\")[\"SYMPTOMS\"].count()\n",
        "symptom_freq = symptom_counts.sort_values(ascending=False)/len(df_dataset)\n",
        "symptom_freq.head(50).plot.bar(figsize=(20, 10))"
      ],
      "metadata": {
        "colab": {
          "base_uri": "https://localhost:8080/",
          "height": 556
        },
        "id": "hSIG3FgxCQTP",
        "outputId": "f4ad6a7e-dad0-40c9-f449-ca5a40601785"
      },
      "execution_count": null,
      "outputs": [
        {
          "output_type": "execute_result",
          "data": {
            "text/plain": [
              "<matplotlib.axes._subplots.AxesSubplot at 0x7efb7a171e10>"
            ]
          },
          "metadata": {},
          "execution_count": 87
        },
        {
          "output_type": "display_data",
          "data": {
            "text/plain": [
              "<Figure size 1440x720 with 1 Axes>"
            ],
            "image/png": "[encoded data removed]"
          },
          "metadata": {
            "needs_background": "light"
          }
        }
      ]
    },
    {
      "cell_type": "markdown",
      "source": [
        "# Feature Engineering"
      ],
      "metadata": {
        "id": "EX9tul509p_G"
      }
    },
    {
      "cell_type": "markdown",
      "source": [
        "The data preprocessing steps need to be performed only once during the project (unless of course we change any data preprocessing steps). Now we load the pre-processed data and start constructing our 2 forms of feature vectors for each symptom extracted as mentioned in the paper."
      ],
      "metadata": {
        "id": "xobHFgpe-NZN"
      }
    },
    {
      "cell_type": "code",
      "source": [
        "df_dataset = pd.read_csv(f\"{PROJECT_PATH}/mimic3/df_dataset_bert.csv\",\n",
        "                         converters={'SYMPTOMS': eval, 'ICD9_CODE': eval})"
      ],
      "metadata": {
        "id": "1xnQ8aHmfJq-"
      },
      "execution_count": null,
      "outputs": []
    },
    {
      "cell_type": "code",
      "source": [
        "df_dataset[[\"SUBJECT_ID\", \"HADM_ID\", \"SYMPTOMS\", \"ICD9_CODE\"]].head(3)"
      ],
      "metadata": {
        "colab": {
          "base_uri": "https://localhost:8080/",
          "height": 143
        },
        "id": "Kkqrqae5fbm2",
        "outputId": "1d5dae8f-4c5d-4a7c-8e88-9f6cd84bab56"
      },
      "execution_count": null,
      "outputs": [
        {
          "output_type": "execute_result",
          "data": {
            "text/plain": [
              "   SUBJECT_ID   HADM_ID                                           SYMPTOMS  \\\n",
              "0       22532  167853.0  [cavitary, lesions, left, lung, apex, infectio...   \n",
              "1       22532  167853.0  [productive, cough, lb, weight, loss, shortnes...   \n",
              "2       13702  107527.0  [emphysema, shortness, breath, copd, flare, fe...   \n",
              "\n",
              "                       ICD9_CODE  \n",
              "0      [42731, 2762, 5070, 5119]  \n",
              "1      [42731, 2762, 5070, 5119]  \n",
              "2  [51881, 486, 2761, 2449, 311]  "
            ],
            "text/html": [
              "\n",
              "  <div id=\"df-99da9363-0b27-4a2e-b267-8055e64af4ae\">\n",
              "    <div class=\"colab-df-container\">\n",
              "      <div>\n",
              "<style scoped>\n",
              "    .dataframe tbody tr th:only-of-type {\n",
              "        vertical-align: middle;\n",
              "    }\n",
              "\n",
              "    .dataframe tbody tr th {\n",
              "        vertical-align: top;\n",
              "    }\n",
              "\n",
              "    .dataframe thead th {\n",
              "        text-align: right;\n",
              "    }\n",
              "</style>\n",
              "<table border=\"1\" class=\"dataframe\">\n",
              "  <thead>\n",
              "    <tr style=\"text-align: right;\">\n",
              "      <th></th>\n",
              "      <th>SUBJECT_ID</th>\n",
              "      <th>HADM_ID</th>\n",
              "      <th>SYMPTOMS</th>\n",
              "      <th>ICD9_CODE</th>\n",
              "    </tr>\n",
              "  </thead>\n",
              "  <tbody>\n",
              "    <tr>\n",
              "      <th>0</th>\n",
              "      <td>22532</td>\n",
              "      <td>167853.0</td>\n",
              "      <td>[cavitary, lesions, left, lung, apex, infectio...</td>\n",
              "      <td>[42731, 2762, 5070, 5119]</td>\n",
              "    </tr>\n",
              "    <tr>\n",
              "      <th>1</th>\n",
              "      <td>22532</td>\n",
              "      <td>167853.0</td>\n",
              "      <td>[productive, cough, lb, weight, loss, shortnes...</td>\n",
              "      <td>[42731, 2762, 5070, 5119]</td>\n",
              "    </tr>\n",
              "    <tr>\n",
              "      <th>2</th>\n",
              "      <td>13702</td>\n",
              "      <td>107527.0</td>\n",
              "      <td>[emphysema, shortness, breath, copd, flare, fe...</td>\n",
              "      <td>[51881, 486, 2761, 2449, 311]</td>\n",
              "    </tr>\n",
              "  </tbody>\n",
              "</table>\n",
              "</div>\n",
              "      <button class=\"colab-df-convert\" onclick=\"convertToInteractive('df-99da9363-0b27-4a2e-b267-8055e64af4ae')\"\n",
              "              title=\"Convert this dataframe to an interactive table.\"\n",
              "              style=\"display:none;\">\n",
              "        \n",
              "  <svg xmlns=\"http://www.w3.org/2000/svg\" height=\"24px\"viewBox=\"0 0 24 24\"\n",
              "       width=\"24px\">\n",
              "    <path d=\"M0 0h24v24H0V0z\" fill=\"none\"/>\n",
              "    <path d=\"M18.56 5.44l.94 2.06.94-2.06 2.06-.94-2.06-.94-.94-2.06-.94 2.06-2.06.94zm-11 1L8.5 8.5l.94-2.06 2.06-.94-2.06-.94L8.5 2.5l-.94 2.06-2.06.94zm10 10l.94 2.06.94-2.06 2.06-.94-2.06-.94-.94-2.06-.94 2.06-2.06.94z\"/><path d=\"M17.41 7.96l-1.37-1.37c-.4-.4-.92-.59-1.43-.59-.52 0-1.04.2-1.43.59L10.3 9.45l-7.72 7.72c-.78.78-.78 2.05 0 2.83L4 21.41c.39.39.9.59 1.41.59.51 0 1.02-.2 1.41-.59l7.78-7.78 2.81-2.81c.8-.78.8-2.07 0-2.86zM5.41 20L4 18.59l7.72-7.72 1.47 1.35L5.41 20z\"/>\n",
              "  </svg>\n",
              "      </button>\n",
              "      \n",
              "  <style>\n",
              "    .colab-df-container {\n",
              "      display:flex;\n",
              "      flex-wrap:wrap;\n",
              "      gap: 12px;\n",
              "    }\n",
              "\n",
              "    .colab-df-convert {\n",
              "      background-color: #E8F0FE;\n",
              "      border: none;\n",
              "      border-radius: 50%;\n",
              "      cursor: pointer;\n",
              "      display: none;\n",
              "      fill: #1967D2;\n",
              "      height: 32px;\n",
              "      padding: 0 0 0 0;\n",
              "      width: 32px;\n",
              "    }\n",
              "\n",
              "    .colab-df-convert:hover {\n",
              "      background-color: #E2EBFA;\n",
              "      box-shadow: 0px 1px 2px rgba(60, 64, 67, 0.3), 0px 1px 3px 1px rgba(60, 64, 67, 0.15);\n",
              "      fill: #174EA6;\n",
              "    }\n",
              "\n",
              "    [theme=dark] .colab-df-convert {\n",
              "      background-color: #3B4455;\n",
              "      fill: #D2E3FC;\n",
              "    }\n",
              "\n",
              "    [theme=dark] .colab-df-convert:hover {\n",
              "      background-color: #434B5C;\n",
              "      box-shadow: 0px 1px 3px 1px rgba(0, 0, 0, 0.15);\n",
              "      filter: drop-shadow(0px 1px 2px rgba(0, 0, 0, 0.3));\n",
              "      fill: #FFFFFF;\n",
              "    }\n",
              "  </style>\n",
              "\n",
              "      <script>\n",
              "        const buttonEl =\n",
              "          document.querySelector('#df-99da9363-0b27-4a2e-b267-8055e64af4ae button.colab-df-convert');\n",
              "        buttonEl.style.display =\n",
              "          google.colab.kernel.accessAllowed ? 'block' : 'none';\n",
              "\n",
              "        async function convertToInteractive(key) {\n",
              "          const element = document.querySelector('#df-99da9363-0b27-4a2e-b267-8055e64af4ae');\n",
              "          const dataTable =\n",
              "            await google.colab.kernel.invokeFunction('convertToInteractive',\n",
              "                                                     [key], {});\n",
              "          if (!dataTable) return;\n",
              "\n",
              "          const docLinkHtml = 'Like what you see? Visit the ' +\n",
              "            '<a target=\"_blank\" href=https://colab.research.google.com/notebooks/data_table.ipynb>data table notebook</a>'\n",
              "            + ' to learn more about interactive tables.';\n",
              "          element.innerHTML = '';\n",
              "          dataTable['output_type'] = 'display_data';\n",
              "          await google.colab.output.renderOutput(dataTable, element);\n",
              "          const docLink = document.createElement('div');\n",
              "          docLink.innerHTML = docLinkHtml;\n",
              "          element.appendChild(docLink);\n",
              "        }\n",
              "      </script>\n",
              "    </div>\n",
              "  </div>\n",
              "  "
            ]
          },
          "metadata": {},
          "execution_count": 6
        }
      ]
    },
    {
      "cell_type": "markdown",
      "source": [
        "## Construct Dataset With Word2Vec embeddings"
      ],
      "metadata": {
        "id": "crLZigFVcbeZ"
      }
    },
    {
      "cell_type": "markdown",
      "source": [
        "In this section we generate our first form of vector representation for symptoms. We generate a `Word2Vec` embedding (using the Gensim model we trained previously in the data pre-processing step) for each symptom extracted from the discharge summary. Each input then becomes a sequence of `Word2Vec` embedding.\n",
        "\n",
        "`[emb1, emb2 ...]`"
      ],
      "metadata": {
        "id": "8CRNJ9hkTUfX"
      }
    },
    {
      "cell_type": "code",
      "source": [
        "from gensim.models import Word2Vec\n",
        "\n",
        "# load the model\n",
        "model = Word2Vec.load(W2V_MODEL_PATH)\n",
        "\n",
        "# now create a vector of word2vec embeddings for each discharge summary\n",
        "X_word2vec = list()\n",
        "for idx in range(len(df_dataset)):\n",
        "  # ignore words in not vocabulary\n",
        "  symptoms = df_dataset[\"SYMPTOMS\"][idx]\n",
        "  symptoms_emb = [model.wv[s] for s in symptoms if s in model.wv]\n",
        "  X_word2vec.append(symptoms_emb)"
      ],
      "metadata": {
        "id": "YQu3AEBEfbF3"
      },
      "execution_count": null,
      "outputs": []
    },
    {
      "cell_type": "markdown",
      "source": [
        "## Construct Dataset With TF-IDF encoding"
      ],
      "metadata": {
        "id": "V8Q5MAs2xjDh"
      }
    },
    {
      "cell_type": "markdown",
      "source": [
        "Here we generate our second form for symptom representation. We compute a TF-IDF like metric for each symptom extracted and then represent each symtom with its TF-IDF vector. So our input in this form looks like a sequence of TF-IDF vectors.\n",
        "\n",
        "`[td-idf(s1), tf-idf(s2) ...]`\n",
        "\n",
        "where each `tf-idf` vector is of length of 50 (for top#50 diseases) and `s1, s2 ...` are symtoms."
      ],
      "metadata": {
        "id": "sVlfp23-VbA5"
      }
    },
    {
      "cell_type": "code",
      "source": [
        "import numpy as np\n",
        "import itertools\n",
        "\n",
        "# top 50 unique ICD codes.\n",
        "top_icd_codes = [codes for codes in df_dataset['ICD9_CODE']]\n",
        "top_icd_codes = np.unique([code for codes in top_icd_codes for code in codes])\n",
        "\n",
        "sorted_top_icd_codes = sorted(top_icd_codes)\n",
        "icd_code_to_idx = dict((k, v) for v, k in enumerate(sorted_top_icd_codes))\n",
        "\n",
        "vocab_size = len(model.wv)\n",
        "tf = np.zeros((len(model.wv), len(top_icd_codes)))\n",
        "\n",
        "for idx in range(len(df_dataset)):\n",
        "  # XXX: TODO currently we treat all tokens from \"TEXT\" as sypmtoms\n",
        "  # get the icd codes for this discharge summary\n",
        "  symptoms = df_dataset['SYMPTOMS'][idx]\n",
        "  icd_codes = df_dataset['ICD9_CODE'][idx]\n",
        "  # create a cross product of symptoms and icd codes\n",
        "  # and update tf matrix. tf matrix keeps count of how many \n",
        "  # (i.e frequency) times <symptom, icd code> pair occur in our dataset.\n",
        "  for pair in itertools.product(symptoms, icd_codes):\n",
        "    # update count of each (symptom, icd_code) pair to compute TF\n",
        "    if pair[0] in model.wv:\n",
        "      tf[model.wv.get_index(pair[0])][icd_code_to_idx[pair[1]]] += 1\n",
        "\n",
        "# Complete the TF-IDF matrix computation.\n",
        "# Compute the number of ICD Codes (i.e diseaes) each \n",
        "# symptom is associated with.\n",
        "D_i = np.sum(tf > 0, axis=1)\n",
        "print(D_i.shape)\n",
        "\n",
        "log_N_Di = np.log(len(top_icd_codes)/D_i)\n",
        "tf_idf = (tf.T * log_N_Di).T"
      ],
      "metadata": {
        "id": "YOGw0qxSxrZ3"
      },
      "execution_count": null,
      "outputs": []
    },
    {
      "cell_type": "markdown",
      "source": [
        "Now we use the above generated `tf-idf` matrix to convert each symtom into a `TF-IDF` vector."
      ],
      "metadata": {
        "id": "AUUKYmpgWbMV"
      }
    },
    {
      "cell_type": "code",
      "source": [
        "# build the X_tfidf dataset\n",
        "X_tf_idf = list()\n",
        "for idx in range(len(df_dataset)):\n",
        "  symptoms = df_dataset[\"SYMPTOMS\"][idx]\n",
        "  # get tf-idf vector for each symptom\n",
        "  # ignore words in not vocabulary\n",
        "  symptoms_tf_idf = [tf_idf[model.wv.get_index(s)] \\\n",
        "                     for s in symptoms if s in model.wv]\n",
        "  X_tf_idf.append(symptoms_tf_idf)"
      ],
      "metadata": {
        "id": "W-9C5XBuiOJ3"
      },
      "execution_count": null,
      "outputs": []
    },
    {
      "cell_type": "markdown",
      "source": [
        "## Construct Y (as Multi-hot Encoding)"
      ],
      "metadata": {
        "id": "ckHf55_ylpmS"
      }
    },
    {
      "cell_type": "markdown",
      "source": [
        "As this is a multi-label classification problem (i.e predicting one or more diseases from top #50 most commonly occuring diseases) we use a multi-hot representation for our response variable.\n",
        "\n",
        "We covert the ICD9 column to multi-hot encoding, we keep the old column with list of codes and add a new column with multi-hot encoding representation."
      ],
      "metadata": {
        "id": "hj5A2EJRqEzh"
      }
    },
    {
      "cell_type": "code",
      "source": [
        "# new col to be added to dataframe\n",
        "multi_hot_ecoding_col = list()\n",
        "for idx in range(len(df_dataset)):\n",
        "  icd_codes = df_dataset.iloc[idx]['ICD9_CODE']\n",
        "  encoding = [0] * 50\n",
        "  for code in icd_codes:\n",
        "    encoding[icd_code_to_idx[code]] = 1    \n",
        "  multi_hot_ecoding_col.append(encoding)\n",
        "\n",
        "# new add a new column with multi-hot encoding.\n",
        "df_dataset['ICD9_CODE_ENCODED'] = multi_hot_ecoding_col\n",
        "\n",
        "# multi-hot encoding for ICD codes diagnosed.\n",
        "y = df_dataset['ICD9_CODE_ENCODED'].to_list()"
      ],
      "metadata": {
        "id": "S7vIzsO9V-63"
      },
      "execution_count": null,
      "outputs": []
    },
    {
      "cell_type": "code",
      "source": [
        "print(len(X_word2vec))\n",
        "print(len((X_tf_idf)))\n",
        "print(len(y))"
      ],
      "metadata": {
        "colab": {
          "base_uri": "https://localhost:8080/"
        },
        "id": "CP4e2hJU4S6B",
        "outputId": "1b3af1d6-b634-4833-c5c4-8777b9d394a9"
      },
      "execution_count": null,
      "outputs": [
        {
          "output_type": "stream",
          "name": "stdout",
          "text": [
            "54939\n",
            "54939\n",
            "54939\n"
          ]
        }
      ]
    },
    {
      "cell_type": "markdown",
      "source": [
        "# Model Training and Evaluation Utilities\n",
        "Utilities to train and evaluate models. These fuctions will be used to train and evaluate our main model as well as well as baseline models."
      ],
      "metadata": {
        "id": "C3r4WgmY44Ad"
      }
    },
    {
      "cell_type": "markdown",
      "source": [
        "Utility to pad the datasets."
      ],
      "metadata": {
        "id": "uhuJhast2hbK"
      }
    },
    {
      "cell_type": "code",
      "source": [
        "def pad_dataset(dataset, vec_size):\n",
        "  seq_lengths = list()\n",
        "\n",
        "  for idx in range(len(dataset)):\n",
        "    seq_lengths.append(len(dataset[idx]))\n",
        "  max_seq_length = max(seq_lengths)\n",
        "\n",
        "  padded_dataset = torch.zeros([len(dataset), max_seq_length, vec_size], \n",
        "                               dtype=torch.float)\n",
        "  for i in range(len(dataset)):\n",
        "    for j in range(len(dataset[i])):\n",
        "      padded_dataset[i][j] = torch.FloatTensor(dataset[i][j])\n",
        "  \n",
        "  return padded_dataset"
      ],
      "metadata": {
        "id": "81XPts3oIlGR"
      },
      "execution_count": null,
      "outputs": []
    },
    {
      "cell_type": "markdown",
      "source": [
        "Utility to generate file names to store various results during training."
      ],
      "metadata": {
        "id": "0X6j9urpPLDt"
      }
    },
    {
      "cell_type": "code",
      "source": [
        "from datetime import datetime\n",
        "import pytz\n",
        "\n",
        "def get_model_file_name(modelname=\"model\"):\n",
        "  return \"/content/drive/My Drive/DLH Final Project/models/\" + modelname + \"-\" + \\\n",
        "                  datetime.now(pytz.timezone('Asia/Kolkata')).strftime(\n",
        "                      \"%d-%m-%Y-%H-%M-%S\")\n",
        "\n",
        "def get_stats_file_name(modelname=\"model\"):\n",
        "  return \"/content/drive/My Drive/DLH Final Project/stats/\" + modelname + \"-\" + \\\n",
        "                  datetime.now(pytz.timezone('Asia/Kolkata')).strftime(\n",
        "                      \"%d-%m-%Y-%H-%M-%S\")\n",
        "\n",
        "def get_results_file_name(modelname=\"model\"):\n",
        "  return \"/content/drive/My Drive/DLH Final Project/results/\" + modelname + \\\n",
        "                  \"-\" + datetime.now(pytz.timezone('Asia/Kolkata')).strftime(\n",
        "                      \"%d-%m-%Y-%H-%M-%S\")"
      ],
      "metadata": {
        "id": "pZ5obtEaX68T"
      },
      "execution_count": null,
      "outputs": []
    },
    {
      "cell_type": "markdown",
      "source": [
        "Utility to train a given model on the training set and saves the trained model to disk."
      ],
      "metadata": {
        "id": "d9FN1jYZ2j7o"
      }
    },
    {
      "cell_type": "code",
      "source": [
        "import psutil\n",
        "import time\n",
        "import pickle\n",
        "\n",
        "no_of_epocs = 100\n",
        "\n",
        "def train_model(model, loss, optimizer, train_loader):\n",
        "\n",
        "  main_memory_usage = list()\n",
        "  gpu_memory_usage = list()\n",
        "  gpu_time = list()\n",
        "  train_loss = list()\n",
        "\n",
        "  for e in range(no_of_epocs):\n",
        "    model.train()\n",
        "    epoc_train_loss = 0\n",
        "    main_memory_before = psutil.virtual_memory().used\n",
        "    gpu_memory_before = torch.cuda.memory_allocated()\n",
        "    start_time = time.time()\n",
        "\n",
        "    # iterate over data in mini batches.\n",
        "    for tup, y_batch in train_loader:    \n",
        "      model.zero_grad()\n",
        "      pred = model(tup)\n",
        "      l = loss(pred, y_batch)\n",
        "      l.backward()\n",
        "      optimizer.step()    \n",
        "      epoc_train_loss += l.item()\n",
        "      \n",
        "    # print epoc level training loss.\n",
        "    print(f\"epoc: {e}: Train Loss: {epoc_train_loss/len(train_loader)}\")\n",
        "    \n",
        "    # collect cpu and memory stats.\n",
        "    memory_used = psutil.virtual_memory().used\n",
        "    gpu_memory_used = torch.cuda.memory_allocated()\n",
        "    run_time = time.time() - start_time\n",
        "    print(f\"time: {run_time} memory_used: {memory_used} gpu_memory_used: {gpu_memory_used}\")\n",
        "    print(\"\\n\")\n",
        "\n",
        "    train_loss.append(epoc_train_loss/len(train_loader))\n",
        "    main_memory_usage.append(memory_used)\n",
        "    gpu_memory_usage.append(gpu_memory_used)\n",
        "    gpu_time.append(run_time)\n",
        "    # end of one epoc\n",
        "\n",
        "  # save the model\n",
        "  torch.save(model.state_dict(), get_model_file_name(model.get_name()))\n",
        "  # print and collect stats.\n",
        "  print(psutil.virtual_memory())\n",
        "\n",
        "  stats = {\n",
        "      \"gpu_mem\": gpu_memory_usage,\n",
        "      \"main_mem\": main_memory_usage,\n",
        "      \"gpu_time\": gpu_time,\n",
        "      \"vmm_info\": psutil.virtual_memory()\n",
        "  }\n",
        "\n",
        "  with open(get_stats_file_name(model.get_name()), \"ab\") as sfile:\n",
        "    pickle.dump(stats, sfile)"
      ],
      "metadata": {
        "id": "djf3IOU68k9G"
      },
      "execution_count": null,
      "outputs": []
    },
    {
      "cell_type": "markdown",
      "source": [
        "Utility to evaluate a model on the test dataset and save the evaluation to disk."
      ],
      "metadata": {
        "id": "z5jjtF0O2sXu"
      }
    },
    {
      "cell_type": "code",
      "source": [
        "from sklearn.metrics import precision_recall_fscore_support, roc_auc_score\n",
        "from sklearn.metrics import roc_curve, auc\n",
        "from sklearn.metrics import ConfusionMatrixDisplay, confusion_matrix\n",
        "import matplotlib.pyplot as plt\n",
        "from itertools import cycle\n",
        "\n",
        "\n",
        "def evaluate_model(model, test_loader, threshold):\n",
        "  model.eval()\n",
        "  y_pred_all = list()\n",
        "  y_true_all = list()\n",
        "  y_score_all = list()\n",
        "\n",
        "  for tup, y_batch in test_loader:\n",
        "    y_score = model(tup)\n",
        "    y_pred = (y_score >= threshold)\n",
        "    y_pred_all.extend(y_pred.detach().to('cpu').numpy())\n",
        "    y_true_all.extend(y_batch.detach().to('cpu').numpy())\n",
        "    y_score_all.extend(y_score.detach().to('cpu').numpy())\n",
        "\n",
        "  y_true_all = np.array(y_true_all)\n",
        "  y_pred_all = np.array(y_pred_all)\n",
        "  y_score_all = np.array(y_score_all)\n",
        "\n",
        "  # micro level metrics\n",
        "  p1, r1, f1, s1 = precision_recall_fscore_support(y_true_all, \n",
        "                                y_pred_all, average=\"micro\")\n",
        "  \n",
        "  micro_auc = roc_auc_score(y_true_all, y_score_all, average=\"micro\")\n",
        "  print(f\"Micro Averaging. Precision: {p1:.3f}, Recall: {r1:.3f}, \\\n",
        "          F1 Score: {f1:.3f}, \\\n",
        "          AUC: {micro_auc:.3f}\")\n",
        "\n",
        "  # macro level metrics\n",
        "  p2, r2, f2, s2 = precision_recall_fscore_support(y_true_all, y_pred_all, \n",
        "                                                  average=\"macro\")\n",
        "  macro_auc = roc_auc_score(y_true_all, y_score_all, average=\"macro\")\n",
        "  print(f\"Macro Averaging. Precision: {p2:.3f}, Recall: {r2:.3f}, \\\n",
        "          F1 Score: {f2:.3f}, \\\n",
        "          AUC: {macro_auc:.3f}\")\n",
        "\n",
        "  results = {\n",
        "      \"micro\": [p1, r1, f1],\n",
        "      \"macro\": [p2, r2, f2]\n",
        "  }\n",
        "\n",
        "  with open(get_results_file_name(model.get_name()), \"ab\") as rfile:\n",
        "    pickle.dump(results, rfile)\n",
        "  \n",
        "  # plot ROC curves for all the classes along with micro and macro averages.\n",
        "  # Code Ref: https://scikit-learn.org/stable/auto_examples/model_selection/plot_roc.html\n",
        "\n",
        "  fpr = dict()\n",
        "  tpr = dict()\n",
        "  roc_auc = dict()\n",
        "  n_diseases = 50\n",
        "  for i in range(n_diseases):\n",
        "      fpr[i], tpr[i], _ = roc_curve(y_true_all[:, i], y_score_all[:, i])\n",
        "      roc_auc[i] = auc(fpr[i], tpr[i])\n",
        "\n",
        "  # Compute micro-average ROC curve and ROC area\n",
        "  fpr[\"micro\"], tpr[\"micro\"], th = roc_curve(y_true_all.ravel(), y_score_all.ravel())\n",
        "  roc_auc[\"micro\"] = auc(fpr[\"micro\"], tpr[\"micro\"])\n",
        "\n",
        "  # print(f\"thresholds={th}\")\n",
        "\n",
        "  # First aggregate all false positive rates\n",
        "  all_fpr = np.unique(np.concatenate([fpr[i] for i in range(n_diseases)]))\n",
        "\n",
        "  # Then interpolate all ROC curves at this points\n",
        "  mean_tpr = np.zeros_like(all_fpr)\n",
        "  for i in range(n_diseases):\n",
        "      mean_tpr += np.interp(all_fpr, fpr[i], tpr[i])\n",
        "\n",
        "  # Finally average it and compute AUC\n",
        "  mean_tpr /= n_diseases\n",
        "\n",
        "  fpr[\"macro\"] = all_fpr\n",
        "  tpr[\"macro\"] = mean_tpr\n",
        "  roc_auc[\"macro\"] = auc(fpr[\"macro\"], tpr[\"macro\"])\n",
        "\n",
        "  # Plot all ROC curves\n",
        "  plt.figure(figsize=(8,8))\n",
        "  lw = 2\n",
        "  plt.plot(\n",
        "      fpr[\"micro\"],\n",
        "      tpr[\"micro\"],\n",
        "      label=\"micro-average ROC curve (area = {0:0.2f})\".format(roc_auc[\"micro\"]),\n",
        "      color=\"deeppink\",\n",
        "      linestyle=\":\",\n",
        "      linewidth=4,\n",
        "  )\n",
        "\n",
        "  plt.plot(\n",
        "      fpr[\"macro\"],\n",
        "      tpr[\"macro\"],\n",
        "      label=\"macro-average ROC curve (area = {0:0.2f})\".format(roc_auc[\"macro\"]),\n",
        "      color=\"navy\",\n",
        "      linestyle=\":\",\n",
        "      linewidth=4,\n",
        "  )\n",
        "\n",
        "  # colors = cycle([\"aqua\", \"darkorange\", \"cornflowerblue\"])\n",
        "  # for i, color in zip(range(n_diseases), colors):\n",
        "  #     plt.plot(\n",
        "  #         fpr[i],\n",
        "  #         tpr[i],\n",
        "  #         color=color,\n",
        "  #         lw=lw\n",
        "  #     )\n",
        "\n",
        "  plt.plot([0, 1], [0, 1], \"k--\", lw=lw)\n",
        "  plt.xlim([0.0, 1.0])\n",
        "  plt.ylim([0.0, 1.05])\n",
        "  plt.xlabel(\"False Positive Rate\")\n",
        "  plt.ylabel(\"True Positive Rate\")\n",
        "  plt.title(\"Macro vs. Micro ROC curves\")\n",
        "  plt.legend(loc=\"lower right\")\n",
        "  plt.show()"
      ],
      "metadata": {
        "id": "gJen7FhqD5ny"
      },
      "execution_count": null,
      "outputs": []
    },
    {
      "cell_type": "markdown",
      "source": [
        "# Disease Prediction Model"
      ],
      "metadata": {
        "id": "AM_PmgGVDjvQ"
      }
    },
    {
      "cell_type": "markdown",
      "source": [
        "## Dataset and DataLoaders"
      ],
      "metadata": {
        "id": "D0madEdCl7w1"
      }
    },
    {
      "cell_type": "markdown",
      "source": [
        "Now we define our dataset and data loaders for both train and test dataset."
      ],
      "metadata": {
        "id": "Oaas5utnXfvC"
      }
    },
    {
      "cell_type": "code",
      "source": [
        "def collate_fn(data):\n",
        "  x_w2v, x_tidf, y_batch = zip(*data)\n",
        "  x_w2v = pad_dataset(x_w2v, W2V_EMB_SIZE)\n",
        "  x_tidf = pad_dataset(x_tidf, 50) # top 50 diseases\n",
        "  y_batch = torch.FloatTensor(y_batch)\n",
        "  x_w2v = x_w2v.cuda() if torch.cuda.is_available() else x_w2v\n",
        "  x_tidf = x_tidf.cuda() if torch.cuda.is_available() else x_tidf\n",
        "  y_batch = y_batch.cuda() if torch.cuda.is_available() else y_batch\n",
        "  return (x_w2v, x_tidf), y_batch\n",
        "\n",
        "class CustomDataset(Dataset):\n",
        "  def __init__(self, X_w2v, X_tfidf, y):              \n",
        "    self.X_w2v = X_w2v\n",
        "    self.X_tfidf = X_tfidf\n",
        "    self.y = y\n",
        "    \n",
        "  def __len__(self):                \n",
        "    return len(self.y)\n",
        "    \n",
        "  def __getitem__(self, index):\n",
        "    return self.X_w2v[index], self.X_tfidf[index], self.y[index]\n",
        "\n",
        "dataset = CustomDataset(X_word2vec, X_tf_idf, y)\n",
        "\n",
        "split = int(len(dataset)*0.8)\n",
        "lengths = [split, len(dataset) - split]\n",
        "train_dataset, test_dataset = random_split(dataset, lengths)\n",
        "\n",
        "train_loader = DataLoader(train_dataset, shuffle=True, \n",
        "                          batch_size=TRAINING_BATCH_SIZE, \n",
        "                          collate_fn=collate_fn)\n",
        "\n",
        "test_loader = DataLoader(test_dataset, shuffle=True, \n",
        "                         batch_size=TRAINING_BATCH_SIZE, \n",
        "                         collate_fn=collate_fn)"
      ],
      "metadata": {
        "id": "O5HoLixIdZq_"
      },
      "execution_count": null,
      "outputs": []
    },
    {
      "cell_type": "markdown",
      "source": [
        "## Model Definition"
      ],
      "metadata": {
        "id": "yilnzXZgi8RH"
      }
    },
    {
      "cell_type": "markdown",
      "source": [
        "Our model consiste of the following components\n",
        "\n",
        "\n",
        "1. A BiLSTM model trained on Word2Vec representation of symptoms\n",
        "2. Another BiLSTM model trained on TF-IDF representation of symptoms.\n",
        "3. A weighted averate of predictions from the above models.\n",
        "\n",
        "The following diagram shows the architecture of the model.\n",
        "<img src='https://drive.google.com/uc?id=1MFtLp7tg3fmpvtfJ4t9KHmmTmPRuVTxr'>\n",
        "\n"
      ],
      "metadata": {
        "id": "N8bt5oAfYbIb"
      }
    },
    {
      "cell_type": "code",
      "source": [
        "class BiLSTM(nn.Module):\n",
        "  def __init__(self, input_dim, embedding_dim, output_dim, \n",
        "               model_name = \"bi-lstm\"):   \n",
        "    super(BiLSTM, self).__init__()\n",
        "    self.lstm = nn.LSTM(input_size=input_dim, \n",
        "                        hidden_size=embedding_dim,\n",
        "                        num_layers=1,                        \n",
        "                        bidirectional=True,\n",
        "                        batch_first=True)\n",
        "    \n",
        "    self.linear = nn.Linear(embedding_dim*2, output_dim)\n",
        "    self.model_name = model_name\n",
        "  \n",
        "  def forward(self, X):\n",
        "    out, (h_n, c_n) = self.lstm(X)    \n",
        "    # emb = torch.cat((h_n[0], h_n[1]), dim=1)\n",
        "    emb = out[:,-1,:]\n",
        "    # print(f\"emb shape for input layer = {emb.shape}\")\n",
        "    output = torch.sigmoid(self.linear(emb))\n",
        "    return output\n",
        "  \n",
        "  def get_name(self):\n",
        "    return self.model_name\n",
        "\n",
        "\n",
        "class DiseasePredictionModel(nn.Module):\n",
        "  def __init__(self, weight=0.5, output_dim=50):    \n",
        "    super(DiseasePredictionModel, self).__init__()\n",
        "    self.weight = weight\n",
        "    self.w2v_lstm = BiLSTM(input_dim=W2V_EMB_SIZE, \n",
        "                           embedding_dim=LSTM_HIDDEN_VEC_SIZE, \n",
        "                           output_dim=output_dim)\n",
        "    \n",
        "    self.tf_idf_lstm = BiLSTM(input_dim=50, \n",
        "                              embedding_dim=LSTM_HIDDEN_VEC_SIZE, \n",
        "                              output_dim=output_dim)\n",
        "  \n",
        "  def forward(self, tup):\n",
        "    X_w2v, X_tidf = tup\n",
        "    pred1 = self.w2v_lstm(X_w2v)\n",
        "    pred2 = self.tf_idf_lstm(X_tidf)\n",
        "    # compute the weighted average of predictions\n",
        "    # from the 2 models.\n",
        "    return self.weight * pred1 + (1-self.weight) * pred2\n",
        "  \n",
        "  def get_name(self):\n",
        "    return \"main-model\""
      ],
      "metadata": {
        "id": "RpByc-wrjQ6A"
      },
      "execution_count": null,
      "outputs": []
    },
    {
      "cell_type": "markdown",
      "source": [
        "## Model Training"
      ],
      "metadata": {
        "id": "wT5_eTcAfyzq"
      }
    },
    {
      "cell_type": "markdown",
      "source": [
        "Setup the model for training. We use Binary Cross Entropy as loss function and Adam optimizer with learning rate of 0.001 (as recommeded in the paper)"
      ],
      "metadata": {
        "id": "py-1OnbnZN_v"
      }
    },
    {
      "cell_type": "code",
      "source": [
        "main_model = DiseasePredictionModel(weight=0.5)\n",
        "if torch.cuda.is_available():\n",
        "  main_model.cuda()\n",
        "\n",
        "loss_fn = nn.BCELoss()\n",
        "optim = torch.optim.Adam(main_model.parameters(), lr=0.001)\n",
        "print(f\"No of parameters to train: \\\n",
        "        {sum(p.numel() for p in main_model.parameters() if p.requires_grad)}\")\n",
        "\n",
        "train_model(main_model, loss_fn, optim, train_loader)"
      ],
      "metadata": {
        "id": "UYzSUxVr969Q",
        "colab": {
          "base_uri": "https://localhost:8080/"
        },
        "outputId": "2fbd0ddc-4602-499a-d1d2-c47097aebe0f"
      },
      "execution_count": null,
      "outputs": [
        {
          "output_type": "stream",
          "name": "stdout",
          "text": [
            "No of parameters to train:         325700\n",
            "epoc: 0: Train Loss: 0.3475410591472279\n",
            "time: 40.78259205818176 memory_used: 4918001664 gpu_memory_used: 59852800\n",
            "\n",
            "\n",
            "epoc: 1: Train Loss: 0.2808691187338396\n",
            "time: 40.61250305175781 memory_used: 4916940800 gpu_memory_used: 59602944\n",
            "\n",
            "\n",
            "epoc: 2: Train Loss: 0.2808747091076591\n",
            "time: 40.309454679489136 memory_used: 4916002816 gpu_memory_used: 65707520\n",
            "\n",
            "\n",
            "epoc: 3: Train Loss: 0.2808734208345413\n",
            "time: 40.34093427658081 memory_used: 4916391936 gpu_memory_used: 65535488\n",
            "\n",
            "\n",
            "epoc: 4: Train Loss: 0.2809113865548914\n",
            "time: 40.17018914222717 memory_used: 4915036160 gpu_memory_used: 60103168\n",
            "\n",
            "\n",
            "epoc: 5: Train Loss: 0.2808919660069726\n",
            "time: 40.06001091003418 memory_used: 4915359744 gpu_memory_used: 62352384\n",
            "\n",
            "\n",
            "epoc: 6: Train Loss: 0.28089722855524585\n",
            "time: 39.99058270454407 memory_used: 4916047872 gpu_memory_used: 63101952\n",
            "\n",
            "\n",
            "epoc: 7: Train Loss: 0.28089042847806756\n",
            "time: 40.43046474456787 memory_used: 4916600832 gpu_memory_used: 58603520\n",
            "\n",
            "\n",
            "epoc: 8: Train Loss: 0.2809076788750562\n",
            "time: 40.65801739692688 memory_used: 4916277248 gpu_memory_used: 62102016\n",
            "\n",
            "\n",
            "epoc: 9: Train Loss: 0.2808823842893947\n",
            "time: 40.49677872657776 memory_used: 4915834880 gpu_memory_used: 60103168\n",
            "\n",
            "\n",
            "epoc: 10: Train Loss: 0.28090051168745217\n",
            "time: 40.203742027282715 memory_used: 4916240384 gpu_memory_used: 60996096\n",
            "\n",
            "\n",
            "epoc: 11: Train Loss: 0.2808875032446601\n",
            "time: 40.28739023208618 memory_used: 4915167232 gpu_memory_used: 65777664\n",
            "\n",
            "\n",
            "epoc: 12: Train Loss: 0.2808546648784117\n",
            "time: 40.33217668533325 memory_used: 4914503680 gpu_memory_used: 65567232\n",
            "\n",
            "\n",
            "epoc: 13: Train Loss: 0.280854194001718\n",
            "time: 40.45769286155701 memory_used: 4916899840 gpu_memory_used: 65777664\n",
            "\n",
            "\n",
            "epoc: 14: Train Loss: 0.28086708025498824\n",
            "time: 40.56820225715637 memory_used: 4916486144 gpu_memory_used: 62852096\n",
            "\n",
            "\n",
            "epoc: 15: Train Loss: 0.28084013245322487\n",
            "time: 40.52247071266174 memory_used: 4915892224 gpu_memory_used: 65465344\n",
            "\n",
            "\n",
            "epoc: 16: Train Loss: 0.2808374591849067\n",
            "time: 40.27542495727539 memory_used: 4915027968 gpu_memory_used: 60103168\n",
            "\n",
            "\n",
            "epoc: 17: Train Loss: 0.2808393044905229\n",
            "time: 40.3084237575531 memory_used: 4914995200 gpu_memory_used: 63101952\n",
            "\n",
            "\n",
            "epoc: 18: Train Loss: 0.28083972903815185\n",
            "time: 40.30524802207947 memory_used: 4915617792 gpu_memory_used: 61102592\n",
            "\n",
            "\n",
            "epoc: 19: Train Loss: 0.2808144572106275\n",
            "time: 39.94985318183899 memory_used: 4914335744 gpu_memory_used: 60602880\n",
            "\n",
            "\n",
            "epoc: 20: Train Loss: 0.28080032711679287\n",
            "time: 40.11945295333862 memory_used: 4913029120 gpu_memory_used: 62352384\n",
            "\n",
            "\n",
            "epoc: 21: Train Loss: 0.28082848733121696\n",
            "time: 39.917113065719604 memory_used: 4914196480 gpu_memory_used: 62334464\n",
            "\n",
            "\n",
            "epoc: 22: Train Loss: 0.2802008412101052\n",
            "time: 40.07233738899231 memory_used: 4914548736 gpu_memory_used: 60103168\n",
            "\n",
            "\n",
            "epoc: 23: Train Loss: 0.2699081521142613\n",
            "time: 40.71095252037048 memory_used: 4914143232 gpu_memory_used: 63013888\n",
            "\n",
            "\n",
            "epoc: 24: Train Loss: 0.2669536433436654\n",
            "time: 40.69888710975647 memory_used: 4912627712 gpu_memory_used: 65465344\n",
            "\n",
            "\n",
            "epoc: 25: Train Loss: 0.2601434042507952\n",
            "time: 40.90275740623474 memory_used: 4911935488 gpu_memory_used: 63351808\n",
            "\n",
            "\n",
            "epoc: 26: Train Loss: 0.25771613838997753\n",
            "time: 40.55561375617981 memory_used: 4912979968 gpu_memory_used: 65707520\n",
            "\n",
            "\n",
            "epoc: 27: Train Loss: 0.2565531707622788\n",
            "time: 40.522942781448364 memory_used: 4913459200 gpu_memory_used: 60103168\n",
            "\n",
            "\n",
            "epoc: 28: Train Loss: 0.2555967684496533\n",
            "time: 40.57097315788269 memory_used: 4914651136 gpu_memory_used: 62102016\n",
            "\n",
            "\n",
            "epoc: 29: Train Loss: 0.2549968880685893\n",
            "time: 40.71774244308472 memory_used: 4914978816 gpu_memory_used: 59103232\n",
            "\n",
            "\n",
            "epoc: 30: Train Loss: 0.25359035540710795\n",
            "time: 40.52109718322754 memory_used: 4913537024 gpu_memory_used: 61352448\n",
            "\n",
            "\n",
            "epoc: 31: Train Loss: 0.25214818905700337\n",
            "time: 40.22914719581604 memory_used: 4916211712 gpu_memory_used: 67088896\n",
            "\n",
            "\n",
            "epoc: 32: Train Loss: 0.2550168304280801\n",
            "time: 40.31005644798279 memory_used: 4915470336 gpu_memory_used: 61102592\n",
            "\n",
            "\n",
            "epoc: 33: Train Loss: 0.2528632127425887\n",
            "time: 40.22904682159424 memory_used: 4915122176 gpu_memory_used: 68849664\n",
            "\n",
            "\n",
            "epoc: 34: Train Loss: 0.2494523812424053\n",
            "time: 40.185373067855835 memory_used: 4915318784 gpu_memory_used: 60353024\n",
            "\n",
            "\n",
            "epoc: 35: Train Loss: 0.2481202091683041\n",
            "time: 40.08365607261658 memory_used: 4915912704 gpu_memory_used: 62102016\n",
            "\n",
            "\n",
            "epoc: 36: Train Loss: 0.24697533764622429\n",
            "time: 39.76788353919983 memory_used: 4914348032 gpu_memory_used: 64751616\n",
            "\n",
            "\n",
            "epoc: 37: Train Loss: 0.24636427719484677\n",
            "time: 39.76690220832825 memory_used: 4915343360 gpu_memory_used: 62102016\n",
            "\n",
            "\n",
            "epoc: 38: Train Loss: 0.24560070498423142\n",
            "time: 40.39331102371216 memory_used: 4915564544 gpu_memory_used: 62602240\n",
            "\n",
            "\n",
            "epoc: 39: Train Loss: 0.24498512094671077\n",
            "time: 40.34560036659241 memory_used: 4913827840 gpu_memory_used: 63101952\n",
            "\n",
            "\n",
            "epoc: 40: Train Loss: 0.24420264715498144\n",
            "time: 40.47689747810364 memory_used: 4916580352 gpu_memory_used: 62602240\n",
            "\n",
            "\n",
            "epoc: 41: Train Loss: 0.24346115589141845\n",
            "time: 40.36044454574585 memory_used: 4915666944 gpu_memory_used: 61102592\n",
            "\n",
            "\n",
            "epoc: 42: Train Loss: 0.2425654040141539\n",
            "time: 40.20923662185669 memory_used: 4916867072 gpu_memory_used: 62034944\n",
            "\n",
            "\n",
            "epoc: 43: Train Loss: 0.24167506464503027\n",
            "time: 40.253660440444946 memory_used: 4917694464 gpu_memory_used: 59353088\n",
            "\n",
            "\n",
            "epoc: 44: Train Loss: 0.24072827398777008\n",
            "time: 40.19643712043762 memory_used: 4916236288 gpu_memory_used: 59353088\n",
            "\n",
            "\n",
            "epoc: 45: Train Loss: 0.23998449038375508\n",
            "time: 40.196560859680176 memory_used: 4916793344 gpu_memory_used: 63351808\n",
            "\n",
            "\n",
            "epoc: 46: Train Loss: 0.23926962167024612\n",
            "time: 39.99895977973938 memory_used: 4917026816 gpu_memory_used: 61852160\n",
            "\n",
            "\n",
            "epoc: 47: Train Loss: 0.23845923123034565\n",
            "time: 40.09469127655029 memory_used: 4916015104 gpu_memory_used: 60103168\n",
            "\n",
            "\n",
            "epoc: 48: Train Loss: 0.23772016736594112\n",
            "time: 40.336097955703735 memory_used: 4914982912 gpu_memory_used: 61102592\n",
            "\n",
            "\n",
            "epoc: 49: Train Loss: 0.2368984655900435\n",
            "time: 40.344725608825684 memory_used: 4917157888 gpu_memory_used: 63351808\n",
            "\n",
            "\n",
            "epoc: 50: Train Loss: 0.23609244227409362\n",
            "time: 40.11882472038269 memory_used: 4917395456 gpu_memory_used: 60353024\n",
            "\n",
            "\n",
            "epoc: 51: Train Loss: 0.2352561056613922\n",
            "time: 40.23449158668518 memory_used: 4917768192 gpu_memory_used: 59353088\n",
            "\n",
            "\n",
            "epoc: 52: Train Loss: 0.23419781503352252\n",
            "time: 39.98004412651062 memory_used: 4918145024 gpu_memory_used: 62972928\n",
            "\n",
            "\n",
            "epoc: 53: Train Loss: 0.23363108811053362\n",
            "time: 40.73807716369629 memory_used: 4918054912 gpu_memory_used: 61352448\n",
            "\n",
            "\n",
            "epoc: 54: Train Loss: 0.23285469128326935\n",
            "time: 40.43524765968323 memory_used: 4917100544 gpu_memory_used: 60852736\n",
            "\n",
            "\n",
            "epoc: 55: Train Loss: 0.23206253674897281\n",
            "time: 40.20545816421509 memory_used: 4918824960 gpu_memory_used: 65850880\n",
            "\n",
            "\n",
            "epoc: 56: Train Loss: 0.2313649379394271\n",
            "time: 40.0965096950531 memory_used: 4918075392 gpu_memory_used: 59353088\n",
            "\n",
            "\n",
            "epoc: 57: Train Loss: 0.23039215952157974\n",
            "time: 40.06747269630432 memory_used: 4919164928 gpu_memory_used: 63101952\n",
            "\n",
            "\n",
            "epoc: 58: Train Loss: 0.22972954416816885\n",
            "time: 40.2493417263031 memory_used: 4918231040 gpu_memory_used: 61102592\n",
            "\n",
            "\n",
            "epoc: 59: Train Loss: 0.22881378897211768\n",
            "time: 40.30635905265808 memory_used: 4917424128 gpu_memory_used: 62852096\n",
            "\n",
            "\n",
            "epoc: 60: Train Loss: 0.22826495427976956\n",
            "time: 40.3743953704834 memory_used: 4917415936 gpu_memory_used: 62654464\n",
            "\n",
            "\n",
            "epoc: 61: Train Loss: 0.22802176448431882\n",
            "time: 40.36928677558899 memory_used: 4917915648 gpu_memory_used: 63851520\n",
            "\n",
            "\n",
            "epoc: 62: Train Loss: 0.22711119313131678\n",
            "time: 40.486512422561646 memory_used: 4917661696 gpu_memory_used: 63253504\n",
            "\n",
            "\n",
            "epoc: 63: Train Loss: 0.22658221288160843\n",
            "time: 40.38849496841431 memory_used: 4918910976 gpu_memory_used: 61602304\n",
            "\n",
            "\n",
            "epoc: 64: Train Loss: 0.2258263498544693\n",
            "time: 40.22824168205261 memory_used: 4919713792 gpu_memory_used: 60201984\n",
            "\n",
            "\n",
            "epoc: 65: Train Loss: 0.22527229731733148\n",
            "time: 40.25001120567322 memory_used: 4918611968 gpu_memory_used: 65535488\n",
            "\n",
            "\n",
            "epoc: 66: Train Loss: 0.2247578897259452\n",
            "time: 40.08271598815918 memory_used: 4919246848 gpu_memory_used: 60852736\n",
            "\n",
            "\n",
            "epoc: 67: Train Loss: 0.2241666715253483\n",
            "time: 40.26433229446411 memory_used: 4917805056 gpu_memory_used: 62352384\n",
            "\n",
            "\n",
            "epoc: 68: Train Loss: 0.22354353625666012\n",
            "time: 40.63322567939758 memory_used: 4919808000 gpu_memory_used: 61602304\n",
            "\n",
            "\n",
            "epoc: 69: Train Loss: 0.22300765460187738\n",
            "time: 40.227073669433594 memory_used: 4921217024 gpu_memory_used: 61102592\n",
            "\n",
            "\n",
            "epoc: 70: Train Loss: 0.2226851600137624\n",
            "time: 40.11793231964111 memory_used: 4919455744 gpu_memory_used: 61934080\n",
            "\n",
            "\n",
            "epoc: 71: Train Loss: 0.22192693908106198\n",
            "time: 40.28007364273071 memory_used: 4920737792 gpu_memory_used: 60103168\n",
            "\n",
            "\n",
            "epoc: 72: Train Loss: 0.2215905713764104\n",
            "time: 40.276106119155884 memory_used: 4918771712 gpu_memory_used: 58234368\n",
            "\n",
            "\n",
            "epoc: 73: Train Loss: 0.22098750512708318\n",
            "time: 40.191166400909424 memory_used: 4920147968 gpu_memory_used: 63351808\n",
            "\n",
            "\n",
            "epoc: 74: Train Loss: 0.22042109559882772\n",
            "time: 40.33924078941345 memory_used: 4918849536 gpu_memory_used: 58603520\n",
            "\n",
            "\n",
            "epoc: 75: Train Loss: 0.22019372433423995\n",
            "time: 40.275402784347534 memory_used: 4919496704 gpu_memory_used: 59602944\n",
            "\n",
            "\n",
            "epoc: 76: Train Loss: 0.21963668303056197\n",
            "time: 40.193816900253296 memory_used: 4920373248 gpu_memory_used: 62102016\n",
            "\n",
            "\n",
            "epoc: 77: Train Loss: 0.21925642788410188\n",
            "time: 40.21576380729675 memory_used: 4920770560 gpu_memory_used: 60103168\n",
            "\n",
            "\n",
            "epoc: 78: Train Loss: 0.21853584254329855\n",
            "time: 40.32258415222168 memory_used: 4919889920 gpu_memory_used: 61102592\n",
            "\n",
            "\n",
            "epoc: 79: Train Loss: 0.21818515319715848\n",
            "time: 40.22543907165527 memory_used: 4919779328 gpu_memory_used: 59852800\n",
            "\n",
            "\n",
            "epoc: 80: Train Loss: 0.21755760704929178\n",
            "time: 40.26465582847595 memory_used: 4919603200 gpu_memory_used: 65605632\n",
            "\n",
            "\n",
            "epoc: 81: Train Loss: 0.21717010668732903\n",
            "time: 40.38438963890076 memory_used: 4919865344 gpu_memory_used: 62334464\n",
            "\n",
            "\n",
            "epoc: 82: Train Loss: 0.21632772386074067\n",
            "time: 40.32317137718201 memory_used: 4919414784 gpu_memory_used: 63851520\n",
            "\n",
            "\n",
            "epoc: 83: Train Loss: 0.21608500182628632\n",
            "time: 40.52723002433777 memory_used: 4919885824 gpu_memory_used: 60103168\n",
            "\n",
            "\n",
            "epoc: 84: Train Loss: 0.21540029915896328\n",
            "time: 40.75822687149048 memory_used: 4919996416 gpu_memory_used: 62352384\n",
            "\n",
            "\n",
            "epoc: 85: Train Loss: 0.21502656868912956\n",
            "time: 40.68332386016846 memory_used: 4919955456 gpu_memory_used: 61602304\n",
            "\n",
            "\n",
            "epoc: 86: Train Loss: 0.21431333937428215\n",
            "time: 40.46490120887756 memory_used: 4920127488 gpu_memory_used: 65850880\n",
            "\n",
            "\n",
            "epoc: 87: Train Loss: 0.21402224397117442\n",
            "time: 40.798511028289795 memory_used: 4921536512 gpu_memory_used: 63601664\n",
            "\n",
            "\n",
            "epoc: 88: Train Loss: 0.2135545165701346\n",
            "time: 40.584208250045776 memory_used: 4921053184 gpu_memory_used: 63851520\n",
            "\n",
            "\n",
            "epoc: 89: Train Loss: 0.21290039731697602\n",
            "time: 40.724239349365234 memory_used: 4918464512 gpu_memory_used: 63851520\n",
            "\n",
            "\n",
            "epoc: 90: Train Loss: 0.21222125684673135\n",
            "time: 40.809080839157104 memory_used: 4919914496 gpu_memory_used: 62352384\n",
            "\n",
            "\n",
            "epoc: 91: Train Loss: 0.21179562969641252\n",
            "time: 40.916200399398804 memory_used: 4919369728 gpu_memory_used: 62852096\n",
            "\n",
            "\n",
            "epoc: 92: Train Loss: 0.21127723157405853\n",
            "time: 40.920435190200806 memory_used: 4918824960 gpu_memory_used: 60353024\n",
            "\n",
            "\n",
            "epoc: 93: Train Loss: 0.21068721074949612\n",
            "time: 40.89043951034546 memory_used: 4917854208 gpu_memory_used: 59103232\n",
            "\n",
            "\n",
            "epoc: 94: Train Loss: 0.21022205515341325\n",
            "time: 41.02122449874878 memory_used: 4918611968 gpu_memory_used: 62352384\n",
            "\n",
            "\n",
            "epoc: 95: Train Loss: 0.2098138839006424\n",
            "time: 41.17965483665466 memory_used: 4919623680 gpu_memory_used: 62352384\n",
            "\n",
            "\n",
            "epoc: 96: Train Loss: 0.20921641141176223\n",
            "time: 40.97071647644043 memory_used: 4918878208 gpu_memory_used: 60103168\n",
            "\n",
            "\n",
            "epoc: 97: Train Loss: 0.20943454707210715\n",
            "time: 40.863889932632446 memory_used: 4919885824 gpu_memory_used: 59103232\n",
            "\n",
            "\n",
            "epoc: 98: Train Loss: 0.20824965103106066\n",
            "time: 41.07327651977539 memory_used: 4919058432 gpu_memory_used: 61602304\n",
            "\n",
            "\n",
            "epoc: 99: Train Loss: 0.20777809850194237\n",
            "time: 40.73312067985535 memory_used: 4920987648 gpu_memory_used: 62102016\n",
            "\n",
            "\n",
            "svmem(total=54762401792, available=50419388416, percent=7.9, used=4920135680, free=44584878080, active=3962560512, inactive=5605318656, buffers=158846976, cached=5098541056, shared=17502208, slab=284286976)\n"
          ]
        }
      ]
    },
    {
      "cell_type": "markdown",
      "source": [
        "## Model Evaluation"
      ],
      "metadata": {
        "id": "9Y7iNxjCcgOk"
      }
    },
    {
      "cell_type": "markdown",
      "source": [
        "Since this is multi-class classication problem we use micro and macro averaring strategy for evaluation performance. We use the `scikit-learn ` utility to compute these metrics.\n",
        "\n",
        "We set the prediction threshold (i.e. value above we mark a disease as present) as 0.2 as per the recommendation in the paper."
      ],
      "metadata": {
        "id": "bwQuUVHcZfvQ"
      }
    },
    {
      "cell_type": "code",
      "source": [
        "! ls \"{PROJECT_PATH}/models/\""
      ],
      "metadata": {
        "colab": {
          "base_uri": "https://localhost:8080/"
        },
        "id": "g4_QFP1PDisf",
        "outputId": "b4ab21c0-5edb-41fc-8829-e6ddde14423e"
      },
      "execution_count": null,
      "outputs": [
        {
          "output_type": "stream",
          "name": "stdout",
          "text": [
            "doc2vec.model\t\t\tmain-model-27-04-2022-19-11-16\n",
            "doc2vec.model.syn1neg.npy\ttf-idf-27-04-2022-16-29-54\n",
            "doc2vec.model.wv.vectors.npy\tword2vec-27-04-2022-17-47-59\n",
            "main-model-27-04-2022-15-40-59\tword2vec.model\n"
          ]
        }
      ]
    },
    {
      "cell_type": "code",
      "source": [
        "main_model = DiseasePredictionModel(weight=0.2)\n",
        "# load the model we saved during training step.\n",
        "main_model.load_state_dict(torch.load(f\"{PROJECT_PATH}/models/main-model-27-04-2022-19-11-16\"))\n",
        "if torch.cuda.is_available():\n",
        "  main_model.cuda()    \n",
        "  evaluate_model(main_model, test_loader, 0.35)"
      ],
      "metadata": {
        "colab": {
          "base_uri": "https://localhost:8080/",
          "height": 548
        },
        "id": "SuYDS46qcfbH",
        "outputId": "4981be70-b68d-432a-ac76-4e54fb125b40"
      },
      "execution_count": null,
      "outputs": [
        {
          "output_type": "stream",
          "name": "stdout",
          "text": [
            "Micro Averaging. Precision: 0.453, Recall: 0.547,           F1 Score: 0.496,           AUC: 0.883\n",
            "Macro Averaging. Precision: 0.410, Recall: 0.475,           F1 Score: 0.422,           AUC: 0.848\n"
          ]
        },
        {
          "output_type": "display_data",
          "data": {
            "text/plain": [
              "<Figure size 576x576 with 1 Axes>"
            ],
            "image/png": "[encoded data removed]"
          },
          "metadata": {
            "needs_background": "light"
          }
        }
      ]
    },
    {
      "cell_type": "markdown",
      "source": [
        "# Summarize Resource Utilization"
      ],
      "metadata": {
        "id": "CtexOT1xjaIJ"
      }
    },
    {
      "cell_type": "code",
      "source": [
        "import pickle\n",
        "def get_object(path):\n",
        "  obj = None\n",
        "  with open(path, \"rb\") as p:\n",
        "    obj = pickle.load(p)\n",
        "\n",
        "  return obj\n",
        "\n",
        "def to_gb(b):\n",
        "  return round(b/(1024*1024*1024), 2)\n",
        "\n",
        "def to_mb(b):\n",
        "  return round(b/(1024*1024), 2)"
      ],
      "metadata": {
        "id": "YAwHYm87kDV-"
      },
      "execution_count": null,
      "outputs": []
    },
    {
      "cell_type": "code",
      "source": [
        "! ls -l \"{PROJECT_PATH}/stats\""
      ],
      "metadata": {
        "id": "T6UnzuuhlavP"
      },
      "execution_count": null,
      "outputs": []
    },
    {
      "cell_type": "code",
      "source": [
        "# system configuration\n",
        "import psutil\n",
        "\n",
        "print(f\"Total GPU Memory: {to_gb(torch.cuda.get_device_properties(0).total_memory)} GB\")\n",
        "print(f\"Total CPU Memory: {to_gb(psutil.virtual_memory().total)} GB\")"
      ],
      "metadata": {
        "id": "Ywq47aa7qcby",
        "outputId": "5e5b8910-4950-4b44-8815-68a6f0ffde1f",
        "colab": {
          "base_uri": "https://localhost:8080/"
        }
      },
      "execution_count": null,
      "outputs": [
        {
          "output_type": "stream",
          "name": "stdout",
          "text": [
            "Total GPU Memory: 15.9 GB\n",
            "Total CPU Memory: 51.01 GB\n"
          ]
        }
      ]
    },
    {
      "cell_type": "code",
      "source": [
        "import numpy as np\n",
        "stats = get_object(f\"{PROJECT_PATH}/stats/stats-17-04-2022-02-35-12\")\n",
        "print(f\"Average GPU Memory Used: {to_mb(np.mean(stats['gpu_mem']))} MB\")\n",
        "print(f\"Average Main Memory Used: {to_gb(np.mean(stats['main_mem']))} GB\")\n",
        "print(f\"Average GPU Time (per epoc): {np.mean(stats['gpu_time']):.2f} sec\")\n",
        "print(f\"Total GPU Time: {np.sum(stats['gpu_time']):.2f} sec\")"
      ],
      "metadata": {
        "id": "qXQfSeCQjZN-",
        "outputId": "4e5bba6a-c315-4269-b9a9-f80f80295f12",
        "colab": {
          "base_uri": "https://localhost:8080/"
        }
      },
      "execution_count": null,
      "outputs": [
        {
          "output_type": "stream",
          "name": "stdout",
          "text": [
            "Average GPU Memory Used: 39.68 MB\n",
            "Average Main Memory Used: 10.39 GB\n",
            "Average GPU Time (per epoc): 35.34 sec\n",
            "Total GPU Time: 3533.87 sec\n"
          ]
        }
      ]
    },
    {
      "cell_type": "markdown",
      "source": [
        "# Evaluation of Baseline Models\n",
        "In this section we train 2 baseline models and evaluate them on the test dataset to make performance comparison with our main model."
      ],
      "metadata": {
        "id": "ZHjgpomeNFvO"
      }
    },
    {
      "cell_type": "markdown",
      "source": [
        "## BiLSTM + TF-IDF Model\n",
        "In the first baseline model we use a similar architecture to our main model but we train the model using only the TF-IDF representation of the symptoms and evaluate the perdiction performance."
      ],
      "metadata": {
        "id": "fzNWTLQnNgrU"
      }
    },
    {
      "cell_type": "markdown",
      "source": [
        "### Datasets and Dataloaders\n",
        "\n",
        "Define the dataset and dataloaders with only the TF-IDF representation."
      ],
      "metadata": {
        "id": "_jdXZog5PR-k"
      }
    },
    {
      "cell_type": "code",
      "source": [
        "def collate_fn_tf_idf(data):\n",
        "  x_tidf, y_batch = zip(*data)\n",
        "  x_tidf = pad_dataset(x_tidf, 50) # TODO remove hardcodig.\n",
        "  y_batch = torch.FloatTensor(y_batch)\n",
        "  x_tidf = x_tidf.cuda() if torch.cuda.is_available() else x_tidf\n",
        "  y_batch = y_batch.cuda() if torch.cuda.is_available() else y_batch\n",
        "  return x_tidf, y_batch\n",
        "\n",
        "\n",
        "class CustomDatasetTFIDF(Dataset):\n",
        "  def __init__(self, X_tfidf, y):\n",
        "    self.X_tfidf = X_tfidf\n",
        "    self.y = y\n",
        "    \n",
        "  def __len__(self):                \n",
        "    return len(self.y)\n",
        "    \n",
        "  def __getitem__(self, index):          \n",
        "    # your code here\n",
        "    return self.X_tfidf[index], self.y[index]\n",
        "\n",
        "\n",
        "dataset_tf_idf = CustomDatasetTFIDF(X_tf_idf, y)\n",
        "\n",
        "split = int(len(dataset_tf_idf)*0.8)\n",
        "lengths = [split, len(dataset_tf_idf) - split]\n",
        "train_dataset_tf_idf, test_dataset_tf_idf = random_split(dataset_tf_idf, \n",
        "                                                         lengths)\n",
        "\n",
        "train_loader_tf_idf = DataLoader(train_dataset_tf_idf, shuffle=True, \n",
        "                                 batch_size=TRAINING_BATCH_SIZE, \n",
        "                                 collate_fn=collate_fn_tf_idf)\n",
        "\n",
        "test_loader_tf_idf = DataLoader(test_dataset_tf_idf, shuffle=True, \n",
        "                                batch_size=TRAINING_BATCH_SIZE, \n",
        "                                collate_fn=collate_fn_tf_idf)"
      ],
      "metadata": {
        "id": "fjyauO4bPOEw"
      },
      "execution_count": null,
      "outputs": []
    },
    {
      "cell_type": "markdown",
      "source": [
        "### Model Definition\n",
        "We only one BiLSTM layer instead two we in the main model."
      ],
      "metadata": {
        "id": "aCk93NC7N6wF"
      }
    },
    {
      "cell_type": "code",
      "source": [
        "model = BiLSTM(input_dim=50, embedding_dim=LSTM_HIDDEN_VEC_SIZE, output_dim=50, \n",
        "                      model_name=\"tf-idf\")"
      ],
      "metadata": {
        "id": "LzSbzz5OHvAv"
      },
      "execution_count": null,
      "outputs": []
    },
    {
      "cell_type": "markdown",
      "source": [
        "### Model Training"
      ],
      "metadata": {
        "id": "CrHTWel_Rf3A"
      }
    },
    {
      "cell_type": "code",
      "source": [
        "if torch.cuda.is_available():\n",
        "  model.cuda()\n",
        "\n",
        "loss_fn = nn.BCELoss()\n",
        "optim = torch.optim.Adam(model.parameters(), lr=0.001)\n",
        "print(f\"No of parameters to train: \\\n",
        "        {sum(p.numel() for p in model.parameters() if p.requires_grad)}\")\n",
        "\n",
        "train_model(model, loss_fn, optim, train_loader_tf_idf)"
      ],
      "metadata": {
        "colab": {
          "base_uri": "https://localhost:8080/"
        },
        "id": "Zgz1ExAYRfTA",
        "outputId": "6fd25084-ebcf-4d0f-d55e-6ea11c6ef1b4"
      },
      "execution_count": null,
      "outputs": [
        {
          "output_type": "stream",
          "name": "stdout",
          "text": [
            "No of parameters to train:         131650\n",
            "epoc: 0: Train Loss: 0.34089002527973866\n",
            "time: 21.914840936660767 memory_used: 19882385408 gpu_memory_used: 82505728\n",
            "\n",
            "\n",
            "epoc: 1: Train Loss: 0.2805670283057473\n",
            "time: 21.835167169570923 memory_used: 19882680320 gpu_memory_used: 82757120\n",
            "\n",
            "\n",
            "epoc: 2: Train Loss: 0.2806082909757441\n",
            "time: 21.855493783950806 memory_used: 19881213952 gpu_memory_used: 82506240\n",
            "\n",
            "\n",
            "epoc: 3: Train Loss: 0.2805994524197145\n",
            "time: 21.830458402633667 memory_used: 19882262528 gpu_memory_used: 82506240\n",
            "\n",
            "\n",
            "epoc: 4: Train Loss: 0.2806398811665448\n",
            "time: 21.71553921699524 memory_used: 19882627072 gpu_memory_used: 82155008\n",
            "\n",
            "\n",
            "epoc: 5: Train Loss: 0.2806455067612908\n",
            "time: 21.601057291030884 memory_used: 19880964096 gpu_memory_used: 82746368\n",
            "\n",
            "\n",
            "epoc: 6: Train Loss: 0.28066340332681483\n",
            "time: 21.761104583740234 memory_used: 19880419328 gpu_memory_used: 81873920\n",
            "\n",
            "\n",
            "epoc: 7: Train Loss: 0.28066474903713573\n",
            "time: 21.650328397750854 memory_used: 19881381888 gpu_memory_used: 83945984\n",
            "\n",
            "\n",
            "epoc: 8: Train Loss: 0.2806794624436985\n",
            "time: 21.666779279708862 memory_used: 19881697280 gpu_memory_used: 81593344\n",
            "\n",
            "\n",
            "epoc: 9: Train Loss: 0.2806608097119765\n",
            "time: 21.56662344932556 memory_used: 19880091648 gpu_memory_used: 81523200\n",
            "\n",
            "\n",
            "epoc: 10: Train Loss: 0.2806706913492896\n",
            "time: 21.672319650650024 memory_used: 19878567936 gpu_memory_used: 81593344\n",
            "\n",
            "\n",
            "epoc: 11: Train Loss: 0.2806518692861904\n",
            "time: 21.721024990081787 memory_used: 19880849408 gpu_memory_used: 82716672\n",
            "\n",
            "\n",
            "epoc: 12: Train Loss: 0.2806356584483927\n",
            "time: 21.562750339508057 memory_used: 19880792064 gpu_memory_used: 82357248\n",
            "\n",
            "\n",
            "epoc: 13: Train Loss: 0.2806668078357523\n",
            "time: 21.642345190048218 memory_used: 19882033152 gpu_memory_used: 81873920\n",
            "\n",
            "\n",
            "epoc: 14: Train Loss: 0.280631761117415\n",
            "time: 21.53531837463379 memory_used: 19880042496 gpu_memory_used: 82084864\n",
            "\n",
            "\n",
            "epoc: 15: Train Loss: 0.2806291536851363\n",
            "time: 21.386412382125854 memory_used: 19879911424 gpu_memory_used: 81873920\n",
            "\n",
            "\n",
            "epoc: 16: Train Loss: 0.2806337773799896\n",
            "time: 21.53914976119995 memory_used: 19880620032 gpu_memory_used: 82746368\n",
            "\n",
            "\n",
            "epoc: 17: Train Loss: 0.28060205389152876\n",
            "time: 21.620185613632202 memory_used: 19880456192 gpu_memory_used: 81663488\n",
            "\n",
            "\n",
            "epoc: 18: Train Loss: 0.28062813742594284\n",
            "time: 21.531044960021973 memory_used: 19880398848 gpu_memory_used: 82505728\n",
            "\n",
            "\n",
            "epoc: 19: Train Loss: 0.2806398261677135\n",
            "time: 21.412517786026 memory_used: 19880349696 gpu_memory_used: 82597376\n",
            "\n",
            "\n",
            "epoc: 20: Train Loss: 0.28061765838753094\n",
            "time: 21.556747674942017 memory_used: 19881914368 gpu_memory_used: 81312256\n",
            "\n",
            "\n",
            "epoc: 21: Train Loss: 0.28065847239711067\n",
            "time: 21.40390133857727 memory_used: 19882754048 gpu_memory_used: 81733632\n",
            "\n",
            "\n",
            "epoc: 22: Train Loss: 0.28060055429285224\n",
            "time: 21.582792282104492 memory_used: 19880992768 gpu_memory_used: 82365440\n",
            "\n",
            "\n",
            "epoc: 23: Train Loss: 0.2806218851696361\n",
            "time: 21.48067283630371 memory_used: 19880337408 gpu_memory_used: 82437120\n",
            "\n",
            "\n",
            "epoc: 24: Train Loss: 0.2806199174035679\n",
            "time: 21.339423894882202 memory_used: 19881615360 gpu_memory_used: 81733632\n",
            "\n",
            "\n",
            "epoc: 25: Train Loss: 0.28059824894775043\n",
            "time: 21.245080709457397 memory_used: 19881390080 gpu_memory_used: 82516992\n",
            "\n",
            "\n",
            "epoc: 26: Train Loss: 0.28063846013762733\n",
            "time: 21.21055507659912 memory_used: 19881918464 gpu_memory_used: 82357248\n",
            "\n",
            "\n",
            "epoc: 27: Train Loss: 0.280613281510093\n",
            "time: 21.160941123962402 memory_used: 19881672704 gpu_memory_used: 82155008\n",
            "\n",
            "\n",
            "epoc: 28: Train Loss: 0.2805743157863617\n",
            "time: 21.36662745475769 memory_used: 19882377216 gpu_memory_used: 81866240\n",
            "\n",
            "\n",
            "epoc: 29: Train Loss: 0.280567127737132\n",
            "time: 21.141884326934814 memory_used: 19881541632 gpu_memory_used: 82277376\n",
            "\n",
            "\n",
            "epoc: 30: Train Loss: 0.28061755218289114\n",
            "time: 21.3331778049469 memory_used: 19881680896 gpu_memory_used: 81876992\n",
            "\n",
            "\n",
            "epoc: 31: Train Loss: 0.28062091225927527\n",
            "time: 21.050235748291016 memory_used: 19881172992 gpu_memory_used: 82155008\n",
            "\n",
            "\n",
            "epoc: 32: Train Loss: 0.2805940115993673\n",
            "time: 21.07462739944458 memory_used: 19881852928 gpu_memory_used: 82365440\n",
            "\n",
            "\n",
            "epoc: 33: Train Loss: 0.2805993993173946\n",
            "time: 21.04531240463257 memory_used: 19881926656 gpu_memory_used: 82435584\n",
            "\n",
            "\n",
            "epoc: 34: Train Loss: 0.2805629838596691\n",
            "time: 21.125386714935303 memory_used: 19880898560 gpu_memory_used: 81523200\n",
            "\n",
            "\n",
            "epoc: 35: Train Loss: 0.2805835561318831\n",
            "time: 21.17066192626953 memory_used: 19882283008 gpu_memory_used: 82345984\n",
            "\n",
            "\n",
            "epoc: 36: Train Loss: 0.28057613399895753\n",
            "time: 21.18181324005127 memory_used: 19880357888 gpu_memory_used: 81876992\n",
            "\n",
            "\n",
            "epoc: 37: Train Loss: 0.2805649754675952\n",
            "time: 21.144628763198853 memory_used: 19881803776 gpu_memory_used: 81803776\n",
            "\n",
            "\n",
            "epoc: 38: Train Loss: 0.28057235967029226\n",
            "time: 20.968872547149658 memory_used: 19881275392 gpu_memory_used: 81944064\n",
            "\n",
            "\n",
            "epoc: 39: Train Loss: 0.2805567551742901\n",
            "time: 21.02995228767395 memory_used: 19881877504 gpu_memory_used: 81382400\n",
            "\n",
            "\n",
            "epoc: 40: Train Loss: 0.27598173916339874\n",
            "time: 21.03220510482788 memory_used: 19880382464 gpu_memory_used: 81803776\n",
            "\n",
            "\n",
            "epoc: 41: Train Loss: 0.26242943636395716\n",
            "time: 21.08662748336792 memory_used: 19881041920 gpu_memory_used: 82757120\n",
            "\n",
            "\n",
            "epoc: 42: Train Loss: 0.25730170864950525\n",
            "time: 21.016626358032227 memory_used: 19880542208 gpu_memory_used: 82716672\n",
            "\n",
            "\n",
            "epoc: 43: Train Loss: 0.25286085280505094\n",
            "time: 21.057445526123047 memory_used: 19881218048 gpu_memory_used: 82746368\n",
            "\n",
            "\n",
            "epoc: 44: Train Loss: 0.24964648309079082\n",
            "time: 21.160776376724243 memory_used: 19882172416 gpu_memory_used: 81101824\n",
            "\n",
            "\n",
            "epoc: 45: Train Loss: 0.24729830609126524\n",
            "time: 21.09975004196167 memory_used: 19882319872 gpu_memory_used: 81523200\n",
            "\n",
            "\n",
            "epoc: 46: Train Loss: 0.2452091790058396\n",
            "time: 21.068619966506958 memory_used: 19881467904 gpu_memory_used: 82084864\n",
            "\n",
            "\n",
            "epoc: 47: Train Loss: 0.24404748393730682\n",
            "time: 20.979509115219116 memory_used: 19881787392 gpu_memory_used: 82084864\n",
            "\n",
            "\n",
            "epoc: 48: Train Loss: 0.24294848902658983\n",
            "time: 21.196338653564453 memory_used: 19881877504 gpu_memory_used: 82155008\n",
            "\n",
            "\n",
            "epoc: 49: Train Loss: 0.24151926988905126\n",
            "time: 21.05278491973877 memory_used: 18908614656 gpu_memory_used: 82084864\n",
            "\n",
            "\n",
            "epoc: 50: Train Loss: 0.24018530588258397\n",
            "time: 20.912437677383423 memory_used: 18907774976 gpu_memory_used: 82014208\n",
            "\n",
            "\n",
            "epoc: 51: Train Loss: 0.2386642027984966\n",
            "time: 20.98182511329651 memory_used: 18907807744 gpu_memory_used: 82084864\n",
            "\n",
            "\n",
            "epoc: 52: Train Loss: 0.23748985556038943\n",
            "time: 20.992421865463257 memory_used: 18908266496 gpu_memory_used: 81382400\n",
            "\n",
            "\n",
            "epoc: 53: Train Loss: 0.2355666995048523\n",
            "time: 20.801798820495605 memory_used: 18908418048 gpu_memory_used: 81453056\n",
            "\n",
            "\n",
            "epoc: 54: Train Loss: 0.2340484632687135\n",
            "time: 21.05029058456421 memory_used: 18908192768 gpu_memory_used: 81453056\n",
            "\n",
            "\n",
            "epoc: 55: Train Loss: 0.23285875469446182\n",
            "time: 20.891424894332886 memory_used: 18907176960 gpu_memory_used: 81312256\n",
            "\n",
            "\n",
            "epoc: 56: Train Loss: 0.23221040855754504\n",
            "time: 20.843531370162964 memory_used: 18906087424 gpu_memory_used: 81453056\n",
            "\n",
            "\n",
            "epoc: 57: Train Loss: 0.23064816241914576\n",
            "time: 21.172062158584595 memory_used: 18906284032 gpu_memory_used: 83945984\n",
            "\n",
            "\n",
            "epoc: 58: Train Loss: 0.2295061714269898\n",
            "time: 21.10708785057068 memory_used: 18905915392 gpu_memory_used: 82836992\n",
            "\n",
            "\n",
            "epoc: 59: Train Loss: 0.2287225903435187\n",
            "time: 21.198487758636475 memory_used: 18906689536 gpu_memory_used: 82516992\n",
            "\n",
            "\n",
            "epoc: 60: Train Loss: 0.22758911224928768\n",
            "time: 21.185776233673096 memory_used: 18903085056 gpu_memory_used: 81382400\n",
            "\n",
            "\n",
            "epoc: 61: Train Loss: 0.22681994099508632\n",
            "time: 21.110377550125122 memory_used: 18903511040 gpu_memory_used: 82836992\n",
            "\n",
            "\n",
            "epoc: 62: Train Loss: 0.22612916271794925\n",
            "time: 21.095973253250122 memory_used: 18905694208 gpu_memory_used: 82516992\n",
            "\n",
            "\n",
            "epoc: 63: Train Loss: 0.2249981861222874\n",
            "time: 21.08970332145691 memory_used: 18905067520 gpu_memory_used: 81593344\n",
            "\n",
            "\n",
            "epoc: 64: Train Loss: 0.2242033596743237\n",
            "time: 20.985085248947144 memory_used: 18906320896 gpu_memory_used: 82345984\n",
            "\n",
            "\n",
            "epoc: 65: Train Loss: 0.22353120243007488\n",
            "time: 21.13017702102661 memory_used: 18905604096 gpu_memory_used: 82426368\n",
            "\n",
            "\n",
            "epoc: 66: Train Loss: 0.22292067544026808\n",
            "time: 21.0008544921875 memory_used: 18905350144 gpu_memory_used: 81873920\n",
            "\n",
            "\n",
            "epoc: 67: Train Loss: 0.22207940315658395\n",
            "time: 21.09470224380493 memory_used: 18905616384 gpu_memory_used: 82014208\n",
            "\n",
            "\n",
            "epoc: 68: Train Loss: 0.22153649953278629\n",
            "time: 20.936206102371216 memory_used: 18906243072 gpu_memory_used: 82505728\n",
            "\n",
            "\n",
            "epoc: 69: Train Loss: 0.22089074701070785\n",
            "time: 20.896855115890503 memory_used: 18904965120 gpu_memory_used: 81382400\n",
            "\n",
            "\n",
            "epoc: 70: Train Loss: 0.22050315683538263\n",
            "time: 20.786978483200073 memory_used: 18905612288 gpu_memory_used: 82575872\n",
            "\n",
            "\n",
            "epoc: 71: Train Loss: 0.22000083963979375\n",
            "time: 20.92950749397278 memory_used: 18906488832 gpu_memory_used: 83909632\n",
            "\n",
            "\n",
            "epoc: 72: Train Loss: 0.21929935934868725\n",
            "time: 21.012712717056274 memory_used: 18905542656 gpu_memory_used: 81663488\n",
            "\n",
            "\n",
            "epoc: 73: Train Loss: 0.21866281127387827\n",
            "time: 21.04163670539856 memory_used: 18906636288 gpu_memory_used: 83945984\n",
            "\n",
            "\n",
            "epoc: 74: Train Loss: 0.21840377124873075\n",
            "time: 20.914581775665283 memory_used: 18907279360 gpu_memory_used: 81663488\n",
            "\n",
            "\n",
            "epoc: 75: Train Loss: 0.2187047236345031\n",
            "time: 21.03939962387085 memory_used: 18906259456 gpu_memory_used: 82516992\n",
            "\n",
            "\n",
            "epoc: 76: Train Loss: 0.21766680763526397\n",
            "time: 20.880715370178223 memory_used: 18906734592 gpu_memory_used: 82155008\n",
            "\n",
            "\n",
            "epoc: 77: Train Loss: 0.21710822257128629\n",
            "time: 20.7951922416687 memory_used: 18905522176 gpu_memory_used: 82225152\n",
            "\n",
            "\n",
            "epoc: 78: Train Loss: 0.21678740680217742\n",
            "time: 21.036264896392822 memory_used: 18905849856 gpu_memory_used: 81944064\n",
            "\n",
            "\n",
            "epoc: 79: Train Loss: 0.21625159775668926\n",
            "time: 20.769810676574707 memory_used: 18905829376 gpu_memory_used: 82014208\n",
            "\n",
            "\n",
            "epoc: 80: Train Loss: 0.21599261516874488\n",
            "time: 20.95164394378662 memory_used: 18904453120 gpu_memory_used: 81803776\n",
            "\n",
            "\n",
            "epoc: 81: Train Loss: 0.21555604216727345\n",
            "time: 20.905554056167603 memory_used: 18905489408 gpu_memory_used: 81593344\n",
            "\n",
            "\n",
            "epoc: 82: Train Loss: 0.21535020700909874\n",
            "time: 20.942659378051758 memory_used: 18905915392 gpu_memory_used: 82836992\n",
            "\n",
            "\n",
            "epoc: 83: Train Loss: 0.21500014852393756\n",
            "time: 20.885151863098145 memory_used: 18905145344 gpu_memory_used: 82586112\n",
            "\n",
            "\n",
            "epoc: 84: Train Loss: 0.2144058193672787\n",
            "time: 21.077573776245117 memory_used: 18906144768 gpu_memory_used: 82117120\n",
            "\n",
            "\n",
            "epoc: 85: Train Loss: 0.21402902332219212\n",
            "time: 21.11668062210083 memory_used: 18906382336 gpu_memory_used: 82295296\n",
            "\n",
            "\n",
            "epoc: 86: Train Loss: 0.21349718787453392\n",
            "time: 21.002800703048706 memory_used: 18905767936 gpu_memory_used: 82856960\n",
            "\n",
            "\n",
            "epoc: 87: Train Loss: 0.21305483105507764\n",
            "time: 21.145253658294678 memory_used: 18905141248 gpu_memory_used: 82437120\n",
            "\n",
            "\n",
            "epoc: 88: Train Loss: 0.21287403485991738\n",
            "time: 21.008857488632202 memory_used: 18903998464 gpu_memory_used: 82597376\n",
            "\n",
            "\n"
          ]
        }
      ]
    },
    {
      "cell_type": "markdown",
      "source": [
        "### Evaluate TF-IDF Model"
      ],
      "metadata": {
        "id": "aWg3MMMzUYwS"
      }
    },
    {
      "cell_type": "code",
      "source": [
        "! ls \"{PROJECT_PATH}/models/\""
      ],
      "metadata": {
        "colab": {
          "base_uri": "https://localhost:8080/"
        },
        "id": "eIbUD9OwzWqI",
        "outputId": "26664093-f162-4554-c812-62d1f9f50e52"
      },
      "execution_count": null,
      "outputs": [
        {
          "output_type": "stream",
          "name": "stdout",
          "text": [
            "doc2vec.model\t\t\tmain-model-27-04-2022-19-11-16\n",
            "doc2vec.model.syn1neg.npy\ttf-idf-27-04-2022-16-29-54\n",
            "doc2vec.model.wv.vectors.npy\tword2vec-27-04-2022-17-47-59\n",
            "main-model-27-04-2022-15-40-59\tword2vec.model\n"
          ]
        }
      ]
    },
    {
      "cell_type": "code",
      "source": [
        "model = BiLSTM(input_dim=50, embedding_dim=LSTM_HIDDEN_VEC_SIZE, \n",
        "               output_dim=50, \n",
        "               model_name=\"tf-idf\")\n",
        "# load the previously saved model from training step.\n",
        "model.load_state_dict(torch.load(f\"{PROJECT_PATH}/models/tf-idf-27-04-2022-16-29-54\"))\n",
        "if torch.cuda.is_available():\n",
        "  model.cuda()\n",
        "evaluate_model(model, test_loader_tf_idf, 0.20)"
      ],
      "metadata": {
        "colab": {
          "base_uri": "https://localhost:8080/",
          "height": 548
        },
        "id": "1X3WBMEqUW4B",
        "outputId": "2eddc502-b319-43a9-e5aa-8721bc11e98a"
      },
      "execution_count": null,
      "outputs": [
        {
          "output_type": "stream",
          "name": "stdout",
          "text": [
            "Micro Averaging. Precision: 0.419, Recall: 0.561,           F1 Score: 0.480,           AUC: 0.874\n",
            "Macro Averaging. Precision: 0.390, Recall: 0.466,           F1 Score: 0.397,           AUC: 0.835\n"
          ]
        },
        {
          "output_type": "display_data",
          "data": {
            "text/plain": [
              "<Figure size 576x576 with 1 Axes>"
            ],
            "image/png": "[encoded data removed]"
          },
          "metadata": {
            "needs_background": "light"
          }
        }
      ]
    },
    {
      "cell_type": "markdown",
      "source": [
        "## BiLSTM + Word2Vec Model\n",
        "Now we perform the same experiment as above, but this time using only the Word2Vec representation to train the model and evaluate prediction performance."
      ],
      "metadata": {
        "id": "4XYsQBi1EiIE"
      }
    },
    {
      "cell_type": "markdown",
      "source": [
        "### Datasets and Dataloaders"
      ],
      "metadata": {
        "id": "TypizThhIN5_"
      }
    },
    {
      "cell_type": "code",
      "source": [
        "def collate_fn_word2vec(data):\n",
        "  X_w2vec, y_batch = zip(*data)\n",
        "  X_w2vec = pad_dataset(X_w2vec, W2V_EMB_SIZE)\n",
        "  y_batch = torch.FloatTensor(y_batch)\n",
        "  X_w2vec = X_w2vec.cuda() if torch.cuda.is_available() else X_w2vec\n",
        "  y_batch = y_batch.cuda() if torch.cuda.is_available() else y_batch\n",
        "  return X_w2vec, y_batch\n",
        "\n",
        "\n",
        "class CustomDatasetWord2Vec(Dataset):\n",
        "  def __init__(self, X_w2vec, y):\n",
        "    self.X_w2vec = X_w2vec\n",
        "    self.y = y\n",
        "    \n",
        "  def __len__(self):                \n",
        "    return len(self.y)\n",
        "    \n",
        "  def __getitem__(self, index):          \n",
        "    # your code here\n",
        "    return self.X_w2vec[index], self.y[index]\n",
        "\n",
        "\n",
        "dataset_w2vec = CustomDatasetWord2Vec(X_word2vec, y)\n",
        "\n",
        "split = int(len(dataset_w2vec)*0.8)\n",
        "lengths = [split, len(dataset_w2vec) - split]\n",
        "train_dataset_w2vec, test_dataset_w2vec = random_split(dataset_w2vec, \n",
        "                                                       lengths)\n",
        "\n",
        "train_loader_w2vec = DataLoader(train_dataset_w2vec, shuffle=True, \n",
        "                                 batch_size=400, \n",
        "                                 collate_fn=collate_fn_word2vec)\n",
        "\n",
        "test_loader_w2vec = DataLoader(train_dataset_w2vec, shuffle=True, \n",
        "                                batch_size=400, \n",
        "                                collate_fn=collate_fn_word2vec)"
      ],
      "metadata": {
        "id": "PbM3Cn6-IX-N"
      },
      "execution_count": null,
      "outputs": []
    },
    {
      "cell_type": "markdown",
      "source": [
        "### Model Definition"
      ],
      "metadata": {
        "id": "l13djdMnEuIx"
      }
    },
    {
      "cell_type": "code",
      "source": [
        "model = BiLSTM(input_dim=W2V_EMB_SIZE, embedding_dim=LSTM_HIDDEN_VEC_SIZE, \n",
        "               output_dim=50, \n",
        "               model_name=\"word2vec\")"
      ],
      "metadata": {
        "id": "uVokcHYHE0-i"
      },
      "execution_count": null,
      "outputs": []
    },
    {
      "cell_type": "markdown",
      "source": [
        "### Model Training"
      ],
      "metadata": {
        "id": "gkAmO5LpIIcJ"
      }
    },
    {
      "cell_type": "code",
      "source": [
        "if torch.cuda.is_available():\n",
        "  model.cuda()\n",
        "\n",
        "loss_fn = nn.BCELoss()\n",
        "optim = torch.optim.Adam(model.parameters(), lr=0.001)\n",
        "print(f\"No of parameters to train: \\\n",
        "        {sum(p.numel() for p in model.parameters() if p.requires_grad)}\")\n",
        "\n",
        "train_model(model, loss_fn, optim, train_loader_w2vec)"
      ],
      "metadata": {
        "colab": {
          "base_uri": "https://localhost:8080/"
        },
        "id": "mtyQiRhvIHNX",
        "outputId": "526d0d27-faae-47e8-8f02-53fdac9bc34d"
      },
      "execution_count": null,
      "outputs": [
        {
          "output_type": "stream",
          "name": "stdout",
          "text": [
            "No of parameters to train:         194050\n",
            "epoc: 0: Train Loss: 0.3416818331588398\n",
            "time: 17.357677936553955 memory_used: 19858268160 gpu_memory_used: 122903040\n",
            "\n",
            "\n",
            "epoc: 1: Train Loss: 0.2804930158636787\n",
            "time: 17.15282130241394 memory_used: 19857928192 gpu_memory_used: 126497280\n",
            "\n",
            "\n",
            "epoc: 2: Train Loss: 0.28049913942813876\n",
            "time: 17.52151346206665 memory_used: 19899396096 gpu_memory_used: 123082752\n",
            "\n",
            "\n",
            "epoc: 3: Train Loss: 0.28050080591982063\n",
            "time: 17.181158781051636 memory_used: 19898716160 gpu_memory_used: 123442176\n",
            "\n",
            "\n",
            "epoc: 4: Train Loss: 0.2805128040638837\n",
            "time: 17.194701194763184 memory_used: 19900104704 gpu_memory_used: 122903040\n",
            "\n",
            "\n",
            "epoc: 5: Train Loss: 0.28051156320355153\n",
            "time: 17.322375535964966 memory_used: 19823378432 gpu_memory_used: 125059584\n",
            "\n",
            "\n",
            "epoc: 6: Train Loss: 0.28051711104132915\n",
            "time: 17.1924250125885 memory_used: 19755220992 gpu_memory_used: 123082752\n",
            "\n",
            "\n",
            "epoc: 7: Train Loss: 0.28052126467227934\n",
            "time: 17.365533590316772 memory_used: 19753558016 gpu_memory_used: 124700160\n",
            "\n",
            "\n",
            "epoc: 8: Train Loss: 0.28050683520056985\n",
            "time: 17.064008235931396 memory_used: 19753693184 gpu_memory_used: 123262464\n",
            "\n",
            "\n",
            "epoc: 9: Train Loss: 0.2804976059631868\n",
            "time: 17.18147039413452 memory_used: 19752665088 gpu_memory_used: 123262464\n",
            "\n",
            "\n",
            "epoc: 10: Train Loss: 0.2804824254729531\n",
            "time: 17.24264621734619 memory_used: 19752108032 gpu_memory_used: 125059584\n",
            "\n",
            "\n",
            "epoc: 11: Train Loss: 0.2804802653464404\n",
            "time: 17.25478744506836 memory_used: 19751518208 gpu_memory_used: 125239296\n",
            "\n",
            "\n",
            "epoc: 12: Train Loss: 0.2804764736782421\n",
            "time: 17.29888105392456 memory_used: 19752095744 gpu_memory_used: 123801600\n",
            "\n",
            "\n",
            "epoc: 13: Train Loss: 0.28048713505268097\n",
            "time: 17.127426624298096 memory_used: 19754065920 gpu_memory_used: 122004480\n",
            "\n",
            "\n",
            "epoc: 14: Train Loss: 0.28043761361729014\n",
            "time: 17.27583956718445 memory_used: 19752247296 gpu_memory_used: 125239296\n",
            "\n",
            "\n",
            "epoc: 15: Train Loss: 0.28045776215466584\n",
            "time: 17.120359420776367 memory_used: 19752833024 gpu_memory_used: 122903040\n",
            "\n",
            "\n",
            "epoc: 16: Train Loss: 0.28044601543383163\n",
            "time: 17.130426168441772 memory_used: 19753537536 gpu_memory_used: 124161024\n",
            "\n",
            "\n",
            "epoc: 17: Train Loss: 0.28041694137183104\n",
            "time: 17.196265935897827 memory_used: 19753345024 gpu_memory_used: 122543616\n",
            "\n",
            "\n",
            "epoc: 18: Train Loss: 0.28044320453297006\n",
            "time: 17.017146587371826 memory_used: 19753832448 gpu_memory_used: 123621888\n",
            "\n",
            "\n",
            "epoc: 19: Train Loss: 0.2804354106838053\n",
            "time: 17.18027377128601 memory_used: 19753132032 gpu_memory_used: 122363904\n",
            "\n",
            "\n",
            "epoc: 20: Train Loss: 0.28043970546939156\n",
            "time: 17.173065662384033 memory_used: 19752910848 gpu_memory_used: 126497280\n",
            "\n",
            "\n",
            "epoc: 21: Train Loss: 0.28042130090973594\n",
            "time: 17.228839874267578 memory_used: 19753771008 gpu_memory_used: 122363904\n",
            "\n",
            "\n",
            "epoc: 22: Train Loss: 0.28042153309692036\n",
            "time: 17.10487961769104 memory_used: 19754516480 gpu_memory_used: 121958912\n",
            "\n",
            "\n",
            "epoc: 23: Train Loss: 0.28037826960737056\n",
            "time: 17.116838455200195 memory_used: 19754119168 gpu_memory_used: 123262464\n",
            "\n",
            "\n",
            "epoc: 24: Train Loss: 0.2803348636085337\n",
            "time: 17.03623628616333 memory_used: 19752587264 gpu_memory_used: 122543616\n",
            "\n",
            "\n",
            "epoc: 25: Train Loss: 0.2803608796813271\n",
            "time: 17.00251817703247 memory_used: 19753197568 gpu_memory_used: 124340736\n",
            "\n",
            "\n",
            "epoc: 26: Train Loss: 0.28039809790524567\n",
            "time: 17.01267981529236 memory_used: 19752722432 gpu_memory_used: 123082752\n",
            "\n",
            "\n",
            "epoc: 27: Train Loss: 0.2803393068638715\n",
            "time: 17.076305150985718 memory_used: 19753254912 gpu_memory_used: 126497280\n",
            "\n",
            "\n",
            "epoc: 28: Train Loss: 0.28034565909342335\n",
            "time: 17.165961980819702 memory_used: 19753103360 gpu_memory_used: 123981312\n",
            "\n",
            "\n",
            "epoc: 29: Train Loss: 0.2803248110142621\n",
            "time: 17.098896980285645 memory_used: 19752943616 gpu_memory_used: 125059584\n",
            "\n",
            "\n",
            "epoc: 30: Train Loss: 0.28032435178756715\n",
            "time: 17.06982445716858 memory_used: 19752038400 gpu_memory_used: 125239296\n",
            "\n",
            "\n",
            "epoc: 31: Train Loss: 0.2723988419229334\n",
            "time: 17.193407773971558 memory_used: 19753037824 gpu_memory_used: 126317568\n",
            "\n",
            "\n",
            "epoc: 32: Train Loss: 0.2581818336790258\n",
            "time: 17.023898124694824 memory_used: 19753271296 gpu_memory_used: 123621888\n",
            "\n",
            "\n",
            "epoc: 33: Train Loss: 0.25558232367038725\n",
            "time: 17.07026243209839 memory_used: 19753725952 gpu_memory_used: 94473216\n",
            "\n",
            "\n",
            "epoc: 34: Train Loss: 0.25398399491201745\n",
            "time: 16.92392611503601 memory_used: 19752243200 gpu_memory_used: 93394944\n",
            "\n",
            "\n",
            "epoc: 35: Train Loss: 0.25307841449975965\n",
            "time: 17.053301572799683 memory_used: 19753938944 gpu_memory_used: 92496384\n",
            "\n",
            "\n",
            "epoc: 36: Train Loss: 0.2524478867650032\n",
            "time: 16.93154215812683 memory_used: 19754180608 gpu_memory_used: 94832640\n",
            "\n",
            "\n",
            "epoc: 37: Train Loss: 0.2511775561354377\n",
            "time: 17.17604947090149 memory_used: 19754905600 gpu_memory_used: 94473216\n",
            "\n",
            "\n",
            "epoc: 38: Train Loss: 0.24871277795596555\n",
            "time: 17.14616322517395 memory_used: 19754676224 gpu_memory_used: 95910912\n",
            "\n",
            "\n",
            "epoc: 39: Train Loss: 0.2454987181858583\n",
            "time: 16.962984323501587 memory_used: 19752251392 gpu_memory_used: 92496384\n",
            "\n",
            "\n",
            "epoc: 40: Train Loss: 0.24330686994574285\n",
            "time: 16.991379022598267 memory_used: 19753394176 gpu_memory_used: 95731200\n",
            "\n",
            "\n",
            "epoc: 41: Train Loss: 0.24266248765316875\n",
            "time: 16.88882613182068 memory_used: 19753480192 gpu_memory_used: 93934080\n",
            "\n",
            "\n",
            "epoc: 42: Train Loss: 0.2418626523830674\n",
            "time: 16.915903568267822 memory_used: 19753050112 gpu_memory_used: 93754368\n",
            "\n",
            "\n",
            "epoc: 43: Train Loss: 0.24122321172194047\n",
            "time: 16.911621570587158 memory_used: 19752562688 gpu_memory_used: 96270336\n",
            "\n",
            "\n",
            "epoc: 44: Train Loss: 0.24050384881821546\n",
            "time: 16.895017385482788 memory_used: 19754823680 gpu_memory_used: 92496384\n",
            "\n",
            "\n",
            "epoc: 45: Train Loss: 0.23967764364047484\n",
            "time: 16.87531018257141 memory_used: 19752853504 gpu_memory_used: 93035520\n",
            "\n",
            "\n",
            "epoc: 46: Train Loss: 0.2387217009609396\n",
            "time: 16.854599237442017 memory_used: 19753488384 gpu_memory_used: 91731968\n",
            "\n",
            "\n",
            "epoc: 47: Train Loss: 0.23783957009965723\n",
            "time: 16.924927949905396 memory_used: 19754745856 gpu_memory_used: 93035520\n",
            "\n",
            "\n",
            "epoc: 48: Train Loss: 0.2366990873759443\n",
            "time: 16.841439723968506 memory_used: 19752853504 gpu_memory_used: 92496384\n",
            "\n",
            "\n",
            "epoc: 49: Train Loss: 0.2351128500970927\n",
            "time: 16.980050563812256 memory_used: 19753512960 gpu_memory_used: 94652928\n",
            "\n",
            "\n",
            "epoc: 50: Train Loss: 0.23349278636954046\n",
            "time: 16.862852096557617 memory_used: 19752726528 gpu_memory_used: 92496384\n",
            "\n",
            "\n",
            "epoc: 51: Train Loss: 0.2323455123738809\n",
            "time: 16.94630479812622 memory_used: 19754258432 gpu_memory_used: 93035520\n",
            "\n",
            "\n",
            "epoc: 52: Train Loss: 0.23093399513851512\n",
            "time: 16.692638874053955 memory_used: 19754106880 gpu_memory_used: 93934080\n",
            "\n",
            "\n",
            "epoc: 53: Train Loss: 0.23010249761017887\n",
            "time: 16.827525854110718 memory_used: 19753111552 gpu_memory_used: 93574656\n",
            "\n",
            "\n",
            "epoc: 54: Train Loss: 0.22929319928992878\n",
            "time: 16.74571943283081 memory_used: 19754192896 gpu_memory_used: 93215232\n",
            "\n",
            "\n",
            "epoc: 55: Train Loss: 0.228301509402015\n",
            "time: 16.84509539604187 memory_used: 19754655744 gpu_memory_used: 96809472\n",
            "\n",
            "\n",
            "epoc: 56: Train Loss: 0.22784760689193553\n",
            "time: 16.79377031326294 memory_used: 19753390080 gpu_memory_used: 92676096\n",
            "\n",
            "\n",
            "epoc: 57: Train Loss: 0.22693945047530262\n",
            "time: 16.8766930103302 memory_used: 19753832448 gpu_memory_used: 92496384\n",
            "\n",
            "\n",
            "epoc: 58: Train Loss: 0.22605800371278417\n",
            "time: 16.66752004623413 memory_used: 19752751104 gpu_memory_used: 94473216\n",
            "\n",
            "\n",
            "epoc: 59: Train Loss: 0.2252894259311936\n",
            "time: 16.75300621986389 memory_used: 19753508864 gpu_memory_used: 93754368\n",
            "\n",
            "\n",
            "epoc: 60: Train Loss: 0.22472311976281079\n",
            "time: 16.791996955871582 memory_used: 19753492480 gpu_memory_used: 93934080\n",
            "\n",
            "\n",
            "epoc: 61: Train Loss: 0.22449133152311498\n",
            "time: 16.79945707321167 memory_used: 19753119744 gpu_memory_used: 91777536\n",
            "\n",
            "\n",
            "epoc: 62: Train Loss: 0.22375084039839832\n",
            "time: 16.613696813583374 memory_used: 18916376576 gpu_memory_used: 96090624\n",
            "\n",
            "\n",
            "epoc: 63: Train Loss: 0.22314837006005375\n",
            "time: 16.652687788009644 memory_used: 18915995648 gpu_memory_used: 92496384\n",
            "\n",
            "\n",
            "epoc: 64: Train Loss: 0.2225355253978209\n",
            "time: 16.643444776535034 memory_used: 18917011456 gpu_memory_used: 93035520\n",
            "\n",
            "\n",
            "epoc: 65: Train Loss: 0.22298788997260008\n",
            "time: 16.688145399093628 memory_used: 18915262464 gpu_memory_used: 93934080\n",
            "\n",
            "\n",
            "epoc: 66: Train Loss: 0.221544466370886\n",
            "time: 16.581772804260254 memory_used: 18915958784 gpu_memory_used: 93035520\n",
            "\n",
            "\n",
            "epoc: 67: Train Loss: 0.22108594165606932\n",
            "time: 16.71869397163391 memory_used: 18915385344 gpu_memory_used: 91957248\n",
            "\n",
            "\n",
            "epoc: 68: Train Loss: 0.22062987143343146\n",
            "time: 16.703091859817505 memory_used: 18915282944 gpu_memory_used: 93035520\n",
            "\n",
            "\n",
            "epoc: 69: Train Loss: 0.22007016512480648\n",
            "time: 16.763021230697632 memory_used: 18912727040 gpu_memory_used: 92496384\n",
            "\n",
            "\n",
            "epoc: 70: Train Loss: 0.21960122273726898\n",
            "time: 16.534878492355347 memory_used: 18912788480 gpu_memory_used: 92496384\n",
            "\n",
            "\n",
            "epoc: 71: Train Loss: 0.21903495531190526\n",
            "time: 16.72832202911377 memory_used: 18912407552 gpu_memory_used: 92855808\n",
            "\n",
            "\n",
            "epoc: 72: Train Loss: 0.21928440969098698\n",
            "time: 16.719939947128296 memory_used: 18910994432 gpu_memory_used: 93394944\n",
            "\n",
            "\n",
            "epoc: 73: Train Loss: 0.21812378425489773\n",
            "time: 16.74637794494629 memory_used: 18910023680 gpu_memory_used: 95910912\n",
            "\n",
            "\n",
            "epoc: 74: Train Loss: 0.21801959059455178\n",
            "time: 16.708561182022095 memory_used: 18911305728 gpu_memory_used: 96090624\n",
            "\n",
            "\n",
            "epoc: 75: Train Loss: 0.21735447469082744\n",
            "time: 16.817075967788696 memory_used: 18911477760 gpu_memory_used: 93934080\n",
            "\n",
            "\n"
          ]
        }
      ]
    },
    {
      "cell_type": "markdown",
      "source": [
        "### Model Evaluation"
      ],
      "metadata": {
        "id": "ycvYzZi2JotA"
      }
    },
    {
      "cell_type": "code",
      "source": [
        "model = BiLSTM(input_dim=W2V_EMB_SIZE, embedding_dim=LSTM_HIDDEN_VEC_SIZE, \n",
        "              output_dim=50, \n",
        "              model_name=\"word2vec\")\n",
        "\n",
        "model.load_state_dict(torch.load(f\"{PROJECT_PATH}/models/word2vec-27-04-2022-17-47-59\"))\n",
        "if torch.cuda.is_available():\n",
        "  model.cuda()\n",
        "\n",
        "evaluate_model(model, test_loader_w2vec, 0.20)"
      ],
      "metadata": {
        "colab": {
          "base_uri": "https://localhost:8080/",
          "height": 548
        },
        "id": "KHZKfZoIJtMt",
        "outputId": "81534488-7c25-4ffc-92b9-4ba4e01f892f"
      },
      "execution_count": null,
      "outputs": [
        {
          "output_type": "stream",
          "name": "stdout",
          "text": [
            "Micro Averaging. Precision: 0.435, Recall: 0.542,           F1 Score: 0.482,           AUC: 0.871\n",
            "Macro Averaging. Precision: 0.387, Recall: 0.440,           F1 Score: 0.382,           AUC: 0.828\n"
          ]
        },
        {
          "output_type": "display_data",
          "data": {
            "text/plain": [
              "<Figure size 576x576 with 1 Axes>"
            ],
            "image/png": "[encoded data removed]"
          },
          "metadata": {
            "needs_background": "light"
          }
        }
      ]
    }
  ],
  "metadata": {
    "colab": {
      "collapsed_sections": [],
      "name": "Main Prediction Model.ipynb",
      "provenance": [],
      "machine_shape": "hm",
      "background_execution": "on",
      "include_colab_link": true
    },
    "kernelspec": {
      "display_name": "Python 3",
      "name": "python3"
    },
    "language_info": {
      "name": "python"
    }
  },
  "nbformat": 4,
  "nbformat_minor": 0
}