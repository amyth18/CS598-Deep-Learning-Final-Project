{
  "nbformat": 4,
  "nbformat_minor": 0,
  "metadata": {
    "colab": {
      "name": "Data Cleaning.ipynb",
      "provenance": [],
      "collapsed_sections": [],
      "machine_shape": "hm",
      "background_execution": "on",
      "authorship_tag": "ABX9TyOgRkX0ROpuLaxPS7wvs8pv",
      "include_colab_link": true
    },
    "kernelspec": {
      "name": "python3",
      "display_name": "Python 3"
    },
    "language_info": {
      "name": "python"
    }
  },
  "cells": [
    {
      "cell_type": "markdown",
      "metadata": {
        "id": "view-in-github",
        "colab_type": "text"
      },
      "source": [
        "<a href=\"https://colab.research.google.com/github/amyth18/CS598-Deep-Learning-Final-Project/blob/main/Misc_Utilities.ipynb\" target=\"_parent\"><img src=\"https://colab.research.google.com/assets/colab-badge.svg\" alt=\"Open In Colab\"/></a>"
      ]
    },
    {
      "cell_type": "code",
      "source": [
        "! pip install texthero"
      ],
      "metadata": {
        "id": "4MR7bgZhutry"
      },
      "execution_count": null,
      "outputs": []
    },
    {
      "cell_type": "code",
      "execution_count": null,
      "metadata": {
        "id": "wAg8V60JrKUI"
      },
      "outputs": [],
      "source": [
        "import pandas as pd\n",
        "import numpy as np\n",
        "import pickle\n",
        "import texthero as hero\n",
        "from texthero import preprocessing"
      ]
    },
    {
      "cell_type": "code",
      "source": [
        "from google.colab import drive\n",
        "drive.mount(\"/content/drive\")"
      ],
      "metadata": {
        "colab": {
          "base_uri": "https://localhost:8080/"
        },
        "id": "kbLPqQlUtggU",
        "outputId": "625d5f08-e364-4bae-cce0-39b0d53e7b7f"
      },
      "execution_count": null,
      "outputs": [
        {
          "output_type": "stream",
          "name": "stdout",
          "text": [
            "Mounted at /content/drive\n"
          ]
        }
      ]
    },
    {
      "cell_type": "code",
      "source": [
        "PROJECT_PATH = \"/content/drive/My Drive/DLH Final Project\"\n",
        "MAX_WORDS = 1000"
      ],
      "metadata": {
        "id": "n-Fn4nbZtlyj"
      },
      "execution_count": null,
      "outputs": []
    },
    {
      "cell_type": "code",
      "source": [
        "df = pd.read_csv(f\"{PROJECT_PATH}/mimic3/df_dataset.csv\")"
      ],
      "metadata": {
        "id": "FKzysXXCK52s"
      },
      "execution_count": null,
      "outputs": []
    },
    {
      "cell_type": "code",
      "source": [
        "df['CLEAN_TEXT'] = hero.clean(df['TEXT'])"
      ],
      "metadata": {
        "id": "d79MPdBtK8Hg"
      },
      "execution_count": null,
      "outputs": []
    },
    {
      "cell_type": "code",
      "source": [
        "df['INPUT_TEXT'] = df['CLEAN_TEXT'].apply(lambda text: text.split(\" \")[:MAX_WORDS])"
      ],
      "metadata": {
        "id": "GOCuMiclJqHg"
      },
      "execution_count": null,
      "outputs": []
    },
    {
      "cell_type": "code",
      "source": [
        "df['INPUT_TEXT'].head(5).apply(lambda t: len(t)).describe()"
      ],
      "metadata": {
        "colab": {
          "base_uri": "https://localhost:8080/"
        },
        "id": "JunSnCGKxGwP",
        "outputId": "122cad47-e67e-4a4c-9e5f-33f4966c031d"
      },
      "execution_count": null,
      "outputs": [
        {
          "output_type": "execute_result",
          "data": {
            "text/plain": [
              "count       5.000000\n",
              "mean      815.400000\n",
              "std       412.778149\n",
              "min        77.000000\n",
              "25%      1000.000000\n",
              "50%      1000.000000\n",
              "75%      1000.000000\n",
              "max      1000.000000\n",
              "Name: INPUT_TEXT, dtype: float64"
            ]
          },
          "metadata": {},
          "execution_count": 16
        }
      ]
    },
    {
      "cell_type": "code",
      "source": [
        "df.head(5)"
      ],
      "metadata": {
        "colab": {
          "base_uri": "https://localhost:8080/",
          "height": 441
        },
        "id": "K0Q3AF-MUStu",
        "outputId": "7b6a0bf6-f01a-4815-e6ba-610f61d11a1b"
      },
      "execution_count": null,
      "outputs": [
        {
          "output_type": "execute_result",
          "data": {
            "text/plain": [
              "   Unnamed: 0  SUBJECT_ID   HADM_ID  \\\n",
              "0           0       22532  167853.0   \n",
              "1           1       22532  167853.0   \n",
              "2           2       13702  107527.0   \n",
              "3           3       13702  167118.0   \n",
              "4           4       13702  196489.0   \n",
              "\n",
              "                                                TEXT  \\\n",
              "0  Admission Date:  [**2151-7-16**]       Dischar...   \n",
              "1  Admission Date:  [**2151-7-16**]       Dischar...   \n",
              "2  Admission Date:  [**2118-6-2**]       Discharg...   \n",
              "3  Admission Date:  [**2119-5-4**]              D...   \n",
              "4  Admission Date:  [**2124-7-21**]              ...   \n",
              "\n",
              "                                           ICD9_CODE  \\\n",
              "0                  ['42731', '2762', '5070', '5119']   \n",
              "1                  ['42731', '2762', '5070', '5119']   \n",
              "2            ['51881', '486', '2761', '2449', '311']   \n",
              "3                                    ['496', '2762']   \n",
              "4  ['5849', '2760', '2762', '41401', '2724', '244...   \n",
              "\n",
              "                                          CLEAN_TEXT  \\\n",
              "0  admission date discharge date service addendum...   \n",
              "1  admission date discharge date history present ...   \n",
              "2  admission date discharge date date birth sex f...   \n",
              "3  admission date discharge date service cardioth...   \n",
              "4  admission date discharge date service medicine...   \n",
              "\n",
              "                                          INPUT_TEXT  \n",
              "0  [admission, date, discharge, date, service, ad...  \n",
              "1  [admission, date, discharge, date, history, pr...  \n",
              "2  [admission, date, discharge, date, date, birth...  \n",
              "3  [admission, date, discharge, date, service, ca...  \n",
              "4  [admission, date, discharge, date, service, me...  "
            ],
            "text/html": [
              "\n",
              "  <div id=\"df-bad192a6-96b7-41ea-97a3-81cb0a4e7417\">\n",
              "    <div class=\"colab-df-container\">\n",
              "      <div>\n",
              "<style scoped>\n",
              "    .dataframe tbody tr th:only-of-type {\n",
              "        vertical-align: middle;\n",
              "    }\n",
              "\n",
              "    .dataframe tbody tr th {\n",
              "        vertical-align: top;\n",
              "    }\n",
              "\n",
              "    .dataframe thead th {\n",
              "        text-align: right;\n",
              "    }\n",
              "</style>\n",
              "<table border=\"1\" class=\"dataframe\">\n",
              "  <thead>\n",
              "    <tr style=\"text-align: right;\">\n",
              "      <th></th>\n",
              "      <th>Unnamed: 0</th>\n",
              "      <th>SUBJECT_ID</th>\n",
              "      <th>HADM_ID</th>\n",
              "      <th>TEXT</th>\n",
              "      <th>ICD9_CODE</th>\n",
              "      <th>CLEAN_TEXT</th>\n",
              "      <th>INPUT_TEXT</th>\n",
              "    </tr>\n",
              "  </thead>\n",
              "  <tbody>\n",
              "    <tr>\n",
              "      <th>0</th>\n",
              "      <td>0</td>\n",
              "      <td>22532</td>\n",
              "      <td>167853.0</td>\n",
              "      <td>Admission Date:  [**2151-7-16**]       Dischar...</td>\n",
              "      <td>['42731', '2762', '5070', '5119']</td>\n",
              "      <td>admission date discharge date service addendum...</td>\n",
              "      <td>[admission, date, discharge, date, service, ad...</td>\n",
              "    </tr>\n",
              "    <tr>\n",
              "      <th>1</th>\n",
              "      <td>1</td>\n",
              "      <td>22532</td>\n",
              "      <td>167853.0</td>\n",
              "      <td>Admission Date:  [**2151-7-16**]       Dischar...</td>\n",
              "      <td>['42731', '2762', '5070', '5119']</td>\n",
              "      <td>admission date discharge date history present ...</td>\n",
              "      <td>[admission, date, discharge, date, history, pr...</td>\n",
              "    </tr>\n",
              "    <tr>\n",
              "      <th>2</th>\n",
              "      <td>2</td>\n",
              "      <td>13702</td>\n",
              "      <td>107527.0</td>\n",
              "      <td>Admission Date:  [**2118-6-2**]       Discharg...</td>\n",
              "      <td>['51881', '486', '2761', '2449', '311']</td>\n",
              "      <td>admission date discharge date date birth sex f...</td>\n",
              "      <td>[admission, date, discharge, date, date, birth...</td>\n",
              "    </tr>\n",
              "    <tr>\n",
              "      <th>3</th>\n",
              "      <td>3</td>\n",
              "      <td>13702</td>\n",
              "      <td>167118.0</td>\n",
              "      <td>Admission Date:  [**2119-5-4**]              D...</td>\n",
              "      <td>['496', '2762']</td>\n",
              "      <td>admission date discharge date service cardioth...</td>\n",
              "      <td>[admission, date, discharge, date, service, ca...</td>\n",
              "    </tr>\n",
              "    <tr>\n",
              "      <th>4</th>\n",
              "      <td>4</td>\n",
              "      <td>13702</td>\n",
              "      <td>196489.0</td>\n",
              "      <td>Admission Date:  [**2124-7-21**]              ...</td>\n",
              "      <td>['5849', '2760', '2762', '41401', '2724', '244...</td>\n",
              "      <td>admission date discharge date service medicine...</td>\n",
              "      <td>[admission, date, discharge, date, service, me...</td>\n",
              "    </tr>\n",
              "  </tbody>\n",
              "</table>\n",
              "</div>\n",
              "      <button class=\"colab-df-convert\" onclick=\"convertToInteractive('df-bad192a6-96b7-41ea-97a3-81cb0a4e7417')\"\n",
              "              title=\"Convert this dataframe to an interactive table.\"\n",
              "              style=\"display:none;\">\n",
              "        \n",
              "  <svg xmlns=\"http://www.w3.org/2000/svg\" height=\"24px\"viewBox=\"0 0 24 24\"\n",
              "       width=\"24px\">\n",
              "    <path d=\"M0 0h24v24H0V0z\" fill=\"none\"/>\n",
              "    <path d=\"M18.56 5.44l.94 2.06.94-2.06 2.06-.94-2.06-.94-.94-2.06-.94 2.06-2.06.94zm-11 1L8.5 8.5l.94-2.06 2.06-.94-2.06-.94L8.5 2.5l-.94 2.06-2.06.94zm10 10l.94 2.06.94-2.06 2.06-.94-2.06-.94-.94-2.06-.94 2.06-2.06.94z\"/><path d=\"M17.41 7.96l-1.37-1.37c-.4-.4-.92-.59-1.43-.59-.52 0-1.04.2-1.43.59L10.3 9.45l-7.72 7.72c-.78.78-.78 2.05 0 2.83L4 21.41c.39.39.9.59 1.41.59.51 0 1.02-.2 1.41-.59l7.78-7.78 2.81-2.81c.8-.78.8-2.07 0-2.86zM5.41 20L4 18.59l7.72-7.72 1.47 1.35L5.41 20z\"/>\n",
              "  </svg>\n",
              "      </button>\n",
              "      \n",
              "  <style>\n",
              "    .colab-df-container {\n",
              "      display:flex;\n",
              "      flex-wrap:wrap;\n",
              "      gap: 12px;\n",
              "    }\n",
              "\n",
              "    .colab-df-convert {\n",
              "      background-color: #E8F0FE;\n",
              "      border: none;\n",
              "      border-radius: 50%;\n",
              "      cursor: pointer;\n",
              "      display: none;\n",
              "      fill: #1967D2;\n",
              "      height: 32px;\n",
              "      padding: 0 0 0 0;\n",
              "      width: 32px;\n",
              "    }\n",
              "\n",
              "    .colab-df-convert:hover {\n",
              "      background-color: #E2EBFA;\n",
              "      box-shadow: 0px 1px 2px rgba(60, 64, 67, 0.3), 0px 1px 3px 1px rgba(60, 64, 67, 0.15);\n",
              "      fill: #174EA6;\n",
              "    }\n",
              "\n",
              "    [theme=dark] .colab-df-convert {\n",
              "      background-color: #3B4455;\n",
              "      fill: #D2E3FC;\n",
              "    }\n",
              "\n",
              "    [theme=dark] .colab-df-convert:hover {\n",
              "      background-color: #434B5C;\n",
              "      box-shadow: 0px 1px 3px 1px rgba(0, 0, 0, 0.15);\n",
              "      filter: drop-shadow(0px 1px 2px rgba(0, 0, 0, 0.3));\n",
              "      fill: #FFFFFF;\n",
              "    }\n",
              "  </style>\n",
              "\n",
              "      <script>\n",
              "        const buttonEl =\n",
              "          document.querySelector('#df-bad192a6-96b7-41ea-97a3-81cb0a4e7417 button.colab-df-convert');\n",
              "        buttonEl.style.display =\n",
              "          google.colab.kernel.accessAllowed ? 'block' : 'none';\n",
              "\n",
              "        async function convertToInteractive(key) {\n",
              "          const element = document.querySelector('#df-bad192a6-96b7-41ea-97a3-81cb0a4e7417');\n",
              "          const dataTable =\n",
              "            await google.colab.kernel.invokeFunction('convertToInteractive',\n",
              "                                                     [key], {});\n",
              "          if (!dataTable) return;\n",
              "\n",
              "          const docLinkHtml = 'Like what you see? Visit the ' +\n",
              "            '<a target=\"_blank\" href=https://colab.research.google.com/notebooks/data_table.ipynb>data table notebook</a>'\n",
              "            + ' to learn more about interactive tables.';\n",
              "          element.innerHTML = '';\n",
              "          dataTable['output_type'] = 'display_data';\n",
              "          await google.colab.output.renderOutput(dataTable, element);\n",
              "          const docLink = document.createElement('div');\n",
              "          docLink.innerHTML = docLinkHtml;\n",
              "          element.appendChild(docLink);\n",
              "        }\n",
              "      </script>\n",
              "    </div>\n",
              "  </div>\n",
              "  "
            ]
          },
          "metadata": {},
          "execution_count": 10
        }
      ]
    },
    {
      "cell_type": "code",
      "source": [
        "df = df[[\"SUBJECT_ID\", \"HADM_ID\", \"ICD9_CODE\", \"INPUT_TEXT\"]]\\\n",
        "            .to_csv(f\"{PROJECT_PATH}/mimic3/df_dataset_full_text.csv\")"
      ],
      "metadata": {
        "id": "ElDiHpoqUGL8"
      },
      "execution_count": null,
      "outputs": []
    }
  ]
}