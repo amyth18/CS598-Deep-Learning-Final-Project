{
  "cells": [
    {
      "cell_type": "markdown",
      "metadata": {
        "id": "view-in-github",
        "colab_type": "text"
      },
      "source": [
        "<a href=\"https://colab.research.google.com/github/amyth18/CS598-Deep-Learning-Final-Project/blob/main/Main_Prediction_Model_Final_Submission.ipynb\" target=\"_parent\"><img src=\"https://colab.research.google.com/assets/colab-badge.svg\" alt=\"Open In Colab\"/></a>"
      ]
    },
    {
      "cell_type": "markdown",
      "source": [
        "# Overview"
      ],
      "metadata": {
        "id": "p1kHa9ZOaHbf"
      }
    },
    {
      "cell_type": "markdown",
      "source": [
        "In this notebook we provide our implementation for a disease prediction model based on discharge summary text. The implementation is based on the paper titled \"[A disease inference method based on symptom extraction and bidirectional Long Short Term Memory networks](https://https://pubmed.ncbi.nlm.nih.gov/31301375/)\" by Donglin Guo et al.\n",
        "\n",
        "The notebook is divided in 4 parts.\n",
        "1. Data Preprocessing\n",
        "2. Feature Engineering\n",
        "3. Model Training\n",
        "4. Model Evaluation\n",
        "\n",
        "The data preprocessing step needs to be performed only once and the output of this step can be used to run the other sections any number of times.\n",
        "\n",
        "We have tested this notebook in Google Colab pro+ environment. We highly recommend using GPU when training the model.\n",
        "\n",
        "We have used the MIMIC III dataset for training and testing our model, we specifically we need the `NOTEVENTS.csv` and `DIAGNOSES_ICD.csv` files to make this model work.\n",
        "\n",
        "We have used Google Drive as our presistence layer. If you want to use any other storage then you will have to modify the storage paths in the cells accordingly."
      ],
      "metadata": {
        "id": "JTasl4qafFG8"
      }
    },
    {
      "cell_type": "markdown",
      "source": [
        "# Initial Setup"
      ],
      "metadata": {
        "id": "WZAYNZiE-_z7"
      }
    },
    {
      "cell_type": "markdown",
      "source": [
        "Load the required packages"
      ],
      "metadata": {
        "id": "PKAq_yUVG8M7"
      }
    },
    {
      "cell_type": "code",
      "source": [
        "! pip install gensim --upgrade\n",
        "! pip install psutil\n",
        "! pip install transformers"
      ],
      "metadata": {
        "id": "EHtTRNjY6fjL"
      },
      "execution_count": null,
      "outputs": []
    },
    {
      "cell_type": "code",
      "source": [
        "import pandas as pd\n",
        "import torch\n",
        "import torch.nn as nn\n",
        "import numpy as np\n",
        "import pickle\n",
        "\n",
        "from torch.utils.data import Dataset\n",
        "from torch.utils.data import DataLoader\n",
        "from torch.utils.data.dataset import random_split\n",
        "from torch.utils.data import DataLoader\n",
        "\n",
        "import gensim\n",
        "from os import path"
      ],
      "metadata": {
        "id": "yZM4PBDMRCc_"
      },
      "execution_count": 99,
      "outputs": []
    },
    {
      "cell_type": "markdown",
      "source": [
        "Mount the Google Drive into colab environment. The Google Drive contains our dataset as well acts as persistence for intermdiate data, model and results."
      ],
      "metadata": {
        "id": "ZM16Y04aHB5S"
      }
    },
    {
      "cell_type": "code",
      "execution_count": 100,
      "metadata": {
        "colab": {
          "base_uri": "https://localhost:8080/"
        },
        "id": "tFlP8qR9EAEW",
        "outputId": "896463ce-ceac-407a-8f0e-ad3d40c2445a"
      },
      "outputs": [
        {
          "output_type": "stream",
          "name": "stdout",
          "text": [
            "Drive already mounted at /content/drive; to attempt to forcibly remount, call drive.mount(\"/content/drive\", force_remount=True).\n"
          ]
        }
      ],
      "source": [
        "from google.colab import drive\n",
        "drive.mount(\"/content/drive\")"
      ]
    },
    {
      "cell_type": "markdown",
      "source": [
        "Project level settings"
      ],
      "metadata": {
        "id": "TlEASa_slIgC"
      }
    },
    {
      "cell_type": "code",
      "source": [
        "PROJECT_PATH = \"/content/drive/My Drive/DLH Final Project\"\n",
        "W2V_MODEL_PATH = f\"{PROJECT_PATH}/models/word2vec.model\"\n",
        "\n",
        "W2V_EMB_SIZE = 128\n",
        "LSTM_HIDDEN_VEC_SIZE = 100\n",
        "TRAINING_BATCH_SIZE = 400"
      ],
      "metadata": {
        "id": "AiRRN0vElQ7k"
      },
      "execution_count": 101,
      "outputs": []
    },
    {
      "cell_type": "markdown",
      "metadata": {
        "id": "ASN9TUHWgnz7"
      },
      "source": [
        "# Data Preprocessing\n",
        "\n",
        "In this section we perform the following pre-processing steps on out data set and produce a dataframe that is then used for feature engineering in the next section.\n",
        "\n",
        "1.   We first find the top #50 ICD codes (i.e top 50 conditions that are commonly diagnosed in admissions)\n",
        "\n",
        "2.   We then select only those adminisions from `df_icd_codes` dataframe that contain atleat one of the top #50 ICD9 codes.\n",
        "\n",
        "3. We then perform inner join on the filtered `df_icd_codes` to the `df` (i.e. NOTEVENTS.csv) to select discharge summary text from only those admimissions that contain at least one top #50 ICD9 code.\n",
        "\n",
        "4. We then generate Word2Vec embeddings using all the filtered discharge summaries using Gensim. This will be used later in feature engineering.\n",
        "\n",
        "5. We then extract only the symptom phrases from the discharge summaries using a pre-trained BERT model. The symptoms will then form the input features (represented in 2 forms) for our prediction model. This step is performed Feature Engineering section.\n",
        "\n",
        "The following diagram shows the data pre-processing pipeline.\n",
        "\n",
        "<img src='https://drive.google.com/uc?id=1deg7uoKN9cd7LWleztiWTLCgBKg2r1KT'>"
      ]
    },
    {
      "cell_type": "markdown",
      "metadata": {
        "id": "bZrO8Ao004k3"
      },
      "source": [
        "## Load Data"
      ]
    },
    {
      "cell_type": "markdown",
      "source": [
        "We are primarily interested in the following 2 files/tables from the MIMIC III dataset.\n",
        "1.   NOTESEVENTS.csv (context discharge summary in \"TEXT\" field for each hospital admission.)\n",
        "2.   DIAGNOSES_ICD.csv (contains ICD9 codes for conditions diagnosed in an admimission)\n",
        "\n"
      ],
      "metadata": {
        "id": "t3Bw9AC1Hh0w"
      }
    },
    {
      "cell_type": "code",
      "execution_count": 38,
      "metadata": {
        "colab": {
          "base_uri": "https://localhost:8080/",
          "height": 199
        },
        "id": "pcubO8rgEqXh",
        "outputId": "38a59cff-0b1a-463b-d3f0-e0be7f42d3ff"
      },
      "outputs": [
        {
          "output_type": "stream",
          "name": "stderr",
          "text": [
            "/usr/local/lib/python3.7/dist-packages/IPython/core/interactiveshell.py:2882: DtypeWarning: Columns (4,5) have mixed types.Specify dtype option on import or set low_memory=False.\n",
            "  exec(code_obj, self.user_global_ns, self.user_ns)\n"
          ]
        },
        {
          "output_type": "execute_result",
          "data": {
            "text/plain": [
              "   SUBJECT_ID   HADM_ID                                               TEXT\n",
              "0       22532  167853.0  Admission Date:  [**2151-7-16**]       Dischar...\n",
              "1       13702  107527.0  Admission Date:  [**2118-6-2**]       Discharg...\n",
              "2       13702  167118.0  Admission Date:  [**2119-5-4**]              D..."
            ],
            "text/html": [
              "\n",
              "  <div id=\"df-6096588a-53d3-405c-b698-766b2c0a745d\">\n",
              "    <div class=\"colab-df-container\">\n",
              "      <div>\n",
              "<style scoped>\n",
              "    .dataframe tbody tr th:only-of-type {\n",
              "        vertical-align: middle;\n",
              "    }\n",
              "\n",
              "    .dataframe tbody tr th {\n",
              "        vertical-align: top;\n",
              "    }\n",
              "\n",
              "    .dataframe thead th {\n",
              "        text-align: right;\n",
              "    }\n",
              "</style>\n",
              "<table border=\"1\" class=\"dataframe\">\n",
              "  <thead>\n",
              "    <tr style=\"text-align: right;\">\n",
              "      <th></th>\n",
              "      <th>SUBJECT_ID</th>\n",
              "      <th>HADM_ID</th>\n",
              "      <th>TEXT</th>\n",
              "    </tr>\n",
              "  </thead>\n",
              "  <tbody>\n",
              "    <tr>\n",
              "      <th>0</th>\n",
              "      <td>22532</td>\n",
              "      <td>167853.0</td>\n",
              "      <td>Admission Date:  [**2151-7-16**]       Dischar...</td>\n",
              "    </tr>\n",
              "    <tr>\n",
              "      <th>1</th>\n",
              "      <td>13702</td>\n",
              "      <td>107527.0</td>\n",
              "      <td>Admission Date:  [**2118-6-2**]       Discharg...</td>\n",
              "    </tr>\n",
              "    <tr>\n",
              "      <th>2</th>\n",
              "      <td>13702</td>\n",
              "      <td>167118.0</td>\n",
              "      <td>Admission Date:  [**2119-5-4**]              D...</td>\n",
              "    </tr>\n",
              "  </tbody>\n",
              "</table>\n",
              "</div>\n",
              "      <button class=\"colab-df-convert\" onclick=\"convertToInteractive('df-6096588a-53d3-405c-b698-766b2c0a745d')\"\n",
              "              title=\"Convert this dataframe to an interactive table.\"\n",
              "              style=\"display:none;\">\n",
              "        \n",
              "  <svg xmlns=\"http://www.w3.org/2000/svg\" height=\"24px\"viewBox=\"0 0 24 24\"\n",
              "       width=\"24px\">\n",
              "    <path d=\"M0 0h24v24H0V0z\" fill=\"none\"/>\n",
              "    <path d=\"M18.56 5.44l.94 2.06.94-2.06 2.06-.94-2.06-.94-.94-2.06-.94 2.06-2.06.94zm-11 1L8.5 8.5l.94-2.06 2.06-.94-2.06-.94L8.5 2.5l-.94 2.06-2.06.94zm10 10l.94 2.06.94-2.06 2.06-.94-2.06-.94-.94-2.06-.94 2.06-2.06.94z\"/><path d=\"M17.41 7.96l-1.37-1.37c-.4-.4-.92-.59-1.43-.59-.52 0-1.04.2-1.43.59L10.3 9.45l-7.72 7.72c-.78.78-.78 2.05 0 2.83L4 21.41c.39.39.9.59 1.41.59.51 0 1.02-.2 1.41-.59l7.78-7.78 2.81-2.81c.8-.78.8-2.07 0-2.86zM5.41 20L4 18.59l7.72-7.72 1.47 1.35L5.41 20z\"/>\n",
              "  </svg>\n",
              "      </button>\n",
              "      \n",
              "  <style>\n",
              "    .colab-df-container {\n",
              "      display:flex;\n",
              "      flex-wrap:wrap;\n",
              "      gap: 12px;\n",
              "    }\n",
              "\n",
              "    .colab-df-convert {\n",
              "      background-color: #E8F0FE;\n",
              "      border: none;\n",
              "      border-radius: 50%;\n",
              "      cursor: pointer;\n",
              "      display: none;\n",
              "      fill: #1967D2;\n",
              "      height: 32px;\n",
              "      padding: 0 0 0 0;\n",
              "      width: 32px;\n",
              "    }\n",
              "\n",
              "    .colab-df-convert:hover {\n",
              "      background-color: #E2EBFA;\n",
              "      box-shadow: 0px 1px 2px rgba(60, 64, 67, 0.3), 0px 1px 3px 1px rgba(60, 64, 67, 0.15);\n",
              "      fill: #174EA6;\n",
              "    }\n",
              "\n",
              "    [theme=dark] .colab-df-convert {\n",
              "      background-color: #3B4455;\n",
              "      fill: #D2E3FC;\n",
              "    }\n",
              "\n",
              "    [theme=dark] .colab-df-convert:hover {\n",
              "      background-color: #434B5C;\n",
              "      box-shadow: 0px 1px 3px 1px rgba(0, 0, 0, 0.15);\n",
              "      filter: drop-shadow(0px 1px 2px rgba(0, 0, 0, 0.3));\n",
              "      fill: #FFFFFF;\n",
              "    }\n",
              "  </style>\n",
              "\n",
              "      <script>\n",
              "        const buttonEl =\n",
              "          document.querySelector('#df-6096588a-53d3-405c-b698-766b2c0a745d button.colab-df-convert');\n",
              "        buttonEl.style.display =\n",
              "          google.colab.kernel.accessAllowed ? 'block' : 'none';\n",
              "\n",
              "        async function convertToInteractive(key) {\n",
              "          const element = document.querySelector('#df-6096588a-53d3-405c-b698-766b2c0a745d');\n",
              "          const dataTable =\n",
              "            await google.colab.kernel.invokeFunction('convertToInteractive',\n",
              "                                                     [key], {});\n",
              "          if (!dataTable) return;\n",
              "\n",
              "          const docLinkHtml = 'Like what you see? Visit the ' +\n",
              "            '<a target=\"_blank\" href=https://colab.research.google.com/notebooks/data_table.ipynb>data table notebook</a>'\n",
              "            + ' to learn more about interactive tables.';\n",
              "          element.innerHTML = '';\n",
              "          dataTable['output_type'] = 'display_data';\n",
              "          await google.colab.output.renderOutput(dataTable, element);\n",
              "          const docLink = document.createElement('div');\n",
              "          docLink.innerHTML = docLinkHtml;\n",
              "          element.appendChild(docLink);\n",
              "        }\n",
              "      </script>\n",
              "    </div>\n",
              "  </div>\n",
              "  "
            ]
          },
          "metadata": {},
          "execution_count": 38
        }
      ],
      "source": [
        "df = pd.read_csv(f\"{PROJECT_PATH}/mimic3/NOTEEVENTS.csv\")\n",
        "df[[\"SUBJECT_ID\", \"HADM_ID\", \"TEXT\"]].head(3)"
      ]
    },
    {
      "cell_type": "code",
      "source": [
        "df_icd_codes = pd.read_csv(\n",
        "    f\"{PROJECT_PATH}/mimic3/DIAGNOSES_ICD.csv\")\n",
        "\n",
        "df_icd_codes[[\"SUBJECT_ID\", \"HADM_ID\", \"ICD9_CODE\"]].head(3)"
      ],
      "metadata": {
        "id": "0DQMAoiAPJyh",
        "colab": {
          "base_uri": "https://localhost:8080/",
          "height": 143
        },
        "outputId": "c19011e3-66e2-4778-b8e9-71fa0b93e0de"
      },
      "execution_count": 39,
      "outputs": [
        {
          "output_type": "execute_result",
          "data": {
            "text/plain": [
              "   SUBJECT_ID  HADM_ID ICD9_CODE\n",
              "0         109   172335     40301\n",
              "1         109   172335       486\n",
              "2         109   172335     58281"
            ],
            "text/html": [
              "\n",
              "  <div id=\"df-7de8187a-8aad-4711-8042-324f57598aba\">\n",
              "    <div class=\"colab-df-container\">\n",
              "      <div>\n",
              "<style scoped>\n",
              "    .dataframe tbody tr th:only-of-type {\n",
              "        vertical-align: middle;\n",
              "    }\n",
              "\n",
              "    .dataframe tbody tr th {\n",
              "        vertical-align: top;\n",
              "    }\n",
              "\n",
              "    .dataframe thead th {\n",
              "        text-align: right;\n",
              "    }\n",
              "</style>\n",
              "<table border=\"1\" class=\"dataframe\">\n",
              "  <thead>\n",
              "    <tr style=\"text-align: right;\">\n",
              "      <th></th>\n",
              "      <th>SUBJECT_ID</th>\n",
              "      <th>HADM_ID</th>\n",
              "      <th>ICD9_CODE</th>\n",
              "    </tr>\n",
              "  </thead>\n",
              "  <tbody>\n",
              "    <tr>\n",
              "      <th>0</th>\n",
              "      <td>109</td>\n",
              "      <td>172335</td>\n",
              "      <td>40301</td>\n",
              "    </tr>\n",
              "    <tr>\n",
              "      <th>1</th>\n",
              "      <td>109</td>\n",
              "      <td>172335</td>\n",
              "      <td>486</td>\n",
              "    </tr>\n",
              "    <tr>\n",
              "      <th>2</th>\n",
              "      <td>109</td>\n",
              "      <td>172335</td>\n",
              "      <td>58281</td>\n",
              "    </tr>\n",
              "  </tbody>\n",
              "</table>\n",
              "</div>\n",
              "      <button class=\"colab-df-convert\" onclick=\"convertToInteractive('df-7de8187a-8aad-4711-8042-324f57598aba')\"\n",
              "              title=\"Convert this dataframe to an interactive table.\"\n",
              "              style=\"display:none;\">\n",
              "        \n",
              "  <svg xmlns=\"http://www.w3.org/2000/svg\" height=\"24px\"viewBox=\"0 0 24 24\"\n",
              "       width=\"24px\">\n",
              "    <path d=\"M0 0h24v24H0V0z\" fill=\"none\"/>\n",
              "    <path d=\"M18.56 5.44l.94 2.06.94-2.06 2.06-.94-2.06-.94-.94-2.06-.94 2.06-2.06.94zm-11 1L8.5 8.5l.94-2.06 2.06-.94-2.06-.94L8.5 2.5l-.94 2.06-2.06.94zm10 10l.94 2.06.94-2.06 2.06-.94-2.06-.94-.94-2.06-.94 2.06-2.06.94z\"/><path d=\"M17.41 7.96l-1.37-1.37c-.4-.4-.92-.59-1.43-.59-.52 0-1.04.2-1.43.59L10.3 9.45l-7.72 7.72c-.78.78-.78 2.05 0 2.83L4 21.41c.39.39.9.59 1.41.59.51 0 1.02-.2 1.41-.59l7.78-7.78 2.81-2.81c.8-.78.8-2.07 0-2.86zM5.41 20L4 18.59l7.72-7.72 1.47 1.35L5.41 20z\"/>\n",
              "  </svg>\n",
              "      </button>\n",
              "      \n",
              "  <style>\n",
              "    .colab-df-container {\n",
              "      display:flex;\n",
              "      flex-wrap:wrap;\n",
              "      gap: 12px;\n",
              "    }\n",
              "\n",
              "    .colab-df-convert {\n",
              "      background-color: #E8F0FE;\n",
              "      border: none;\n",
              "      border-radius: 50%;\n",
              "      cursor: pointer;\n",
              "      display: none;\n",
              "      fill: #1967D2;\n",
              "      height: 32px;\n",
              "      padding: 0 0 0 0;\n",
              "      width: 32px;\n",
              "    }\n",
              "\n",
              "    .colab-df-convert:hover {\n",
              "      background-color: #E2EBFA;\n",
              "      box-shadow: 0px 1px 2px rgba(60, 64, 67, 0.3), 0px 1px 3px 1px rgba(60, 64, 67, 0.15);\n",
              "      fill: #174EA6;\n",
              "    }\n",
              "\n",
              "    [theme=dark] .colab-df-convert {\n",
              "      background-color: #3B4455;\n",
              "      fill: #D2E3FC;\n",
              "    }\n",
              "\n",
              "    [theme=dark] .colab-df-convert:hover {\n",
              "      background-color: #434B5C;\n",
              "      box-shadow: 0px 1px 3px 1px rgba(0, 0, 0, 0.15);\n",
              "      filter: drop-shadow(0px 1px 2px rgba(0, 0, 0, 0.3));\n",
              "      fill: #FFFFFF;\n",
              "    }\n",
              "  </style>\n",
              "\n",
              "      <script>\n",
              "        const buttonEl =\n",
              "          document.querySelector('#df-7de8187a-8aad-4711-8042-324f57598aba button.colab-df-convert');\n",
              "        buttonEl.style.display =\n",
              "          google.colab.kernel.accessAllowed ? 'block' : 'none';\n",
              "\n",
              "        async function convertToInteractive(key) {\n",
              "          const element = document.querySelector('#df-7de8187a-8aad-4711-8042-324f57598aba');\n",
              "          const dataTable =\n",
              "            await google.colab.kernel.invokeFunction('convertToInteractive',\n",
              "                                                     [key], {});\n",
              "          if (!dataTable) return;\n",
              "\n",
              "          const docLinkHtml = 'Like what you see? Visit the ' +\n",
              "            '<a target=\"_blank\" href=https://colab.research.google.com/notebooks/data_table.ipynb>data table notebook</a>'\n",
              "            + ' to learn more about interactive tables.';\n",
              "          element.innerHTML = '';\n",
              "          dataTable['output_type'] = 'display_data';\n",
              "          await google.colab.output.renderOutput(dataTable, element);\n",
              "          const docLink = document.createElement('div');\n",
              "          docLink.innerHTML = docLinkHtml;\n",
              "          element.appendChild(docLink);\n",
              "        }\n",
              "      </script>\n",
              "    </div>\n",
              "  </div>\n",
              "  "
            ]
          },
          "metadata": {},
          "execution_count": 39
        }
      ]
    },
    {
      "cell_type": "markdown",
      "source": [
        "## Data Filtering and Tranformation"
      ],
      "metadata": {
        "id": "n1xDk_pMlBPo"
      }
    },
    {
      "cell_type": "markdown",
      "source": [
        "Normalize disease codes i.e we select only the first three characters of the ICD9_CODE representing only the high level category of the disease."
      ],
      "metadata": {
        "id": "BD7yzn3DoFCd"
      }
    },
    {
      "cell_type": "code",
      "source": [
        "df_icd_codes.dropna()\n",
        "df_icd_codes['ICD9_CODE'] = df_icd_codes['ICD9_CODE'].astype(\"string\")"
      ],
      "metadata": {
        "id": "zIOM101sr5qI"
      },
      "execution_count": 40,
      "outputs": []
    },
    {
      "cell_type": "code",
      "source": [
        "df_icd_codes.head(5)"
      ],
      "metadata": {
        "colab": {
          "base_uri": "https://localhost:8080/",
          "height": 206
        },
        "id": "WXo5I70PwFCJ",
        "outputId": "864eb04b-4b2e-4097-f3b3-a71fa1c738a2"
      },
      "execution_count": 41,
      "outputs": [
        {
          "output_type": "execute_result",
          "data": {
            "text/plain": [
              "   ROW_ID  SUBJECT_ID  HADM_ID  SEQ_NUM ICD9_CODE\n",
              "0    1297         109   172335      1.0     40301\n",
              "1    1298         109   172335      2.0       486\n",
              "2    1299         109   172335      3.0     58281\n",
              "3    1300         109   172335      4.0      5855\n",
              "4    1301         109   172335      5.0      4254"
            ],
            "text/html": [
              "\n",
              "  <div id=\"df-9f223fd0-7dd4-4361-b1e8-0fa9096c2f1c\">\n",
              "    <div class=\"colab-df-container\">\n",
              "      <div>\n",
              "<style scoped>\n",
              "    .dataframe tbody tr th:only-of-type {\n",
              "        vertical-align: middle;\n",
              "    }\n",
              "\n",
              "    .dataframe tbody tr th {\n",
              "        vertical-align: top;\n",
              "    }\n",
              "\n",
              "    .dataframe thead th {\n",
              "        text-align: right;\n",
              "    }\n",
              "</style>\n",
              "<table border=\"1\" class=\"dataframe\">\n",
              "  <thead>\n",
              "    <tr style=\"text-align: right;\">\n",
              "      <th></th>\n",
              "      <th>ROW_ID</th>\n",
              "      <th>SUBJECT_ID</th>\n",
              "      <th>HADM_ID</th>\n",
              "      <th>SEQ_NUM</th>\n",
              "      <th>ICD9_CODE</th>\n",
              "    </tr>\n",
              "  </thead>\n",
              "  <tbody>\n",
              "    <tr>\n",
              "      <th>0</th>\n",
              "      <td>1297</td>\n",
              "      <td>109</td>\n",
              "      <td>172335</td>\n",
              "      <td>1.0</td>\n",
              "      <td>40301</td>\n",
              "    </tr>\n",
              "    <tr>\n",
              "      <th>1</th>\n",
              "      <td>1298</td>\n",
              "      <td>109</td>\n",
              "      <td>172335</td>\n",
              "      <td>2.0</td>\n",
              "      <td>486</td>\n",
              "    </tr>\n",
              "    <tr>\n",
              "      <th>2</th>\n",
              "      <td>1299</td>\n",
              "      <td>109</td>\n",
              "      <td>172335</td>\n",
              "      <td>3.0</td>\n",
              "      <td>58281</td>\n",
              "    </tr>\n",
              "    <tr>\n",
              "      <th>3</th>\n",
              "      <td>1300</td>\n",
              "      <td>109</td>\n",
              "      <td>172335</td>\n",
              "      <td>4.0</td>\n",
              "      <td>5855</td>\n",
              "    </tr>\n",
              "    <tr>\n",
              "      <th>4</th>\n",
              "      <td>1301</td>\n",
              "      <td>109</td>\n",
              "      <td>172335</td>\n",
              "      <td>5.0</td>\n",
              "      <td>4254</td>\n",
              "    </tr>\n",
              "  </tbody>\n",
              "</table>\n",
              "</div>\n",
              "      <button class=\"colab-df-convert\" onclick=\"convertToInteractive('df-9f223fd0-7dd4-4361-b1e8-0fa9096c2f1c')\"\n",
              "              title=\"Convert this dataframe to an interactive table.\"\n",
              "              style=\"display:none;\">\n",
              "        \n",
              "  <svg xmlns=\"http://www.w3.org/2000/svg\" height=\"24px\"viewBox=\"0 0 24 24\"\n",
              "       width=\"24px\">\n",
              "    <path d=\"M0 0h24v24H0V0z\" fill=\"none\"/>\n",
              "    <path d=\"M18.56 5.44l.94 2.06.94-2.06 2.06-.94-2.06-.94-.94-2.06-.94 2.06-2.06.94zm-11 1L8.5 8.5l.94-2.06 2.06-.94-2.06-.94L8.5 2.5l-.94 2.06-2.06.94zm10 10l.94 2.06.94-2.06 2.06-.94-2.06-.94-.94-2.06-.94 2.06-2.06.94z\"/><path d=\"M17.41 7.96l-1.37-1.37c-.4-.4-.92-.59-1.43-.59-.52 0-1.04.2-1.43.59L10.3 9.45l-7.72 7.72c-.78.78-.78 2.05 0 2.83L4 21.41c.39.39.9.59 1.41.59.51 0 1.02-.2 1.41-.59l7.78-7.78 2.81-2.81c.8-.78.8-2.07 0-2.86zM5.41 20L4 18.59l7.72-7.72 1.47 1.35L5.41 20z\"/>\n",
              "  </svg>\n",
              "      </button>\n",
              "      \n",
              "  <style>\n",
              "    .colab-df-container {\n",
              "      display:flex;\n",
              "      flex-wrap:wrap;\n",
              "      gap: 12px;\n",
              "    }\n",
              "\n",
              "    .colab-df-convert {\n",
              "      background-color: #E8F0FE;\n",
              "      border: none;\n",
              "      border-radius: 50%;\n",
              "      cursor: pointer;\n",
              "      display: none;\n",
              "      fill: #1967D2;\n",
              "      height: 32px;\n",
              "      padding: 0 0 0 0;\n",
              "      width: 32px;\n",
              "    }\n",
              "\n",
              "    .colab-df-convert:hover {\n",
              "      background-color: #E2EBFA;\n",
              "      box-shadow: 0px 1px 2px rgba(60, 64, 67, 0.3), 0px 1px 3px 1px rgba(60, 64, 67, 0.15);\n",
              "      fill: #174EA6;\n",
              "    }\n",
              "\n",
              "    [theme=dark] .colab-df-convert {\n",
              "      background-color: #3B4455;\n",
              "      fill: #D2E3FC;\n",
              "    }\n",
              "\n",
              "    [theme=dark] .colab-df-convert:hover {\n",
              "      background-color: #434B5C;\n",
              "      box-shadow: 0px 1px 3px 1px rgba(0, 0, 0, 0.15);\n",
              "      filter: drop-shadow(0px 1px 2px rgba(0, 0, 0, 0.3));\n",
              "      fill: #FFFFFF;\n",
              "    }\n",
              "  </style>\n",
              "\n",
              "      <script>\n",
              "        const buttonEl =\n",
              "          document.querySelector('#df-9f223fd0-7dd4-4361-b1e8-0fa9096c2f1c button.colab-df-convert');\n",
              "        buttonEl.style.display =\n",
              "          google.colab.kernel.accessAllowed ? 'block' : 'none';\n",
              "\n",
              "        async function convertToInteractive(key) {\n",
              "          const element = document.querySelector('#df-9f223fd0-7dd4-4361-b1e8-0fa9096c2f1c');\n",
              "          const dataTable =\n",
              "            await google.colab.kernel.invokeFunction('convertToInteractive',\n",
              "                                                     [key], {});\n",
              "          if (!dataTable) return;\n",
              "\n",
              "          const docLinkHtml = 'Like what you see? Visit the ' +\n",
              "            '<a target=\"_blank\" href=https://colab.research.google.com/notebooks/data_table.ipynb>data table notebook</a>'\n",
              "            + ' to learn more about interactive tables.';\n",
              "          element.innerHTML = '';\n",
              "          dataTable['output_type'] = 'display_data';\n",
              "          await google.colab.output.renderOutput(dataTable, element);\n",
              "          const docLink = document.createElement('div');\n",
              "          docLink.innerHTML = docLinkHtml;\n",
              "          element.appendChild(docLink);\n",
              "        }\n",
              "      </script>\n",
              "    </div>\n",
              "  </div>\n",
              "  "
            ]
          },
          "metadata": {},
          "execution_count": 41
        }
      ]
    },
    {
      "cell_type": "markdown",
      "source": [
        "Get top #50 ICD9 codes and create an index for each code."
      ],
      "metadata": {
        "id": "wIKf6j0HArw7"
      }
    },
    {
      "cell_type": "code",
      "source": [
        "counts = df_icd_codes[\"ICD9_CODE\"].value_counts().head(50)\n",
        "top_icd_codes = counts.index.to_list()\n",
        "\n",
        "sorted_top_icd_codes = sorted(top_icd_codes)\n",
        "icd_code_to_idx = dict((k, v) for v, k in enumerate(sorted_top_icd_codes))"
      ],
      "metadata": {
        "id": "jNY4o2-_PsJD"
      },
      "execution_count": 42,
      "outputs": []
    },
    {
      "cell_type": "markdown",
      "source": [
        "Filter data to include admimission with top 50 diseases only and group and reorganize data in the following format <subject_id, hadm_id, [icd_code1, icd_code2 ...]>"
      ],
      "metadata": {
        "id": "3wSpzZYNpeIv"
      }
    },
    {
      "cell_type": "code",
      "source": [
        "df_admissions_with_top_diseases = \\\n",
        "df_icd_codes[df_icd_codes[\"ICD9_CODE\"].isin(top_icd_codes)]\n",
        "\n",
        "df_admissions_with_top_diseases = \\\n",
        "df_admissions_with_top_diseases.groupby(\n",
        "['SUBJECT_ID', 'HADM_ID'])['ICD9_CODE'].apply(\n",
        "        list).to_frame().reset_index()"
      ],
      "metadata": {
        "id": "zCBDPURVB2C5"
      },
      "execution_count": 43,
      "outputs": []
    },
    {
      "cell_type": "markdown",
      "source": [
        "Now select discharge summaries for the admimissions that contain atleast one of the top #50 ICD codes."
      ],
      "metadata": {
        "id": "5lLEQXITBIyU"
      }
    },
    {
      "cell_type": "code",
      "source": [
        "df_dataset = pd.merge(df, df_admissions_with_top_diseases, \n",
        "                       on=[\"SUBJECT_ID\", \"HADM_ID\"])\n",
        "\n",
        "df_dataset = df_dataset[df_dataset[\"CATEGORY\"] \n",
        "                          == 'Discharge summary'].reset_index()"
      ],
      "metadata": {
        "id": "BGIpZW0wfKaO"
      },
      "execution_count": 44,
      "outputs": []
    },
    {
      "cell_type": "markdown",
      "source": [
        "So our dataset now looks like this."
      ],
      "metadata": {
        "id": "z9cOWY2jQHsK"
      }
    },
    {
      "cell_type": "code",
      "source": [
        "df_dataset = df_dataset[[\"SUBJECT_ID\", \"HADM_ID\", \"TEXT\", \"ICD9_CODE\"]]\n",
        "df_dataset.head(3)"
      ],
      "metadata": {
        "colab": {
          "base_uri": "https://localhost:8080/",
          "height": 143
        },
        "id": "mJmeYMT3xiTE",
        "outputId": "41b13cd9-e258-4481-80fb-e6bd2bca8090"
      },
      "execution_count": 45,
      "outputs": [
        {
          "output_type": "execute_result",
          "data": {
            "text/plain": [
              "   SUBJECT_ID   HADM_ID                                               TEXT  \\\n",
              "0       22532  167853.0  Admission Date:  [**2151-7-16**]       Dischar...   \n",
              "1       22532  167853.0  Admission Date:  [**2151-7-16**]       Dischar...   \n",
              "2       13702  107527.0  Admission Date:  [**2118-6-2**]       Discharg...   \n",
              "\n",
              "                       ICD9_CODE  \n",
              "0      [42731, 2762, 5070, 5119]  \n",
              "1      [42731, 2762, 5070, 5119]  \n",
              "2  [51881, 486, 2761, 2449, 311]  "
            ],
            "text/html": [
              "\n",
              "  <div id=\"df-3bcf2325-309d-4e3c-bf26-5113d0dbe8ed\">\n",
              "    <div class=\"colab-df-container\">\n",
              "      <div>\n",
              "<style scoped>\n",
              "    .dataframe tbody tr th:only-of-type {\n",
              "        vertical-align: middle;\n",
              "    }\n",
              "\n",
              "    .dataframe tbody tr th {\n",
              "        vertical-align: top;\n",
              "    }\n",
              "\n",
              "    .dataframe thead th {\n",
              "        text-align: right;\n",
              "    }\n",
              "</style>\n",
              "<table border=\"1\" class=\"dataframe\">\n",
              "  <thead>\n",
              "    <tr style=\"text-align: right;\">\n",
              "      <th></th>\n",
              "      <th>SUBJECT_ID</th>\n",
              "      <th>HADM_ID</th>\n",
              "      <th>TEXT</th>\n",
              "      <th>ICD9_CODE</th>\n",
              "    </tr>\n",
              "  </thead>\n",
              "  <tbody>\n",
              "    <tr>\n",
              "      <th>0</th>\n",
              "      <td>22532</td>\n",
              "      <td>167853.0</td>\n",
              "      <td>Admission Date:  [**2151-7-16**]       Dischar...</td>\n",
              "      <td>[42731, 2762, 5070, 5119]</td>\n",
              "    </tr>\n",
              "    <tr>\n",
              "      <th>1</th>\n",
              "      <td>22532</td>\n",
              "      <td>167853.0</td>\n",
              "      <td>Admission Date:  [**2151-7-16**]       Dischar...</td>\n",
              "      <td>[42731, 2762, 5070, 5119]</td>\n",
              "    </tr>\n",
              "    <tr>\n",
              "      <th>2</th>\n",
              "      <td>13702</td>\n",
              "      <td>107527.0</td>\n",
              "      <td>Admission Date:  [**2118-6-2**]       Discharg...</td>\n",
              "      <td>[51881, 486, 2761, 2449, 311]</td>\n",
              "    </tr>\n",
              "  </tbody>\n",
              "</table>\n",
              "</div>\n",
              "      <button class=\"colab-df-convert\" onclick=\"convertToInteractive('df-3bcf2325-309d-4e3c-bf26-5113d0dbe8ed')\"\n",
              "              title=\"Convert this dataframe to an interactive table.\"\n",
              "              style=\"display:none;\">\n",
              "        \n",
              "  <svg xmlns=\"http://www.w3.org/2000/svg\" height=\"24px\"viewBox=\"0 0 24 24\"\n",
              "       width=\"24px\">\n",
              "    <path d=\"M0 0h24v24H0V0z\" fill=\"none\"/>\n",
              "    <path d=\"M18.56 5.44l.94 2.06.94-2.06 2.06-.94-2.06-.94-.94-2.06-.94 2.06-2.06.94zm-11 1L8.5 8.5l.94-2.06 2.06-.94-2.06-.94L8.5 2.5l-.94 2.06-2.06.94zm10 10l.94 2.06.94-2.06 2.06-.94-2.06-.94-.94-2.06-.94 2.06-2.06.94z\"/><path d=\"M17.41 7.96l-1.37-1.37c-.4-.4-.92-.59-1.43-.59-.52 0-1.04.2-1.43.59L10.3 9.45l-7.72 7.72c-.78.78-.78 2.05 0 2.83L4 21.41c.39.39.9.59 1.41.59.51 0 1.02-.2 1.41-.59l7.78-7.78 2.81-2.81c.8-.78.8-2.07 0-2.86zM5.41 20L4 18.59l7.72-7.72 1.47 1.35L5.41 20z\"/>\n",
              "  </svg>\n",
              "      </button>\n",
              "      \n",
              "  <style>\n",
              "    .colab-df-container {\n",
              "      display:flex;\n",
              "      flex-wrap:wrap;\n",
              "      gap: 12px;\n",
              "    }\n",
              "\n",
              "    .colab-df-convert {\n",
              "      background-color: #E8F0FE;\n",
              "      border: none;\n",
              "      border-radius: 50%;\n",
              "      cursor: pointer;\n",
              "      display: none;\n",
              "      fill: #1967D2;\n",
              "      height: 32px;\n",
              "      padding: 0 0 0 0;\n",
              "      width: 32px;\n",
              "    }\n",
              "\n",
              "    .colab-df-convert:hover {\n",
              "      background-color: #E2EBFA;\n",
              "      box-shadow: 0px 1px 2px rgba(60, 64, 67, 0.3), 0px 1px 3px 1px rgba(60, 64, 67, 0.15);\n",
              "      fill: #174EA6;\n",
              "    }\n",
              "\n",
              "    [theme=dark] .colab-df-convert {\n",
              "      background-color: #3B4455;\n",
              "      fill: #D2E3FC;\n",
              "    }\n",
              "\n",
              "    [theme=dark] .colab-df-convert:hover {\n",
              "      background-color: #434B5C;\n",
              "      box-shadow: 0px 1px 3px 1px rgba(0, 0, 0, 0.15);\n",
              "      filter: drop-shadow(0px 1px 2px rgba(0, 0, 0, 0.3));\n",
              "      fill: #FFFFFF;\n",
              "    }\n",
              "  </style>\n",
              "\n",
              "      <script>\n",
              "        const buttonEl =\n",
              "          document.querySelector('#df-3bcf2325-309d-4e3c-bf26-5113d0dbe8ed button.colab-df-convert');\n",
              "        buttonEl.style.display =\n",
              "          google.colab.kernel.accessAllowed ? 'block' : 'none';\n",
              "\n",
              "        async function convertToInteractive(key) {\n",
              "          const element = document.querySelector('#df-3bcf2325-309d-4e3c-bf26-5113d0dbe8ed');\n",
              "          const dataTable =\n",
              "            await google.colab.kernel.invokeFunction('convertToInteractive',\n",
              "                                                     [key], {});\n",
              "          if (!dataTable) return;\n",
              "\n",
              "          const docLinkHtml = 'Like what you see? Visit the ' +\n",
              "            '<a target=\"_blank\" href=https://colab.research.google.com/notebooks/data_table.ipynb>data table notebook</a>'\n",
              "            + ' to learn more about interactive tables.';\n",
              "          element.innerHTML = '';\n",
              "          dataTable['output_type'] = 'display_data';\n",
              "          await google.colab.output.renderOutput(dataTable, element);\n",
              "          const docLink = document.createElement('div');\n",
              "          docLink.innerHTML = docLinkHtml;\n",
              "          element.appendChild(docLink);\n",
              "        }\n",
              "      </script>\n",
              "    </div>\n",
              "  </div>\n",
              "  "
            ]
          },
          "metadata": {},
          "execution_count": 45
        }
      ]
    },
    {
      "cell_type": "code",
      "source": [
        "df_dataset.to_csv(f\"{PROJECT_PATH}/mimic3/df_dataset.csv\")"
      ],
      "metadata": {
        "id": "qdxOPD_hLhz_"
      },
      "execution_count": 63,
      "outputs": []
    },
    {
      "cell_type": "markdown",
      "source": [
        "## Text Processing Utilities"
      ],
      "metadata": {
        "id": "8S0aC63Sz4FZ"
      }
    },
    {
      "cell_type": "code",
      "source": [
        "def sanitize_text(text):\n",
        "      test = text.strip()\n",
        "      text = re.sub(r'\\s\\s+', ' ', text)\n",
        "      text = re.sub(r'[^a-zA-z0-9\\/\\.\\?\\!\\s;,\\'\\-]', '', text)\n",
        "      text = re.sub(r'[\\.\\-\\/\\?\\!;,]', ' ', text)\n",
        "      text = re.sub(r'[\\[\\]]', '', text)\n",
        "      return text"
      ],
      "metadata": {
        "id": "qwZCHuuGz8Mc"
      },
      "execution_count": 53,
      "outputs": []
    },
    {
      "cell_type": "code",
      "source": [
        "# TODO: adding some basic checks again need to make it better.\n",
        "def sanitize_words(sentence):\n",
        "  return [w.lower() for w in sentence if w not in eng_stop_words and not w.isdigit()]"
      ],
      "metadata": {
        "id": "ougAgJK80FbE"
      },
      "execution_count": 54,
      "outputs": []
    },
    {
      "cell_type": "markdown",
      "source": [
        "## Generate Word2Vec Embeddings"
      ],
      "metadata": {
        "id": "RIwaO1C1td27"
      }
    },
    {
      "cell_type": "markdown",
      "source": [
        "### Text Extraction Utility"
      ],
      "metadata": {
        "id": "fK9-70r1YfPn"
      }
    },
    {
      "cell_type": "code",
      "source": [
        "import re\n",
        "import nltk\n",
        "\n",
        "from nltk.corpus import stopwords\n",
        "nltk.download('stopwords')\n",
        "\n",
        "eng_stop_words =  stopwords.words('english')\n",
        "\n",
        "class MySentences(object):\n",
        "    def __init__(self, dframe):\n",
        "        self.dframe = dframe\n",
        "\n",
        "    def __iter__(self):\n",
        "        for idx in range(len(self.dframe)):\n",
        "          text = sanitize_text(self.dframe[\"TEXT\"][idx])\n",
        "          yield sanitize_words(text.split())"
      ],
      "metadata": {
        "colab": {
          "base_uri": "https://localhost:8080/"
        },
        "id": "x_FLXtt3YoNV",
        "outputId": "dafc1ab1-b439-4fad-8d70-33185f5604d5"
      },
      "execution_count": 55,
      "outputs": [
        {
          "output_type": "stream",
          "name": "stdout",
          "text": [
            "[nltk_data] Downloading package stopwords to /root/nltk_data...\n",
            "[nltk_data]   Package stopwords is already up-to-date!\n"
          ]
        }
      ]
    },
    {
      "cell_type": "markdown",
      "source": [
        "We generate Word2Vec embeddings on the raw discharge summary text. These embeddings will be used later when we extract only the symptoms from the dischage summaries and generate Word2Vec embedding for those symptoms. \n",
        "\n",
        "Note: This step needs to be done only once before start the of project."
      ],
      "metadata": {
        "id": "taHoY3XCAv3J"
      }
    },
    {
      "cell_type": "code",
      "execution_count": 56,
      "metadata": {
        "id": "xElMsqPx0sc9"
      },
      "outputs": [],
      "source": [
        "# NOTE: We only need to perform this once at the start of the project.\n",
        "w2v_model_path = W2V_MODEL_PATH\n",
        "if not path.exists(w2v_model_path):\n",
        "  sgen = MySentences(df_dataset) # a memory-friendly iterator\n",
        "  model = gensim.models.Word2Vec(sgen, min_count=5, \n",
        "                                 vector_size=W2V_EMB_SIZE, \n",
        "                                 window=5, sg=1, \n",
        "                                 workers=4, sample=1e-05)\n",
        "  model.save(w2v_model_path)"
      ]
    },
    {
      "cell_type": "markdown",
      "source": [
        "## Symptom Extraction Using BERT"
      ],
      "metadata": {
        "id": "ptlioc9saM5-"
      }
    },
    {
      "cell_type": "markdown",
      "source": [
        "### Symptom Extraction Utility"
      ],
      "metadata": {
        "id": "YsbgOVq2YYit"
      }
    },
    {
      "cell_type": "markdown",
      "source": [
        "Performs data cleaning, curation and symptom extraction using pre-trained BERT model on clinical text."
      ],
      "metadata": {
        "id": "Zz9WPSrjOCoP"
      }
    },
    {
      "cell_type": "code",
      "execution_count": 57,
      "metadata": {
        "id": "TV7TblwfIxta",
        "colab": {
          "base_uri": "https://localhost:8080/"
        },
        "outputId": "15e61602-35e7-4463-cd04-8a07ef28b7c8"
      },
      "outputs": [
        {
          "output_type": "stream",
          "name": "stdout",
          "text": [
            "[nltk_data] Downloading package stopwords to /root/nltk_data...\n",
            "[nltk_data]   Package stopwords is already up-to-date!\n"
          ]
        }
      ],
      "source": [
        "from typing import List\n",
        "import re\n",
        "import nltk\n",
        "from transformers import AutoTokenizer, pipeline,  AutoModelForTokenClassification\n",
        "\n",
        "from nltk.corpus import stopwords\n",
        "nltk.download('stopwords')\n",
        "\n",
        "eng_stop_words =  stopwords.words('english')\n",
        "\n",
        "class MySymptoms(object):\n",
        "    def __init__(self, dframe):\n",
        "        self.dframe = dframe\n",
        "        tokenizer = AutoTokenizer.from_pretrained(\n",
        "            \"samrawal/bert-base-uncased_clinical-ner\")\n",
        "        model = AutoModelForTokenClassification.from_pretrained(\n",
        "            \"samrawal/bert-base-uncased_clinical-ner\")\n",
        "        symptom_extractor = pipeline('ner', model=model, tokenizer=tokenizer,\n",
        "                                     device=0)\n",
        "        text_anno = symptom_extractor(self.dframe[\"TEXT\"].tolist(), \n",
        "                                           batch_size=256)\n",
        "        self.data = list(zip(text_anno, self.dframe[\"TEXT\"].tolist()))        \n",
        "\n",
        "    def extract_symptoms(self, input_anno_text) -> List[str]:\n",
        "      \"\"\"\n",
        "      The method extract the symptom phrases from the input\n",
        "      \"\"\"\n",
        "      extractions, text = input_anno_text\n",
        "      span_extract = []\n",
        "      for extract in extractions:\n",
        "        if 'problem' in extract['entity']:\n",
        "          span_extract.append((extract['start'], extract['end']))\n",
        "\n",
        "      # Check if this span_extract is empty\n",
        "      if not span_extract:\n",
        "        return []\n",
        "      \n",
        "      span_st = span_extract[0][0]\n",
        "      final_span = []\n",
        "      final_end = span_extract[0][1]\n",
        "      for idx, (st, end) in enumerate(span_extract):\n",
        "        if idx == 0:\n",
        "          continue\n",
        "        if st - span_extract[idx-1][1] <= 2:\n",
        "          final_end = end\n",
        "          if idx == len(span_extract) - 1:\n",
        "            final_span.append((span_st, final_end))\n",
        "        else:\n",
        "          final_span.append((span_st, final_end))\n",
        "          span_st = st\n",
        "          final_end = end\n",
        "\n",
        "      text_extracts = [text[st:end].replace(\"\\n\", \" \") for st, end in final_span]\n",
        "      return text_extracts\n",
        "\n",
        "    def __iter__(self):\n",
        "        for idx in range(len(self.dframe)):\n",
        "          symptoms = \" \".join(self.extract_symptoms(self.data[idx]))\n",
        "          text = sanitize_text(symptoms)\n",
        "          yield sanitize_words(text.split())"
      ]
    },
    {
      "cell_type": "markdown",
      "source": [
        "Now, extract only the phrases related to symptoms using pre-trained BERT model on clinical test from the discharge summary. In the paper the authoes have used MetaMap for this, we could not access MetaMap in time so we are using an alternate method. We intend to run our experiment with MetaMap during our final implementation.\n",
        "\n"
      ],
      "metadata": {
        "id": "rAtNNVUmCdw3"
      }
    },
    {
      "cell_type": "code",
      "source": [
        "from tqdm import tqdm\n",
        "from os import path\n",
        "\n",
        "\n",
        "df_dataset_bert = None\n",
        "\n",
        "dataset_path = f\"{PROJECT_PATH}/mimic3/df_dataset_bert.csv\"\n",
        "if not path.exists(dataset_path):\n",
        "  # make a copy for transformations.\n",
        "  df_dataset_bert = df_dataset.copy()  \n",
        "  sgen = MySymptoms(df_dataset_bert)\n",
        "  symptom_col = list()\n",
        "  for s in tqdm(sgen):\n",
        "    symptom_col.append(s)\n",
        "  # add the new column to the dataset.\n",
        "  df_dataset_bert[\"SYMPTOMS\"] = symptom_col\n",
        "  df_dataset_bert = df_dataset_bert[df_dataset_bert.apply(lambda x: len(x.SYMPTOMS) > 0, axis=1)]\n",
        "  df_dataset_bert = df_dataset_bert.reset_index()\n",
        "else:\n",
        "  df_dataset_bert = pd.read_csv(f\"{PROJECT_PATH}/mimic3/df_dataset-bert.csv\",\n",
        "                  converters={'SYMPTOMS': eval, 'ICD9_CODE': eval})"
      ],
      "metadata": {
        "colab": {
          "base_uri": "https://localhost:8080/",
          "height": 35
        },
        "id": "GFO96uEPsVC6",
        "outputId": "167fbc6f-79bc-46e9-f015-e4d1d5a24bb4"
      },
      "execution_count": 58,
      "outputs": [
        {
          "output_type": "stream",
          "name": "stderr",
          "text": [
            "55988it [00:12, 4562.57it/s]\n"
          ]
        }
      ]
    },
    {
      "cell_type": "code",
      "source": [
        "df_dataset_bert.head(5)"
      ],
      "metadata": {
        "colab": {
          "base_uri": "https://localhost:8080/",
          "height": 337
        },
        "id": "0pVx7Sct_zD4",
        "outputId": "0f0cb2ad-e55c-4149-d413-8b01f145174a"
      },
      "execution_count": 61,
      "outputs": [
        {
          "output_type": "execute_result",
          "data": {
            "text/plain": [
              "   index  SUBJECT_ID   HADM_ID  \\\n",
              "0      0       22532  167853.0   \n",
              "1      1       22532  167853.0   \n",
              "2      2       13702  107527.0   \n",
              "3      3       13702  167118.0   \n",
              "4      4       13702  196489.0   \n",
              "\n",
              "                                                TEXT  \\\n",
              "0  Admission Date:  [**2151-7-16**]       Dischar...   \n",
              "1  Admission Date:  [**2151-7-16**]       Dischar...   \n",
              "2  Admission Date:  [**2118-6-2**]       Discharg...   \n",
              "3  Admission Date:  [**2119-5-4**]              D...   \n",
              "4  Admission Date:  [**2124-7-21**]              ...   \n",
              "\n",
              "                                     ICD9_CODE  \\\n",
              "0                    [42731, 2762, 5070, 5119]   \n",
              "1                    [42731, 2762, 5070, 5119]   \n",
              "2                [51881, 486, 2761, 2449, 311]   \n",
              "3                                  [496, 2762]   \n",
              "4  [5849, 2760, 2762, 41401, 2724, 2449, 4019]   \n",
              "\n",
              "                                            SYMPTOMS  \n",
              "0  [cavitary, lesions, left, lung, apex, infectio...  \n",
              "1  [productive, cough, lb, weight, loss, shortnes...  \n",
              "2  [emphysema, shortness, breath, copd, flare, fe...  \n",
              "3  [copd, severe, tbm, perc, tr, failed, ach, cop...  \n",
              "4  [copd, exacerbation, shortness, breath, troduo...  "
            ],
            "text/html": [
              "\n",
              "  <div id=\"df-73d96394-b777-4acc-a6cd-5f1a5f17b19e\">\n",
              "    <div class=\"colab-df-container\">\n",
              "      <div>\n",
              "<style scoped>\n",
              "    .dataframe tbody tr th:only-of-type {\n",
              "        vertical-align: middle;\n",
              "    }\n",
              "\n",
              "    .dataframe tbody tr th {\n",
              "        vertical-align: top;\n",
              "    }\n",
              "\n",
              "    .dataframe thead th {\n",
              "        text-align: right;\n",
              "    }\n",
              "</style>\n",
              "<table border=\"1\" class=\"dataframe\">\n",
              "  <thead>\n",
              "    <tr style=\"text-align: right;\">\n",
              "      <th></th>\n",
              "      <th>index</th>\n",
              "      <th>SUBJECT_ID</th>\n",
              "      <th>HADM_ID</th>\n",
              "      <th>TEXT</th>\n",
              "      <th>ICD9_CODE</th>\n",
              "      <th>SYMPTOMS</th>\n",
              "    </tr>\n",
              "  </thead>\n",
              "  <tbody>\n",
              "    <tr>\n",
              "      <th>0</th>\n",
              "      <td>0</td>\n",
              "      <td>22532</td>\n",
              "      <td>167853.0</td>\n",
              "      <td>Admission Date:  [**2151-7-16**]       Dischar...</td>\n",
              "      <td>[42731, 2762, 5070, 5119]</td>\n",
              "      <td>[cavitary, lesions, left, lung, apex, infectio...</td>\n",
              "    </tr>\n",
              "    <tr>\n",
              "      <th>1</th>\n",
              "      <td>1</td>\n",
              "      <td>22532</td>\n",
              "      <td>167853.0</td>\n",
              "      <td>Admission Date:  [**2151-7-16**]       Dischar...</td>\n",
              "      <td>[42731, 2762, 5070, 5119]</td>\n",
              "      <td>[productive, cough, lb, weight, loss, shortnes...</td>\n",
              "    </tr>\n",
              "    <tr>\n",
              "      <th>2</th>\n",
              "      <td>2</td>\n",
              "      <td>13702</td>\n",
              "      <td>107527.0</td>\n",
              "      <td>Admission Date:  [**2118-6-2**]       Discharg...</td>\n",
              "      <td>[51881, 486, 2761, 2449, 311]</td>\n",
              "      <td>[emphysema, shortness, breath, copd, flare, fe...</td>\n",
              "    </tr>\n",
              "    <tr>\n",
              "      <th>3</th>\n",
              "      <td>3</td>\n",
              "      <td>13702</td>\n",
              "      <td>167118.0</td>\n",
              "      <td>Admission Date:  [**2119-5-4**]              D...</td>\n",
              "      <td>[496, 2762]</td>\n",
              "      <td>[copd, severe, tbm, perc, tr, failed, ach, cop...</td>\n",
              "    </tr>\n",
              "    <tr>\n",
              "      <th>4</th>\n",
              "      <td>4</td>\n",
              "      <td>13702</td>\n",
              "      <td>196489.0</td>\n",
              "      <td>Admission Date:  [**2124-7-21**]              ...</td>\n",
              "      <td>[5849, 2760, 2762, 41401, 2724, 2449, 4019]</td>\n",
              "      <td>[copd, exacerbation, shortness, breath, troduo...</td>\n",
              "    </tr>\n",
              "  </tbody>\n",
              "</table>\n",
              "</div>\n",
              "      <button class=\"colab-df-convert\" onclick=\"convertToInteractive('df-73d96394-b777-4acc-a6cd-5f1a5f17b19e')\"\n",
              "              title=\"Convert this dataframe to an interactive table.\"\n",
              "              style=\"display:none;\">\n",
              "        \n",
              "  <svg xmlns=\"http://www.w3.org/2000/svg\" height=\"24px\"viewBox=\"0 0 24 24\"\n",
              "       width=\"24px\">\n",
              "    <path d=\"M0 0h24v24H0V0z\" fill=\"none\"/>\n",
              "    <path d=\"M18.56 5.44l.94 2.06.94-2.06 2.06-.94-2.06-.94-.94-2.06-.94 2.06-2.06.94zm-11 1L8.5 8.5l.94-2.06 2.06-.94-2.06-.94L8.5 2.5l-.94 2.06-2.06.94zm10 10l.94 2.06.94-2.06 2.06-.94-2.06-.94-.94-2.06-.94 2.06-2.06.94z\"/><path d=\"M17.41 7.96l-1.37-1.37c-.4-.4-.92-.59-1.43-.59-.52 0-1.04.2-1.43.59L10.3 9.45l-7.72 7.72c-.78.78-.78 2.05 0 2.83L4 21.41c.39.39.9.59 1.41.59.51 0 1.02-.2 1.41-.59l7.78-7.78 2.81-2.81c.8-.78.8-2.07 0-2.86zM5.41 20L4 18.59l7.72-7.72 1.47 1.35L5.41 20z\"/>\n",
              "  </svg>\n",
              "      </button>\n",
              "      \n",
              "  <style>\n",
              "    .colab-df-container {\n",
              "      display:flex;\n",
              "      flex-wrap:wrap;\n",
              "      gap: 12px;\n",
              "    }\n",
              "\n",
              "    .colab-df-convert {\n",
              "      background-color: #E8F0FE;\n",
              "      border: none;\n",
              "      border-radius: 50%;\n",
              "      cursor: pointer;\n",
              "      display: none;\n",
              "      fill: #1967D2;\n",
              "      height: 32px;\n",
              "      padding: 0 0 0 0;\n",
              "      width: 32px;\n",
              "    }\n",
              "\n",
              "    .colab-df-convert:hover {\n",
              "      background-color: #E2EBFA;\n",
              "      box-shadow: 0px 1px 2px rgba(60, 64, 67, 0.3), 0px 1px 3px 1px rgba(60, 64, 67, 0.15);\n",
              "      fill: #174EA6;\n",
              "    }\n",
              "\n",
              "    [theme=dark] .colab-df-convert {\n",
              "      background-color: #3B4455;\n",
              "      fill: #D2E3FC;\n",
              "    }\n",
              "\n",
              "    [theme=dark] .colab-df-convert:hover {\n",
              "      background-color: #434B5C;\n",
              "      box-shadow: 0px 1px 3px 1px rgba(0, 0, 0, 0.15);\n",
              "      filter: drop-shadow(0px 1px 2px rgba(0, 0, 0, 0.3));\n",
              "      fill: #FFFFFF;\n",
              "    }\n",
              "  </style>\n",
              "\n",
              "      <script>\n",
              "        const buttonEl =\n",
              "          document.querySelector('#df-73d96394-b777-4acc-a6cd-5f1a5f17b19e button.colab-df-convert');\n",
              "        buttonEl.style.display =\n",
              "          google.colab.kernel.accessAllowed ? 'block' : 'none';\n",
              "\n",
              "        async function convertToInteractive(key) {\n",
              "          const element = document.querySelector('#df-73d96394-b777-4acc-a6cd-5f1a5f17b19e');\n",
              "          const dataTable =\n",
              "            await google.colab.kernel.invokeFunction('convertToInteractive',\n",
              "                                                     [key], {});\n",
              "          if (!dataTable) return;\n",
              "\n",
              "          const docLinkHtml = 'Like what you see? Visit the ' +\n",
              "            '<a target=\"_blank\" href=https://colab.research.google.com/notebooks/data_table.ipynb>data table notebook</a>'\n",
              "            + ' to learn more about interactive tables.';\n",
              "          element.innerHTML = '';\n",
              "          dataTable['output_type'] = 'display_data';\n",
              "          await google.colab.output.renderOutput(dataTable, element);\n",
              "          const docLink = document.createElement('div');\n",
              "          docLink.innerHTML = docLinkHtml;\n",
              "          element.appendChild(docLink);\n",
              "        }\n",
              "      </script>\n",
              "    </div>\n",
              "  </div>\n",
              "  "
            ]
          },
          "metadata": {},
          "execution_count": 61
        }
      ]
    },
    {
      "cell_type": "markdown",
      "source": [
        "Save the final dataset to disk."
      ],
      "metadata": {
        "id": "RRjzh4vVWHtu"
      }
    },
    {
      "cell_type": "code",
      "source": [
        "df_dataset_bert = df_dataset_bert[[\"SUBJECT_ID\", \"HADM_ID\", \"ICD9_CODE\", \"SYMPTOMS\"]]\n",
        "df_dataset_bert.to_csv(f\"{PROJECT_PATH}/mimic3/df_dataset_bert.csv\")"
      ],
      "metadata": {
        "id": "FdOf2y7w9E_7"
      },
      "execution_count": 62,
      "outputs": []
    },
    {
      "cell_type": "markdown",
      "source": [
        "# Dataset Exploration"
      ],
      "metadata": {
        "id": "kgc2rRz-WBbI"
      }
    },
    {
      "cell_type": "code",
      "source": [
        "codes = [code for codes in df_dataset['ICD9_CODE'].to_list() \\\n",
        "            for code in codes]\n",
        "\n",
        "codes_df = pd.DataFrame({\n",
        "    \"CODES\": codes\n",
        "})\n",
        "\n",
        "code_counts = codes_df.groupby(\"CODES\")[\"CODES\"].count()\n",
        "code_freq = code_counts.sort_values(ascending=False)/len(df_dataset)\n",
        "code_freq.plot.bar(figsize=(20, 10))"
      ],
      "metadata": {
        "colab": {
          "base_uri": "https://localhost:8080/",
          "height": 506
        },
        "id": "bbQQeollUO64",
        "outputId": "1ce0d85b-faf5-4369-9429-2562849638c4"
      },
      "execution_count": 64,
      "outputs": [
        {
          "output_type": "execute_result",
          "data": {
            "text/plain": [
              "<matplotlib.axes._subplots.AxesSubplot at 0x7f32f9768250>"
            ]
          },
          "metadata": {},
          "execution_count": 64
        },
        {
          "output_type": "display_data",
          "data": {
            "text/plain": [
              "<Figure size 1440x720 with 1 Axes>"
            ],
            "image/png": "[encoded data removed]"
          },
          "metadata": {
            "needs_background": "light"
          }
        }
      ]
    },
    {
      "cell_type": "code",
      "source": [
        "symptoms = [symptom for symptoms in df_dataset['SYMPTOMS'].to_list() \\\n",
        "            for symptom in symptoms]\n",
        "\n",
        "symp_df = pd.DataFrame({\n",
        "    \"SYMPTOMS\": symptoms\n",
        "})\n",
        "\n",
        "symptom_counts = symp_df.groupby(\"SYMPTOMS\")[\"SYMPTOMS\"].count()\n",
        "symptom_freq = symptom_counts.sort_values(ascending=False)/len(df_dataset)\n",
        "symptom_freq.head(50).plot.bar(figsize=(20, 10))"
      ],
      "metadata": {
        "colab": {
          "base_uri": "https://localhost:8080/",
          "height": 533
        },
        "id": "hSIG3FgxCQTP",
        "outputId": "f4ad6a7e-dad0-40c9-f449-ca5a40601785"
      },
      "execution_count": 87,
      "outputs": [
        {
          "output_type": "execute_result",
          "data": {
            "text/plain": [
              "<matplotlib.axes._subplots.AxesSubplot at 0x7efb7a171e10>"
            ]
          },
          "metadata": {},
          "execution_count": 87
        },
        {
          "output_type": "display_data",
          "data": {
            "text/plain": [
              "<Figure size 1440x720 with 1 Axes>"
            ],
            "image/png": "[encoded data removed]"
          },
          "metadata": {
            "needs_background": "light"
          }
        }
      ]
    },
    {
      "cell_type": "markdown",
      "source": [
        "# Feature Engineering"
      ],
      "metadata": {
        "id": "EX9tul509p_G"
      }
    },
    {
      "cell_type": "markdown",
      "source": [
        "The data preprocessing steps need to be performed only once during the project (unless of course we change any data preprocessing steps). Now we load the pre-processed data and start constructing our 2 forms of feature vectors for each symptom extracted as mentioned in the paper."
      ],
      "metadata": {
        "id": "xobHFgpe-NZN"
      }
    },
    {
      "cell_type": "code",
      "source": [
        "df_dataset = pd.read_csv(f\"{PROJECT_PATH}/mimic3/df_dataset_bert.csv\",\n",
        "                         converters={'SYMPTOMS': eval, 'ICD9_CODE': eval})"
      ],
      "metadata": {
        "id": "1xnQ8aHmfJq-"
      },
      "execution_count": 71,
      "outputs": []
    },
    {
      "cell_type": "code",
      "source": [
        "df_dataset[[\"SUBJECT_ID\", \"HADM_ID\", \"SYMPTOMS\", \"ICD9_CODE\"]].head(3)"
      ],
      "metadata": {
        "colab": {
          "base_uri": "https://localhost:8080/",
          "height": 143
        },
        "id": "Kkqrqae5fbm2",
        "outputId": "7cf083be-0808-4ec2-f9ca-1c9279d38e67"
      },
      "execution_count": 72,
      "outputs": [
        {
          "output_type": "execute_result",
          "data": {
            "text/plain": [
              "   SUBJECT_ID   HADM_ID                                           SYMPTOMS  \\\n",
              "0       22532  167853.0  [cavitary, lesions, left, lung, apex, infectio...   \n",
              "1       22532  167853.0  [productive, cough, lb, weight, loss, shortnes...   \n",
              "2       13702  107527.0  [emphysema, shortness, breath, copd, flare, fe...   \n",
              "\n",
              "                       ICD9_CODE  \n",
              "0      [42731, 2762, 5070, 5119]  \n",
              "1      [42731, 2762, 5070, 5119]  \n",
              "2  [51881, 486, 2761, 2449, 311]  "
            ],
            "text/html": [
              "\n",
              "  <div id=\"df-1cd15970-ded3-4257-a5e2-de97a25377db\">\n",
              "    <div class=\"colab-df-container\">\n",
              "      <div>\n",
              "<style scoped>\n",
              "    .dataframe tbody tr th:only-of-type {\n",
              "        vertical-align: middle;\n",
              "    }\n",
              "\n",
              "    .dataframe tbody tr th {\n",
              "        vertical-align: top;\n",
              "    }\n",
              "\n",
              "    .dataframe thead th {\n",
              "        text-align: right;\n",
              "    }\n",
              "</style>\n",
              "<table border=\"1\" class=\"dataframe\">\n",
              "  <thead>\n",
              "    <tr style=\"text-align: right;\">\n",
              "      <th></th>\n",
              "      <th>SUBJECT_ID</th>\n",
              "      <th>HADM_ID</th>\n",
              "      <th>SYMPTOMS</th>\n",
              "      <th>ICD9_CODE</th>\n",
              "    </tr>\n",
              "  </thead>\n",
              "  <tbody>\n",
              "    <tr>\n",
              "      <th>0</th>\n",
              "      <td>22532</td>\n",
              "      <td>167853.0</td>\n",
              "      <td>[cavitary, lesions, left, lung, apex, infectio...</td>\n",
              "      <td>[42731, 2762, 5070, 5119]</td>\n",
              "    </tr>\n",
              "    <tr>\n",
              "      <th>1</th>\n",
              "      <td>22532</td>\n",
              "      <td>167853.0</td>\n",
              "      <td>[productive, cough, lb, weight, loss, shortnes...</td>\n",
              "      <td>[42731, 2762, 5070, 5119]</td>\n",
              "    </tr>\n",
              "    <tr>\n",
              "      <th>2</th>\n",
              "      <td>13702</td>\n",
              "      <td>107527.0</td>\n",
              "      <td>[emphysema, shortness, breath, copd, flare, fe...</td>\n",
              "      <td>[51881, 486, 2761, 2449, 311]</td>\n",
              "    </tr>\n",
              "  </tbody>\n",
              "</table>\n",
              "</div>\n",
              "      <button class=\"colab-df-convert\" onclick=\"convertToInteractive('df-1cd15970-ded3-4257-a5e2-de97a25377db')\"\n",
              "              title=\"Convert this dataframe to an interactive table.\"\n",
              "              style=\"display:none;\">\n",
              "        \n",
              "  <svg xmlns=\"http://www.w3.org/2000/svg\" height=\"24px\"viewBox=\"0 0 24 24\"\n",
              "       width=\"24px\">\n",
              "    <path d=\"M0 0h24v24H0V0z\" fill=\"none\"/>\n",
              "    <path d=\"M18.56 5.44l.94 2.06.94-2.06 2.06-.94-2.06-.94-.94-2.06-.94 2.06-2.06.94zm-11 1L8.5 8.5l.94-2.06 2.06-.94-2.06-.94L8.5 2.5l-.94 2.06-2.06.94zm10 10l.94 2.06.94-2.06 2.06-.94-2.06-.94-.94-2.06-.94 2.06-2.06.94z\"/><path d=\"M17.41 7.96l-1.37-1.37c-.4-.4-.92-.59-1.43-.59-.52 0-1.04.2-1.43.59L10.3 9.45l-7.72 7.72c-.78.78-.78 2.05 0 2.83L4 21.41c.39.39.9.59 1.41.59.51 0 1.02-.2 1.41-.59l7.78-7.78 2.81-2.81c.8-.78.8-2.07 0-2.86zM5.41 20L4 18.59l7.72-7.72 1.47 1.35L5.41 20z\"/>\n",
              "  </svg>\n",
              "      </button>\n",
              "      \n",
              "  <style>\n",
              "    .colab-df-container {\n",
              "      display:flex;\n",
              "      flex-wrap:wrap;\n",
              "      gap: 12px;\n",
              "    }\n",
              "\n",
              "    .colab-df-convert {\n",
              "      background-color: #E8F0FE;\n",
              "      border: none;\n",
              "      border-radius: 50%;\n",
              "      cursor: pointer;\n",
              "      display: none;\n",
              "      fill: #1967D2;\n",
              "      height: 32px;\n",
              "      padding: 0 0 0 0;\n",
              "      width: 32px;\n",
              "    }\n",
              "\n",
              "    .colab-df-convert:hover {\n",
              "      background-color: #E2EBFA;\n",
              "      box-shadow: 0px 1px 2px rgba(60, 64, 67, 0.3), 0px 1px 3px 1px rgba(60, 64, 67, 0.15);\n",
              "      fill: #174EA6;\n",
              "    }\n",
              "\n",
              "    [theme=dark] .colab-df-convert {\n",
              "      background-color: #3B4455;\n",
              "      fill: #D2E3FC;\n",
              "    }\n",
              "\n",
              "    [theme=dark] .colab-df-convert:hover {\n",
              "      background-color: #434B5C;\n",
              "      box-shadow: 0px 1px 3px 1px rgba(0, 0, 0, 0.15);\n",
              "      filter: drop-shadow(0px 1px 2px rgba(0, 0, 0, 0.3));\n",
              "      fill: #FFFFFF;\n",
              "    }\n",
              "  </style>\n",
              "\n",
              "      <script>\n",
              "        const buttonEl =\n",
              "          document.querySelector('#df-1cd15970-ded3-4257-a5e2-de97a25377db button.colab-df-convert');\n",
              "        buttonEl.style.display =\n",
              "          google.colab.kernel.accessAllowed ? 'block' : 'none';\n",
              "\n",
              "        async function convertToInteractive(key) {\n",
              "          const element = document.querySelector('#df-1cd15970-ded3-4257-a5e2-de97a25377db');\n",
              "          const dataTable =\n",
              "            await google.colab.kernel.invokeFunction('convertToInteractive',\n",
              "                                                     [key], {});\n",
              "          if (!dataTable) return;\n",
              "\n",
              "          const docLinkHtml = 'Like what you see? Visit the ' +\n",
              "            '<a target=\"_blank\" href=https://colab.research.google.com/notebooks/data_table.ipynb>data table notebook</a>'\n",
              "            + ' to learn more about interactive tables.';\n",
              "          element.innerHTML = '';\n",
              "          dataTable['output_type'] = 'display_data';\n",
              "          await google.colab.output.renderOutput(dataTable, element);\n",
              "          const docLink = document.createElement('div');\n",
              "          docLink.innerHTML = docLinkHtml;\n",
              "          element.appendChild(docLink);\n",
              "        }\n",
              "      </script>\n",
              "    </div>\n",
              "  </div>\n",
              "  "
            ]
          },
          "metadata": {},
          "execution_count": 72
        }
      ]
    },
    {
      "cell_type": "markdown",
      "source": [
        "## Data Filtering"
      ],
      "metadata": {
        "id": "A-HziceAsI7k"
      }
    },
    {
      "cell_type": "code",
      "source": [
        "# symptoms = [symptom for symptoms in df_dataset['SYMPTOMS'].to_list() for symptom in symptoms]\n",
        "# symp_df = pd.DataFrame({\n",
        "#     \"SYMPTOMS\": symptoms\n",
        "# })\n",
        "\n",
        "# symptom_counts = symp_df.groupby(\"SYMPTOMS\")[\"SYMPTOMS\"].count()\n",
        "# symptom_freq = symptom_counts.sort_values(ascending=False)/len(df_dataset)\n",
        "# # Filter symptoms that are to infrequent.\n",
        "# allowed_symptoms = symptom_freq[(symptom_freq > 0.001)].index.to_list()\n",
        "\n",
        "# df_dataset['SYMPTOMS'] = \\\n",
        "# df_dataset['SYMPTOMS'].apply(lambda symptoms: [s for s in symptoms if s in allowed_symptoms])\n",
        "# df_dataset = df_dataset[df_dataset.apply(lambda x: len(x.SYMPTOMS) > 1, axis=1)]"
      ],
      "metadata": {
        "id": "VAVezRt2sMKd"
      },
      "execution_count": 73,
      "outputs": []
    },
    {
      "cell_type": "markdown",
      "source": [
        "## Construct Dataset With Word2Vec embeddings"
      ],
      "metadata": {
        "id": "crLZigFVcbeZ"
      }
    },
    {
      "cell_type": "markdown",
      "source": [
        "In this section we generate our first form of vector representation for symptoms. We generate a `Word2Vec` embedding (using the Gensim model we trained previously in the data pre-processing step) for each symptom extracted from the discharge summary. Each input then becomes a sequence of `Word2Vec` embedding.\n",
        "\n",
        "`[emb1, emb2 ...]`"
      ],
      "metadata": {
        "id": "8CRNJ9hkTUfX"
      }
    },
    {
      "cell_type": "code",
      "source": [
        "from gensim.models import Word2Vec\n",
        "\n",
        "# load the model\n",
        "model = Word2Vec.load(W2V_MODEL_PATH)\n",
        "\n",
        "# now create a vector of word2vec embeddings for each discharge summary\n",
        "X_word2vec = list()\n",
        "for idx in range(len(df_dataset)):\n",
        "  # ignore words in not vocabulary\n",
        "  symptoms = df_dataset[\"SYMPTOMS\"][idx]\n",
        "  symptoms_emb = [model.wv[s] for s in symptoms if s in model.wv]\n",
        "  X_word2vec.append(symptoms_emb)"
      ],
      "metadata": {
        "id": "YQu3AEBEfbF3"
      },
      "execution_count": 74,
      "outputs": []
    },
    {
      "cell_type": "markdown",
      "source": [
        "## Construct Dataset With TF-IDF encoding"
      ],
      "metadata": {
        "id": "V8Q5MAs2xjDh"
      }
    },
    {
      "cell_type": "markdown",
      "source": [
        "Here we generate our second form for symptom representation. We compute a TF-IDF like metric for each symptom extracted and then represent each symtom with its TF-IDF vector. So our input in this form looks like a sequence of TF-IDF vectors.\n",
        "\n",
        "`[td-idf(s1), tf-idf(s2) ...]`\n",
        "\n",
        "where each `tf-idf` vector is of length of 50 (for top#50 diseases) and `s1, s2 ...` are symtoms."
      ],
      "metadata": {
        "id": "sVlfp23-VbA5"
      }
    },
    {
      "cell_type": "code",
      "source": [
        "import numpy as np\n",
        "import itertools\n",
        "\n",
        "# top 50 unique ICD codes.\n",
        "top_icd_codes = [codes for codes in df_dataset['ICD9_CODE']]\n",
        "top_icd_codes = np.unique([code for codes in top_icd_codes for code in codes])\n",
        "\n",
        "sorted_top_icd_codes = sorted(top_icd_codes)\n",
        "icd_code_to_idx = dict((k, v) for v, k in enumerate(sorted_top_icd_codes))\n",
        "\n",
        "vocab_size = len(model.wv)\n",
        "tf = np.zeros((len(model.wv), len(top_icd_codes)))\n",
        "\n",
        "for idx in range(len(df_dataset)):\n",
        "  # XXX: TODO currently we treat all tokens from \"TEXT\" as sypmtoms\n",
        "  # get the icd codes for this discharge summary\n",
        "  symptoms = df_dataset['SYMPTOMS'][idx]\n",
        "  icd_codes = df_dataset['ICD9_CODE'][idx]\n",
        "  # create a cross product of symptoms and icd codes\n",
        "  # and update tf matrix. tf matrix keeps count of how many \n",
        "  # (i.e frequency) times <symptom, icd code> pair occur in our dataset.\n",
        "  for pair in itertools.product(symptoms, icd_codes):\n",
        "    # update count of each (symptom, icd_code) pair to compute TF\n",
        "    if pair[0] in model.wv:\n",
        "      tf[model.wv.get_index(pair[0])][icd_code_to_idx[pair[1]]] += 1\n",
        "\n",
        "# Complete the TF-IDF matrix computation.\n",
        "# Compute the number of ICD Codes (i.e diseaes) each \n",
        "# symptom is associated with.\n",
        "D_i = np.sum(tf > 0, axis=1)\n",
        "print(D_i.shape)\n",
        "\n",
        "log_N_Di = np.log(len(top_icd_codes)/D_i)\n",
        "tf_idf = (tf.T * log_N_Di).T\n",
        "print(tf_idf.shape)"
      ],
      "metadata": {
        "colab": {
          "base_uri": "https://localhost:8080/"
        },
        "id": "YOGw0qxSxrZ3",
        "outputId": "8efe30bc-dc2f-4c5d-989a-5c8c13da5321"
      },
      "execution_count": 75,
      "outputs": [
        {
          "output_type": "stream",
          "name": "stdout",
          "text": [
            "(47395,)\n",
            "(47395, 50)\n"
          ]
        },
        {
          "output_type": "stream",
          "name": "stderr",
          "text": [
            "/usr/local/lib/python3.7/dist-packages/ipykernel_launcher.py:33: RuntimeWarning: divide by zero encountered in true_divide\n",
            "/usr/local/lib/python3.7/dist-packages/ipykernel_launcher.py:34: RuntimeWarning: invalid value encountered in multiply\n"
          ]
        }
      ]
    },
    {
      "cell_type": "markdown",
      "source": [
        "Now we use the above generated `tf-idf` matrix to convert each symtom into a `TF-IDF` vector."
      ],
      "metadata": {
        "id": "AUUKYmpgWbMV"
      }
    },
    {
      "cell_type": "code",
      "source": [
        "# build the X_tfidf dataset\n",
        "X_tf_idf = list()\n",
        "for idx in range(len(df_dataset)):\n",
        "  symptoms = df_dataset[\"SYMPTOMS\"][idx]\n",
        "  # get tf-idf vector for each symptom\n",
        "  # ignore words in not vocabulary\n",
        "  symptoms_tf_idf = [tf_idf[model.wv.get_index(s)] \\\n",
        "                     for s in symptoms if s in model.wv]\n",
        "  X_tf_idf.append(symptoms_tf_idf)"
      ],
      "metadata": {
        "id": "W-9C5XBuiOJ3"
      },
      "execution_count": 76,
      "outputs": []
    },
    {
      "cell_type": "markdown",
      "source": [
        "## Construct Y (as Multi-hot Encoding)"
      ],
      "metadata": {
        "id": "ckHf55_ylpmS"
      }
    },
    {
      "cell_type": "markdown",
      "source": [
        "As this is a multi-label classification problem (i.e predicting one or more diseases from top #50 most commonly occuring diseases) we use a multi-hot representation for our response variable.\n",
        "\n",
        "We covert the ICD9 column to multi-hot encoding, we keep the old column with list of codes and add a new column with multi-hot encoding representation."
      ],
      "metadata": {
        "id": "hj5A2EJRqEzh"
      }
    },
    {
      "cell_type": "code",
      "source": [
        "# new col to be added to dataframe\n",
        "multi_hot_ecoding_col = list()\n",
        "for idx in range(len(df_dataset)):\n",
        "  icd_codes = df_dataset.iloc[idx]['ICD9_CODE']\n",
        "  encoding = [0] * 50\n",
        "  for code in icd_codes:\n",
        "    encoding[icd_code_to_idx[code]] = 1    \n",
        "  multi_hot_ecoding_col.append(encoding)\n",
        "\n",
        "# new add a new column with multi-hot encoding.\n",
        "df_dataset['ICD9_CODE_ENCODED'] = multi_hot_ecoding_col\n",
        "\n",
        "# multi-hot encoding for ICD codes diagnosed.\n",
        "y = df_dataset['ICD9_CODE_ENCODED'].to_list()"
      ],
      "metadata": {
        "id": "S7vIzsO9V-63"
      },
      "execution_count": 77,
      "outputs": []
    },
    {
      "cell_type": "code",
      "source": [
        "print(len(X_word2vec))\n",
        "print(len((X_tf_idf)))\n",
        "print(len(y))"
      ],
      "metadata": {
        "colab": {
          "base_uri": "https://localhost:8080/"
        },
        "id": "CP4e2hJU4S6B",
        "outputId": "a03a2f84-6495-4f24-9775-04eca67a5e36"
      },
      "execution_count": 78,
      "outputs": [
        {
          "output_type": "stream",
          "name": "stdout",
          "text": [
            "54939\n",
            "54939\n",
            "54939\n"
          ]
        }
      ]
    },
    {
      "cell_type": "markdown",
      "source": [
        "# Model Training and Evaluation Utilities"
      ],
      "metadata": {
        "id": "C3r4WgmY44Ad"
      }
    },
    {
      "cell_type": "code",
      "source": [
        "def pad_dataset(dataset, vec_size):\n",
        "  seq_lengths = list()\n",
        "\n",
        "  for idx in range(len(dataset)):\n",
        "    seq_lengths.append(len(dataset[idx]))\n",
        "  max_seq_length = max(seq_lengths)\n",
        "\n",
        "  padded_dataset = torch.zeros([len(dataset), max_seq_length, vec_size], \n",
        "                               dtype=torch.float)\n",
        "  for i in range(len(dataset)):\n",
        "    for j in range(len(dataset[i])):\n",
        "      padded_dataset[i][j] = torch.FloatTensor(dataset[i][j])\n",
        "  \n",
        "  return padded_dataset"
      ],
      "metadata": {
        "id": "81XPts3oIlGR"
      },
      "execution_count": 79,
      "outputs": []
    },
    {
      "cell_type": "markdown",
      "source": [
        "Utility to generate file names to store various results during training."
      ],
      "metadata": {
        "id": "0X6j9urpPLDt"
      }
    },
    {
      "cell_type": "code",
      "source": [
        "from datetime import datetime\n",
        "import pytz\n",
        "\n",
        "def get_model_file_name(modelname=\"model\"):\n",
        "  return \"/content/drive/My Drive/DLH Final Project/models/\" + modelname + \"-\" + \\\n",
        "                  datetime.now(pytz.timezone('Asia/Kolkata')).strftime(\n",
        "                      \"%d-%m-%Y-%H-%M-%S\")\n",
        "\n",
        "def get_stats_file_name(modelname=\"model\"):\n",
        "  return \"/content/drive/My Drive/DLH Final Project/stats/\" + modelname + \"-\" + \\\n",
        "                  datetime.now(pytz.timezone('Asia/Kolkata')).strftime(\n",
        "                      \"%d-%m-%Y-%H-%M-%S\")\n",
        "\n",
        "def get_results_file_name(modelname=\"model\"):\n",
        "  return \"/content/drive/My Drive/DLH Final Project/results/\" + modelname + \\\n",
        "                  \"-\" + datetime.now(pytz.timezone('Asia/Kolkata')).strftime(\n",
        "                      \"%d-%m-%Y-%H-%M-%S\")"
      ],
      "metadata": {
        "id": "pZ5obtEaX68T"
      },
      "execution_count": 80,
      "outputs": []
    },
    {
      "cell_type": "code",
      "source": [
        "import psutil\n",
        "import time\n",
        "import pickle\n",
        "\n",
        "no_of_epocs = 100\n",
        "\n",
        "def train_model(model, loss, optimizer, train_loader):\n",
        "\n",
        "  main_memory_usage = list()\n",
        "  gpu_memory_usage = list()\n",
        "  gpu_time = list()\n",
        "  train_loss = list()\n",
        "\n",
        "  for e in range(no_of_epocs):\n",
        "    model.train()\n",
        "    epoc_train_loss = 0\n",
        "    main_memory_before = psutil.virtual_memory().used\n",
        "    gpu_memory_before = torch.cuda.memory_allocated()\n",
        "    start_time = time.time()\n",
        "\n",
        "    # iterate over data in mini batches.\n",
        "    for tup, y_batch in train_loader:    \n",
        "      model.zero_grad()\n",
        "      pred = model(tup)\n",
        "      l = loss(pred, y_batch)\n",
        "      l.backward()\n",
        "      optimizer.step()    \n",
        "      epoc_train_loss += l.item()\n",
        "      \n",
        "    # print epoc level training loss.\n",
        "    print(f\"epoc: {e}: Train Loss: {epoc_train_loss/len(train_loader)}\")\n",
        "    \n",
        "    # collect cpu and memory stats.\n",
        "    memory_used = psutil.virtual_memory().used\n",
        "    gpu_memory_used = torch.cuda.memory_allocated()\n",
        "    run_time = time.time() - start_time\n",
        "    print(f\"time: {run_time} memory_used: {memory_used} gpu_memory_used: {gpu_memory_used}\")\n",
        "    print(\"\\n\")\n",
        "\n",
        "    train_loss.append(epoc_train_loss/len(train_loader))\n",
        "    main_memory_usage.append(memory_used)\n",
        "    gpu_memory_usage.append(gpu_memory_used)\n",
        "    gpu_time.append(run_time)\n",
        "    # end of one epoc\n",
        "\n",
        "  # save the model\n",
        "  torch.save(model.state_dict(), get_model_file_name(model.get_name()))\n",
        "  # print and collect stats.\n",
        "  print(psutil.virtual_memory())\n",
        "\n",
        "  stats = {\n",
        "      \"gpu_mem\": gpu_memory_usage,\n",
        "      \"main_mem\": main_memory_usage,\n",
        "      \"gpu_time\": gpu_time,\n",
        "      \"vmm_info\": psutil.virtual_memory()\n",
        "  }\n",
        "\n",
        "  with open(get_stats_file_name(model.get_name()), \"ab\") as sfile:\n",
        "    pickle.dump(stats, sfile)"
      ],
      "metadata": {
        "id": "djf3IOU68k9G"
      },
      "execution_count": 81,
      "outputs": []
    },
    {
      "cell_type": "code",
      "source": [
        "from sklearn.metrics import precision_recall_fscore_support, roc_auc_score\n",
        "from sklearn.metrics import ConfusionMatrixDisplay, confusion_matrix\n",
        "import matplotlib.pyplot as plt\n",
        "\n",
        "def evaluate_model(model, test_loader):\n",
        "  model.eval()\n",
        "  y_pred_all = list()\n",
        "  y_true_all = list()\n",
        "\n",
        "  for tup, y_batch in test_loader:\n",
        "    y_pred = model(tup)\n",
        "    y_pred = y_pred > 0.20 # TODO: remove hard coding\n",
        "    y_pred_all.extend(y_pred.detach().to('cpu').numpy())\n",
        "    y_true_all.extend(y_batch.detach().to('cpu').numpy())\n",
        "\n",
        "  y_true_all = np.array(y_true_all)\n",
        "  y_pred_all = np.array(y_pred_all)\n",
        "\n",
        "  # micro level metrics\n",
        "  p1, r1, f1, s1 = precision_recall_fscore_support(y_true_all, y_pred_all, \n",
        "                                                  average=\"micro\")\n",
        "  micro_auc = roc_auc_score(y_true_all, y_pred_all, average=\"micro\")\n",
        "  print(f\"Micro Averaging. Precision: {p1}, Recall: {r1}, F1 Score: {f1}, \\\n",
        "          AUC: {micro_auc}\")\n",
        "\n",
        "  # macro level metrics\n",
        "  p2, r2, f2, s2 = precision_recall_fscore_support(y_true_all, y_pred_all, \n",
        "                                                  average=\"macro\")\n",
        "  macro_auc = roc_auc_score(y_true_all, y_pred_all, average=\"macro\")\n",
        "  print(f\"Macro Averaging. Precision: {p2}, Recall: {r2}, F1 Score: {f2}, \\\n",
        "          AUC: {macro_auc}\")\n",
        "\n",
        "  results = {\n",
        "      \"micro\": [p1, r1, f1],\n",
        "      \"macro\": [p2, r2, f2]\n",
        "  }\n",
        "\n",
        "  with open(get_results_file_name(model.get_name()), \"ab\") as rfile:\n",
        "    pickle.dump(results, rfile)\n",
        "  \n",
        "  for idx in range(50):\n",
        "    p, r, f, _12 = precision_recall_fscore_support(y_true_all[:,idx], \n",
        "                                                 y_pred_all[:,idx], \n",
        "                                                 average='binary')\n",
        "    print(f\"p={p}, r={r}, f={f}\")"
      ],
      "metadata": {
        "id": "gJen7FhqD5ny"
      },
      "execution_count": 82,
      "outputs": []
    },
    {
      "cell_type": "code",
      "source": [
        "a = np.array([[1, 0], [0, 1]])\n",
        "a[:,1]\n",
        "p, r, f, s = precision_recall_fscore_support(a[:,1], a[:,1], average='binary')\n",
        "print(f\"p={p}, r={r}, f={f}, s={s}\")"
      ],
      "metadata": {
        "colab": {
          "base_uri": "https://localhost:8080/"
        },
        "id": "e5srtxMASp20",
        "outputId": "4439818e-29c1-428a-98da-a5dc85aa2859"
      },
      "execution_count": 83,
      "outputs": [
        {
          "output_type": "stream",
          "name": "stdout",
          "text": [
            "p=1.0, r=1.0, f=1.0, s=None\n"
          ]
        }
      ]
    },
    {
      "cell_type": "markdown",
      "source": [
        "# Disease Prediction Model"
      ],
      "metadata": {
        "id": "AM_PmgGVDjvQ"
      }
    },
    {
      "cell_type": "markdown",
      "source": [
        "## Dataset and DataLoaders"
      ],
      "metadata": {
        "id": "D0madEdCl7w1"
      }
    },
    {
      "cell_type": "markdown",
      "source": [
        "Utility to created padded dataset so that we an perform batch processing of data in model traning and evaluation."
      ],
      "metadata": {
        "id": "RP7Vg2W1OTH5"
      }
    },
    {
      "cell_type": "markdown",
      "source": [
        "Now we define our dataset and data loaders for both train and test dataset."
      ],
      "metadata": {
        "id": "Oaas5utnXfvC"
      }
    },
    {
      "cell_type": "code",
      "source": [
        "def collate_fn(data):\n",
        "  x_w2v, x_tidf, y_batch = zip(*data)\n",
        "  x_w2v = pad_dataset(x_w2v, W2V_EMB_SIZE)\n",
        "  x_tidf = pad_dataset(x_tidf, 50) # top 50 diseases\n",
        "  y_batch = torch.FloatTensor(y_batch)\n",
        "  x_w2v = x_w2v.cuda() if torch.cuda.is_available() else x_w2v\n",
        "  x_tidf = x_tidf.cuda() if torch.cuda.is_available() else x_tidf\n",
        "  y_batch = y_batch.cuda() if torch.cuda.is_available() else y_batch\n",
        "  return (x_w2v, x_tidf), y_batch\n",
        "\n",
        "class CustomDataset(Dataset):\n",
        "  def __init__(self, X_w2v, X_tfidf, y):              \n",
        "    self.X_w2v = X_w2v\n",
        "    self.X_tfidf = X_tfidf\n",
        "    self.y = y\n",
        "    \n",
        "  def __len__(self):                \n",
        "    return len(self.y)\n",
        "    \n",
        "  def __getitem__(self, index):\n",
        "    return self.X_w2v[index], self.X_tfidf[index], self.y[index]\n",
        "\n",
        "dataset = CustomDataset(X_word2vec, X_tf_idf, y)\n",
        "\n",
        "split = int(len(dataset)*0.8)\n",
        "lengths = [split, len(dataset) - split]\n",
        "train_dataset, test_dataset = random_split(dataset, lengths)\n",
        "\n",
        "train_loader = DataLoader(train_dataset, shuffle=True, \n",
        "                          batch_size=TRAINING_BATCH_SIZE, \n",
        "                          collate_fn=collate_fn)\n",
        "\n",
        "test_loader = DataLoader(test_dataset, shuffle=True, \n",
        "                         batch_size=TRAINING_BATCH_SIZE, \n",
        "                         collate_fn=collate_fn)"
      ],
      "metadata": {
        "id": "O5HoLixIdZq_"
      },
      "execution_count": 84,
      "outputs": []
    },
    {
      "cell_type": "markdown",
      "source": [
        "## Model Definition"
      ],
      "metadata": {
        "id": "yilnzXZgi8RH"
      }
    },
    {
      "cell_type": "markdown",
      "source": [
        "Our model consiste of the following components\n",
        "\n",
        "\n",
        "1. A BiLSTM model trained on Word2Vec representation of symptoms\n",
        "2. Another BiLSTM model trained on TF-IDF representation of symptoms.\n",
        "3. A weighted averate of predictions from the above models.\n",
        "\n",
        "The following diagram shows the architecture of the model.\n",
        "<img src='https://drive.google.com/uc?id=1uENAQjwBme9TUeIcZDrDerLHi84W3QLA'>\n",
        "\n"
      ],
      "metadata": {
        "id": "N8bt5oAfYbIb"
      }
    },
    {
      "cell_type": "code",
      "source": [
        "class BiLSTM(nn.Module):\n",
        "  def __init__(self, input_dim, embedding_dim, output_dim, \n",
        "               model_name = \"bi-lstm\"):   \n",
        "    super(BiLSTM, self).__init__()\n",
        "    self.lstm = nn.LSTM(input_size=input_dim, \n",
        "                        hidden_size=embedding_dim,\n",
        "                        num_layers=1,                        \n",
        "                        bidirectional=True,\n",
        "                        batch_first=True)\n",
        "    \n",
        "    self.linear = nn.Linear(embedding_dim*2, output_dim)\n",
        "    self.model_name = model_name\n",
        "  \n",
        "  def forward(self, X):\n",
        "    out, (h_n, c_n) = self.lstm(X)    \n",
        "    # emb = torch.cat((h_n[0], h_n[1]), dim=1)\n",
        "    emb = out[:,-1,:]\n",
        "    # print(f\"emb shape for input layer = {emb.shape}\")\n",
        "    output = torch.sigmoid(self.linear(emb))\n",
        "    return output\n",
        "  \n",
        "  def get_name(self):\n",
        "    return self.model_name\n",
        "\n",
        "\n",
        "class DiseasePredictionModel(nn.Module):\n",
        "  def __init__(self, weight=0.5, output_dim=50):    \n",
        "    super(DiseasePredictionModel, self).__init__()\n",
        "    self.weight = weight\n",
        "    self.w2v_lstm = BiLSTM(input_dim=W2V_EMB_SIZE, \n",
        "                           embedding_dim=LSTM_HIDDEN_VEC_SIZE, \n",
        "                           output_dim=output_dim)\n",
        "    \n",
        "    self.tf_idf_lstm = BiLSTM(input_dim=50, \n",
        "                              embedding_dim=LSTM_HIDDEN_VEC_SIZE, \n",
        "                              output_dim=output_dim)\n",
        "  \n",
        "  def forward(self, tup):\n",
        "    X_w2v, X_tidf = tup\n",
        "    pred1 = self.w2v_lstm(X_w2v)\n",
        "    pred2 = self.tf_idf_lstm(X_tidf)\n",
        "    # compute the weighted average of predictions\n",
        "    # from the 2 models.\n",
        "    return self.weight * pred1 + (1-self.weight) * pred2\n",
        "  \n",
        "  def get_name(self):\n",
        "    return \"main-model\""
      ],
      "metadata": {
        "id": "RpByc-wrjQ6A"
      },
      "execution_count": 90,
      "outputs": []
    },
    {
      "cell_type": "markdown",
      "source": [
        "## Model Training"
      ],
      "metadata": {
        "id": "wT5_eTcAfyzq"
      }
    },
    {
      "cell_type": "markdown",
      "source": [
        "Setup the model for training. We use Binary Cross Entropy as loss function and Adam optimizer with learning rate of 0.001 (as recommeded in the paper)"
      ],
      "metadata": {
        "id": "py-1OnbnZN_v"
      }
    },
    {
      "cell_type": "code",
      "source": [
        "model = DiseasePredictionModel(weight=0.5)\n",
        "if torch.cuda.is_available():\n",
        "  model.cuda()\n",
        "\n",
        "loss_fn = nn.BCELoss()\n",
        "optim = torch.optim.Adam(model.parameters(), lr=0.001)\n",
        "print(f\"No of parameters to train: \\\n",
        "        {sum(p.numel() for p in model.parameters() if p.requires_grad)}\")\n",
        "\n",
        "train_model(model, loss_fn, optim, train_loader)"
      ],
      "metadata": {
        "id": "UYzSUxVr969Q",
        "colab": {
          "base_uri": "https://localhost:8080/"
        },
        "outputId": "4e17b1dd-39d0-4ebd-8c1a-61a58ec0d5f4"
      },
      "execution_count": null,
      "outputs": [
        {
          "output_type": "stream",
          "name": "stdout",
          "text": [
            "No of parameters to train:         325700\n",
            "epoc: 0: Train Loss: 0.34533994658426803\n",
            "time: 39.84653186798096 memory_used: 19909029888 gpu_memory_used: 103258112\n",
            "\n",
            "\n",
            "epoc: 1: Train Loss: 0.28079465546391225\n",
            "time: 39.411402463912964 memory_used: 19872694272 gpu_memory_used: 101008896\n",
            "\n",
            "\n",
            "epoc: 2: Train Loss: 0.2808294198729775\n",
            "time: 39.241883516311646 memory_used: 19872382976 gpu_memory_used: 101758464\n",
            "\n",
            "\n",
            "epoc: 3: Train Loss: 0.28083657405593176\n",
            "time: 38.92862606048584 memory_used: 19871240192 gpu_memory_used: 100509184\n",
            "\n",
            "\n",
            "epoc: 4: Train Loss: 0.28083342855626886\n",
            "time: 38.80728268623352 memory_used: 19873128448 gpu_memory_used: 100487680\n",
            "\n",
            "\n",
            "epoc: 5: Train Loss: 0.2808472245931625\n",
            "time: 38.80958104133606 memory_used: 19871870976 gpu_memory_used: 103008256\n",
            "\n",
            "\n",
            "epoc: 6: Train Loss: 0.28084129122170537\n",
            "time: 38.994664669036865 memory_used: 19872501760 gpu_memory_used: 101258752\n",
            "\n",
            "\n",
            "epoc: 7: Train Loss: 0.2808184696869417\n",
            "time: 38.53880739212036 memory_used: 19871690752 gpu_memory_used: 100487680\n",
            "\n",
            "\n",
            "epoc: 8: Train Loss: 0.28084283714944663\n",
            "time: 38.71401786804199 memory_used: 19871100928 gpu_memory_used: 100487680\n",
            "\n",
            "\n",
            "epoc: 9: Train Loss: 0.28082473467696795\n",
            "time: 38.640047550201416 memory_used: 19872550912 gpu_memory_used: 101758464\n",
            "\n",
            "\n",
            "epoc: 10: Train Loss: 0.2808679943734949\n",
            "time: 38.64619207382202 memory_used: 19871805440 gpu_memory_used: 101258752\n",
            "\n",
            "\n",
            "epoc: 11: Train Loss: 0.2807797055352818\n",
            "time: 39.0475058555603 memory_used: 19869540352 gpu_memory_used: 100487680\n",
            "\n",
            "\n",
            "epoc: 12: Train Loss: 0.2807705163955688\n",
            "time: 39.32860589027405 memory_used: 19870892032 gpu_memory_used: 99253248\n",
            "\n",
            "\n",
            "epoc: 13: Train Loss: 0.28080870725891804\n",
            "time: 39.05289316177368 memory_used: 19871567872 gpu_memory_used: 99009536\n",
            "\n",
            "\n",
            "epoc: 14: Train Loss: 0.28075942424210637\n",
            "time: 39.06336045265198 memory_used: 19871571968 gpu_memory_used: 102780928\n",
            "\n",
            "\n",
            "epoc: 15: Train Loss: 0.2807823183861646\n",
            "time: 38.4605495929718 memory_used: 19870720000 gpu_memory_used: 103008256\n",
            "\n",
            "\n",
            "epoc: 16: Train Loss: 0.28077975132248617\n",
            "time: 38.678571939468384 memory_used: 19872026624 gpu_memory_used: 100509184\n",
            "\n",
            "\n",
            "epoc: 17: Train Loss: 0.2807312829927965\n",
            "time: 38.45159077644348 memory_used: 19870785536 gpu_memory_used: 103008256\n",
            "\n",
            "\n",
            "epoc: 18: Train Loss: 0.28075278265909714\n",
            "time: 38.25704884529114 memory_used: 19871227904 gpu_memory_used: 105507328\n",
            "\n",
            "\n",
            "epoc: 19: Train Loss: 0.28071458068760957\n",
            "time: 38.20562815666199 memory_used: 19871268864 gpu_memory_used: 105007616\n",
            "\n",
            "\n",
            "epoc: 20: Train Loss: 0.27776889069513844\n",
            "time: 38.47063708305359 memory_used: 19870720000 gpu_memory_used: 104487936\n",
            "\n",
            "\n",
            "epoc: 21: Train Loss: 0.26858019720424303\n",
            "time: 38.20811319351196 memory_used: 19871309824 gpu_memory_used: 103008256\n",
            "\n",
            "\n",
            "epoc: 22: Train Loss: 0.26216479566964235\n",
            "time: 38.562132835388184 memory_used: 19869880320 gpu_memory_used: 100487680\n",
            "\n",
            "\n",
            "epoc: 23: Train Loss: 0.2601389362053438\n",
            "time: 38.564213275909424 memory_used: 19870437376 gpu_memory_used: 101508608\n",
            "\n",
            "\n",
            "epoc: 24: Train Loss: 0.25474301265044647\n",
            "time: 38.24969124794006 memory_used: 19871432704 gpu_memory_used: 99259392\n",
            "\n",
            "\n",
            "epoc: 25: Train Loss: 0.2509496016935869\n",
            "time: 38.310980796813965 memory_used: 19871682560 gpu_memory_used: 101343232\n",
            "\n",
            "\n",
            "epoc: 26: Train Loss: 0.25182297690348193\n",
            "time: 38.26350259780884 memory_used: 19871535104 gpu_memory_used: 103100928\n",
            "\n",
            "\n",
            "epoc: 27: Train Loss: 0.24860210621898823\n",
            "time: 38.297096967697144 memory_used: 19872038912 gpu_memory_used: 102258176\n",
            "\n",
            "\n",
            "epoc: 28: Train Loss: 0.2472657481377775\n",
            "time: 38.23343253135681 memory_used: 19872784384 gpu_memory_used: 102008320\n",
            "\n",
            "\n",
            "epoc: 29: Train Loss: 0.2459121877496893\n",
            "time: 38.16509032249451 memory_used: 19870994432 gpu_memory_used: 104257536\n",
            "\n",
            "\n",
            "epoc: 30: Train Loss: 0.24539559497074648\n",
            "time: 38.0444061756134 memory_used: 19872346112 gpu_memory_used: 102508544\n",
            "\n",
            "\n",
            "epoc: 31: Train Loss: 0.2443823370066556\n",
            "time: 38.11915469169617 memory_used: 19872395264 gpu_memory_used: 102540800\n",
            "\n",
            "\n",
            "epoc: 32: Train Loss: 0.24372210231694308\n",
            "time: 37.62438941001892 memory_used: 19873214464 gpu_memory_used: 102258176\n",
            "\n",
            "\n",
            "epoc: 33: Train Loss: 0.2425967598503286\n",
            "time: 37.70618987083435 memory_used: 19872657408 gpu_memory_used: 104487936\n",
            "\n",
            "\n",
            "epoc: 34: Train Loss: 0.24172805764458397\n",
            "time: 37.80468964576721 memory_used: 19872292864 gpu_memory_used: 100487680\n",
            "\n",
            "\n",
            "epoc: 35: Train Loss: 0.24097764546220954\n",
            "time: 38.04451632499695 memory_used: 19871846400 gpu_memory_used: 100487680\n",
            "\n",
            "\n",
            "epoc: 36: Train Loss: 0.2400465417991985\n",
            "time: 37.89503574371338 memory_used: 19871293440 gpu_memory_used: 100487680\n",
            "\n",
            "\n",
            "epoc: 37: Train Loss: 0.23918298929929732\n",
            "time: 37.824270248413086 memory_used: 19872817152 gpu_memory_used: 100759040\n",
            "\n",
            "\n",
            "epoc: 38: Train Loss: 0.23863604718988593\n",
            "time: 37.70800709724426 memory_used: 19872542720 gpu_memory_used: 104257536\n",
            "\n",
            "\n",
            "epoc: 39: Train Loss: 0.23806431848894466\n",
            "time: 38.16247582435608 memory_used: 19872575488 gpu_memory_used: 102830080\n",
            "\n",
            "\n",
            "epoc: 40: Train Loss: 0.23731690523299304\n",
            "time: 38.059118032455444 memory_used: 19872907264 gpu_memory_used: 108807680\n",
            "\n",
            "\n",
            "epoc: 41: Train Loss: 0.23658422895453193\n",
            "time: 37.85255575180054 memory_used: 19873255424 gpu_memory_used: 103258112\n",
            "\n",
            "\n",
            "epoc: 42: Train Loss: 0.2363207218321887\n",
            "time: 38.17959642410278 memory_used: 19872161792 gpu_memory_used: 103258112\n",
            "\n",
            "\n",
            "epoc: 43: Train Loss: 0.23577466783198445\n",
            "time: 38.07659864425659 memory_used: 19871272960 gpu_memory_used: 101758464\n",
            "\n",
            "\n",
            "epoc: 44: Train Loss: 0.2351375768130476\n",
            "time: 37.992735862731934 memory_used: 19871154176 gpu_memory_used: 105897472\n",
            "\n",
            "\n",
            "epoc: 45: Train Loss: 0.2347377740524032\n",
            "time: 37.793904542922974 memory_used: 19874611200 gpu_memory_used: 101763072\n",
            "\n",
            "\n",
            "epoc: 46: Train Loss: 0.23397960175167432\n",
            "time: 38.091442823410034 memory_used: 19871404032 gpu_memory_used: 100487680\n",
            "\n",
            "\n",
            "epoc: 47: Train Loss: 0.23337241478941656\n",
            "time: 38.03367781639099 memory_used: 19872923648 gpu_memory_used: 99393536\n",
            "\n",
            "\n",
            "epoc: 48: Train Loss: 0.2325948253273964\n",
            "time: 38.16002440452576 memory_used: 19872374784 gpu_memory_used: 100759040\n",
            "\n",
            "\n",
            "epoc: 49: Train Loss: 0.23186061165549537\n",
            "time: 38.13237118721008 memory_used: 19872808960 gpu_memory_used: 103021056\n",
            "\n",
            "\n",
            "epoc: 50: Train Loss: 0.23120405890724877\n",
            "time: 38.95826029777527 memory_used: 19872235520 gpu_memory_used: 104658944\n",
            "\n",
            "\n",
            "epoc: 51: Train Loss: 0.2303705329244787\n",
            "time: 39.187116622924805 memory_used: 19871989760 gpu_memory_used: 103507968\n",
            "\n",
            "\n",
            "epoc: 52: Train Loss: 0.22976534894921563\n",
            "time: 38.20529103279114 memory_used: 19874103296 gpu_memory_used: 103479808\n",
            "\n",
            "\n",
            "epoc: 53: Train Loss: 0.229104367304932\n",
            "time: 38.291619539260864 memory_used: 19872182272 gpu_memory_used: 99704832\n",
            "\n",
            "\n",
            "epoc: 54: Train Loss: 0.22829897566275162\n",
            "time: 38.12593936920166 memory_used: 19874402304 gpu_memory_used: 101751808\n",
            "\n",
            "\n",
            "epoc: 55: Train Loss: 0.22766070596196436\n",
            "time: 38.0559561252594 memory_used: 19873087488 gpu_memory_used: 106057216\n",
            "\n",
            "\n",
            "epoc: 56: Train Loss: 0.22725845426321029\n",
            "time: 38.085092067718506 memory_used: 19871805440 gpu_memory_used: 101508608\n",
            "\n",
            "\n",
            "epoc: 57: Train Loss: 0.22645154283805327\n",
            "time: 37.90839338302612 memory_used: 19874308096 gpu_memory_used: 102508544\n",
            "\n",
            "\n",
            "epoc: 58: Train Loss: 0.2258360739458691\n",
            "time: 38.04505133628845 memory_used: 19873472512 gpu_memory_used: 98010112\n",
            "\n",
            "\n",
            "epoc: 59: Train Loss: 0.2250754712657495\n",
            "time: 38.12049221992493 memory_used: 19873001472 gpu_memory_used: 102508544\n",
            "\n",
            "\n",
            "epoc: 60: Train Loss: 0.22452460920268838\n",
            "time: 38.2145311832428 memory_used: 19873939456 gpu_memory_used: 100759040\n",
            "\n",
            "\n",
            "epoc: 61: Train Loss: 0.22371454306624153\n",
            "time: 38.13018560409546 memory_used: 19874078720 gpu_memory_used: 102790656\n",
            "\n",
            "\n",
            "epoc: 62: Train Loss: 0.22316643595695496\n",
            "time: 38.11295413970947 memory_used: 19873890304 gpu_memory_used: 100487680\n",
            "\n",
            "\n",
            "epoc: 63: Train Loss: 0.22267624966122887\n",
            "time: 37.78937911987305 memory_used: 19872641024 gpu_memory_used: 102258176\n",
            "\n",
            "\n",
            "epoc: 64: Train Loss: 0.22227793742309918\n",
            "time: 37.96342730522156 memory_used: 19874516992 gpu_memory_used: 103757824\n",
            "\n",
            "\n"
          ]
        }
      ]
    },
    {
      "cell_type": "markdown",
      "source": [
        "## Model Evaluation"
      ],
      "metadata": {
        "id": "9Y7iNxjCcgOk"
      }
    },
    {
      "cell_type": "markdown",
      "source": [
        "Since this is multi-class classication problem we use micro and macro averaring strategy for evaluation performance. We use the `scikit-learn ` utility to compute these metrics.\n",
        "\n",
        "We set the prediction threshold (i.e. value above we mark a disease as present) as 0.2 as per the recommendation in the paper."
      ],
      "metadata": {
        "id": "bwQuUVHcZfvQ"
      }
    },
    {
      "cell_type": "code",
      "source": [
        "! ls \"{PROJECT_PATH}/models/\""
      ],
      "metadata": {
        "colab": {
          "base_uri": "https://localhost:8080/"
        },
        "id": "g4_QFP1PDisf",
        "outputId": "3a630057-acce-4820-c8fa-3056dca2a490"
      },
      "execution_count": 120,
      "outputs": [
        {
          "output_type": "stream",
          "name": "stdout",
          "text": [
            "main-model-27-04-2022-15-40-59\ttf-idf-27-04-2022-16-29-54    word2vec.model\n",
            "main-model-27-04-2022-19-11-16\tword2vec-27-04-2022-17-47-59\n"
          ]
        }
      ]
    },
    {
      "cell_type": "code",
      "source": [
        "if model is None:\n",
        "  print(\"load from disk\")\n",
        "  model = DiseasePredictionModel(weight=0.2)\n",
        "  if torch.cuda.is_available():\n",
        "    model.cuda()\n",
        "    model.load_state_dict(torch.load(f\"{PROJECT_PATH}/models/main-model-27-04-2022-19-11-16\"))\n",
        "    evaluate_model(model, test_loader)\n",
        "else:\n",
        "  print(\"evaluating in-memory model\")\n",
        "  evaluate_model(model, train_loader)"
      ],
      "metadata": {
        "colab": {
          "base_uri": "https://localhost:8080/"
        },
        "id": "SuYDS46qcfbH",
        "outputId": "c867b7d9-077d-45ff-dd39-9d29f46073fd"
      },
      "execution_count": 121,
      "outputs": [
        {
          "output_type": "stream",
          "name": "stdout",
          "text": [
            "evaluating in-memory model\n",
            "Micro Averaging. Precision: 0.4136779867805382, Recall: 0.6176435263031468, F1 Score: 0.4954915169861012,           AUC: 0.7650399832678456\n",
            "Macro Averaging. Precision: 0.38955624434084285, Recall: 0.5286463223391521, F1 Score: 0.43385555486933136,           AUC: 0.7158452021952789\n",
            "p=0.40922811556705474, r=0.5951708999686423, f=0.48498786252714965\n",
            "p=0.302880872047755, r=0.28456474030724216, f=0.2934372642695499\n",
            "p=0.3361384566529057, r=0.8192724458204335, f=0.4766944381895969\n",
            "p=0.3621885435396866, r=0.5585264408793821, f=0.4394234514998052\n",
            "p=0.4720869847452126, r=0.7925350769649911, f=0.5917111619628782\n",
            "p=0.3353658536585366, r=0.30962128966223135, f=0.32197977647684944\n",
            "p=0.37323279924599434, r=0.2996594778660613, f=0.3324239244491081\n",
            "p=0.2666548547129695, r=0.39878113407525173, f=0.319600764493523\n",
            "p=0.3784135240572172, r=0.3275182892515476, f=0.35113122171945704\n",
            "p=0.39841870058439327, r=0.5760437375745527, f=0.4710424710424711\n",
            "p=0.31966643502432246, r=0.199048031155344, f=0.24533333333333335\n",
            "p=0.3220338983050847, r=0.23831242873432154, f=0.27391874180865006\n",
            "p=0.29668874172185433, r=0.32, f=0.30790378006872854\n",
            "p=0.28757696486780154, r=0.2769445413324032, f=0.28216062544420756\n",
            "p=0.3177269478198713, r=0.4438342486270594, f=0.37033951260154135\n",
            "p=0.48015144237561097, r=0.9682639165859496, f=0.6419613176186159\n",
            "p=0.4363305613305613, r=0.5916138125440451, f=0.5022434938677834\n",
            "p=0.5652173913043478, r=0.616600790513834, f=0.5897920604914935\n",
            "p=0.3609467455621302, r=0.45185185185185184, f=0.40131578947368424\n",
            "p=0.41988472622478384, r=0.5177683013503909, f=0.4637173774665818\n",
            "p=0.5636750620787513, r=0.8829412854232265, f=0.6880773672055427\n",
            "p=0.3108722612649855, r=0.2875717017208413, f=0.2987683750496623\n",
            "p=0.46153846153846156, r=0.39806678383128297, f=0.4274593064401982\n",
            "p=0.44953884356154666, r=0.8904699165568731, f=0.5974599994106726\n",
            "p=0.24233983286908078, r=0.041448308718437354, f=0.0707892595606184\n",
            "p=0.4658399098083427, r=0.8831324271180645, f=0.6099433160132263\n",
            "p=0.33864224566991835, r=0.4074251497005988, f=0.3698630136986301\n",
            "p=0.30646589902568644, r=0.19211549139367018, f=0.23617747440273038\n",
            "p=0.3991520290732889, r=0.51284046692607, f=0.4489100817438692\n",
            "p=0.3312680710450227, r=0.4815370759531672, f=0.3925119295240426\n",
            "p=0.3498062015503876, r=0.14668833807395368, f=0.20669911251073575\n",
            "p=0.347473122211658, r=0.730585883438413, f=0.4709555908009517\n",
            "p=0.313953488372093, r=0.3463497453310696, f=0.3293568929948874\n",
            "p=0.29678638941398866, r=0.3794103431609473, f=0.33305048790835806\n",
            "p=0.38545870325531345, r=0.7303428061679623, f=0.5046004842615013\n",
            "p=0.4157743536171324, r=0.5572278613930697, f=0.47621896500149563\n",
            "p=0.32034967356423594, r=0.4957191780821918, f=0.3891913692276669\n",
            "p=0.605958230958231, r=0.9894684052156469, f=0.7516190476190477\n",
            "p=0.43028846153846156, r=0.6532846715328468, f=0.518840579710145\n",
            "p=0.4656891495601173, r=0.7295558958652374, f=0.5684964200477327\n",
            "p=0.31024590163934423, r=0.3574126534466478, f=0.3321632294866169\n",
            "p=0.5574572127139364, r=0.9886178861788618, f=0.7129177252296267\n",
            "p=0.3189771197846568, r=0.10089399744572158, f=0.15329883570504527\n",
            "p=0.6532555282555282, r=0.9934609995329285, f=0.7882156753752084\n",
            "p=0.4207650273224044, r=0.9254807692307693, f=0.5785123966942148\n",
            "p=0.5497159090909091, r=0.9325301204819277, f=0.6916890080428955\n",
            "p=0.4152223059532781, r=0.4323264025107885, f=0.4236017682106477\n",
            "p=0.3702733058779483, r=0.4285095320623917, f=0.3972685278168307\n",
            "p=0.3422285597881442, r=0.5251641137855579, f=0.4144055254070054\n",
            "p=0.2979683972911964, r=0.4258064516129032, f=0.35059760956175295\n"
          ]
        }
      ]
    },
    {
      "cell_type": "markdown",
      "source": [
        "# Summarize Resource Utilization"
      ],
      "metadata": {
        "id": "CtexOT1xjaIJ"
      }
    },
    {
      "cell_type": "code",
      "source": [
        "import pickle\n",
        "def get_object(path):\n",
        "  obj = None\n",
        "  with open(path, \"rb\") as p:\n",
        "    obj = pickle.load(p)\n",
        "\n",
        "  return obj\n",
        "\n",
        "def to_gb(b):\n",
        "  return round(b/(1024*1024*1024), 2)\n",
        "\n",
        "def to_mb(b):\n",
        "  return round(b/(1024*1024), 2)"
      ],
      "metadata": {
        "id": "YAwHYm87kDV-"
      },
      "execution_count": 92,
      "outputs": []
    },
    {
      "cell_type": "code",
      "source": [
        "! ls -l \"{PROJECT_PATH}/stats\""
      ],
      "metadata": {
        "id": "T6UnzuuhlavP"
      },
      "execution_count": null,
      "outputs": []
    },
    {
      "cell_type": "code",
      "source": [
        "# system configuration\n",
        "import psutil\n",
        "\n",
        "print(f\"Total GPU Memory: {to_gb(torch.cuda.get_device_properties(0).total_memory)} GB\")\n",
        "print(f\"Total CPU Memory: {to_gb(psutil.virtual_memory().total)} GB\")"
      ],
      "metadata": {
        "id": "Ywq47aa7qcby",
        "outputId": "5e5b8910-4950-4b44-8815-68a6f0ffde1f",
        "colab": {
          "base_uri": "https://localhost:8080/"
        }
      },
      "execution_count": 94,
      "outputs": [
        {
          "output_type": "stream",
          "name": "stdout",
          "text": [
            "Total GPU Memory: 15.9 GB\n",
            "Total CPU Memory: 51.01 GB\n"
          ]
        }
      ]
    },
    {
      "cell_type": "code",
      "source": [
        "import numpy as np\n",
        "stats = get_object(f\"{PROJECT_PATH}/stats/stats-17-04-2022-02-35-12\")\n",
        "print(f\"Average GPU Memory Used: {to_mb(np.mean(stats['gpu_mem']))} MB\")\n",
        "print(f\"Average Main Memory Used: {to_gb(np.mean(stats['main_mem']))} GB\")\n",
        "print(f\"Average GPU Time (per epoc): {np.mean(stats['gpu_time']):.2f} sec\")\n",
        "print(f\"Total GPU Time: {np.sum(stats['gpu_time']):.2f} sec\")"
      ],
      "metadata": {
        "id": "qXQfSeCQjZN-",
        "outputId": "4e5bba6a-c315-4269-b9a9-f80f80295f12",
        "colab": {
          "base_uri": "https://localhost:8080/"
        }
      },
      "execution_count": 95,
      "outputs": [
        {
          "output_type": "stream",
          "name": "stdout",
          "text": [
            "Average GPU Memory Used: 39.68 MB\n",
            "Average Main Memory Used: 10.39 GB\n",
            "Average GPU Time (per epoc): 35.34 sec\n",
            "Total GPU Time: 3533.87 sec\n"
          ]
        }
      ]
    },
    {
      "cell_type": "code",
      "source": [
        "import numpy as np\n",
        "\n",
        "a_mi = np.array([0.496, 0.564, 0.528])\n",
        "o_mi = np.array([0.406, 0.626, 0.493])\n",
        "print(((a_mi - o_mi).T / a_mi) * 100)\n",
        "\n",
        "a_ma = np.array([0.464, 0.463, 0.448])\n",
        "o_ma = np.array([0.367, 0.536, 0.429])\n",
        "print(((a_ma - o_ma).T / a_ma) * 100)"
      ],
      "metadata": {
        "id": "CWmPQOaG2ATa",
        "outputId": "50f39a6a-4da1-4d53-93d7-942d2af21d22",
        "colab": {
          "base_uri": "https://localhost:8080/"
        }
      },
      "execution_count": 96,
      "outputs": [
        {
          "output_type": "stream",
          "name": "stdout",
          "text": [
            "[ 18.14516129 -10.9929078    6.62878788]\n",
            "[ 20.90517241 -15.76673866   4.24107143]\n"
          ]
        }
      ]
    },
    {
      "cell_type": "markdown",
      "source": [
        "# Evaluation of Baseline Models"
      ],
      "metadata": {
        "id": "ZHjgpomeNFvO"
      }
    },
    {
      "cell_type": "markdown",
      "source": [
        "## BiLSTM + TF-IDF Model"
      ],
      "metadata": {
        "id": "fzNWTLQnNgrU"
      }
    },
    {
      "cell_type": "markdown",
      "source": [
        "### Datasets and Dataloaders"
      ],
      "metadata": {
        "id": "_jdXZog5PR-k"
      }
    },
    {
      "cell_type": "code",
      "source": [
        "def collate_fn_tf_idf(data):\n",
        "  x_tidf, y_batch = zip(*data)\n",
        "  x_tidf = pad_dataset(x_tidf, 50) # TODO remove hardcodig.\n",
        "  y_batch = torch.FloatTensor(y_batch)\n",
        "  x_tidf = x_tidf.cuda() if torch.cuda.is_available() else x_tidf\n",
        "  y_batch = y_batch.cuda() if torch.cuda.is_available() else y_batch\n",
        "  return x_tidf, y_batch\n",
        "\n",
        "\n",
        "class CustomDatasetTFIDF(Dataset):\n",
        "  def __init__(self, X_tfidf, y):\n",
        "    self.X_tfidf = X_tfidf\n",
        "    self.y = y\n",
        "    \n",
        "  def __len__(self):                \n",
        "    return len(self.y)\n",
        "    \n",
        "  def __getitem__(self, index):          \n",
        "    # your code here\n",
        "    return self.X_tfidf[index], self.y[index]\n",
        "\n",
        "\n",
        "dataset_tf_idf = CustomDatasetTFIDF(X_tf_idf, y)\n",
        "\n",
        "split = int(len(dataset_tf_idf)*0.8)\n",
        "lengths = [split, len(dataset_tf_idf) - split]\n",
        "train_dataset_tf_idf, test_dataset_tf_idf = random_split(dataset_tf_idf, \n",
        "                                                         lengths)\n",
        "\n",
        "train_loader_tf_idf = DataLoader(train_dataset_tf_idf, shuffle=True, \n",
        "                                 batch_size=TRAINING_BATCH_SIZE, \n",
        "                                 collate_fn=collate_fn_tf_idf)\n",
        "\n",
        "test_loader_tf_idf = DataLoader(test_dataset_tf_idf, shuffle=True, \n",
        "                                batch_size=TRAINING_BATCH_SIZE, \n",
        "                                collate_fn=collate_fn_tf_idf)"
      ],
      "metadata": {
        "id": "fjyauO4bPOEw"
      },
      "execution_count": 95,
      "outputs": []
    },
    {
      "cell_type": "markdown",
      "source": [
        "### Model Definition"
      ],
      "metadata": {
        "id": "aCk93NC7N6wF"
      }
    },
    {
      "cell_type": "code",
      "source": [
        "model = BiLSTM(input_dim=50, embedding_dim=LSTM_HIDDEN_VEC_SIZE, output_dim=50, \n",
        "                      model_name=\"tf-idf\")"
      ],
      "metadata": {
        "id": "LzSbzz5OHvAv"
      },
      "execution_count": 96,
      "outputs": []
    },
    {
      "cell_type": "markdown",
      "source": [
        "### Model Training"
      ],
      "metadata": {
        "id": "CrHTWel_Rf3A"
      }
    },
    {
      "cell_type": "code",
      "source": [
        "if torch.cuda.is_available():\n",
        "  model.cuda()\n",
        "\n",
        "loss_fn = nn.BCELoss()\n",
        "optim = torch.optim.Adam(model.parameters(), lr=0.001)\n",
        "print(f\"No of parameters to train: \\\n",
        "        {sum(p.numel() for p in model.parameters() if p.requires_grad)}\")\n",
        "\n",
        "train_model(model, loss_fn, optim, train_loader_tf_idf)"
      ],
      "metadata": {
        "colab": {
          "base_uri": "https://localhost:8080/"
        },
        "id": "Zgz1ExAYRfTA",
        "outputId": "6fd25084-ebcf-4d0f-d55e-6ea11c6ef1b4"
      },
      "execution_count": null,
      "outputs": [
        {
          "output_type": "stream",
          "name": "stdout",
          "text": [
            "No of parameters to train:         131650\n",
            "epoc: 0: Train Loss: 0.34089002527973866\n",
            "time: 21.914840936660767 memory_used: 19882385408 gpu_memory_used: 82505728\n",
            "\n",
            "\n",
            "epoc: 1: Train Loss: 0.2805670283057473\n",
            "time: 21.835167169570923 memory_used: 19882680320 gpu_memory_used: 82757120\n",
            "\n",
            "\n",
            "epoc: 2: Train Loss: 0.2806082909757441\n",
            "time: 21.855493783950806 memory_used: 19881213952 gpu_memory_used: 82506240\n",
            "\n",
            "\n",
            "epoc: 3: Train Loss: 0.2805994524197145\n",
            "time: 21.830458402633667 memory_used: 19882262528 gpu_memory_used: 82506240\n",
            "\n",
            "\n",
            "epoc: 4: Train Loss: 0.2806398811665448\n",
            "time: 21.71553921699524 memory_used: 19882627072 gpu_memory_used: 82155008\n",
            "\n",
            "\n",
            "epoc: 5: Train Loss: 0.2806455067612908\n",
            "time: 21.601057291030884 memory_used: 19880964096 gpu_memory_used: 82746368\n",
            "\n",
            "\n",
            "epoc: 6: Train Loss: 0.28066340332681483\n",
            "time: 21.761104583740234 memory_used: 19880419328 gpu_memory_used: 81873920\n",
            "\n",
            "\n",
            "epoc: 7: Train Loss: 0.28066474903713573\n",
            "time: 21.650328397750854 memory_used: 19881381888 gpu_memory_used: 83945984\n",
            "\n",
            "\n",
            "epoc: 8: Train Loss: 0.2806794624436985\n",
            "time: 21.666779279708862 memory_used: 19881697280 gpu_memory_used: 81593344\n",
            "\n",
            "\n",
            "epoc: 9: Train Loss: 0.2806608097119765\n",
            "time: 21.56662344932556 memory_used: 19880091648 gpu_memory_used: 81523200\n",
            "\n",
            "\n",
            "epoc: 10: Train Loss: 0.2806706913492896\n",
            "time: 21.672319650650024 memory_used: 19878567936 gpu_memory_used: 81593344\n",
            "\n",
            "\n",
            "epoc: 11: Train Loss: 0.2806518692861904\n",
            "time: 21.721024990081787 memory_used: 19880849408 gpu_memory_used: 82716672\n",
            "\n",
            "\n",
            "epoc: 12: Train Loss: 0.2806356584483927\n",
            "time: 21.562750339508057 memory_used: 19880792064 gpu_memory_used: 82357248\n",
            "\n",
            "\n",
            "epoc: 13: Train Loss: 0.2806668078357523\n",
            "time: 21.642345190048218 memory_used: 19882033152 gpu_memory_used: 81873920\n",
            "\n",
            "\n",
            "epoc: 14: Train Loss: 0.280631761117415\n",
            "time: 21.53531837463379 memory_used: 19880042496 gpu_memory_used: 82084864\n",
            "\n",
            "\n",
            "epoc: 15: Train Loss: 0.2806291536851363\n",
            "time: 21.386412382125854 memory_used: 19879911424 gpu_memory_used: 81873920\n",
            "\n",
            "\n",
            "epoc: 16: Train Loss: 0.2806337773799896\n",
            "time: 21.53914976119995 memory_used: 19880620032 gpu_memory_used: 82746368\n",
            "\n",
            "\n",
            "epoc: 17: Train Loss: 0.28060205389152876\n",
            "time: 21.620185613632202 memory_used: 19880456192 gpu_memory_used: 81663488\n",
            "\n",
            "\n",
            "epoc: 18: Train Loss: 0.28062813742594284\n",
            "time: 21.531044960021973 memory_used: 19880398848 gpu_memory_used: 82505728\n",
            "\n",
            "\n",
            "epoc: 19: Train Loss: 0.2806398261677135\n",
            "time: 21.412517786026 memory_used: 19880349696 gpu_memory_used: 82597376\n",
            "\n",
            "\n",
            "epoc: 20: Train Loss: 0.28061765838753094\n",
            "time: 21.556747674942017 memory_used: 19881914368 gpu_memory_used: 81312256\n",
            "\n",
            "\n",
            "epoc: 21: Train Loss: 0.28065847239711067\n",
            "time: 21.40390133857727 memory_used: 19882754048 gpu_memory_used: 81733632\n",
            "\n",
            "\n",
            "epoc: 22: Train Loss: 0.28060055429285224\n",
            "time: 21.582792282104492 memory_used: 19880992768 gpu_memory_used: 82365440\n",
            "\n",
            "\n",
            "epoc: 23: Train Loss: 0.2806218851696361\n",
            "time: 21.48067283630371 memory_used: 19880337408 gpu_memory_used: 82437120\n",
            "\n",
            "\n",
            "epoc: 24: Train Loss: 0.2806199174035679\n",
            "time: 21.339423894882202 memory_used: 19881615360 gpu_memory_used: 81733632\n",
            "\n",
            "\n",
            "epoc: 25: Train Loss: 0.28059824894775043\n",
            "time: 21.245080709457397 memory_used: 19881390080 gpu_memory_used: 82516992\n",
            "\n",
            "\n",
            "epoc: 26: Train Loss: 0.28063846013762733\n",
            "time: 21.21055507659912 memory_used: 19881918464 gpu_memory_used: 82357248\n",
            "\n",
            "\n",
            "epoc: 27: Train Loss: 0.280613281510093\n",
            "time: 21.160941123962402 memory_used: 19881672704 gpu_memory_used: 82155008\n",
            "\n",
            "\n",
            "epoc: 28: Train Loss: 0.2805743157863617\n",
            "time: 21.36662745475769 memory_used: 19882377216 gpu_memory_used: 81866240\n",
            "\n",
            "\n",
            "epoc: 29: Train Loss: 0.280567127737132\n",
            "time: 21.141884326934814 memory_used: 19881541632 gpu_memory_used: 82277376\n",
            "\n",
            "\n",
            "epoc: 30: Train Loss: 0.28061755218289114\n",
            "time: 21.3331778049469 memory_used: 19881680896 gpu_memory_used: 81876992\n",
            "\n",
            "\n",
            "epoc: 31: Train Loss: 0.28062091225927527\n",
            "time: 21.050235748291016 memory_used: 19881172992 gpu_memory_used: 82155008\n",
            "\n",
            "\n",
            "epoc: 32: Train Loss: 0.2805940115993673\n",
            "time: 21.07462739944458 memory_used: 19881852928 gpu_memory_used: 82365440\n",
            "\n",
            "\n",
            "epoc: 33: Train Loss: 0.2805993993173946\n",
            "time: 21.04531240463257 memory_used: 19881926656 gpu_memory_used: 82435584\n",
            "\n",
            "\n",
            "epoc: 34: Train Loss: 0.2805629838596691\n",
            "time: 21.125386714935303 memory_used: 19880898560 gpu_memory_used: 81523200\n",
            "\n",
            "\n",
            "epoc: 35: Train Loss: 0.2805835561318831\n",
            "time: 21.17066192626953 memory_used: 19882283008 gpu_memory_used: 82345984\n",
            "\n",
            "\n",
            "epoc: 36: Train Loss: 0.28057613399895753\n",
            "time: 21.18181324005127 memory_used: 19880357888 gpu_memory_used: 81876992\n",
            "\n",
            "\n",
            "epoc: 37: Train Loss: 0.2805649754675952\n",
            "time: 21.144628763198853 memory_used: 19881803776 gpu_memory_used: 81803776\n",
            "\n",
            "\n",
            "epoc: 38: Train Loss: 0.28057235967029226\n",
            "time: 20.968872547149658 memory_used: 19881275392 gpu_memory_used: 81944064\n",
            "\n",
            "\n",
            "epoc: 39: Train Loss: 0.2805567551742901\n",
            "time: 21.02995228767395 memory_used: 19881877504 gpu_memory_used: 81382400\n",
            "\n",
            "\n",
            "epoc: 40: Train Loss: 0.27598173916339874\n",
            "time: 21.03220510482788 memory_used: 19880382464 gpu_memory_used: 81803776\n",
            "\n",
            "\n",
            "epoc: 41: Train Loss: 0.26242943636395716\n",
            "time: 21.08662748336792 memory_used: 19881041920 gpu_memory_used: 82757120\n",
            "\n",
            "\n",
            "epoc: 42: Train Loss: 0.25730170864950525\n",
            "time: 21.016626358032227 memory_used: 19880542208 gpu_memory_used: 82716672\n",
            "\n",
            "\n",
            "epoc: 43: Train Loss: 0.25286085280505094\n",
            "time: 21.057445526123047 memory_used: 19881218048 gpu_memory_used: 82746368\n",
            "\n",
            "\n",
            "epoc: 44: Train Loss: 0.24964648309079082\n",
            "time: 21.160776376724243 memory_used: 19882172416 gpu_memory_used: 81101824\n",
            "\n",
            "\n",
            "epoc: 45: Train Loss: 0.24729830609126524\n",
            "time: 21.09975004196167 memory_used: 19882319872 gpu_memory_used: 81523200\n",
            "\n",
            "\n",
            "epoc: 46: Train Loss: 0.2452091790058396\n",
            "time: 21.068619966506958 memory_used: 19881467904 gpu_memory_used: 82084864\n",
            "\n",
            "\n",
            "epoc: 47: Train Loss: 0.24404748393730682\n",
            "time: 20.979509115219116 memory_used: 19881787392 gpu_memory_used: 82084864\n",
            "\n",
            "\n",
            "epoc: 48: Train Loss: 0.24294848902658983\n",
            "time: 21.196338653564453 memory_used: 19881877504 gpu_memory_used: 82155008\n",
            "\n",
            "\n",
            "epoc: 49: Train Loss: 0.24151926988905126\n",
            "time: 21.05278491973877 memory_used: 18908614656 gpu_memory_used: 82084864\n",
            "\n",
            "\n",
            "epoc: 50: Train Loss: 0.24018530588258397\n",
            "time: 20.912437677383423 memory_used: 18907774976 gpu_memory_used: 82014208\n",
            "\n",
            "\n",
            "epoc: 51: Train Loss: 0.2386642027984966\n",
            "time: 20.98182511329651 memory_used: 18907807744 gpu_memory_used: 82084864\n",
            "\n",
            "\n",
            "epoc: 52: Train Loss: 0.23748985556038943\n",
            "time: 20.992421865463257 memory_used: 18908266496 gpu_memory_used: 81382400\n",
            "\n",
            "\n",
            "epoc: 53: Train Loss: 0.2355666995048523\n",
            "time: 20.801798820495605 memory_used: 18908418048 gpu_memory_used: 81453056\n",
            "\n",
            "\n",
            "epoc: 54: Train Loss: 0.2340484632687135\n",
            "time: 21.05029058456421 memory_used: 18908192768 gpu_memory_used: 81453056\n",
            "\n",
            "\n",
            "epoc: 55: Train Loss: 0.23285875469446182\n",
            "time: 20.891424894332886 memory_used: 18907176960 gpu_memory_used: 81312256\n",
            "\n",
            "\n",
            "epoc: 56: Train Loss: 0.23221040855754504\n",
            "time: 20.843531370162964 memory_used: 18906087424 gpu_memory_used: 81453056\n",
            "\n",
            "\n",
            "epoc: 57: Train Loss: 0.23064816241914576\n",
            "time: 21.172062158584595 memory_used: 18906284032 gpu_memory_used: 83945984\n",
            "\n",
            "\n",
            "epoc: 58: Train Loss: 0.2295061714269898\n",
            "time: 21.10708785057068 memory_used: 18905915392 gpu_memory_used: 82836992\n",
            "\n",
            "\n",
            "epoc: 59: Train Loss: 0.2287225903435187\n",
            "time: 21.198487758636475 memory_used: 18906689536 gpu_memory_used: 82516992\n",
            "\n",
            "\n",
            "epoc: 60: Train Loss: 0.22758911224928768\n",
            "time: 21.185776233673096 memory_used: 18903085056 gpu_memory_used: 81382400\n",
            "\n",
            "\n",
            "epoc: 61: Train Loss: 0.22681994099508632\n",
            "time: 21.110377550125122 memory_used: 18903511040 gpu_memory_used: 82836992\n",
            "\n",
            "\n",
            "epoc: 62: Train Loss: 0.22612916271794925\n",
            "time: 21.095973253250122 memory_used: 18905694208 gpu_memory_used: 82516992\n",
            "\n",
            "\n",
            "epoc: 63: Train Loss: 0.2249981861222874\n",
            "time: 21.08970332145691 memory_used: 18905067520 gpu_memory_used: 81593344\n",
            "\n",
            "\n",
            "epoc: 64: Train Loss: 0.2242033596743237\n",
            "time: 20.985085248947144 memory_used: 18906320896 gpu_memory_used: 82345984\n",
            "\n",
            "\n",
            "epoc: 65: Train Loss: 0.22353120243007488\n",
            "time: 21.13017702102661 memory_used: 18905604096 gpu_memory_used: 82426368\n",
            "\n",
            "\n",
            "epoc: 66: Train Loss: 0.22292067544026808\n",
            "time: 21.0008544921875 memory_used: 18905350144 gpu_memory_used: 81873920\n",
            "\n",
            "\n",
            "epoc: 67: Train Loss: 0.22207940315658395\n",
            "time: 21.09470224380493 memory_used: 18905616384 gpu_memory_used: 82014208\n",
            "\n",
            "\n",
            "epoc: 68: Train Loss: 0.22153649953278629\n",
            "time: 20.936206102371216 memory_used: 18906243072 gpu_memory_used: 82505728\n",
            "\n",
            "\n",
            "epoc: 69: Train Loss: 0.22089074701070785\n",
            "time: 20.896855115890503 memory_used: 18904965120 gpu_memory_used: 81382400\n",
            "\n",
            "\n",
            "epoc: 70: Train Loss: 0.22050315683538263\n",
            "time: 20.786978483200073 memory_used: 18905612288 gpu_memory_used: 82575872\n",
            "\n",
            "\n",
            "epoc: 71: Train Loss: 0.22000083963979375\n",
            "time: 20.92950749397278 memory_used: 18906488832 gpu_memory_used: 83909632\n",
            "\n",
            "\n",
            "epoc: 72: Train Loss: 0.21929935934868725\n",
            "time: 21.012712717056274 memory_used: 18905542656 gpu_memory_used: 81663488\n",
            "\n",
            "\n",
            "epoc: 73: Train Loss: 0.21866281127387827\n",
            "time: 21.04163670539856 memory_used: 18906636288 gpu_memory_used: 83945984\n",
            "\n",
            "\n",
            "epoc: 74: Train Loss: 0.21840377124873075\n",
            "time: 20.914581775665283 memory_used: 18907279360 gpu_memory_used: 81663488\n",
            "\n",
            "\n",
            "epoc: 75: Train Loss: 0.2187047236345031\n",
            "time: 21.03939962387085 memory_used: 18906259456 gpu_memory_used: 82516992\n",
            "\n",
            "\n",
            "epoc: 76: Train Loss: 0.21766680763526397\n",
            "time: 20.880715370178223 memory_used: 18906734592 gpu_memory_used: 82155008\n",
            "\n",
            "\n",
            "epoc: 77: Train Loss: 0.21710822257128629\n",
            "time: 20.7951922416687 memory_used: 18905522176 gpu_memory_used: 82225152\n",
            "\n",
            "\n",
            "epoc: 78: Train Loss: 0.21678740680217742\n",
            "time: 21.036264896392822 memory_used: 18905849856 gpu_memory_used: 81944064\n",
            "\n",
            "\n",
            "epoc: 79: Train Loss: 0.21625159775668926\n",
            "time: 20.769810676574707 memory_used: 18905829376 gpu_memory_used: 82014208\n",
            "\n",
            "\n",
            "epoc: 80: Train Loss: 0.21599261516874488\n",
            "time: 20.95164394378662 memory_used: 18904453120 gpu_memory_used: 81803776\n",
            "\n",
            "\n",
            "epoc: 81: Train Loss: 0.21555604216727345\n",
            "time: 20.905554056167603 memory_used: 18905489408 gpu_memory_used: 81593344\n",
            "\n",
            "\n",
            "epoc: 82: Train Loss: 0.21535020700909874\n",
            "time: 20.942659378051758 memory_used: 18905915392 gpu_memory_used: 82836992\n",
            "\n",
            "\n",
            "epoc: 83: Train Loss: 0.21500014852393756\n",
            "time: 20.885151863098145 memory_used: 18905145344 gpu_memory_used: 82586112\n",
            "\n",
            "\n",
            "epoc: 84: Train Loss: 0.2144058193672787\n",
            "time: 21.077573776245117 memory_used: 18906144768 gpu_memory_used: 82117120\n",
            "\n",
            "\n",
            "epoc: 85: Train Loss: 0.21402902332219212\n",
            "time: 21.11668062210083 memory_used: 18906382336 gpu_memory_used: 82295296\n",
            "\n",
            "\n",
            "epoc: 86: Train Loss: 0.21349718787453392\n",
            "time: 21.002800703048706 memory_used: 18905767936 gpu_memory_used: 82856960\n",
            "\n",
            "\n",
            "epoc: 87: Train Loss: 0.21305483105507764\n",
            "time: 21.145253658294678 memory_used: 18905141248 gpu_memory_used: 82437120\n",
            "\n",
            "\n",
            "epoc: 88: Train Loss: 0.21287403485991738\n",
            "time: 21.008857488632202 memory_used: 18903998464 gpu_memory_used: 82597376\n",
            "\n",
            "\n"
          ]
        }
      ]
    },
    {
      "cell_type": "markdown",
      "source": [
        "### Evaluate TF-IDF Model"
      ],
      "metadata": {
        "id": "aWg3MMMzUYwS"
      }
    },
    {
      "cell_type": "code",
      "source": [
        "if model is None:\n",
        "  print(\"load from disk.\")\n",
        "  model = BiLSTM(input_dim=50, embedding_dim=LSTM_HIDDEN_VEC_SIZE, output_dim=50, \n",
        "                      model_name=\"tf-idf\")\n",
        "  if torch.cuda.is_available():\n",
        "    model.cuda()\n",
        "  model.load_state_dict(torch.load(f\"{PROJECT_PATH}/models/tf-idf-27-04-2022-16-29-54\"))\n",
        "  evaluate_model(model, test_loader_tf_idf)\n",
        "else:\n",
        "  print(\"Evaluate in-memory model.\")\n",
        "  evaluate_model(model, test_loader_tf_idf)"
      ],
      "metadata": {
        "colab": {
          "base_uri": "https://localhost:8080/"
        },
        "id": "1X3WBMEqUW4B",
        "outputId": "e58bb036-70f9-473a-bbe7-9918ccc00532"
      },
      "execution_count": 109,
      "outputs": [
        {
          "output_type": "stream",
          "name": "stdout",
          "text": [
            "load from disk.\n",
            "Micro Averaging. Precision: 0.40594652919314234, Recall: 0.5426064660870958, F1 Score: 0.4644320617231033,           AUC: 0.7316218056333316\n",
            "Macro Averaging. Precision: 0.371734499004431, Recall: 0.44700236173716, F1 Score: 0.37840543819420625,           AUC: 0.6795076968902484\n",
            "p=0.35121951219512193, r=0.5517241379310345, f=0.4292101341281669\n",
            "p=0.19966722129783693, r=0.11892963330029732, f=0.14906832298136646\n",
            "p=0.39151515151515154, r=0.4943877551020408, f=0.43697857948139796\n",
            "p=0.37174721189591076, r=0.39872408293460926, f=0.3847633705271258\n",
            "p=0.44584780549415853, r=0.7711632987438558, f=0.5650260104041617\n",
            "p=0.2750642673521851, r=0.22863247863247863, f=0.24970828471411902\n",
            "p=0.2440087145969499, r=0.18122977346278318, f=0.20798514391829157\n",
            "p=0.23952095808383234, r=0.291970802919708, f=0.2631578947368421\n",
            "p=0.32112068965517243, r=0.32891832229580575, f=0.3249727371864776\n",
            "p=0.3510436432637571, r=0.5446516192345436, f=0.4269230769230769\n",
            "p=0.24509803921568626, r=0.08635578583765112, f=0.1277139208173691\n",
            "p=0.2185430463576159, r=0.14473684210526316, f=0.17414248021108178\n",
            "p=0.3902439024390244, r=0.08533333333333333, f=0.1400437636761488\n",
            "p=0.29896907216494845, r=0.11662198391420911, f=0.1677917068466731\n",
            "p=0.3793103448275862, r=0.2429718875502008, f=0.2962056303549571\n",
            "p=0.5028646455001193, r=0.945679012345679, f=0.6565884828177355\n",
            "p=0.3055555555555556, r=0.6489675516224189, f=0.41548630783758267\n",
            "p=0.6168032786885246, r=0.5394265232974911, f=0.575525812619503\n",
            "p=0.2697807435653003, r=0.4137426900584795, f=0.326601269474899\n",
            "p=0.39436619718309857, r=0.3631123919308357, f=0.3780945236309077\n",
            "p=0.5726972849530576, r=0.8288652221814176, f=0.6773709483793519\n",
            "p=0.27486910994764396, r=0.3211009174311927, f=0.29619181946403383\n",
            "p=0.40476190476190477, r=0.3996383363471971, f=0.40218380345768884\n",
            "p=0.4637134778510839, r=0.8751334044823906, f=0.606209955643174\n",
            "p=0.32, r=0.014059753954305799, f=0.026936026936026935\n",
            "p=0.46710147707653943, r=0.8537868162692848, f=0.6038437693738375\n",
            "p=0.3206793206793207, r=0.30368968779564803, f=0.31195335276967934\n",
            "p=0.3333333333333333, r=0.11306532663316583, f=0.16885553470919323\n",
            "p=0.39526411657559196, r=0.2178714859437751, f=0.2809061488673139\n",
            "p=0.36876640419947504, r=0.32298850574712645, f=0.3443627450980392\n",
            "p=0.32075471698113206, r=0.08732876712328767, f=0.13728129205921938\n",
            "p=0.3533213644524237, r=0.6062846580406654, f=0.44646098003629764\n",
            "p=0.3401197604790419, r=0.2117822520507084, f=0.2610294117647059\n",
            "p=0.28043478260869564, r=0.2654320987654321, f=0.27272727272727276\n",
            "p=0.3248953974895398, r=0.8050803525142561, f=0.46296020271277394\n",
            "p=0.3136645962732919, r=0.581294964028777, f=0.4074634392334846\n",
            "p=0.2691532258064516, r=0.5471311475409836, f=0.3608108108108108\n",
            "p=0.6902404526166902, r=0.9568627450980393, f=0.8019720624486442\n",
            "p=0.38149556400506973, r=0.5755258126195029, f=0.45884146341463417\n",
            "p=0.38217000691085, r=0.6938519447929736, f=0.4928698752228164\n",
            "p=0.23652173913043478, r=0.26356589147286824, f=0.24931255728689275\n",
            "p=0.5786864931846345, r=0.9729166666666667, f=0.7257187257187258\n",
            "p=0.37735849056603776, r=0.031496062992125984, f=0.05813953488372093\n",
            "p=0.6826568265682657, r=0.9823008849557522, f=0.8055152394775037\n",
            "p=0.4352078239608802, r=0.8165137614678899, f=0.5677830940988835\n",
            "p=0.5523012552301255, r=0.8380952380952381, f=0.6658259773013872\n",
            "p=0.36643356643356645, r=0.43521594684385384, f=0.39787395596051633\n",
            "p=0.34060402684563756, r=0.35802469135802467, f=0.349097162510748\n",
            "p=0.30484037075180226, r=0.37092731829573933, f=0.33465234595816845\n",
            "p=0.32238805970149254, r=0.20300751879699247, f=0.24913494809688586\n"
          ]
        }
      ]
    },
    {
      "cell_type": "markdown",
      "source": [
        "## BiLSTM + Word2Vec Model"
      ],
      "metadata": {
        "id": "4XYsQBi1EiIE"
      }
    },
    {
      "cell_type": "markdown",
      "source": [
        "### Datasets and Dataloaders"
      ],
      "metadata": {
        "id": "TypizThhIN5_"
      }
    },
    {
      "cell_type": "code",
      "source": [
        "def collate_fn_word2vec(data):\n",
        "  X_w2vec, y_batch = zip(*data)\n",
        "  X_w2vec = pad_dataset(X_w2vec, W2V_EMB_SIZE)\n",
        "  y_batch = torch.FloatTensor(y_batch)\n",
        "  X_w2vec = X_w2vec.cuda() if torch.cuda.is_available() else X_w2vec\n",
        "  y_batch = y_batch.cuda() if torch.cuda.is_available() else y_batch\n",
        "  return X_w2vec, y_batch\n",
        "\n",
        "\n",
        "class CustomDatasetWord2Vec(Dataset):\n",
        "  def __init__(self, X_w2vec, y):\n",
        "    self.X_w2vec = X_w2vec\n",
        "    self.y = y\n",
        "    \n",
        "  def __len__(self):                \n",
        "    return len(self.y)\n",
        "    \n",
        "  def __getitem__(self, index):          \n",
        "    # your code here\n",
        "    return self.X_w2vec[index], self.y[index]\n",
        "\n",
        "\n",
        "dataset_w2vec = CustomDatasetWord2Vec(X_word2vec, y)\n",
        "\n",
        "split = int(len(dataset_w2vec)*0.8)\n",
        "lengths = [split, len(dataset_w2vec) - split]\n",
        "train_dataset_w2vec, test_dataset_w2vec = random_split(dataset_w2vec, \n",
        "                                                       lengths)\n",
        "\n",
        "train_loader_w2vec = DataLoader(train_dataset_w2vec, shuffle=True, \n",
        "                                 batch_size=400, \n",
        "                                 collate_fn=collate_fn_word2vec)\n",
        "\n",
        "test_loader_w2vec = DataLoader(train_dataset_w2vec, shuffle=True, \n",
        "                                batch_size=400, \n",
        "                                collate_fn=collate_fn_word2vec)"
      ],
      "metadata": {
        "id": "PbM3Cn6-IX-N"
      },
      "execution_count": 113,
      "outputs": []
    },
    {
      "cell_type": "markdown",
      "source": [
        "### Model Definition"
      ],
      "metadata": {
        "id": "l13djdMnEuIx"
      }
    },
    {
      "cell_type": "code",
      "source": [
        "model = BiLSTM(input_dim=W2V_EMB_SIZE, embedding_dim=LSTM_HIDDEN_VEC_SIZE, \n",
        "               output_dim=50, \n",
        "               model_name=\"word2vec\")"
      ],
      "metadata": {
        "id": "uVokcHYHE0-i"
      },
      "execution_count": 114,
      "outputs": []
    },
    {
      "cell_type": "markdown",
      "source": [
        "### Model Training"
      ],
      "metadata": {
        "id": "gkAmO5LpIIcJ"
      }
    },
    {
      "cell_type": "code",
      "source": [
        "if torch.cuda.is_available():\n",
        "  model.cuda()\n",
        "\n",
        "loss_fn = nn.BCELoss()\n",
        "optim = torch.optim.Adam(model.parameters(), lr=0.001)\n",
        "print(f\"No of parameters to train: \\\n",
        "        {sum(p.numel() for p in model.parameters() if p.requires_grad)}\")\n",
        "\n",
        "train_model(model, loss_fn, optim, train_loader_w2vec)"
      ],
      "metadata": {
        "colab": {
          "base_uri": "https://localhost:8080/"
        },
        "id": "mtyQiRhvIHNX",
        "outputId": "526d0d27-faae-47e8-8f02-53fdac9bc34d"
      },
      "execution_count": null,
      "outputs": [
        {
          "output_type": "stream",
          "name": "stdout",
          "text": [
            "No of parameters to train:         194050\n",
            "epoc: 0: Train Loss: 0.3416818331588398\n",
            "time: 17.357677936553955 memory_used: 19858268160 gpu_memory_used: 122903040\n",
            "\n",
            "\n",
            "epoc: 1: Train Loss: 0.2804930158636787\n",
            "time: 17.15282130241394 memory_used: 19857928192 gpu_memory_used: 126497280\n",
            "\n",
            "\n",
            "epoc: 2: Train Loss: 0.28049913942813876\n",
            "time: 17.52151346206665 memory_used: 19899396096 gpu_memory_used: 123082752\n",
            "\n",
            "\n",
            "epoc: 3: Train Loss: 0.28050080591982063\n",
            "time: 17.181158781051636 memory_used: 19898716160 gpu_memory_used: 123442176\n",
            "\n",
            "\n",
            "epoc: 4: Train Loss: 0.2805128040638837\n",
            "time: 17.194701194763184 memory_used: 19900104704 gpu_memory_used: 122903040\n",
            "\n",
            "\n",
            "epoc: 5: Train Loss: 0.28051156320355153\n",
            "time: 17.322375535964966 memory_used: 19823378432 gpu_memory_used: 125059584\n",
            "\n",
            "\n",
            "epoc: 6: Train Loss: 0.28051711104132915\n",
            "time: 17.1924250125885 memory_used: 19755220992 gpu_memory_used: 123082752\n",
            "\n",
            "\n",
            "epoc: 7: Train Loss: 0.28052126467227934\n",
            "time: 17.365533590316772 memory_used: 19753558016 gpu_memory_used: 124700160\n",
            "\n",
            "\n",
            "epoc: 8: Train Loss: 0.28050683520056985\n",
            "time: 17.064008235931396 memory_used: 19753693184 gpu_memory_used: 123262464\n",
            "\n",
            "\n",
            "epoc: 9: Train Loss: 0.2804976059631868\n",
            "time: 17.18147039413452 memory_used: 19752665088 gpu_memory_used: 123262464\n",
            "\n",
            "\n",
            "epoc: 10: Train Loss: 0.2804824254729531\n",
            "time: 17.24264621734619 memory_used: 19752108032 gpu_memory_used: 125059584\n",
            "\n",
            "\n",
            "epoc: 11: Train Loss: 0.2804802653464404\n",
            "time: 17.25478744506836 memory_used: 19751518208 gpu_memory_used: 125239296\n",
            "\n",
            "\n",
            "epoc: 12: Train Loss: 0.2804764736782421\n",
            "time: 17.29888105392456 memory_used: 19752095744 gpu_memory_used: 123801600\n",
            "\n",
            "\n",
            "epoc: 13: Train Loss: 0.28048713505268097\n",
            "time: 17.127426624298096 memory_used: 19754065920 gpu_memory_used: 122004480\n",
            "\n",
            "\n",
            "epoc: 14: Train Loss: 0.28043761361729014\n",
            "time: 17.27583956718445 memory_used: 19752247296 gpu_memory_used: 125239296\n",
            "\n",
            "\n",
            "epoc: 15: Train Loss: 0.28045776215466584\n",
            "time: 17.120359420776367 memory_used: 19752833024 gpu_memory_used: 122903040\n",
            "\n",
            "\n",
            "epoc: 16: Train Loss: 0.28044601543383163\n",
            "time: 17.130426168441772 memory_used: 19753537536 gpu_memory_used: 124161024\n",
            "\n",
            "\n",
            "epoc: 17: Train Loss: 0.28041694137183104\n",
            "time: 17.196265935897827 memory_used: 19753345024 gpu_memory_used: 122543616\n",
            "\n",
            "\n",
            "epoc: 18: Train Loss: 0.28044320453297006\n",
            "time: 17.017146587371826 memory_used: 19753832448 gpu_memory_used: 123621888\n",
            "\n",
            "\n",
            "epoc: 19: Train Loss: 0.2804354106838053\n",
            "time: 17.18027377128601 memory_used: 19753132032 gpu_memory_used: 122363904\n",
            "\n",
            "\n",
            "epoc: 20: Train Loss: 0.28043970546939156\n",
            "time: 17.173065662384033 memory_used: 19752910848 gpu_memory_used: 126497280\n",
            "\n",
            "\n",
            "epoc: 21: Train Loss: 0.28042130090973594\n",
            "time: 17.228839874267578 memory_used: 19753771008 gpu_memory_used: 122363904\n",
            "\n",
            "\n",
            "epoc: 22: Train Loss: 0.28042153309692036\n",
            "time: 17.10487961769104 memory_used: 19754516480 gpu_memory_used: 121958912\n",
            "\n",
            "\n",
            "epoc: 23: Train Loss: 0.28037826960737056\n",
            "time: 17.116838455200195 memory_used: 19754119168 gpu_memory_used: 123262464\n",
            "\n",
            "\n",
            "epoc: 24: Train Loss: 0.2803348636085337\n",
            "time: 17.03623628616333 memory_used: 19752587264 gpu_memory_used: 122543616\n",
            "\n",
            "\n",
            "epoc: 25: Train Loss: 0.2803608796813271\n",
            "time: 17.00251817703247 memory_used: 19753197568 gpu_memory_used: 124340736\n",
            "\n",
            "\n",
            "epoc: 26: Train Loss: 0.28039809790524567\n",
            "time: 17.01267981529236 memory_used: 19752722432 gpu_memory_used: 123082752\n",
            "\n",
            "\n",
            "epoc: 27: Train Loss: 0.2803393068638715\n",
            "time: 17.076305150985718 memory_used: 19753254912 gpu_memory_used: 126497280\n",
            "\n",
            "\n",
            "epoc: 28: Train Loss: 0.28034565909342335\n",
            "time: 17.165961980819702 memory_used: 19753103360 gpu_memory_used: 123981312\n",
            "\n",
            "\n",
            "epoc: 29: Train Loss: 0.2803248110142621\n",
            "time: 17.098896980285645 memory_used: 19752943616 gpu_memory_used: 125059584\n",
            "\n",
            "\n",
            "epoc: 30: Train Loss: 0.28032435178756715\n",
            "time: 17.06982445716858 memory_used: 19752038400 gpu_memory_used: 125239296\n",
            "\n",
            "\n",
            "epoc: 31: Train Loss: 0.2723988419229334\n",
            "time: 17.193407773971558 memory_used: 19753037824 gpu_memory_used: 126317568\n",
            "\n",
            "\n",
            "epoc: 32: Train Loss: 0.2581818336790258\n",
            "time: 17.023898124694824 memory_used: 19753271296 gpu_memory_used: 123621888\n",
            "\n",
            "\n",
            "epoc: 33: Train Loss: 0.25558232367038725\n",
            "time: 17.07026243209839 memory_used: 19753725952 gpu_memory_used: 94473216\n",
            "\n",
            "\n",
            "epoc: 34: Train Loss: 0.25398399491201745\n",
            "time: 16.92392611503601 memory_used: 19752243200 gpu_memory_used: 93394944\n",
            "\n",
            "\n",
            "epoc: 35: Train Loss: 0.25307841449975965\n",
            "time: 17.053301572799683 memory_used: 19753938944 gpu_memory_used: 92496384\n",
            "\n",
            "\n",
            "epoc: 36: Train Loss: 0.2524478867650032\n",
            "time: 16.93154215812683 memory_used: 19754180608 gpu_memory_used: 94832640\n",
            "\n",
            "\n",
            "epoc: 37: Train Loss: 0.2511775561354377\n",
            "time: 17.17604947090149 memory_used: 19754905600 gpu_memory_used: 94473216\n",
            "\n",
            "\n",
            "epoc: 38: Train Loss: 0.24871277795596555\n",
            "time: 17.14616322517395 memory_used: 19754676224 gpu_memory_used: 95910912\n",
            "\n",
            "\n",
            "epoc: 39: Train Loss: 0.2454987181858583\n",
            "time: 16.962984323501587 memory_used: 19752251392 gpu_memory_used: 92496384\n",
            "\n",
            "\n",
            "epoc: 40: Train Loss: 0.24330686994574285\n",
            "time: 16.991379022598267 memory_used: 19753394176 gpu_memory_used: 95731200\n",
            "\n",
            "\n",
            "epoc: 41: Train Loss: 0.24266248765316875\n",
            "time: 16.88882613182068 memory_used: 19753480192 gpu_memory_used: 93934080\n",
            "\n",
            "\n",
            "epoc: 42: Train Loss: 0.2418626523830674\n",
            "time: 16.915903568267822 memory_used: 19753050112 gpu_memory_used: 93754368\n",
            "\n",
            "\n",
            "epoc: 43: Train Loss: 0.24122321172194047\n",
            "time: 16.911621570587158 memory_used: 19752562688 gpu_memory_used: 96270336\n",
            "\n",
            "\n",
            "epoc: 44: Train Loss: 0.24050384881821546\n",
            "time: 16.895017385482788 memory_used: 19754823680 gpu_memory_used: 92496384\n",
            "\n",
            "\n",
            "epoc: 45: Train Loss: 0.23967764364047484\n",
            "time: 16.87531018257141 memory_used: 19752853504 gpu_memory_used: 93035520\n",
            "\n",
            "\n",
            "epoc: 46: Train Loss: 0.2387217009609396\n",
            "time: 16.854599237442017 memory_used: 19753488384 gpu_memory_used: 91731968\n",
            "\n",
            "\n",
            "epoc: 47: Train Loss: 0.23783957009965723\n",
            "time: 16.924927949905396 memory_used: 19754745856 gpu_memory_used: 93035520\n",
            "\n",
            "\n",
            "epoc: 48: Train Loss: 0.2366990873759443\n",
            "time: 16.841439723968506 memory_used: 19752853504 gpu_memory_used: 92496384\n",
            "\n",
            "\n",
            "epoc: 49: Train Loss: 0.2351128500970927\n",
            "time: 16.980050563812256 memory_used: 19753512960 gpu_memory_used: 94652928\n",
            "\n",
            "\n",
            "epoc: 50: Train Loss: 0.23349278636954046\n",
            "time: 16.862852096557617 memory_used: 19752726528 gpu_memory_used: 92496384\n",
            "\n",
            "\n",
            "epoc: 51: Train Loss: 0.2323455123738809\n",
            "time: 16.94630479812622 memory_used: 19754258432 gpu_memory_used: 93035520\n",
            "\n",
            "\n",
            "epoc: 52: Train Loss: 0.23093399513851512\n",
            "time: 16.692638874053955 memory_used: 19754106880 gpu_memory_used: 93934080\n",
            "\n",
            "\n",
            "epoc: 53: Train Loss: 0.23010249761017887\n",
            "time: 16.827525854110718 memory_used: 19753111552 gpu_memory_used: 93574656\n",
            "\n",
            "\n",
            "epoc: 54: Train Loss: 0.22929319928992878\n",
            "time: 16.74571943283081 memory_used: 19754192896 gpu_memory_used: 93215232\n",
            "\n",
            "\n",
            "epoc: 55: Train Loss: 0.228301509402015\n",
            "time: 16.84509539604187 memory_used: 19754655744 gpu_memory_used: 96809472\n",
            "\n",
            "\n",
            "epoc: 56: Train Loss: 0.22784760689193553\n",
            "time: 16.79377031326294 memory_used: 19753390080 gpu_memory_used: 92676096\n",
            "\n",
            "\n",
            "epoc: 57: Train Loss: 0.22693945047530262\n",
            "time: 16.8766930103302 memory_used: 19753832448 gpu_memory_used: 92496384\n",
            "\n",
            "\n",
            "epoc: 58: Train Loss: 0.22605800371278417\n",
            "time: 16.66752004623413 memory_used: 19752751104 gpu_memory_used: 94473216\n",
            "\n",
            "\n",
            "epoc: 59: Train Loss: 0.2252894259311936\n",
            "time: 16.75300621986389 memory_used: 19753508864 gpu_memory_used: 93754368\n",
            "\n",
            "\n",
            "epoc: 60: Train Loss: 0.22472311976281079\n",
            "time: 16.791996955871582 memory_used: 19753492480 gpu_memory_used: 93934080\n",
            "\n",
            "\n",
            "epoc: 61: Train Loss: 0.22449133152311498\n",
            "time: 16.79945707321167 memory_used: 19753119744 gpu_memory_used: 91777536\n",
            "\n",
            "\n",
            "epoc: 62: Train Loss: 0.22375084039839832\n",
            "time: 16.613696813583374 memory_used: 18916376576 gpu_memory_used: 96090624\n",
            "\n",
            "\n",
            "epoc: 63: Train Loss: 0.22314837006005375\n",
            "time: 16.652687788009644 memory_used: 18915995648 gpu_memory_used: 92496384\n",
            "\n",
            "\n",
            "epoc: 64: Train Loss: 0.2225355253978209\n",
            "time: 16.643444776535034 memory_used: 18917011456 gpu_memory_used: 93035520\n",
            "\n",
            "\n",
            "epoc: 65: Train Loss: 0.22298788997260008\n",
            "time: 16.688145399093628 memory_used: 18915262464 gpu_memory_used: 93934080\n",
            "\n",
            "\n",
            "epoc: 66: Train Loss: 0.221544466370886\n",
            "time: 16.581772804260254 memory_used: 18915958784 gpu_memory_used: 93035520\n",
            "\n",
            "\n",
            "epoc: 67: Train Loss: 0.22108594165606932\n",
            "time: 16.71869397163391 memory_used: 18915385344 gpu_memory_used: 91957248\n",
            "\n",
            "\n",
            "epoc: 68: Train Loss: 0.22062987143343146\n",
            "time: 16.703091859817505 memory_used: 18915282944 gpu_memory_used: 93035520\n",
            "\n",
            "\n",
            "epoc: 69: Train Loss: 0.22007016512480648\n",
            "time: 16.763021230697632 memory_used: 18912727040 gpu_memory_used: 92496384\n",
            "\n",
            "\n",
            "epoc: 70: Train Loss: 0.21960122273726898\n",
            "time: 16.534878492355347 memory_used: 18912788480 gpu_memory_used: 92496384\n",
            "\n",
            "\n",
            "epoc: 71: Train Loss: 0.21903495531190526\n",
            "time: 16.72832202911377 memory_used: 18912407552 gpu_memory_used: 92855808\n",
            "\n",
            "\n",
            "epoc: 72: Train Loss: 0.21928440969098698\n",
            "time: 16.719939947128296 memory_used: 18910994432 gpu_memory_used: 93394944\n",
            "\n",
            "\n",
            "epoc: 73: Train Loss: 0.21812378425489773\n",
            "time: 16.74637794494629 memory_used: 18910023680 gpu_memory_used: 95910912\n",
            "\n",
            "\n",
            "epoc: 74: Train Loss: 0.21801959059455178\n",
            "time: 16.708561182022095 memory_used: 18911305728 gpu_memory_used: 96090624\n",
            "\n",
            "\n",
            "epoc: 75: Train Loss: 0.21735447469082744\n",
            "time: 16.817075967788696 memory_used: 18911477760 gpu_memory_used: 93934080\n",
            "\n",
            "\n"
          ]
        }
      ]
    },
    {
      "cell_type": "markdown",
      "source": [
        "### Model Evaluation"
      ],
      "metadata": {
        "id": "ycvYzZi2JotA"
      }
    },
    {
      "cell_type": "code",
      "source": [
        "if model is None:\n",
        "  print(\"load from disk.\")\n",
        "  model = BiLSTM(input_dim=W2V_EMB_SIZE, embedding_dim=LSTM_HIDDEN_VEC_SIZE, \n",
        "               output_dim=50, \n",
        "               model_name=\"word2vec\")\n",
        "  \n",
        "  if torch.cuda.is_available():\n",
        "    model.cuda()\n",
        "  model.load_state_dict(torch.load(f\"{PROJECT_PATH}/models/word2vec-27-04-2022-17-47-59\"))\n",
        "  evaluate_model(model, test_loader_w2vec)\n",
        "else:\n",
        "  print(\"Evaluate in-memory model.\")\n",
        "  evaluate_model(model, test_loader_w2vec)"
      ],
      "metadata": {
        "colab": {
          "base_uri": "https://localhost:8080/"
        },
        "id": "KHZKfZoIJtMt",
        "outputId": "d141f869-629e-40cf-c7ec-d6eae508d559"
      },
      "execution_count": 118,
      "outputs": [
        {
          "output_type": "stream",
          "name": "stdout",
          "text": [
            "load from disk.\n",
            "Micro Averaging. Precision: 0.4415441250427471, Recall: 0.5500711722368131, F1 Score: 0.48986879311537684,           AUC: 0.740299690733243\n",
            "Macro Averaging. Precision: 0.40240615718019734, Recall: 0.44813914102292657, F1 Score: 0.3904542346129072,           AUC: 0.685565606728572\n",
            "p=0.44355088153417876, r=0.45552731893265563, f=0.4494593323930418\n",
            "p=0.2985507246376812, r=0.27373761778207295, f=0.28560625157549785\n",
            "p=0.4529630829015544, r=0.728515625, f=0.5586062300319488\n",
            "p=0.3915958873491283, r=0.5196756970535891, f=0.44663494221617944\n",
            "p=0.45420770692932433, r=0.7191518467852257, f=0.5567676339758525\n",
            "p=0.26643295354951796, r=0.15678184631253222, f=0.19740259740259739\n",
            "p=0.33114035087719296, r=0.057699656094764996, f=0.09827530100878619\n",
            "p=0.2860026917900404, r=0.22600372241425154, f=0.2524877469181643\n",
            "p=0.3424159854677566, r=0.2032345013477089, f=0.2550744248985115\n",
            "p=0.3844682478959449, r=0.5078322385042952, f=0.43762246897452645\n",
            "p=0.23968565815324164, r=0.026475694444444444, f=0.04768418995505179\n",
            "p=0.26640926640926643, r=0.10478359908883828, f=0.15040871934604905\n",
            "p=0.2551159618008186, r=0.06680957484816005, f=0.1058890147225368\n",
            "p=0.28465955701394585, r=0.11830889873849301, f=0.1671483622350674\n",
            "p=0.42994241842610365, r=0.3404255319148936, f=0.3799830364715861\n",
            "p=0.5114362187480991, r=0.9571924631411168, f=0.6666666666666666\n",
            "p=0.3375810418063939, r=0.5324400564174894, f=0.41318921877137776\n",
            "p=0.6136482939632546, r=0.5078192875760209, f=0.5557404326123129\n",
            "p=0.3004836759371221, r=0.36883116883116884, f=0.33116774945860405\n",
            "p=0.29150795429083576, r=0.4621669626998224, f=0.35751580104424296\n",
            "p=0.5871011457435013, r=0.8879262157629961, f=0.7068377336102046\n",
            "p=0.4390633315593401, r=0.3170637970791699, f=0.36822137915643827\n",
            "p=0.5474416294088426, r=0.4997732426303855, f=0.5225225225225225\n",
            "p=0.5583872194750856, r=0.7774737399593963, f=0.6499649485296831\n",
            "p=0.875, r=0.0033159639981051635, f=0.0066068900424728644\n",
            "p=0.5303476723629935, r=0.8468052347959969, f=0.6522168785822519\n",
            "p=0.30853635856425515, r=0.38797942001870905, f=0.3437273386511965\n",
            "p=0.37392373923739236, r=0.16521739130434782, f=0.2291745194119864\n",
            "p=0.31511254019292606, r=0.40897235263432447, f=0.35595913734392737\n",
            "p=0.30404783808647656, r=0.3941562313655337, f=0.34328745780316805\n",
            "p=0.27184466019417475, r=0.011363636363636364, f=0.021815348656018703\n",
            "p=0.38702400288756544, r=0.6547092047015722, f=0.4864742244654909\n",
            "p=0.36314620995876945, r=0.4336299943192577, f=0.39527056183654097\n",
            "p=0.2950423216444982, r=0.1203155818540434, f=0.17092819614711033\n",
            "p=0.39527706963638803, r=0.7503820682628629, f=0.5177959398892696\n",
            "p=0.3213349225268176, r=0.47314847314847314, f=0.3827370812038614\n",
            "p=0.3048223350253807, r=0.40787909662081845, f=0.3488997022296463\n",
            "p=0.6843959140542445, r=0.9813131313131314, f=0.8063913675036315\n",
            "p=0.48870333988212183, r=0.46604215456674475, f=0.4771038120354831\n",
            "p=0.5327777777777778, r=0.5919753086419753, f=0.5608187134502923\n",
            "p=0.2717900656044986, r=0.14349332013854527, f=0.1878238341968912\n",
            "p=0.5686336383717261, r=0.9846994535519126, f=0.7209441888377675\n",
            "p=0.2275132275132275, r=0.01818181818181818, f=0.033672670321064996\n",
            "p=0.6659340659340659, r=0.9939081537019682, f=0.7975183305132543\n",
            "p=0.5387894288150042, r=0.7802469135802469, f=0.6374180534543621\n",
            "p=0.4983402489626556, r=0.9615692554043235, f=0.6564635146214813\n",
            "p=0.33415688696726376, r=0.4198680636398913, f=0.37214101461736887\n",
            "p=0.28995215311004785, r=0.3935064935064935, f=0.3338842975206612\n",
            "p=0.34815005138746147, r=0.4235698655829947, f=0.38217458750528843\n",
            "p=0.31191950464396284, r=0.37505816658911123, f=0.340587365307416\n"
          ]
        }
      ]
    }
  ],
  "metadata": {
    "colab": {
      "collapsed_sections": [
        "WZAYNZiE-_z7",
        "bZrO8Ao004k3",
        "n1xDk_pMlBPo",
        "8S0aC63Sz4FZ",
        "RIwaO1C1td27",
        "ptlioc9saM5-",
        "C3r4WgmY44Ad",
        "D0madEdCl7w1"
      ],
      "name": "Main Prediction Model Final Submission.ipynb",
      "provenance": [],
      "machine_shape": "hm",
      "background_execution": "on",
      "include_colab_link": true
    },
    "kernelspec": {
      "display_name": "Python 3",
      "name": "python3"
    },
    "language_info": {
      "name": "python"
    },
    "accelerator": "GPU"
  },
  "nbformat": 4,
  "nbformat_minor": 0
}