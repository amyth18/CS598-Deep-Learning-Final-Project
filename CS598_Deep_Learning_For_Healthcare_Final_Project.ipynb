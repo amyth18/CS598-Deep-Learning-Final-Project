{
  "cells": [
    {
      "cell_type": "markdown",
      "metadata": {
        "id": "view-in-github",
        "colab_type": "text"
      },
      "source": [
        "<a href=\"https://colab.research.google.com/github/amyth18/CS598-Deep-Learning-Final-Project/blob/main/CS598_Deep_Learning_For_Healthcare_Final_Project.ipynb\" target=\"_parent\"><img src=\"https://colab.research.google.com/assets/colab-badge.svg\" alt=\"Open In Colab\"/></a>"
      ]
    },
    {
      "cell_type": "code",
      "source": [
        "! pip install gensim --upgrade\n",
        "! pip install psutil\n",
        "! pip install transformers"
      ],
      "metadata": {
        "colab": {
          "base_uri": "https://localhost:8080/"
        },
        "id": "EHtTRNjY6fjL",
        "outputId": "8b06ee99-1ccd-47d3-af65-31e51790bfb1"
      },
      "execution_count": 1,
      "outputs": [
        {
          "output_type": "stream",
          "name": "stdout",
          "text": [
            "Requirement already satisfied: gensim in /usr/local/lib/python3.7/dist-packages (3.6.0)\n",
            "Collecting gensim\n",
            "  Downloading gensim-4.1.2-cp37-cp37m-manylinux_2_12_x86_64.manylinux2010_x86_64.whl (24.1 MB)\n",
            "\u001b[K     |████████████████████████████████| 24.1 MB 1.1 MB/s \n",
            "\u001b[?25hRequirement already satisfied: scipy>=0.18.1 in /usr/local/lib/python3.7/dist-packages (from gensim) (1.4.1)\n",
            "Requirement already satisfied: numpy>=1.17.0 in /usr/local/lib/python3.7/dist-packages (from gensim) (1.21.5)\n",
            "Requirement already satisfied: smart-open>=1.8.1 in /usr/local/lib/python3.7/dist-packages (from gensim) (5.2.1)\n",
            "Installing collected packages: gensim\n",
            "  Attempting uninstall: gensim\n",
            "    Found existing installation: gensim 3.6.0\n",
            "    Uninstalling gensim-3.6.0:\n",
            "      Successfully uninstalled gensim-3.6.0\n",
            "Successfully installed gensim-4.1.2\n",
            "Requirement already satisfied: psutil in /usr/local/lib/python3.7/dist-packages (5.4.8)\n",
            "Collecting transformers\n",
            "  Downloading transformers-4.18.0-py3-none-any.whl (4.0 MB)\n",
            "\u001b[K     |████████████████████████████████| 4.0 MB 14.6 MB/s \n",
            "\u001b[?25hRequirement already satisfied: requests in /usr/local/lib/python3.7/dist-packages (from transformers) (2.23.0)\n",
            "Requirement already satisfied: regex!=2019.12.17 in /usr/local/lib/python3.7/dist-packages (from transformers) (2019.12.20)\n",
            "Requirement already satisfied: importlib-metadata in /usr/local/lib/python3.7/dist-packages (from transformers) (4.11.3)\n",
            "Requirement already satisfied: tqdm>=4.27 in /usr/local/lib/python3.7/dist-packages (from transformers) (4.64.0)\n",
            "Collecting tokenizers!=0.11.3,<0.13,>=0.11.1\n",
            "  Downloading tokenizers-0.12.1-cp37-cp37m-manylinux_2_12_x86_64.manylinux2010_x86_64.whl (6.6 MB)\n",
            "\u001b[K     |████████████████████████████████| 6.6 MB 97.0 MB/s \n",
            "\u001b[?25hRequirement already satisfied: packaging>=20.0 in /usr/local/lib/python3.7/dist-packages (from transformers) (21.3)\n",
            "Collecting sacremoses\n",
            "  Downloading sacremoses-0.0.49-py3-none-any.whl (895 kB)\n",
            "\u001b[K     |████████████████████████████████| 895 kB 90.1 MB/s \n",
            "\u001b[?25hCollecting pyyaml>=5.1\n",
            "  Downloading PyYAML-6.0-cp37-cp37m-manylinux_2_5_x86_64.manylinux1_x86_64.manylinux_2_12_x86_64.manylinux2010_x86_64.whl (596 kB)\n",
            "\u001b[K     |████████████████████████████████| 596 kB 89.4 MB/s \n",
            "\u001b[?25hCollecting huggingface-hub<1.0,>=0.1.0\n",
            "  Downloading huggingface_hub-0.5.1-py3-none-any.whl (77 kB)\n",
            "\u001b[K     |████████████████████████████████| 77 kB 7.7 MB/s \n",
            "\u001b[?25hRequirement already satisfied: numpy>=1.17 in /usr/local/lib/python3.7/dist-packages (from transformers) (1.21.5)\n",
            "Requirement already satisfied: filelock in /usr/local/lib/python3.7/dist-packages (from transformers) (3.6.0)\n",
            "Requirement already satisfied: typing-extensions>=3.7.4.3 in /usr/local/lib/python3.7/dist-packages (from huggingface-hub<1.0,>=0.1.0->transformers) (4.1.1)\n",
            "Requirement already satisfied: pyparsing!=3.0.5,>=2.0.2 in /usr/local/lib/python3.7/dist-packages (from packaging>=20.0->transformers) (3.0.8)\n",
            "Requirement already satisfied: zipp>=0.5 in /usr/local/lib/python3.7/dist-packages (from importlib-metadata->transformers) (3.8.0)\n",
            "Requirement already satisfied: urllib3!=1.25.0,!=1.25.1,<1.26,>=1.21.1 in /usr/local/lib/python3.7/dist-packages (from requests->transformers) (1.24.3)\n",
            "Requirement already satisfied: idna<3,>=2.5 in /usr/local/lib/python3.7/dist-packages (from requests->transformers) (2.10)\n",
            "Requirement already satisfied: chardet<4,>=3.0.2 in /usr/local/lib/python3.7/dist-packages (from requests->transformers) (3.0.4)\n",
            "Requirement already satisfied: certifi>=2017.4.17 in /usr/local/lib/python3.7/dist-packages (from requests->transformers) (2021.10.8)\n",
            "Requirement already satisfied: joblib in /usr/local/lib/python3.7/dist-packages (from sacremoses->transformers) (1.1.0)\n",
            "Requirement already satisfied: six in /usr/local/lib/python3.7/dist-packages (from sacremoses->transformers) (1.15.0)\n",
            "Requirement already satisfied: click in /usr/local/lib/python3.7/dist-packages (from sacremoses->transformers) (7.1.2)\n",
            "Installing collected packages: pyyaml, tokenizers, sacremoses, huggingface-hub, transformers\n",
            "  Attempting uninstall: pyyaml\n",
            "    Found existing installation: PyYAML 3.13\n",
            "    Uninstalling PyYAML-3.13:\n",
            "      Successfully uninstalled PyYAML-3.13\n",
            "Successfully installed huggingface-hub-0.5.1 pyyaml-6.0 sacremoses-0.0.49 tokenizers-0.12.1 transformers-4.18.0\n"
          ]
        }
      ]
    },
    {
      "cell_type": "code",
      "source": [
        "import pandas as pd\n",
        "import torch"
      ],
      "metadata": {
        "id": "yZM4PBDMRCc_"
      },
      "execution_count": 2,
      "outputs": []
    },
    {
      "cell_type": "code",
      "execution_count": 3,
      "metadata": {
        "colab": {
          "base_uri": "https://localhost:8080/"
        },
        "id": "tFlP8qR9EAEW",
        "outputId": "80e7ed41-ff9d-4ede-80ea-fcf865a24ff0"
      },
      "outputs": [
        {
          "output_type": "stream",
          "name": "stdout",
          "text": [
            "Mounted at /content/drive\n"
          ]
        }
      ],
      "source": [
        "from google.colab import drive\n",
        "drive.mount(\"/content/drive\")"
      ]
    },
    {
      "cell_type": "markdown",
      "metadata": {
        "id": "bZrO8Ao004k3"
      },
      "source": [
        "# Load Data"
      ]
    },
    {
      "cell_type": "code",
      "execution_count": 4,
      "metadata": {
        "colab": {
          "base_uri": "https://localhost:8080/"
        },
        "id": "pcubO8rgEqXh",
        "outputId": "3df68ab7-c919-4026-9256-22116827aec4"
      },
      "outputs": [
        {
          "output_type": "stream",
          "name": "stderr",
          "text": [
            "/usr/local/lib/python3.7/dist-packages/IPython/core/interactiveshell.py:2882: DtypeWarning: Columns (4,5) have mixed types.Specify dtype option on import or set low_memory=False.\n",
            "  exec(code_obj, self.user_global_ns, self.user_ns)\n"
          ]
        }
      ],
      "source": [
        "# read data\n",
        "df = pd.read_csv(\"/content/drive/My Drive/DLH Final Project/mimic3/NOTEEVENTS.csv\")"
      ]
    },
    {
      "cell_type": "markdown",
      "metadata": {
        "id": "ASN9TUHWgnz7"
      },
      "source": [
        "# Data Preprocessing\n",
        "Need to focus on 2 tables\n",
        "1. NOTESEVENTS.csv\n",
        "2. DIAGNOSES_ICD.csv\n",
        "\n",
        "Join tables by <subject_id, hadm_id>\n",
        "\n",
        "Construct 2 datasets from \"TEXT\" field in NOTESEVENTS.csv for each <subject_id, hadm_id> pair (i.e discharge summary for that admission.)\n",
        "\n",
        "X1, y and X2, y\n",
        "x1 = sequence of vectors from word2vec \n",
        "x2 = sequence of vectors from tf-idf\n",
        "y = list of icd codes for <subject_id, hadm_id> i.e. diagnosis maded in ICU admission.\n",
        "\n",
        "Need to focus on 50 and 100 most commonly diagnosed diseases.\n",
        "\n",
        "Use NLTK + MetaMap to extract only the symptom related entities (how to use MetaMap is unknown atm.)\n",
        "\n",
        "Filter out sections in discharge summaries that are related to symptoms only, ignore others to speed up things.\n",
        "\n",
        "Negative filters (e.g. \"no sign of breath problem\").\n",
        "\n",
        "Generate Word2Vec embeddings (currently using Gensim) using \"TEXT\".\n",
        "\n",
        "Generate TF-IDF vector for each symptom entity.\n",
        "\n",
        "Generate multi-hot encoding for y\n"
      ]
    },
    {
      "cell_type": "markdown",
      "source": [
        "## Utility Routines For Data Processing"
      ],
      "metadata": {
        "id": "kxdU3qT1k3m7"
      }
    },
    {
      "cell_type": "code",
      "execution_count": 5,
      "metadata": {
        "id": "TV7TblwfIxta",
        "colab": {
          "base_uri": "https://localhost:8080/"
        },
        "outputId": "7f11c8f6-6d46-493b-c327-7766ad2d65bf"
      },
      "outputs": [
        {
          "output_type": "stream",
          "name": "stdout",
          "text": [
            "[nltk_data] Downloading package stopwords to /root/nltk_data...\n",
            "[nltk_data]   Unzipping corpora/stopwords.zip.\n"
          ]
        }
      ],
      "source": [
        "from typing import List\n",
        "import re\n",
        "import nltk\n",
        "from transformers import AutoTokenizer, pipeline,  AutoModelForTokenClassification\n",
        "\n",
        "from nltk.corpus import stopwords\n",
        "nltk.download('stopwords')\n",
        "\n",
        "eng_stop_words =  stopwords.words('english')\n",
        "\n",
        "class MySentences(object):\n",
        "    def __init__(self, dframe):\n",
        "        self.dframe = dframe\n",
        "        tokenizer = AutoTokenizer.from_pretrained(\n",
        "            \"samrawal/bert-base-uncased_clinical-ner\")\n",
        "        model = AutoModelForTokenClassification.from_pretrained(\n",
        "            \"samrawal/bert-base-uncased_clinical-ner\")\n",
        "        symptom_extractor = pipeline('ner', model=model, tokenizer=tokenizer,\n",
        "                                     device=0)\n",
        "        text_anno = symptom_extractor(self.dframe[\"TEXT\"].tolist(), \n",
        "                                           batch_size=256)\n",
        "        self.data = list(zip(text_anno, self.dframe[\"TEXT\"].tolist()))\n",
        "        \n",
        "\n",
        "\n",
        "    \n",
        "    # TODO: Keeping only alpha numeric characters and spaces for now.\n",
        "    # need to make this better. Find some good libraries.\n",
        "    def sanitize_text(self, text):\n",
        "      test = text.strip()\n",
        "      text = re.sub(r'\\s\\s+', ' ', text)\n",
        "      text = re.sub(r'[^a-zA-z0-9\\/\\.\\?\\!\\s;,\\'\\-]', '', text)\n",
        "      text = re.sub(r'[\\.\\-\\/\\?\\!;,]', ' ', text)\n",
        "      text = re.sub(r'[\\[\\]]', '', text)\n",
        "      return text\n",
        "\n",
        "    def extract_symptoms(self, input_anno_text) -> List[str]:\n",
        "      \"\"\"\n",
        "      The method extract the symptom phrases from the input\n",
        "      \"\"\"\n",
        "      extractions, text = input_anno_text\n",
        "      span_extract = []\n",
        "      for extract in extractions:\n",
        "        if 'problem' in extract['entity']:\n",
        "          span_extract.append((extract['start'], extract['end']))\n",
        "\n",
        "      # Check if this span_extract is empty\n",
        "      if not span_extract:\n",
        "        return []\n",
        "      \n",
        "      span_st = span_extract[0][0]\n",
        "      final_span = []\n",
        "      final_end = span_extract[0][1]\n",
        "      for idx, (st, end) in enumerate(span_extract):\n",
        "        if idx == 0:\n",
        "          continue\n",
        "        if st - span_extract[idx-1][1] <= 2:\n",
        "          final_end = end\n",
        "          if idx == len(span_extract) - 1:\n",
        "            final_span.append((span_st, final_end))\n",
        "        else:\n",
        "          final_span.append((span_st, final_end))\n",
        "          span_st = st\n",
        "          final_end = end\n",
        "\n",
        "      text_extracts = [text[st:end].replace(\"\\n\", \" \") for st, end in final_span]\n",
        "      return text_extracts\n",
        "\n",
        "    # TODO: adding some basic checks again need to make it better.\n",
        "    def sanitize_words(self, sentence):\n",
        "      return [w for w in sentence if w not in eng_stop_words and not w.isdigit()]\n",
        "\n",
        "    def __iter__(self):\n",
        "        for idx in range(len(self.dframe)):\n",
        "          symptoms = \" \".join(self.extract_symptoms(self.data[idx]))\n",
        "          text = self.sanitize_text(symptoms)\n",
        "          yield self.sanitize_words(text.split())"
      ]
    },
    {
      "cell_type": "code",
      "source": [
        "def pad_dataset(dataset, vec_size):\n",
        "  seq_lengths = list()\n",
        "\n",
        "  for idx in range(len(dataset)):\n",
        "    seq_lengths.append(len(dataset[idx]))\n",
        "  max_seq_length = max(seq_lengths)\n",
        "\n",
        "  padded_dataset = torch.zeros([len(dataset), max_seq_length, vec_size], \n",
        "                               dtype=torch.float)\n",
        "  for i in range(len(dataset)):\n",
        "    for j in range(len(dataset[i])):\n",
        "      padded_dataset[i][j] = torch.FloatTensor(dataset[i][j])\n",
        "  \n",
        "  return padded_dataset"
      ],
      "metadata": {
        "id": "81XPts3oIlGR"
      },
      "execution_count": 47,
      "outputs": []
    },
    {
      "cell_type": "code",
      "source": [
        "from datetime import datetime\n",
        "import pytz\n",
        "\n",
        "def get_model_file_name():\n",
        "  return \"/content/drive/My Drive/DLH Final Project/models/model-\" + \\\n",
        "                  datetime.now(pytz.timezone('Asia/Kolkata')).strftime(\n",
        "                      \"%d-%m-%Y-%H-%M-%S\")\n",
        "\n",
        "def get_stats_file_name():\n",
        "  return \"/content/drive/My Drive/DLH Final Project/stats/stats-\" + \\\n",
        "                  datetime.now(pytz.timezone('Asia/Kolkata')).strftime(\n",
        "                      \"%d-%m-%Y-%H-%M-%S\")\n",
        "\n",
        "def get_results_file_name():\n",
        "  return \"/content/drive/My Drive/DLH Final Project/stats/results-\" + \\\n",
        "                  datetime.now(pytz.timezone('Asia/Kolkata')).strftime(\n",
        "                      \"%d-%m-%Y-%H-%M-%S\")"
      ],
      "metadata": {
        "id": "pZ5obtEaX68T"
      },
      "execution_count": 7,
      "outputs": []
    },
    {
      "cell_type": "markdown",
      "source": [
        "## Data Filtering and Tranformation"
      ],
      "metadata": {
        "id": "n1xDk_pMlBPo"
      }
    },
    {
      "cell_type": "code",
      "source": [
        "df_icd_codes = pd.read_csv(\n",
        "    \"/content/drive/My Drive/DLH Final Project/mimic3/DIAGNOSES_ICD.csv\")"
      ],
      "metadata": {
        "id": "0DQMAoiAPJyh"
      },
      "execution_count": 8,
      "outputs": []
    },
    {
      "cell_type": "markdown",
      "source": [
        "Get top #50 ICD9 codes "
      ],
      "metadata": {
        "id": "wIKf6j0HArw7"
      }
    },
    {
      "cell_type": "code",
      "source": [
        "counts = df_icd_codes[\"ICD9_CODE\"].value_counts().head(50)\n",
        "top_icd_codes = counts.index.to_list()"
      ],
      "metadata": {
        "id": "jNY4o2-_PsJD"
      },
      "execution_count": 9,
      "outputs": []
    },
    {
      "cell_type": "markdown",
      "source": [
        "Filter data to include admimission with top 50 diseases only and group and reorganize data in the following format <subject_id, hadm_id, [icd_code1, icd_code2 ...]>"
      ],
      "metadata": {
        "id": "3wSpzZYNpeIv"
      }
    },
    {
      "cell_type": "code",
      "source": [
        "df_admissions_with_top_diseases = \\\n",
        "df_icd_codes[df_icd_codes[\"ICD9_CODE\"].isin(top_icd_codes)]\n",
        "\n",
        "df_admissions_with_top_diseases = \\\n",
        "df_admissions_with_top_diseases.groupby(\n",
        "['SUBJECT_ID', 'HADM_ID'])['ICD9_CODE'].apply(\n",
        "        list).to_frame().reset_index()"
      ],
      "metadata": {
        "id": "zCBDPURVB2C5"
      },
      "execution_count": 10,
      "outputs": []
    },
    {
      "cell_type": "markdown",
      "source": [
        "Now select discharge summaries for the admimissions that contain atleast one of the top #50 ICD codes."
      ],
      "metadata": {
        "id": "5lLEQXITBIyU"
      }
    },
    {
      "cell_type": "code",
      "source": [
        "df_dataset = pd.merge(df, df_admissions_with_top_diseases, \n",
        "                       on=[\"SUBJECT_ID\", \"HADM_ID\"])\n",
        "\n",
        "df_dataset = df_dataset[df_dataset[\"CATEGORY\"] \n",
        "                          == 'Discharge summary'].reset_index()\n",
        "# free up some memory\n",
        "# del df"
      ],
      "metadata": {
        "id": "BGIpZW0wfKaO"
      },
      "execution_count": 11,
      "outputs": []
    },
    {
      "cell_type": "code",
      "source": [
        "df_dataset.head(3)"
      ],
      "metadata": {
        "colab": {
          "base_uri": "https://localhost:8080/",
          "height": 416
        },
        "id": "mJmeYMT3xiTE",
        "outputId": "7c594ff6-32e5-44d5-c912-5a403be35021"
      },
      "execution_count": 12,
      "outputs": [
        {
          "output_type": "execute_result",
          "data": {
            "text/plain": [
              "   index  ROW_ID  SUBJECT_ID   HADM_ID   CHARTDATE CHARTTIME STORETIME  \\\n",
              "0      0     174       22532  167853.0  2151-08-04       NaN       NaN   \n",
              "1      1     170       22532  167853.0  2151-08-04       NaN       NaN   \n",
              "2     32     175       13702  107527.0  2118-06-14       NaN       NaN   \n",
              "\n",
              "            CATEGORY DESCRIPTION  CGID  ISERROR  \\\n",
              "0  Discharge summary      Report   NaN      NaN   \n",
              "1  Discharge summary      Report   NaN      NaN   \n",
              "2  Discharge summary      Report   NaN      NaN   \n",
              "\n",
              "                                                TEXT  \\\n",
              "0  Admission Date:  [**2151-7-16**]       Dischar...   \n",
              "1  Admission Date:  [**2151-7-16**]       Dischar...   \n",
              "2  Admission Date:  [**2118-6-2**]       Discharg...   \n",
              "\n",
              "                       ICD9_CODE  \n",
              "0      [42731, 2762, 5070, 5119]  \n",
              "1      [42731, 2762, 5070, 5119]  \n",
              "2  [51881, 486, 2761, 2449, 311]  "
            ],
            "text/html": [
              "\n",
              "  <div id=\"df-bd8440a4-6839-42e1-b3e4-e97e522cd02e\">\n",
              "    <div class=\"colab-df-container\">\n",
              "      <div>\n",
              "<style scoped>\n",
              "    .dataframe tbody tr th:only-of-type {\n",
              "        vertical-align: middle;\n",
              "    }\n",
              "\n",
              "    .dataframe tbody tr th {\n",
              "        vertical-align: top;\n",
              "    }\n",
              "\n",
              "    .dataframe thead th {\n",
              "        text-align: right;\n",
              "    }\n",
              "</style>\n",
              "<table border=\"1\" class=\"dataframe\">\n",
              "  <thead>\n",
              "    <tr style=\"text-align: right;\">\n",
              "      <th></th>\n",
              "      <th>index</th>\n",
              "      <th>ROW_ID</th>\n",
              "      <th>SUBJECT_ID</th>\n",
              "      <th>HADM_ID</th>\n",
              "      <th>CHARTDATE</th>\n",
              "      <th>CHARTTIME</th>\n",
              "      <th>STORETIME</th>\n",
              "      <th>CATEGORY</th>\n",
              "      <th>DESCRIPTION</th>\n",
              "      <th>CGID</th>\n",
              "      <th>ISERROR</th>\n",
              "      <th>TEXT</th>\n",
              "      <th>ICD9_CODE</th>\n",
              "    </tr>\n",
              "  </thead>\n",
              "  <tbody>\n",
              "    <tr>\n",
              "      <th>0</th>\n",
              "      <td>0</td>\n",
              "      <td>174</td>\n",
              "      <td>22532</td>\n",
              "      <td>167853.0</td>\n",
              "      <td>2151-08-04</td>\n",
              "      <td>NaN</td>\n",
              "      <td>NaN</td>\n",
              "      <td>Discharge summary</td>\n",
              "      <td>Report</td>\n",
              "      <td>NaN</td>\n",
              "      <td>NaN</td>\n",
              "      <td>Admission Date:  [**2151-7-16**]       Dischar...</td>\n",
              "      <td>[42731, 2762, 5070, 5119]</td>\n",
              "    </tr>\n",
              "    <tr>\n",
              "      <th>1</th>\n",
              "      <td>1</td>\n",
              "      <td>170</td>\n",
              "      <td>22532</td>\n",
              "      <td>167853.0</td>\n",
              "      <td>2151-08-04</td>\n",
              "      <td>NaN</td>\n",
              "      <td>NaN</td>\n",
              "      <td>Discharge summary</td>\n",
              "      <td>Report</td>\n",
              "      <td>NaN</td>\n",
              "      <td>NaN</td>\n",
              "      <td>Admission Date:  [**2151-7-16**]       Dischar...</td>\n",
              "      <td>[42731, 2762, 5070, 5119]</td>\n",
              "    </tr>\n",
              "    <tr>\n",
              "      <th>2</th>\n",
              "      <td>32</td>\n",
              "      <td>175</td>\n",
              "      <td>13702</td>\n",
              "      <td>107527.0</td>\n",
              "      <td>2118-06-14</td>\n",
              "      <td>NaN</td>\n",
              "      <td>NaN</td>\n",
              "      <td>Discharge summary</td>\n",
              "      <td>Report</td>\n",
              "      <td>NaN</td>\n",
              "      <td>NaN</td>\n",
              "      <td>Admission Date:  [**2118-6-2**]       Discharg...</td>\n",
              "      <td>[51881, 486, 2761, 2449, 311]</td>\n",
              "    </tr>\n",
              "  </tbody>\n",
              "</table>\n",
              "</div>\n",
              "      <button class=\"colab-df-convert\" onclick=\"convertToInteractive('df-bd8440a4-6839-42e1-b3e4-e97e522cd02e')\"\n",
              "              title=\"Convert this dataframe to an interactive table.\"\n",
              "              style=\"display:none;\">\n",
              "        \n",
              "  <svg xmlns=\"http://www.w3.org/2000/svg\" height=\"24px\"viewBox=\"0 0 24 24\"\n",
              "       width=\"24px\">\n",
              "    <path d=\"M0 0h24v24H0V0z\" fill=\"none\"/>\n",
              "    <path d=\"M18.56 5.44l.94 2.06.94-2.06 2.06-.94-2.06-.94-.94-2.06-.94 2.06-2.06.94zm-11 1L8.5 8.5l.94-2.06 2.06-.94-2.06-.94L8.5 2.5l-.94 2.06-2.06.94zm10 10l.94 2.06.94-2.06 2.06-.94-2.06-.94-.94-2.06-.94 2.06-2.06.94z\"/><path d=\"M17.41 7.96l-1.37-1.37c-.4-.4-.92-.59-1.43-.59-.52 0-1.04.2-1.43.59L10.3 9.45l-7.72 7.72c-.78.78-.78 2.05 0 2.83L4 21.41c.39.39.9.59 1.41.59.51 0 1.02-.2 1.41-.59l7.78-7.78 2.81-2.81c.8-.78.8-2.07 0-2.86zM5.41 20L4 18.59l7.72-7.72 1.47 1.35L5.41 20z\"/>\n",
              "  </svg>\n",
              "      </button>\n",
              "      \n",
              "  <style>\n",
              "    .colab-df-container {\n",
              "      display:flex;\n",
              "      flex-wrap:wrap;\n",
              "      gap: 12px;\n",
              "    }\n",
              "\n",
              "    .colab-df-convert {\n",
              "      background-color: #E8F0FE;\n",
              "      border: none;\n",
              "      border-radius: 50%;\n",
              "      cursor: pointer;\n",
              "      display: none;\n",
              "      fill: #1967D2;\n",
              "      height: 32px;\n",
              "      padding: 0 0 0 0;\n",
              "      width: 32px;\n",
              "    }\n",
              "\n",
              "    .colab-df-convert:hover {\n",
              "      background-color: #E2EBFA;\n",
              "      box-shadow: 0px 1px 2px rgba(60, 64, 67, 0.3), 0px 1px 3px 1px rgba(60, 64, 67, 0.15);\n",
              "      fill: #174EA6;\n",
              "    }\n",
              "\n",
              "    [theme=dark] .colab-df-convert {\n",
              "      background-color: #3B4455;\n",
              "      fill: #D2E3FC;\n",
              "    }\n",
              "\n",
              "    [theme=dark] .colab-df-convert:hover {\n",
              "      background-color: #434B5C;\n",
              "      box-shadow: 0px 1px 3px 1px rgba(0, 0, 0, 0.15);\n",
              "      filter: drop-shadow(0px 1px 2px rgba(0, 0, 0, 0.3));\n",
              "      fill: #FFFFFF;\n",
              "    }\n",
              "  </style>\n",
              "\n",
              "      <script>\n",
              "        const buttonEl =\n",
              "          document.querySelector('#df-bd8440a4-6839-42e1-b3e4-e97e522cd02e button.colab-df-convert');\n",
              "        buttonEl.style.display =\n",
              "          google.colab.kernel.accessAllowed ? 'block' : 'none';\n",
              "\n",
              "        async function convertToInteractive(key) {\n",
              "          const element = document.querySelector('#df-bd8440a4-6839-42e1-b3e4-e97e522cd02e');\n",
              "          const dataTable =\n",
              "            await google.colab.kernel.invokeFunction('convertToInteractive',\n",
              "                                                     [key], {});\n",
              "          if (!dataTable) return;\n",
              "\n",
              "          const docLinkHtml = 'Like what you see? Visit the ' +\n",
              "            '<a target=\"_blank\" href=https://colab.research.google.com/notebooks/data_table.ipynb>data table notebook</a>'\n",
              "            + ' to learn more about interactive tables.';\n",
              "          element.innerHTML = '';\n",
              "          dataTable['output_type'] = 'display_data';\n",
              "          await google.colab.output.renderOutput(dataTable, element);\n",
              "          const docLink = document.createElement('div');\n",
              "          docLink.innerHTML = docLinkHtml;\n",
              "          element.appendChild(docLink);\n",
              "        }\n",
              "      </script>\n",
              "    </div>\n",
              "  </div>\n",
              "  "
            ]
          },
          "metadata": {},
          "execution_count": 12
        }
      ]
    },
    {
      "cell_type": "markdown",
      "source": [
        "Need to covert the ICD9 column to multi-hot encoding, we keep the old column with list of codes and added and new column with multi-hot encoding representation."
      ],
      "metadata": {
        "id": "hj5A2EJRqEzh"
      }
    },
    {
      "cell_type": "code",
      "source": [
        "sorted_top_icd_codes = sorted(top_icd_codes)\n",
        "icd_code_to_idx = dict((k, v) for v, k in enumerate(sorted_top_icd_codes))"
      ],
      "metadata": {
        "id": "n-MxiQuQTZWm"
      },
      "execution_count": 13,
      "outputs": []
    },
    {
      "cell_type": "code",
      "source": [
        "# new col to be added to dataframe\n",
        "multi_hot_ecoding_col = list()\n",
        "for idx in range(len(df_dataset)):\n",
        "  icd_codes = df_dataset.iloc[idx]['ICD9_CODE']\n",
        "  encoding = [0] * 50\n",
        "  for code in icd_codes:\n",
        "    encoding[icd_code_to_idx[code]] = 1    \n",
        "  multi_hot_ecoding_col.append(encoding)\n",
        "\n",
        "# new add a new column with multi-hot encoding.\n",
        "df_dataset['ICD9_CODE_ENCODED'] = multi_hot_ecoding_col"
      ],
      "metadata": {
        "id": "S7vIzsO9V-63"
      },
      "execution_count": 14,
      "outputs": []
    },
    {
      "cell_type": "markdown",
      "source": [
        "Extract symptoms from the text. Note: currently we treat all tokens as symptoms need to add all the filters discussed in the paper later. So we added a column called \"SYMPTOMS\" which is simply tokenized form of \"TEXT\" after basic sanitization."
      ],
      "metadata": {
        "id": "rAtNNVUmCdw3"
      }
    },
    {
      "cell_type": "code",
      "source": [
        "from tqdm import tqdm\n",
        "sgen = MySentences(df_dataset)\n",
        "symptom_col = list()\n",
        "for s in tqdm(sgen):\n",
        "  symptom_col.append(s)\n",
        "\n",
        "# add the new column to the dataset.\n",
        "df_dataset[\"SYMPTOMS\"] = symptom_col"
      ],
      "metadata": {
        "colab": {
          "base_uri": "https://localhost:8080/",
          "height": 163,
          "referenced_widgets": [
            "4d054383bf114b6388005da3a3494d9f",
            "a40b2632de2447dcbc6abf1f9a61800a",
            "82db2a1e1393435eb6d90e3f2a2f88cf",
            "5c8ce6189e3c4b0ba7a708c128e624c9",
            "b295dded1c9140828bf78f525502df26",
            "f9ad925b2d85471e803de168ed863fe2",
            "fca8e70ac87744bebb43eca6cad7e2e5",
            "bf6684b213264a879dac94c400745abd",
            "06968676dd9649f18bcafaef6e290af7",
            "80ed0bff182b4c35b9342f31f29a8d8c",
            "a1ebf3be23aa4b5295b2d8d3560715a5",
            "2ccbc82898ec4780874de315971d75e8",
            "f11990506dbd4b36ba720badbb74c07f",
            "471ca202840a4b9ca9720b8f15b4ee6f",
            "d2e6ce41ac11461a9d59b2eb965137f1",
            "b1c49ca25e144feeadc3873419556bbf",
            "524e95f5cb844747a3a1f9f1ab70e154",
            "e7685814c2cb40e9b425fd1d6ed98c0f",
            "e9f7eacfd7e343289c4dbd17348cb788",
            "8f6c8fd0d1ab46e7b60784e739f555a2",
            "e5467cc55fb54d1790cd7ba16c5aa3cf",
            "6b54864863444914923bd9fd84d878c9",
            "71e4cdac21f949099a99758d536c3f52",
            "709091511b7c46fc814ee7894d0e5c37",
            "ad04d2417acf486cb7f69a33caa08a68",
            "931d781d0fca42cebc2ea18857a53a9b",
            "ec34af27d6bd4301abc472cc89c224d8",
            "67abe8a1ceea4d139cd4fb87848e4a06",
            "e61cb7281834402c8f6255e2b54a71d5",
            "a2f3cb7021aa40cea4eb17c1f1cfdc85",
            "4a1250a383f946f9a6e0cc77bde60eac",
            "9b8796a19a27473bac8f948639774190",
            "26531041588c44828adfc7d4e9a935f4",
            "2f9381cc55c042f69223cde5d3842b81",
            "7e2b3bc9d7dd4ba69069b6d1986723b3",
            "d73ee8791b8a4057884f9a1baa9f7ac8",
            "bc4c02a2f9f14e0ca09422225ad451c9",
            "bbe76834e7d34549a46ea417695e8f49",
            "23930eb578f44a9ca7b4eea843b11e35",
            "f01719f7a6ec4291949c96b7b9684286",
            "48f336ee8c6d4489b10350ad0ac3a351",
            "dfb2da9e77924f969731d372ea4440a8",
            "a751298a96ef4fe8b9674fc9afef93c5",
            "e78a444ae1474367a4405ea7accf9e66"
          ]
        },
        "id": "GFO96uEPsVC6",
        "outputId": "2a9073f8-fc21-4a97-9fd1-22dfdf98f064"
      },
      "execution_count": 15,
      "outputs": [
        {
          "output_type": "display_data",
          "data": {
            "text/plain": [
              "Downloading:   0%|          | 0.00/300 [00:00<?, ?B/s]"
            ],
            "application/vnd.jupyter.widget-view+json": {
              "version_major": 2,
              "version_minor": 0,
              "model_id": "4d054383bf114b6388005da3a3494d9f"
            }
          },
          "metadata": {}
        },
        {
          "output_type": "display_data",
          "data": {
            "text/plain": [
              "Downloading:   0%|          | 0.00/895 [00:00<?, ?B/s]"
            ],
            "application/vnd.jupyter.widget-view+json": {
              "version_major": 2,
              "version_minor": 0,
              "model_id": "2ccbc82898ec4780874de315971d75e8"
            }
          },
          "metadata": {}
        },
        {
          "output_type": "display_data",
          "data": {
            "text/plain": [
              "Downloading:   0%|          | 0.00/226k [00:00<?, ?B/s]"
            ],
            "application/vnd.jupyter.widget-view+json": {
              "version_major": 2,
              "version_minor": 0,
              "model_id": "71e4cdac21f949099a99758d536c3f52"
            }
          },
          "metadata": {}
        },
        {
          "output_type": "display_data",
          "data": {
            "text/plain": [
              "Downloading:   0%|          | 0.00/415M [00:00<?, ?B/s]"
            ],
            "application/vnd.jupyter.widget-view+json": {
              "version_major": 2,
              "version_minor": 0,
              "model_id": "2f9381cc55c042f69223cde5d3842b81"
            }
          },
          "metadata": {}
        },
        {
          "output_type": "stream",
          "name": "stderr",
          "text": [
            "55988it [00:10, 5270.14it/s]\n"
          ]
        }
      ]
    },
    {
      "cell_type": "code",
      "source": [
        "df_dataset = df_dataset[df_dataset.apply(lambda x: len(x.SYMPTOMS) > 0, axis=1)]\n",
        "df_dataset = df_dataset.reset_index()\n",
        "df_dataset.to_csv(\"/content/drive/My Drive/DLH Final Project/kbr_df_dataset.csv\")\n",
        "\n",
        "# df_dataset = pd.read_csv(\"/content/drive/My Drive/DLH Final Project/kbr_df_dataset.csv\")\n",
        "del sgen"
      ],
      "metadata": {
        "id": "VG1jN7Xvr4b1"
      },
      "execution_count": 16,
      "outputs": []
    },
    {
      "cell_type": "markdown",
      "source": [
        "## Generate Word2Vec Embeddings"
      ],
      "metadata": {
        "id": "RIwaO1C1td27"
      }
    },
    {
      "cell_type": "markdown",
      "metadata": {
        "id": "Gg-GmTrg0i6h"
      },
      "source": [
        "Word2Vec training using gensim."
      ]
    },
    {
      "cell_type": "code",
      "execution_count": 17,
      "metadata": {
        "id": "xElMsqPx0sc9"
      },
      "outputs": [],
      "source": [
        "# NOTE: commenting this part so that we dont run this by mistake.\n",
        "# we only need to perform this once at the start of the project.\n",
        "\n",
        "# import gensim\n",
        "# sgen = MySentences(df_dataset) # a memory-friendly iterator\n",
        "# model = gensim.models.Word2Vec(sgen, min_count=5, workers=4, sample=1e-05)\n",
        "# model.save(\"/content/drive/My Drive/DLH Final Project/mimic3/word2vec-4.model\")"
      ]
    },
    {
      "cell_type": "markdown",
      "source": [
        "## Construct dataset with Word2Vec embeddings"
      ],
      "metadata": {
        "id": "crLZigFVcbeZ"
      }
    },
    {
      "cell_type": "code",
      "source": [
        "from gensim.models import Word2Vec\n",
        "model = Word2Vec.load('/content/drive/My Drive/DLH Final Project/mimic3/word2vec-4.model')"
      ],
      "metadata": {
        "id": "CE5ABBKOcw21"
      },
      "execution_count": 18,
      "outputs": []
    },
    {
      "cell_type": "code",
      "source": [
        "X_word2vec = list()\n",
        "for idx in range(len(df_dataset)):\n",
        "  # ignore words in not vocabulary\n",
        "  symptoms = df_dataset[\"SYMPTOMS\"][idx]\n",
        "  symptoms_emb = [model.wv[s] for s in symptoms if s in model.wv]\n",
        "  X_word2vec.append(symptoms_emb)\n",
        "\n",
        "# pad the dataset.\n",
        "# X_word2vec = pad_dataset(X_word2vec)"
      ],
      "metadata": {
        "id": "YQu3AEBEfbF3"
      },
      "execution_count": 19,
      "outputs": []
    },
    {
      "cell_type": "code",
      "source": [
        "# import pickle\n",
        "# pfile = open(\"/content/drive/My Drive/DLH Final Project/X_word2vec\", \"ab\")\n",
        "# pickle.dump(X_word2vec, pfile)\n",
        "# pfile.close()"
      ],
      "metadata": {
        "id": "QTY-rPP6l2zJ"
      },
      "execution_count": 20,
      "outputs": []
    },
    {
      "cell_type": "markdown",
      "source": [
        "# Construct data with TF-IDF encoding"
      ],
      "metadata": {
        "id": "V8Q5MAs2xjDh"
      }
    },
    {
      "cell_type": "code",
      "source": [
        "import numpy as np\n",
        "import itertools\n",
        "\n",
        "vocab_size = len(model.wv)\n",
        "tf = np.zeros((len(model.wv), len(top_icd_codes)))\n",
        "\n",
        "\n",
        "for idx in range(len(df_dataset)):\n",
        "  # XXX: TODO currently we treat all tokens from \"TEXT\" as sypmtoms\n",
        "  # get the icd codes for this discharge summary\n",
        "  symptoms = df_dataset['SYMPTOMS'][idx]\n",
        "  icd_codes = df_dataset['ICD9_CODE'][idx]\n",
        "  # create a cross product of symptoms and icd codes\n",
        "  # and update tf matrix. tf matrix keeps count of how many \n",
        "  # (i.e frequency) times <symptom, icd code> pair occur in our dataset.\n",
        "  for pair in itertools.product(symptoms, icd_codes):\n",
        "    # update count of each (symptom, icd_code) pair to compute TF\n",
        "    if pair[0] in model.wv:\n",
        "      tf[model.wv.get_index(pair[0])][icd_code_to_idx[pair[1]]] += 1\n",
        "\n",
        "# Complete the TF-IDF matrix computation.\n",
        "# Compute the number of ICD Codes (i.e diseaes) each \n",
        "# symptom is associated with.\n",
        "D_i = np.sum(tf > 0, axis=1)\n",
        "print(D_i.shape)\n",
        "\n",
        "log_N_Di = np.log(len(top_icd_codes)/D_i)\n",
        "tf_idf = (tf.T * log_N_Di).T\n",
        "print(tf_idf.shape)"
      ],
      "metadata": {
        "colab": {
          "base_uri": "https://localhost:8080/"
        },
        "id": "YOGw0qxSxrZ3",
        "outputId": "2e260a9b-1c41-40b0-f70b-dc9bf4d34ab0"
      },
      "execution_count": 21,
      "outputs": [
        {
          "output_type": "stream",
          "name": "stdout",
          "text": [
            "(64259,)\n",
            "(64259, 50)\n"
          ]
        },
        {
          "output_type": "stream",
          "name": "stderr",
          "text": [
            "/usr/local/lib/python3.7/dist-packages/ipykernel_launcher.py:27: RuntimeWarning: divide by zero encountered in true_divide\n",
            "/usr/local/lib/python3.7/dist-packages/ipykernel_launcher.py:28: RuntimeWarning: invalid value encountered in multiply\n"
          ]
        }
      ]
    },
    {
      "cell_type": "code",
      "source": [
        "# build the X_tfidf dataset\n",
        "X_tf_idf = list()\n",
        "for idx in range(len(df_dataset)):\n",
        "  symptoms = df_dataset[\"SYMPTOMS\"][idx]\n",
        "  # get tf-idf vector for each symptom\n",
        "  # ignore words in not vocabulary\n",
        "  symptoms_tf_idf = [tf_idf[model.wv.get_index(s)] \\\n",
        "                     for s in symptoms if s in model.wv]\n",
        "  X_tf_idf.append(symptoms_tf_idf)\n",
        "\n",
        "# pad the dataset.\n",
        "# X_tf_idf = pad_dataset(X_tf_idf)"
      ],
      "metadata": {
        "id": "W-9C5XBuiOJ3"
      },
      "execution_count": 22,
      "outputs": []
    },
    {
      "cell_type": "code",
      "source": [
        "# import pickle\n",
        "# pfile = open(\"/content/drive/My Drive/DLH Final Project/X_tf_idf\", \"ab\")\n",
        "# pickle.dump(tf_idf, pfile)\n",
        "# pfile.close()"
      ],
      "metadata": {
        "id": "E3afwJciiW59"
      },
      "execution_count": 23,
      "outputs": []
    },
    {
      "cell_type": "markdown",
      "source": [
        "# Construct Y (Multihot Encoding)"
      ],
      "metadata": {
        "id": "ckHf55_ylpmS"
      }
    },
    {
      "cell_type": "code",
      "source": [
        "# multi-hot encoding for ICD codes diagnosed.\n",
        "y = df_dataset['ICD9_CODE_ENCODED'].to_list()"
      ],
      "metadata": {
        "id": "qwrW5WOPkBPd"
      },
      "execution_count": 24,
      "outputs": []
    },
    {
      "cell_type": "code",
      "source": [
        "print(len(X_word2vec))\n",
        "print(len((X_tf_idf)))\n",
        "print(len(y))"
      ],
      "metadata": {
        "colab": {
          "base_uri": "https://localhost:8080/"
        },
        "id": "CP4e2hJU4S6B",
        "outputId": "f6ebd1bc-40fc-457b-ad47-6b31326b42b9"
      },
      "execution_count": 25,
      "outputs": [
        {
          "output_type": "stream",
          "name": "stdout",
          "text": [
            "54939\n",
            "54939\n",
            "54939\n"
          ]
        }
      ]
    },
    {
      "cell_type": "markdown",
      "source": [
        "# Define Dataset and DataLoaders"
      ],
      "metadata": {
        "id": "D0madEdCl7w1"
      }
    },
    {
      "cell_type": "code",
      "source": [
        "from torch.utils.data import Dataset\n",
        "from torch.utils.data import DataLoader\n",
        "from torch.utils.data.dataset import random_split\n",
        "from torch.utils.data import DataLoader\n",
        "\n",
        "def collate_fn(data):\n",
        "  x_w2v, x_tidf, y_batch = zip(*data)\n",
        "  x_w2v = pad_dataset(x_w2v, 100)\n",
        "  x_tidf = pad_dataset(x_tidf, 50)\n",
        "  y_batch = torch.FloatTensor(y_batch)\n",
        "  x_w2v = x_w2v.cuda() if torch.cuda.is_available() else x_w2v\n",
        "  x_tidf = x_tidf.cuda() if torch.cuda.is_available() else x_tidf\n",
        "  y_batch = y_batch.cuda() if torch.cuda.is_available() else y_batch\n",
        "\n",
        "  return x_w2v, x_tidf, y_batch\n",
        "\n",
        "class CustomDataset(Dataset):\n",
        "\n",
        "  def __init__(self, X_w2v, X_tfidf, y):              \n",
        "    self.X_w2v = X_w2v\n",
        "    self.X_tfidf = X_tfidf\n",
        "    self.y = y\n",
        "    \n",
        "  def __len__(self):                \n",
        "    return len(self.y)\n",
        "    \n",
        "  def __getitem__(self, index):          \n",
        "    # your code here\n",
        "    return self.X_w2v[index], self.X_tfidf[index], self.y[index]\n",
        "\n",
        "dataset = CustomDataset(X_word2vec, X_tf_idf, y)\n",
        "\n",
        "split = int(len(dataset)*0.8)\n",
        "lengths = [split, len(dataset) - split]\n",
        "train_dataset, test_dataset = random_split(dataset, lengths)\n",
        "\n",
        "train_loader = DataLoader(train_dataset, shuffle=True, batch_size=400, \n",
        "                          collate_fn=collate_fn)\n",
        "\n",
        "test_loader = DataLoader(test_dataset, shuffle=True, batch_size=400, \n",
        "                         collate_fn=collate_fn)"
      ],
      "metadata": {
        "id": "O5HoLixIdZq_"
      },
      "execution_count": 48,
      "outputs": []
    },
    {
      "cell_type": "markdown",
      "source": [
        "# Model Definition"
      ],
      "metadata": {
        "id": "yilnzXZgi8RH"
      }
    },
    {
      "cell_type": "markdown",
      "source": [
        "TODO: drop out rate?"
      ],
      "metadata": {
        "id": "lI6PPCn_ZvGA"
      }
    },
    {
      "cell_type": "code",
      "source": [
        "import torch\n",
        "import torch.nn as nn\n",
        "import torch.nn.functional as F\n",
        "\n",
        "class BiLSTM(nn.Module):\n",
        "  def __init__(self, input_dim, embedding_dim, output_dim):   \n",
        "    super(BiLSTM, self).__init__()\n",
        "    self.lstm = nn.LSTM(input_size=input_dim, \n",
        "                        hidden_size=embedding_dim,\n",
        "                        num_layers=1,\n",
        "                        bidirectional=True,\n",
        "                        batch_first=True)\n",
        "    \n",
        "    self.linear = nn.Linear(embedding_dim*2, \n",
        "                            output_dim)\n",
        "  \n",
        "  def forward(self, X):\n",
        "    out, (hn, cn) = self.lstm(X)    \n",
        "    emb = torch.mean(out, dim=1)\n",
        "    output = torch.sigmoid(self.linear(emb))\n",
        "    return output"
      ],
      "metadata": {
        "id": "RpByc-wrjQ6A"
      },
      "execution_count": 34,
      "outputs": []
    },
    {
      "cell_type": "code",
      "source": [
        "class DiseasePredictionModel(nn.Module):\n",
        "  def __init__(self, weight=0.4):    \n",
        "    super(DiseasePredictionModel, self).__init__()\n",
        "    self.weight = 0.4    \n",
        "    self.w2v_lstm = BiLSTM(input_dim=100, embedding_dim=50, output_dim=50)\n",
        "    self.tf_idf_lstm = BiLSTM(input_dim=50, embedding_dim=50, output_dim=50)\n",
        "  \n",
        "  def forward(self, X_w2v, X_tidf):\n",
        "    pred1 = self.w2v_lstm(X_w2v)\n",
        "    pred2 = self.tf_idf_lstm(X_tidf)\n",
        "    # compute the weighted average of predictions\n",
        "    # from the 2 models.\n",
        "    return self.weight * pred1 + (1-self.weight) * pred2"
      ],
      "metadata": {
        "id": "z6v9DR1lm34D"
      },
      "execution_count": 35,
      "outputs": []
    },
    {
      "cell_type": "markdown",
      "source": [
        "# Model Training"
      ],
      "metadata": {
        "id": "wT5_eTcAfyzq"
      }
    },
    {
      "cell_type": "code",
      "source": [
        "model = DiseasePredictionModel()\n",
        "if torch.cuda.is_available():\n",
        "  model.cuda()\n",
        "\n",
        "loss = nn.BCELoss()\n",
        "optimizer = torch.optim.Adam(model.parameters(), lr=0.001)"
      ],
      "metadata": {
        "id": "UYzSUxVr969Q"
      },
      "execution_count": 36,
      "outputs": []
    },
    {
      "cell_type": "markdown",
      "source": [
        "Number of trainable parameters"
      ],
      "metadata": {
        "id": "FK2BvToZUSZg"
      }
    },
    {
      "cell_type": "code",
      "source": [
        "sum(p.numel() for p in model.parameters() if p.requires_grad)"
      ],
      "metadata": {
        "colab": {
          "base_uri": "https://localhost:8080/"
        },
        "id": "G1qtWBgO-Fi0",
        "outputId": "2e140d1e-e426-45f1-d2c1-3fc6ec3e8496"
      },
      "execution_count": 30,
      "outputs": [
        {
          "output_type": "execute_result",
          "data": {
            "text/plain": [
              "111700"
            ]
          },
          "metadata": {},
          "execution_count": 30
        }
      ]
    },
    {
      "cell_type": "code",
      "source": [
        "import psutil\n",
        "print(psutil.Process().memory_info())\n",
        "print(psutil.virtual_memory())\n",
        "print(torch.cuda.memory_allocated())"
      ],
      "metadata": {
        "colab": {
          "base_uri": "https://localhost:8080/"
        },
        "id": "mw0gBNo8P80l",
        "outputId": "7a5195bf-2428-4aaf-e4e1-ac38c2056b4c"
      },
      "execution_count": 31,
      "outputs": [
        {
          "output_type": "stream",
          "name": "stdout",
          "text": [
            "pmem(rss=11116875776, vms=36147789824, shared=1870974976, text=4620288, lib=0, data=10203312128, dirty=0)\n",
            "svmem(total=54767017984, available=46653997056, percent=14.8, used=10601730048, free=21669404672, active=7663321088, inactive=24512430080, buffers=151396352, cached=22344486912, shared=17391616, slab=591757312)\n",
            "448512\n"
          ]
        }
      ]
    },
    {
      "cell_type": "code",
      "source": [
        "import psutil\n",
        "import time\n",
        "import pickle\n",
        "\n",
        "main_memory_usage = list()\n",
        "gpu_memory_usage = list()\n",
        "gpu_time = list()\n",
        "train_loss = list()\n",
        "\n",
        "for e in range(100):\n",
        "  model.train()\n",
        "  epoc_train_loss = 0\n",
        "  main_memory_before = psutil.virtual_memory().used\n",
        "  gpu_memory_before = torch.cuda.memory_allocated()\n",
        "  start_time = time.time()\n",
        "\n",
        "  # iterate over data in mini batches.\n",
        "  for x_w2v, x_tidf, y_batch in train_loader:    \n",
        "    model.zero_grad()\n",
        "    pred = model(x_w2v, x_tidf)\n",
        "    l = loss(pred, y_batch)\n",
        "    l.backward()\n",
        "    optimizer.step()    \n",
        "    epoc_train_loss += l.item()\n",
        "    \n",
        "  # print epoc level training loss.\n",
        "  print(f\"epoc: {e}: Train Loss: {epoc_train_loss/len(train_loader)}\")\n",
        "  \n",
        "  # collect cpu and memory stats.\n",
        "  memory_used = psutil.virtual_memory().used\n",
        "  gpu_memory_used = torch.cuda.memory_allocated()\n",
        "  run_time = time.time() - start_time\n",
        "  print(f\"time: {run_time} memory_used: {memory_used} gpu_memory_used: {gpu_memory_used}\")\n",
        "  print(\"\\n\")\n",
        "\n",
        "  train_loss.append(epoc_train_loss/len(train_loader))\n",
        "  main_memory_usage.append(memory_used)\n",
        "  gpu_memory_usage.append(gpu_memory_used)\n",
        "  gpu_time.append(run_time)\n",
        "  # end of one epoc\n",
        "\n",
        "# save the model\n",
        "torch.save(model.state_dict(), get_model_file_name())\n",
        "# print and collect stats.\n",
        "print(psutil.virtual_memory())\n",
        "\n",
        "stats = {\n",
        "    \"gpu_mem\": gpu_memory_usage,\n",
        "    \"main_mem\": main_memory_usage,\n",
        "    \"gpu_time\": gpu_time,\n",
        "    \"vmm_info\": psutil.virtual_memory()\n",
        "}\n",
        "\n",
        "with open(get_stats_file_name(), \"ab\") as sfile:\n",
        "  pickle.dump(stats, sfile)"
      ],
      "metadata": {
        "colab": {
          "base_uri": "https://localhost:8080/"
        },
        "id": "djf3IOU68k9G",
        "outputId": "d928e822-b8cd-452b-f771-9bbe237cdc59"
      },
      "execution_count": 49,
      "outputs": [
        {
          "output_type": "stream",
          "name": "stdout",
          "text": [
            "epoc: 0: Train Loss: 0.22699457813392987\n",
            "time: 35.01112174987793 memory_used: 11161112576 gpu_memory_used: 21208576\n",
            "\n",
            "\n",
            "epoc: 1: Train Loss: 0.22569478519938208\n",
            "time: 35.60397148132324 memory_used: 11161698304 gpu_memory_used: 43171328\n",
            "\n",
            "\n",
            "epoc: 2: Train Loss: 0.2245036471973766\n",
            "time: 35.16093587875366 memory_used: 11160223744 gpu_memory_used: 44648960\n",
            "\n",
            "\n",
            "epoc: 3: Train Loss: 0.22345253432338888\n",
            "time: 35.07908749580383 memory_used: 11161178112 gpu_memory_used: 43369984\n",
            "\n",
            "\n",
            "epoc: 4: Train Loss: 0.22242891693657094\n",
            "time: 35.129961252212524 memory_used: 11159425024 gpu_memory_used: 48637440\n",
            "\n",
            "\n",
            "epoc: 5: Train Loss: 0.22147019695151937\n",
            "time: 35.20118069648743 memory_used: 11159781376 gpu_memory_used: 44648960\n",
            "\n",
            "\n",
            "epoc: 6: Train Loss: 0.2204536740075458\n",
            "time: 35.10628914833069 memory_used: 11159379968 gpu_memory_used: 45517824\n",
            "\n",
            "\n",
            "epoc: 7: Train Loss: 0.2197259632023898\n",
            "time: 35.49019718170166 memory_used: 11159326720 gpu_memory_used: 40649728\n",
            "\n",
            "\n",
            "epoc: 8: Train Loss: 0.21875532106919723\n",
            "time: 35.222352266311646 memory_used: 11159097344 gpu_memory_used: 45566464\n",
            "\n",
            "\n",
            "epoc: 9: Train Loss: 0.2179299672896212\n",
            "time: 35.64853882789612 memory_used: 11159212032 gpu_memory_used: 44864000\n",
            "\n",
            "\n",
            "epoc: 10: Train Loss: 0.21692782708189703\n",
            "time: 35.277587890625 memory_used: 11160190976 gpu_memory_used: 44648960\n",
            "\n",
            "\n",
            "epoc: 11: Train Loss: 0.2162782986055721\n",
            "time: 34.8913893699646 memory_used: 11160072192 gpu_memory_used: 42550272\n",
            "\n",
            "\n",
            "epoc: 12: Train Loss: 0.21526171497323296\n",
            "time: 35.28481888771057 memory_used: 11160322048 gpu_memory_used: 47964672\n",
            "\n",
            "\n",
            "epoc: 13: Train Loss: 0.2143288937481967\n",
            "time: 35.83342528343201 memory_used: 11160920064 gpu_memory_used: 43627008\n",
            "\n",
            "\n",
            "epoc: 14: Train Loss: 0.21352924501354045\n",
            "time: 35.38115906715393 memory_used: 11160895488 gpu_memory_used: 46322688\n",
            "\n",
            "\n",
            "epoc: 15: Train Loss: 0.21256436001170764\n",
            "time: 35.7389280796051 memory_used: 11159810048 gpu_memory_used: 42952704\n",
            "\n",
            "\n",
            "epoc: 16: Train Loss: 0.21191959123719822\n",
            "time: 35.31437659263611 memory_used: 11160354816 gpu_memory_used: 45227008\n",
            "\n",
            "\n",
            "epoc: 17: Train Loss: 0.2110302220691334\n",
            "time: 35.454588890075684 memory_used: 11159511040 gpu_memory_used: 45122048\n",
            "\n",
            "\n",
            "epoc: 18: Train Loss: 0.21051721599968998\n",
            "time: 35.81043553352356 memory_used: 11160182784 gpu_memory_used: 22051328\n",
            "\n",
            "\n",
            "epoc: 19: Train Loss: 0.20979370962489735\n",
            "time: 35.696958780288696 memory_used: 11160457216 gpu_memory_used: 44648960\n",
            "\n",
            "\n",
            "epoc: 20: Train Loss: 0.20905397900126196\n",
            "time: 35.48033928871155 memory_used: 11160633344 gpu_memory_used: 46563840\n",
            "\n",
            "\n",
            "epoc: 21: Train Loss: 0.20842393623156982\n",
            "time: 34.91372227668762 memory_used: 11160875008 gpu_memory_used: 44696576\n",
            "\n",
            "\n",
            "epoc: 22: Train Loss: 0.20796399997039275\n",
            "time: 35.45370697975159 memory_used: 11160887296 gpu_memory_used: 45580288\n",
            "\n",
            "\n",
            "epoc: 23: Train Loss: 0.2074255108833313\n",
            "time: 35.59833359718323 memory_used: 11158589440 gpu_memory_used: 43167744\n",
            "\n",
            "\n",
            "epoc: 24: Train Loss: 0.20685866949233142\n",
            "time: 35.33267140388489 memory_used: 11160899584 gpu_memory_used: 46157824\n",
            "\n",
            "\n",
            "epoc: 25: Train Loss: 0.2064304846254262\n",
            "time: 35.23312997817993 memory_used: 11159638016 gpu_memory_used: 43349504\n",
            "\n",
            "\n",
            "epoc: 26: Train Loss: 0.20611922889947892\n",
            "time: 35.46168327331543 memory_used: 11160469504 gpu_memory_used: 43264000\n",
            "\n",
            "\n",
            "epoc: 27: Train Loss: 0.20542174740271135\n",
            "time: 35.428555488586426 memory_used: 11159793664 gpu_memory_used: 22084096\n",
            "\n",
            "\n",
            "epoc: 28: Train Loss: 0.20485118492083115\n",
            "time: 35.033935546875 memory_used: 11160793088 gpu_memory_used: 46133760\n",
            "\n",
            "\n",
            "epoc: 29: Train Loss: 0.2040844192559069\n",
            "time: 34.79483890533447 memory_used: 11161157632 gpu_memory_used: 45449216\n",
            "\n",
            "\n",
            "epoc: 30: Train Loss: 0.20392159697684376\n",
            "time: 35.03312039375305 memory_used: 11159711744 gpu_memory_used: 45362688\n",
            "\n",
            "\n",
            "epoc: 31: Train Loss: 0.2031065500595353\n",
            "time: 35.30464172363281 memory_used: 11159822336 gpu_memory_used: 24107520\n",
            "\n",
            "\n",
            "epoc: 32: Train Loss: 0.20275935313918375\n",
            "time: 35.75945591926575 memory_used: 11161776128 gpu_memory_used: 43453440\n",
            "\n",
            "\n",
            "epoc: 33: Train Loss: 0.20216758264736695\n",
            "time: 35.40009522438049 memory_used: 11160829952 gpu_memory_used: 19542016\n",
            "\n",
            "\n",
            "epoc: 34: Train Loss: 0.2020714350722053\n",
            "time: 35.16660737991333 memory_used: 11160854528 gpu_memory_used: 41408000\n",
            "\n",
            "\n",
            "epoc: 35: Train Loss: 0.20130014555020767\n",
            "time: 35.039196491241455 memory_used: 11159920640 gpu_memory_used: 22051328\n",
            "\n",
            "\n",
            "epoc: 36: Train Loss: 0.20077079358426006\n",
            "time: 35.19300293922424 memory_used: 11161423872 gpu_memory_used: 44648960\n",
            "\n",
            "\n",
            "epoc: 37: Train Loss: 0.2002739508043636\n",
            "time: 35.3941867351532 memory_used: 11162292224 gpu_memory_used: 45016576\n",
            "\n",
            "\n",
            "epoc: 38: Train Loss: 0.19948603727600792\n",
            "time: 35.39724636077881 memory_used: 11161083904 gpu_memory_used: 42269696\n",
            "\n",
            "\n",
            "epoc: 39: Train Loss: 0.19920235533605923\n",
            "time: 35.53517532348633 memory_used: 11161378816 gpu_memory_used: 19548160\n",
            "\n",
            "\n",
            "epoc: 40: Train Loss: 0.19859099049459805\n",
            "time: 35.60701107978821 memory_used: 11160018944 gpu_memory_used: 42671104\n",
            "\n",
            "\n",
            "epoc: 41: Train Loss: 0.19832196655598552\n",
            "time: 34.985190868377686 memory_used: 11162279936 gpu_memory_used: 47042048\n",
            "\n",
            "\n",
            "epoc: 42: Train Loss: 0.1975552722811699\n",
            "time: 35.11164593696594 memory_used: 11161350144 gpu_memory_used: 42232320\n",
            "\n",
            "\n",
            "epoc: 43: Train Loss: 0.19702260819348422\n",
            "time: 35.03277134895325 memory_used: 11161370624 gpu_memory_used: 48447488\n",
            "\n",
            "\n",
            "epoc: 44: Train Loss: 0.1968623929403045\n",
            "time: 34.692553758621216 memory_used: 11162415104 gpu_memory_used: 46322688\n",
            "\n",
            "\n",
            "epoc: 45: Train Loss: 0.19671209210699256\n",
            "time: 35.0619330406189 memory_used: 11161759744 gpu_memory_used: 45757440\n",
            "\n",
            "\n",
            "epoc: 46: Train Loss: 0.19595229002562436\n",
            "time: 35.072020530700684 memory_used: 11161927680 gpu_memory_used: 42691072\n",
            "\n",
            "\n",
            "epoc: 47: Train Loss: 0.19560453268614683\n",
            "time: 35.82307553291321 memory_used: 11162443776 gpu_memory_used: 21431808\n",
            "\n",
            "\n",
            "epoc: 48: Train Loss: 0.1945762880823829\n",
            "time: 35.870192527770996 memory_used: 11162284032 gpu_memory_used: 42570240\n",
            "\n",
            "\n",
            "epoc: 49: Train Loss: 0.19423923316327008\n",
            "time: 35.364969968795776 memory_used: 11162505216 gpu_memory_used: 43474432\n",
            "\n",
            "\n",
            "epoc: 50: Train Loss: 0.19385086447000505\n",
            "time: 34.85120606422424 memory_used: 11162365952 gpu_memory_used: 45265920\n",
            "\n",
            "\n",
            "epoc: 51: Train Loss: 0.19445747638290578\n",
            "time: 35.18503499031067 memory_used: 11160420352 gpu_memory_used: 46885376\n",
            "\n",
            "\n",
            "epoc: 52: Train Loss: 0.19324368902228095\n",
            "time: 35.08068609237671 memory_used: 11160555520 gpu_memory_used: 45195776\n",
            "\n",
            "\n",
            "epoc: 53: Train Loss: 0.19257319501855158\n",
            "time: 35.72838997840881 memory_used: 11163111424 gpu_memory_used: 43192320\n",
            "\n",
            "\n",
            "epoc: 54: Train Loss: 0.19245378185402262\n",
            "time: 35.311641454696655 memory_used: 11161731072 gpu_memory_used: 52929024\n",
            "\n",
            "\n",
            "epoc: 55: Train Loss: 0.19179137389768253\n",
            "time: 35.833969831466675 memory_used: 11160907776 gpu_memory_used: 44759552\n",
            "\n",
            "\n",
            "epoc: 56: Train Loss: 0.19125656201080843\n",
            "time: 35.69713830947876 memory_used: 11162017792 gpu_memory_used: 46110720\n",
            "\n",
            "\n",
            "epoc: 57: Train Loss: 0.191494872759689\n",
            "time: 35.22815155982971 memory_used: 11162148864 gpu_memory_used: 44648960\n",
            "\n",
            "\n",
            "epoc: 58: Train Loss: 0.19063281227241863\n",
            "time: 35.445090770721436 memory_used: 11162140672 gpu_memory_used: 22051328\n",
            "\n",
            "\n",
            "epoc: 59: Train Loss: 0.1899959146976471\n",
            "time: 35.10659432411194 memory_used: 11160498176 gpu_memory_used: 45227008\n",
            "\n",
            "\n",
            "epoc: 60: Train Loss: 0.18970999311317097\n",
            "time: 34.752431869506836 memory_used: 11160961024 gpu_memory_used: 43533312\n",
            "\n",
            "\n",
            "epoc: 61: Train Loss: 0.18938048847696998\n",
            "time: 35.12226629257202 memory_used: 11163656192 gpu_memory_used: 21083648\n",
            "\n",
            "\n",
            "epoc: 62: Train Loss: 0.18892388316718015\n",
            "time: 35.13976836204529 memory_used: 11163017216 gpu_memory_used: 42990080\n",
            "\n",
            "\n",
            "epoc: 63: Train Loss: 0.18856875544244592\n",
            "time: 34.939929485321045 memory_used: 11161178112 gpu_memory_used: 40946688\n",
            "\n",
            "\n",
            "epoc: 64: Train Loss: 0.1888141546737064\n",
            "time: 34.484944343566895 memory_used: 11162218496 gpu_memory_used: 40946688\n",
            "\n",
            "\n",
            "epoc: 65: Train Loss: 0.18830219073729082\n",
            "time: 35.652023792266846 memory_used: 11160997888 gpu_memory_used: 45406720\n",
            "\n",
            "\n",
            "epoc: 66: Train Loss: 0.18835883966901085\n",
            "time: 35.565242290496826 memory_used: 11161939968 gpu_memory_used: 44907008\n",
            "\n",
            "\n",
            "epoc: 67: Train Loss: 0.18836624432693827\n",
            "time: 35.26922583580017 memory_used: 11163049984 gpu_memory_used: 46245376\n",
            "\n",
            "\n",
            "epoc: 68: Train Loss: 0.18736461753194983\n",
            "time: 35.426262617111206 memory_used: 11161497600 gpu_memory_used: 43544576\n",
            "\n",
            "\n",
            "epoc: 69: Train Loss: 0.1864392094991424\n",
            "time: 35.276482582092285 memory_used: 11162599424 gpu_memory_used: 23925760\n",
            "\n",
            "\n",
            "epoc: 70: Train Loss: 0.18587294952435926\n",
            "time: 35.5154664516449 memory_used: 11161493504 gpu_memory_used: 43313152\n",
            "\n",
            "\n",
            "epoc: 71: Train Loss: 0.18559604476798663\n",
            "time: 35.37597417831421 memory_used: 11162271744 gpu_memory_used: 44648960\n",
            "\n",
            "\n",
            "epoc: 72: Train Loss: 0.1855639339847998\n",
            "time: 35.13936758041382 memory_used: 11162034176 gpu_memory_used: 46743552\n",
            "\n",
            "\n",
            "epoc: 73: Train Loss: 0.18621106052940542\n",
            "time: 35.514673709869385 memory_used: 11163668480 gpu_memory_used: 50407424\n",
            "\n",
            "\n",
            "epoc: 74: Train Loss: 0.1855398939414458\n",
            "time: 34.756221294403076 memory_used: 11163500544 gpu_memory_used: 43740160\n",
            "\n",
            "\n",
            "epoc: 75: Train Loss: 0.1848847358064218\n",
            "time: 35.57205557823181 memory_used: 11161878528 gpu_memory_used: 44696576\n",
            "\n",
            "\n",
            "epoc: 76: Train Loss: 0.18553565564480695\n",
            "time: 35.68060493469238 memory_used: 11162378240 gpu_memory_used: 44648960\n",
            "\n",
            "\n",
            "epoc: 77: Train Loss: 0.18350371284918351\n",
            "time: 35.47818064689636 memory_used: 11160535040 gpu_memory_used: 45496320\n",
            "\n",
            "\n",
            "epoc: 78: Train Loss: 0.18329854851419275\n",
            "time: 36.006415128707886 memory_used: 11162222592 gpu_memory_used: 46195200\n",
            "\n",
            "\n",
            "epoc: 79: Train Loss: 0.18271950578147714\n",
            "time: 35.45209622383118 memory_used: 11163103232 gpu_memory_used: 41991680\n",
            "\n",
            "\n",
            "epoc: 80: Train Loss: 0.1833899510177699\n",
            "time: 35.194703102111816 memory_used: 11163451392 gpu_memory_used: 43192320\n",
            "\n",
            "\n",
            "epoc: 81: Train Loss: 0.1880666190927679\n",
            "time: 34.7813982963562 memory_used: 11162112000 gpu_memory_used: 42842112\n",
            "\n",
            "\n",
            "epoc: 82: Train Loss: 0.18590996075760235\n",
            "time: 35.54591679573059 memory_used: 11163394048 gpu_memory_used: 40107008\n",
            "\n",
            "\n",
            "epoc: 83: Train Loss: 0.1841880123723637\n",
            "time: 35.53952145576477 memory_used: 11162447872 gpu_memory_used: 51077120\n",
            "\n",
            "\n",
            "epoc: 84: Train Loss: 0.18316318487579172\n",
            "time: 35.51880240440369 memory_used: 11162882048 gpu_memory_used: 43448832\n",
            "\n",
            "\n",
            "epoc: 85: Train Loss: 0.1823030344464562\n",
            "time: 35.413076639175415 memory_used: 11162923008 gpu_memory_used: 42771456\n",
            "\n",
            "\n",
            "epoc: 86: Train Loss: 0.18157688609578393\n",
            "time: 35.653968811035156 memory_used: 11162910720 gpu_memory_used: 41567744\n",
            "\n",
            "\n",
            "epoc: 87: Train Loss: 0.18080760795961726\n",
            "time: 35.64013743400574 memory_used: 11163750400 gpu_memory_used: 21783552\n",
            "\n",
            "\n",
            "epoc: 88: Train Loss: 0.1805541914972392\n",
            "time: 35.566444873809814 memory_used: 11163267072 gpu_memory_used: 47110144\n",
            "\n",
            "\n",
            "epoc: 89: Train Loss: 0.18029633137312803\n",
            "time: 35.42169761657715 memory_used: 11162488832 gpu_memory_used: 44637696\n",
            "\n",
            "\n",
            "epoc: 90: Train Loss: 0.18030267384919255\n",
            "time: 35.48505091667175 memory_used: 11162099712 gpu_memory_used: 47670784\n",
            "\n",
            "\n",
            "epoc: 91: Train Loss: 0.1794572257182815\n",
            "time: 35.059717416763306 memory_used: 11163357184 gpu_memory_used: 19748864\n",
            "\n",
            "\n",
            "epoc: 92: Train Loss: 0.17903083684769544\n",
            "time: 35.353692293167114 memory_used: 11162927104 gpu_memory_used: 46137856\n",
            "\n",
            "\n",
            "epoc: 93: Train Loss: 0.17858999330889094\n",
            "time: 35.86618375778198 memory_used: 11163201536 gpu_memory_used: 39192064\n",
            "\n",
            "\n",
            "epoc: 94: Train Loss: 0.17835023579272358\n",
            "time: 35.81412625312805 memory_used: 11163516928 gpu_memory_used: 50402304\n",
            "\n",
            "\n",
            "epoc: 95: Train Loss: 0.18012597208673303\n",
            "time: 34.71744251251221 memory_used: 11164659712 gpu_memory_used: 45684224\n",
            "\n",
            "\n",
            "epoc: 96: Train Loss: 0.17850636596029454\n",
            "time: 35.425681829452515 memory_used: 11162542080 gpu_memory_used: 42784256\n",
            "\n",
            "\n",
            "epoc: 97: Train Loss: 0.17777876420454544\n",
            "time: 35.77661609649658 memory_used: 11161841664 gpu_memory_used: 40509440\n",
            "\n",
            "\n",
            "epoc: 98: Train Loss: 0.1770393810488961\n",
            "time: 35.5272490978241 memory_used: 11162796032 gpu_memory_used: 42831360\n",
            "\n",
            "\n",
            "epoc: 99: Train Loss: 0.17674944698810577\n",
            "time: 35.0710608959198 memory_used: 11162279936 gpu_memory_used: 41520128\n",
            "\n",
            "\n",
            "svmem(total=54767017984, available=45983268864, percent=16.0, used=11162148864, free=20987682816, active=8330272768, inactive=24504385536, buffers=164990976, cached=22452195328, shared=17506304, slab=599425024)\n"
          ]
        }
      ]
    },
    {
      "cell_type": "markdown",
      "source": [
        "# Model Evaluation"
      ],
      "metadata": {
        "id": "9Y7iNxjCcgOk"
      }
    },
    {
      "cell_type": "code",
      "source": [
        "# model = DiseasePredictionModel()\n",
        "# model.load_state_dict(\n",
        "#    torch.load(\"/content/drive/My Drive/DLH Final Project/model\"))\n",
        "\n",
        "from sklearn.metrics import precision_recall_fscore_support\n",
        "\n",
        "model.eval()\n",
        "y_pred_all = list()\n",
        "y_true_all = list()\n",
        "\n",
        "for x_w2v, x_tidf, y_batch in test_loader:\n",
        "  y_pred = model(x_w2v, x_tidf)\n",
        "  y_pred = y_pred > 0.2\n",
        "  y_pred_all.extend(y_pred.detach().to('cpu').numpy())\n",
        "  y_true_all.extend(y_batch.detach().to('cpu').numpy())\n",
        "\n",
        "p1, r1, f1, s1 = precision_recall_fscore_support(y_true_all, y_pred_all, \n",
        "                                                 average=\"micro\")\n",
        "print(f\"Micro Averaging. Precision: {p1}, Recall: {r1}, F1 Score: {f1}\")\n",
        "\n",
        "p2, r2, f2, s2 = precision_recall_fscore_support(y_true_all, y_pred_all, \n",
        "                                                 average=\"macro\")\n",
        "\n",
        "print(f\"Macro Averaging. Precision: {p2}, Recall: {r2}, F1 Score: {f2}\")\n",
        "\n",
        "results = {\n",
        "    \"micro\": [p1, r1, f1],\n",
        "    \"macro\": [p2, r2, f2]\n",
        "}\n",
        "\n",
        "with open(get_results_file_name(), \"ab\") as rfile:\n",
        "  pickle.dump(results, rfile)"
      ],
      "metadata": {
        "colab": {
          "base_uri": "https://localhost:8080/"
        },
        "id": "SuYDS46qcfbH",
        "outputId": "6ee768e9-531a-4cc7-87db-409446261e6e"
      },
      "execution_count": 51,
      "outputs": [
        {
          "output_type": "stream",
          "name": "stdout",
          "text": [
            "Micro Averaging. Precision: 0.40808268051446783, Recall: 0.6468433657348709, F1 Score: 0.5004437524328533\n",
            "Macro Averaging. Precision: 0.37372860900694455, Recall: 0.5587988247514366, F1 Score: 0.44099536878270906\n"
          ]
        }
      ]
    }
  ],
  "metadata": {
    "colab": {
      "collapsed_sections": [],
      "name": "CS598 Deep Learning For Healthcare Final Project",
      "provenance": [],
      "machine_shape": "hm",
      "background_execution": "on",
      "include_colab_link": true
    },
    "kernelspec": {
      "display_name": "Python 3",
      "name": "python3"
    },
    "language_info": {
      "name": "python"
    },
    "accelerator": "GPU",
    "widgets": {
      "application/vnd.jupyter.widget-state+json": {
        "4d054383bf114b6388005da3a3494d9f": {
          "model_module": "@jupyter-widgets/controls",
          "model_name": "HBoxModel",
          "model_module_version": "1.5.0",
          "state": {
            "_dom_classes": [],
            "_model_module": "@jupyter-widgets/controls",
            "_model_module_version": "1.5.0",
            "_model_name": "HBoxModel",
            "_view_count": null,
            "_view_module": "@jupyter-widgets/controls",
            "_view_module_version": "1.5.0",
            "_view_name": "HBoxView",
            "box_style": "",
            "children": [
              "IPY_MODEL_a40b2632de2447dcbc6abf1f9a61800a",
              "IPY_MODEL_82db2a1e1393435eb6d90e3f2a2f88cf",
              "IPY_MODEL_5c8ce6189e3c4b0ba7a708c128e624c9"
            ],
            "layout": "IPY_MODEL_b295dded1c9140828bf78f525502df26"
          }
        },
        "a40b2632de2447dcbc6abf1f9a61800a": {
          "model_module": "@jupyter-widgets/controls",
          "model_name": "HTMLModel",
          "model_module_version": "1.5.0",
          "state": {
            "_dom_classes": [],
            "_model_module": "@jupyter-widgets/controls",
            "_model_module_version": "1.5.0",
            "_model_name": "HTMLModel",
            "_view_count": null,
            "_view_module": "@jupyter-widgets/controls",
            "_view_module_version": "1.5.0",
            "_view_name": "HTMLView",
            "description": "",
            "description_tooltip": null,
            "layout": "IPY_MODEL_f9ad925b2d85471e803de168ed863fe2",
            "placeholder": "​",
            "style": "IPY_MODEL_fca8e70ac87744bebb43eca6cad7e2e5",
            "value": "Downloading: 100%"
          }
        },
        "82db2a1e1393435eb6d90e3f2a2f88cf": {
          "model_module": "@jupyter-widgets/controls",
          "model_name": "FloatProgressModel",
          "model_module_version": "1.5.0",
          "state": {
            "_dom_classes": [],
            "_model_module": "@jupyter-widgets/controls",
            "_model_module_version": "1.5.0",
            "_model_name": "FloatProgressModel",
            "_view_count": null,
            "_view_module": "@jupyter-widgets/controls",
            "_view_module_version": "1.5.0",
            "_view_name": "ProgressView",
            "bar_style": "success",
            "description": "",
            "description_tooltip": null,
            "layout": "IPY_MODEL_bf6684b213264a879dac94c400745abd",
            "max": 300,
            "min": 0,
            "orientation": "horizontal",
            "style": "IPY_MODEL_06968676dd9649f18bcafaef6e290af7",
            "value": 300
          }
        },
        "5c8ce6189e3c4b0ba7a708c128e624c9": {
          "model_module": "@jupyter-widgets/controls",
          "model_name": "HTMLModel",
          "model_module_version": "1.5.0",
          "state": {
            "_dom_classes": [],
            "_model_module": "@jupyter-widgets/controls",
            "_model_module_version": "1.5.0",
            "_model_name": "HTMLModel",
            "_view_count": null,
            "_view_module": "@jupyter-widgets/controls",
            "_view_module_version": "1.5.0",
            "_view_name": "HTMLView",
            "description": "",
            "description_tooltip": null,
            "layout": "IPY_MODEL_80ed0bff182b4c35b9342f31f29a8d8c",
            "placeholder": "​",
            "style": "IPY_MODEL_a1ebf3be23aa4b5295b2d8d3560715a5",
            "value": " 300/300 [00:00&lt;00:00, 11.8kB/s]"
          }
        },
        "b295dded1c9140828bf78f525502df26": {
          "model_module": "@jupyter-widgets/base",
          "model_name": "LayoutModel",
          "model_module_version": "1.2.0",
          "state": {
            "_model_module": "@jupyter-widgets/base",
            "_model_module_version": "1.2.0",
            "_model_name": "LayoutModel",
            "_view_count": null,
            "_view_module": "@jupyter-widgets/base",
            "_view_module_version": "1.2.0",
            "_view_name": "LayoutView",
            "align_content": null,
            "align_items": null,
            "align_self": null,
            "border": null,
            "bottom": null,
            "display": null,
            "flex": null,
            "flex_flow": null,
            "grid_area": null,
            "grid_auto_columns": null,
            "grid_auto_flow": null,
            "grid_auto_rows": null,
            "grid_column": null,
            "grid_gap": null,
            "grid_row": null,
            "grid_template_areas": null,
            "grid_template_columns": null,
            "grid_template_rows": null,
            "height": null,
            "justify_content": null,
            "justify_items": null,
            "left": null,
            "margin": null,
            "max_height": null,
            "max_width": null,
            "min_height": null,
            "min_width": null,
            "object_fit": null,
            "object_position": null,
            "order": null,
            "overflow": null,
            "overflow_x": null,
            "overflow_y": null,
            "padding": null,
            "right": null,
            "top": null,
            "visibility": null,
            "width": null
          }
        },
        "f9ad925b2d85471e803de168ed863fe2": {
          "model_module": "@jupyter-widgets/base",
          "model_name": "LayoutModel",
          "model_module_version": "1.2.0",
          "state": {
            "_model_module": "@jupyter-widgets/base",
            "_model_module_version": "1.2.0",
            "_model_name": "LayoutModel",
            "_view_count": null,
            "_view_module": "@jupyter-widgets/base",
            "_view_module_version": "1.2.0",
            "_view_name": "LayoutView",
            "align_content": null,
            "align_items": null,
            "align_self": null,
            "border": null,
            "bottom": null,
            "display": null,
            "flex": null,
            "flex_flow": null,
            "grid_area": null,
            "grid_auto_columns": null,
            "grid_auto_flow": null,
            "grid_auto_rows": null,
            "grid_column": null,
            "grid_gap": null,
            "grid_row": null,
            "grid_template_areas": null,
            "grid_template_columns": null,
            "grid_template_rows": null,
            "height": null,
            "justify_content": null,
            "justify_items": null,
            "left": null,
            "margin": null,
            "max_height": null,
            "max_width": null,
            "min_height": null,
            "min_width": null,
            "object_fit": null,
            "object_position": null,
            "order": null,
            "overflow": null,
            "overflow_x": null,
            "overflow_y": null,
            "padding": null,
            "right": null,
            "top": null,
            "visibility": null,
            "width": null
          }
        },
        "fca8e70ac87744bebb43eca6cad7e2e5": {
          "model_module": "@jupyter-widgets/controls",
          "model_name": "DescriptionStyleModel",
          "model_module_version": "1.5.0",
          "state": {
            "_model_module": "@jupyter-widgets/controls",
            "_model_module_version": "1.5.0",
            "_model_name": "DescriptionStyleModel",
            "_view_count": null,
            "_view_module": "@jupyter-widgets/base",
            "_view_module_version": "1.2.0",
            "_view_name": "StyleView",
            "description_width": ""
          }
        },
        "bf6684b213264a879dac94c400745abd": {
          "model_module": "@jupyter-widgets/base",
          "model_name": "LayoutModel",
          "model_module_version": "1.2.0",
          "state": {
            "_model_module": "@jupyter-widgets/base",
            "_model_module_version": "1.2.0",
            "_model_name": "LayoutModel",
            "_view_count": null,
            "_view_module": "@jupyter-widgets/base",
            "_view_module_version": "1.2.0",
            "_view_name": "LayoutView",
            "align_content": null,
            "align_items": null,
            "align_self": null,
            "border": null,
            "bottom": null,
            "display": null,
            "flex": null,
            "flex_flow": null,
            "grid_area": null,
            "grid_auto_columns": null,
            "grid_auto_flow": null,
            "grid_auto_rows": null,
            "grid_column": null,
            "grid_gap": null,
            "grid_row": null,
            "grid_template_areas": null,
            "grid_template_columns": null,
            "grid_template_rows": null,
            "height": null,
            "justify_content": null,
            "justify_items": null,
            "left": null,
            "margin": null,
            "max_height": null,
            "max_width": null,
            "min_height": null,
            "min_width": null,
            "object_fit": null,
            "object_position": null,
            "order": null,
            "overflow": null,
            "overflow_x": null,
            "overflow_y": null,
            "padding": null,
            "right": null,
            "top": null,
            "visibility": null,
            "width": null
          }
        },
        "06968676dd9649f18bcafaef6e290af7": {
          "model_module": "@jupyter-widgets/controls",
          "model_name": "ProgressStyleModel",
          "model_module_version": "1.5.0",
          "state": {
            "_model_module": "@jupyter-widgets/controls",
            "_model_module_version": "1.5.0",
            "_model_name": "ProgressStyleModel",
            "_view_count": null,
            "_view_module": "@jupyter-widgets/base",
            "_view_module_version": "1.2.0",
            "_view_name": "StyleView",
            "bar_color": null,
            "description_width": ""
          }
        },
        "80ed0bff182b4c35b9342f31f29a8d8c": {
          "model_module": "@jupyter-widgets/base",
          "model_name": "LayoutModel",
          "model_module_version": "1.2.0",
          "state": {
            "_model_module": "@jupyter-widgets/base",
            "_model_module_version": "1.2.0",
            "_model_name": "LayoutModel",
            "_view_count": null,
            "_view_module": "@jupyter-widgets/base",
            "_view_module_version": "1.2.0",
            "_view_name": "LayoutView",
            "align_content": null,
            "align_items": null,
            "align_self": null,
            "border": null,
            "bottom": null,
            "display": null,
            "flex": null,
            "flex_flow": null,
            "grid_area": null,
            "grid_auto_columns": null,
            "grid_auto_flow": null,
            "grid_auto_rows": null,
            "grid_column": null,
            "grid_gap": null,
            "grid_row": null,
            "grid_template_areas": null,
            "grid_template_columns": null,
            "grid_template_rows": null,
            "height": null,
            "justify_content": null,
            "justify_items": null,
            "left": null,
            "margin": null,
            "max_height": null,
            "max_width": null,
            "min_height": null,
            "min_width": null,
            "object_fit": null,
            "object_position": null,
            "order": null,
            "overflow": null,
            "overflow_x": null,
            "overflow_y": null,
            "padding": null,
            "right": null,
            "top": null,
            "visibility": null,
            "width": null
          }
        },
        "a1ebf3be23aa4b5295b2d8d3560715a5": {
          "model_module": "@jupyter-widgets/controls",
          "model_name": "DescriptionStyleModel",
          "model_module_version": "1.5.0",
          "state": {
            "_model_module": "@jupyter-widgets/controls",
            "_model_module_version": "1.5.0",
            "_model_name": "DescriptionStyleModel",
            "_view_count": null,
            "_view_module": "@jupyter-widgets/base",
            "_view_module_version": "1.2.0",
            "_view_name": "StyleView",
            "description_width": ""
          }
        },
        "2ccbc82898ec4780874de315971d75e8": {
          "model_module": "@jupyter-widgets/controls",
          "model_name": "HBoxModel",
          "model_module_version": "1.5.0",
          "state": {
            "_dom_classes": [],
            "_model_module": "@jupyter-widgets/controls",
            "_model_module_version": "1.5.0",
            "_model_name": "HBoxModel",
            "_view_count": null,
            "_view_module": "@jupyter-widgets/controls",
            "_view_module_version": "1.5.0",
            "_view_name": "HBoxView",
            "box_style": "",
            "children": [
              "IPY_MODEL_f11990506dbd4b36ba720badbb74c07f",
              "IPY_MODEL_471ca202840a4b9ca9720b8f15b4ee6f",
              "IPY_MODEL_d2e6ce41ac11461a9d59b2eb965137f1"
            ],
            "layout": "IPY_MODEL_b1c49ca25e144feeadc3873419556bbf"
          }
        },
        "f11990506dbd4b36ba720badbb74c07f": {
          "model_module": "@jupyter-widgets/controls",
          "model_name": "HTMLModel",
          "model_module_version": "1.5.0",
          "state": {
            "_dom_classes": [],
            "_model_module": "@jupyter-widgets/controls",
            "_model_module_version": "1.5.0",
            "_model_name": "HTMLModel",
            "_view_count": null,
            "_view_module": "@jupyter-widgets/controls",
            "_view_module_version": "1.5.0",
            "_view_name": "HTMLView",
            "description": "",
            "description_tooltip": null,
            "layout": "IPY_MODEL_524e95f5cb844747a3a1f9f1ab70e154",
            "placeholder": "​",
            "style": "IPY_MODEL_e7685814c2cb40e9b425fd1d6ed98c0f",
            "value": "Downloading: 100%"
          }
        },
        "471ca202840a4b9ca9720b8f15b4ee6f": {
          "model_module": "@jupyter-widgets/controls",
          "model_name": "FloatProgressModel",
          "model_module_version": "1.5.0",
          "state": {
            "_dom_classes": [],
            "_model_module": "@jupyter-widgets/controls",
            "_model_module_version": "1.5.0",
            "_model_name": "FloatProgressModel",
            "_view_count": null,
            "_view_module": "@jupyter-widgets/controls",
            "_view_module_version": "1.5.0",
            "_view_name": "ProgressView",
            "bar_style": "success",
            "description": "",
            "description_tooltip": null,
            "layout": "IPY_MODEL_e9f7eacfd7e343289c4dbd17348cb788",
            "max": 895,
            "min": 0,
            "orientation": "horizontal",
            "style": "IPY_MODEL_8f6c8fd0d1ab46e7b60784e739f555a2",
            "value": 895
          }
        },
        "d2e6ce41ac11461a9d59b2eb965137f1": {
          "model_module": "@jupyter-widgets/controls",
          "model_name": "HTMLModel",
          "model_module_version": "1.5.0",
          "state": {
            "_dom_classes": [],
            "_model_module": "@jupyter-widgets/controls",
            "_model_module_version": "1.5.0",
            "_model_name": "HTMLModel",
            "_view_count": null,
            "_view_module": "@jupyter-widgets/controls",
            "_view_module_version": "1.5.0",
            "_view_name": "HTMLView",
            "description": "",
            "description_tooltip": null,
            "layout": "IPY_MODEL_e5467cc55fb54d1790cd7ba16c5aa3cf",
            "placeholder": "​",
            "style": "IPY_MODEL_6b54864863444914923bd9fd84d878c9",
            "value": " 895/895 [00:00&lt;00:00, 38.1kB/s]"
          }
        },
        "b1c49ca25e144feeadc3873419556bbf": {
          "model_module": "@jupyter-widgets/base",
          "model_name": "LayoutModel",
          "model_module_version": "1.2.0",
          "state": {
            "_model_module": "@jupyter-widgets/base",
            "_model_module_version": "1.2.0",
            "_model_name": "LayoutModel",
            "_view_count": null,
            "_view_module": "@jupyter-widgets/base",
            "_view_module_version": "1.2.0",
            "_view_name": "LayoutView",
            "align_content": null,
            "align_items": null,
            "align_self": null,
            "border": null,
            "bottom": null,
            "display": null,
            "flex": null,
            "flex_flow": null,
            "grid_area": null,
            "grid_auto_columns": null,
            "grid_auto_flow": null,
            "grid_auto_rows": null,
            "grid_column": null,
            "grid_gap": null,
            "grid_row": null,
            "grid_template_areas": null,
            "grid_template_columns": null,
            "grid_template_rows": null,
            "height": null,
            "justify_content": null,
            "justify_items": null,
            "left": null,
            "margin": null,
            "max_height": null,
            "max_width": null,
            "min_height": null,
            "min_width": null,
            "object_fit": null,
            "object_position": null,
            "order": null,
            "overflow": null,
            "overflow_x": null,
            "overflow_y": null,
            "padding": null,
            "right": null,
            "top": null,
            "visibility": null,
            "width": null
          }
        },
        "524e95f5cb844747a3a1f9f1ab70e154": {
          "model_module": "@jupyter-widgets/base",
          "model_name": "LayoutModel",
          "model_module_version": "1.2.0",
          "state": {
            "_model_module": "@jupyter-widgets/base",
            "_model_module_version": "1.2.0",
            "_model_name": "LayoutModel",
            "_view_count": null,
            "_view_module": "@jupyter-widgets/base",
            "_view_module_version": "1.2.0",
            "_view_name": "LayoutView",
            "align_content": null,
            "align_items": null,
            "align_self": null,
            "border": null,
            "bottom": null,
            "display": null,
            "flex": null,
            "flex_flow": null,
            "grid_area": null,
            "grid_auto_columns": null,
            "grid_auto_flow": null,
            "grid_auto_rows": null,
            "grid_column": null,
            "grid_gap": null,
            "grid_row": null,
            "grid_template_areas": null,
            "grid_template_columns": null,
            "grid_template_rows": null,
            "height": null,
            "justify_content": null,
            "justify_items": null,
            "left": null,
            "margin": null,
            "max_height": null,
            "max_width": null,
            "min_height": null,
            "min_width": null,
            "object_fit": null,
            "object_position": null,
            "order": null,
            "overflow": null,
            "overflow_x": null,
            "overflow_y": null,
            "padding": null,
            "right": null,
            "top": null,
            "visibility": null,
            "width": null
          }
        },
        "e7685814c2cb40e9b425fd1d6ed98c0f": {
          "model_module": "@jupyter-widgets/controls",
          "model_name": "DescriptionStyleModel",
          "model_module_version": "1.5.0",
          "state": {
            "_model_module": "@jupyter-widgets/controls",
            "_model_module_version": "1.5.0",
            "_model_name": "DescriptionStyleModel",
            "_view_count": null,
            "_view_module": "@jupyter-widgets/base",
            "_view_module_version": "1.2.0",
            "_view_name": "StyleView",
            "description_width": ""
          }
        },
        "e9f7eacfd7e343289c4dbd17348cb788": {
          "model_module": "@jupyter-widgets/base",
          "model_name": "LayoutModel",
          "model_module_version": "1.2.0",
          "state": {
            "_model_module": "@jupyter-widgets/base",
            "_model_module_version": "1.2.0",
            "_model_name": "LayoutModel",
            "_view_count": null,
            "_view_module": "@jupyter-widgets/base",
            "_view_module_version": "1.2.0",
            "_view_name": "LayoutView",
            "align_content": null,
            "align_items": null,
            "align_self": null,
            "border": null,
            "bottom": null,
            "display": null,
            "flex": null,
            "flex_flow": null,
            "grid_area": null,
            "grid_auto_columns": null,
            "grid_auto_flow": null,
            "grid_auto_rows": null,
            "grid_column": null,
            "grid_gap": null,
            "grid_row": null,
            "grid_template_areas": null,
            "grid_template_columns": null,
            "grid_template_rows": null,
            "height": null,
            "justify_content": null,
            "justify_items": null,
            "left": null,
            "margin": null,
            "max_height": null,
            "max_width": null,
            "min_height": null,
            "min_width": null,
            "object_fit": null,
            "object_position": null,
            "order": null,
            "overflow": null,
            "overflow_x": null,
            "overflow_y": null,
            "padding": null,
            "right": null,
            "top": null,
            "visibility": null,
            "width": null
          }
        },
        "8f6c8fd0d1ab46e7b60784e739f555a2": {
          "model_module": "@jupyter-widgets/controls",
          "model_name": "ProgressStyleModel",
          "model_module_version": "1.5.0",
          "state": {
            "_model_module": "@jupyter-widgets/controls",
            "_model_module_version": "1.5.0",
            "_model_name": "ProgressStyleModel",
            "_view_count": null,
            "_view_module": "@jupyter-widgets/base",
            "_view_module_version": "1.2.0",
            "_view_name": "StyleView",
            "bar_color": null,
            "description_width": ""
          }
        },
        "e5467cc55fb54d1790cd7ba16c5aa3cf": {
          "model_module": "@jupyter-widgets/base",
          "model_name": "LayoutModel",
          "model_module_version": "1.2.0",
          "state": {
            "_model_module": "@jupyter-widgets/base",
            "_model_module_version": "1.2.0",
            "_model_name": "LayoutModel",
            "_view_count": null,
            "_view_module": "@jupyter-widgets/base",
            "_view_module_version": "1.2.0",
            "_view_name": "LayoutView",
            "align_content": null,
            "align_items": null,
            "align_self": null,
            "border": null,
            "bottom": null,
            "display": null,
            "flex": null,
            "flex_flow": null,
            "grid_area": null,
            "grid_auto_columns": null,
            "grid_auto_flow": null,
            "grid_auto_rows": null,
            "grid_column": null,
            "grid_gap": null,
            "grid_row": null,
            "grid_template_areas": null,
            "grid_template_columns": null,
            "grid_template_rows": null,
            "height": null,
            "justify_content": null,
            "justify_items": null,
            "left": null,
            "margin": null,
            "max_height": null,
            "max_width": null,
            "min_height": null,
            "min_width": null,
            "object_fit": null,
            "object_position": null,
            "order": null,
            "overflow": null,
            "overflow_x": null,
            "overflow_y": null,
            "padding": null,
            "right": null,
            "top": null,
            "visibility": null,
            "width": null
          }
        },
        "6b54864863444914923bd9fd84d878c9": {
          "model_module": "@jupyter-widgets/controls",
          "model_name": "DescriptionStyleModel",
          "model_module_version": "1.5.0",
          "state": {
            "_model_module": "@jupyter-widgets/controls",
            "_model_module_version": "1.5.0",
            "_model_name": "DescriptionStyleModel",
            "_view_count": null,
            "_view_module": "@jupyter-widgets/base",
            "_view_module_version": "1.2.0",
            "_view_name": "StyleView",
            "description_width": ""
          }
        },
        "71e4cdac21f949099a99758d536c3f52": {
          "model_module": "@jupyter-widgets/controls",
          "model_name": "HBoxModel",
          "model_module_version": "1.5.0",
          "state": {
            "_dom_classes": [],
            "_model_module": "@jupyter-widgets/controls",
            "_model_module_version": "1.5.0",
            "_model_name": "HBoxModel",
            "_view_count": null,
            "_view_module": "@jupyter-widgets/controls",
            "_view_module_version": "1.5.0",
            "_view_name": "HBoxView",
            "box_style": "",
            "children": [
              "IPY_MODEL_709091511b7c46fc814ee7894d0e5c37",
              "IPY_MODEL_ad04d2417acf486cb7f69a33caa08a68",
              "IPY_MODEL_931d781d0fca42cebc2ea18857a53a9b"
            ],
            "layout": "IPY_MODEL_ec34af27d6bd4301abc472cc89c224d8"
          }
        },
        "709091511b7c46fc814ee7894d0e5c37": {
          "model_module": "@jupyter-widgets/controls",
          "model_name": "HTMLModel",
          "model_module_version": "1.5.0",
          "state": {
            "_dom_classes": [],
            "_model_module": "@jupyter-widgets/controls",
            "_model_module_version": "1.5.0",
            "_model_name": "HTMLModel",
            "_view_count": null,
            "_view_module": "@jupyter-widgets/controls",
            "_view_module_version": "1.5.0",
            "_view_name": "HTMLView",
            "description": "",
            "description_tooltip": null,
            "layout": "IPY_MODEL_67abe8a1ceea4d139cd4fb87848e4a06",
            "placeholder": "​",
            "style": "IPY_MODEL_e61cb7281834402c8f6255e2b54a71d5",
            "value": "Downloading: 100%"
          }
        },
        "ad04d2417acf486cb7f69a33caa08a68": {
          "model_module": "@jupyter-widgets/controls",
          "model_name": "FloatProgressModel",
          "model_module_version": "1.5.0",
          "state": {
            "_dom_classes": [],
            "_model_module": "@jupyter-widgets/controls",
            "_model_module_version": "1.5.0",
            "_model_name": "FloatProgressModel",
            "_view_count": null,
            "_view_module": "@jupyter-widgets/controls",
            "_view_module_version": "1.5.0",
            "_view_name": "ProgressView",
            "bar_style": "success",
            "description": "",
            "description_tooltip": null,
            "layout": "IPY_MODEL_a2f3cb7021aa40cea4eb17c1f1cfdc85",
            "max": 231508,
            "min": 0,
            "orientation": "horizontal",
            "style": "IPY_MODEL_4a1250a383f946f9a6e0cc77bde60eac",
            "value": 231508
          }
        },
        "931d781d0fca42cebc2ea18857a53a9b": {
          "model_module": "@jupyter-widgets/controls",
          "model_name": "HTMLModel",
          "model_module_version": "1.5.0",
          "state": {
            "_dom_classes": [],
            "_model_module": "@jupyter-widgets/controls",
            "_model_module_version": "1.5.0",
            "_model_name": "HTMLModel",
            "_view_count": null,
            "_view_module": "@jupyter-widgets/controls",
            "_view_module_version": "1.5.0",
            "_view_name": "HTMLView",
            "description": "",
            "description_tooltip": null,
            "layout": "IPY_MODEL_9b8796a19a27473bac8f948639774190",
            "placeholder": "​",
            "style": "IPY_MODEL_26531041588c44828adfc7d4e9a935f4",
            "value": " 226k/226k [00:00&lt;00:00, 597kB/s]"
          }
        },
        "ec34af27d6bd4301abc472cc89c224d8": {
          "model_module": "@jupyter-widgets/base",
          "model_name": "LayoutModel",
          "model_module_version": "1.2.0",
          "state": {
            "_model_module": "@jupyter-widgets/base",
            "_model_module_version": "1.2.0",
            "_model_name": "LayoutModel",
            "_view_count": null,
            "_view_module": "@jupyter-widgets/base",
            "_view_module_version": "1.2.0",
            "_view_name": "LayoutView",
            "align_content": null,
            "align_items": null,
            "align_self": null,
            "border": null,
            "bottom": null,
            "display": null,
            "flex": null,
            "flex_flow": null,
            "grid_area": null,
            "grid_auto_columns": null,
            "grid_auto_flow": null,
            "grid_auto_rows": null,
            "grid_column": null,
            "grid_gap": null,
            "grid_row": null,
            "grid_template_areas": null,
            "grid_template_columns": null,
            "grid_template_rows": null,
            "height": null,
            "justify_content": null,
            "justify_items": null,
            "left": null,
            "margin": null,
            "max_height": null,
            "max_width": null,
            "min_height": null,
            "min_width": null,
            "object_fit": null,
            "object_position": null,
            "order": null,
            "overflow": null,
            "overflow_x": null,
            "overflow_y": null,
            "padding": null,
            "right": null,
            "top": null,
            "visibility": null,
            "width": null
          }
        },
        "67abe8a1ceea4d139cd4fb87848e4a06": {
          "model_module": "@jupyter-widgets/base",
          "model_name": "LayoutModel",
          "model_module_version": "1.2.0",
          "state": {
            "_model_module": "@jupyter-widgets/base",
            "_model_module_version": "1.2.0",
            "_model_name": "LayoutModel",
            "_view_count": null,
            "_view_module": "@jupyter-widgets/base",
            "_view_module_version": "1.2.0",
            "_view_name": "LayoutView",
            "align_content": null,
            "align_items": null,
            "align_self": null,
            "border": null,
            "bottom": null,
            "display": null,
            "flex": null,
            "flex_flow": null,
            "grid_area": null,
            "grid_auto_columns": null,
            "grid_auto_flow": null,
            "grid_auto_rows": null,
            "grid_column": null,
            "grid_gap": null,
            "grid_row": null,
            "grid_template_areas": null,
            "grid_template_columns": null,
            "grid_template_rows": null,
            "height": null,
            "justify_content": null,
            "justify_items": null,
            "left": null,
            "margin": null,
            "max_height": null,
            "max_width": null,
            "min_height": null,
            "min_width": null,
            "object_fit": null,
            "object_position": null,
            "order": null,
            "overflow": null,
            "overflow_x": null,
            "overflow_y": null,
            "padding": null,
            "right": null,
            "top": null,
            "visibility": null,
            "width": null
          }
        },
        "e61cb7281834402c8f6255e2b54a71d5": {
          "model_module": "@jupyter-widgets/controls",
          "model_name": "DescriptionStyleModel",
          "model_module_version": "1.5.0",
          "state": {
            "_model_module": "@jupyter-widgets/controls",
            "_model_module_version": "1.5.0",
            "_model_name": "DescriptionStyleModel",
            "_view_count": null,
            "_view_module": "@jupyter-widgets/base",
            "_view_module_version": "1.2.0",
            "_view_name": "StyleView",
            "description_width": ""
          }
        },
        "a2f3cb7021aa40cea4eb17c1f1cfdc85": {
          "model_module": "@jupyter-widgets/base",
          "model_name": "LayoutModel",
          "model_module_version": "1.2.0",
          "state": {
            "_model_module": "@jupyter-widgets/base",
            "_model_module_version": "1.2.0",
            "_model_name": "LayoutModel",
            "_view_count": null,
            "_view_module": "@jupyter-widgets/base",
            "_view_module_version": "1.2.0",
            "_view_name": "LayoutView",
            "align_content": null,
            "align_items": null,
            "align_self": null,
            "border": null,
            "bottom": null,
            "display": null,
            "flex": null,
            "flex_flow": null,
            "grid_area": null,
            "grid_auto_columns": null,
            "grid_auto_flow": null,
            "grid_auto_rows": null,
            "grid_column": null,
            "grid_gap": null,
            "grid_row": null,
            "grid_template_areas": null,
            "grid_template_columns": null,
            "grid_template_rows": null,
            "height": null,
            "justify_content": null,
            "justify_items": null,
            "left": null,
            "margin": null,
            "max_height": null,
            "max_width": null,
            "min_height": null,
            "min_width": null,
            "object_fit": null,
            "object_position": null,
            "order": null,
            "overflow": null,
            "overflow_x": null,
            "overflow_y": null,
            "padding": null,
            "right": null,
            "top": null,
            "visibility": null,
            "width": null
          }
        },
        "4a1250a383f946f9a6e0cc77bde60eac": {
          "model_module": "@jupyter-widgets/controls",
          "model_name": "ProgressStyleModel",
          "model_module_version": "1.5.0",
          "state": {
            "_model_module": "@jupyter-widgets/controls",
            "_model_module_version": "1.5.0",
            "_model_name": "ProgressStyleModel",
            "_view_count": null,
            "_view_module": "@jupyter-widgets/base",
            "_view_module_version": "1.2.0",
            "_view_name": "StyleView",
            "bar_color": null,
            "description_width": ""
          }
        },
        "9b8796a19a27473bac8f948639774190": {
          "model_module": "@jupyter-widgets/base",
          "model_name": "LayoutModel",
          "model_module_version": "1.2.0",
          "state": {
            "_model_module": "@jupyter-widgets/base",
            "_model_module_version": "1.2.0",
            "_model_name": "LayoutModel",
            "_view_count": null,
            "_view_module": "@jupyter-widgets/base",
            "_view_module_version": "1.2.0",
            "_view_name": "LayoutView",
            "align_content": null,
            "align_items": null,
            "align_self": null,
            "border": null,
            "bottom": null,
            "display": null,
            "flex": null,
            "flex_flow": null,
            "grid_area": null,
            "grid_auto_columns": null,
            "grid_auto_flow": null,
            "grid_auto_rows": null,
            "grid_column": null,
            "grid_gap": null,
            "grid_row": null,
            "grid_template_areas": null,
            "grid_template_columns": null,
            "grid_template_rows": null,
            "height": null,
            "justify_content": null,
            "justify_items": null,
            "left": null,
            "margin": null,
            "max_height": null,
            "max_width": null,
            "min_height": null,
            "min_width": null,
            "object_fit": null,
            "object_position": null,
            "order": null,
            "overflow": null,
            "overflow_x": null,
            "overflow_y": null,
            "padding": null,
            "right": null,
            "top": null,
            "visibility": null,
            "width": null
          }
        },
        "26531041588c44828adfc7d4e9a935f4": {
          "model_module": "@jupyter-widgets/controls",
          "model_name": "DescriptionStyleModel",
          "model_module_version": "1.5.0",
          "state": {
            "_model_module": "@jupyter-widgets/controls",
            "_model_module_version": "1.5.0",
            "_model_name": "DescriptionStyleModel",
            "_view_count": null,
            "_view_module": "@jupyter-widgets/base",
            "_view_module_version": "1.2.0",
            "_view_name": "StyleView",
            "description_width": ""
          }
        },
        "2f9381cc55c042f69223cde5d3842b81": {
          "model_module": "@jupyter-widgets/controls",
          "model_name": "HBoxModel",
          "model_module_version": "1.5.0",
          "state": {
            "_dom_classes": [],
            "_model_module": "@jupyter-widgets/controls",
            "_model_module_version": "1.5.0",
            "_model_name": "HBoxModel",
            "_view_count": null,
            "_view_module": "@jupyter-widgets/controls",
            "_view_module_version": "1.5.0",
            "_view_name": "HBoxView",
            "box_style": "",
            "children": [
              "IPY_MODEL_7e2b3bc9d7dd4ba69069b6d1986723b3",
              "IPY_MODEL_d73ee8791b8a4057884f9a1baa9f7ac8",
              "IPY_MODEL_bc4c02a2f9f14e0ca09422225ad451c9"
            ],
            "layout": "IPY_MODEL_bbe76834e7d34549a46ea417695e8f49"
          }
        },
        "7e2b3bc9d7dd4ba69069b6d1986723b3": {
          "model_module": "@jupyter-widgets/controls",
          "model_name": "HTMLModel",
          "model_module_version": "1.5.0",
          "state": {
            "_dom_classes": [],
            "_model_module": "@jupyter-widgets/controls",
            "_model_module_version": "1.5.0",
            "_model_name": "HTMLModel",
            "_view_count": null,
            "_view_module": "@jupyter-widgets/controls",
            "_view_module_version": "1.5.0",
            "_view_name": "HTMLView",
            "description": "",
            "description_tooltip": null,
            "layout": "IPY_MODEL_23930eb578f44a9ca7b4eea843b11e35",
            "placeholder": "​",
            "style": "IPY_MODEL_f01719f7a6ec4291949c96b7b9684286",
            "value": "Downloading: 100%"
          }
        },
        "d73ee8791b8a4057884f9a1baa9f7ac8": {
          "model_module": "@jupyter-widgets/controls",
          "model_name": "FloatProgressModel",
          "model_module_version": "1.5.0",
          "state": {
            "_dom_classes": [],
            "_model_module": "@jupyter-widgets/controls",
            "_model_module_version": "1.5.0",
            "_model_name": "FloatProgressModel",
            "_view_count": null,
            "_view_module": "@jupyter-widgets/controls",
            "_view_module_version": "1.5.0",
            "_view_name": "ProgressView",
            "bar_style": "success",
            "description": "",
            "description_tooltip": null,
            "layout": "IPY_MODEL_48f336ee8c6d4489b10350ad0ac3a351",
            "max": 435676663,
            "min": 0,
            "orientation": "horizontal",
            "style": "IPY_MODEL_dfb2da9e77924f969731d372ea4440a8",
            "value": 435676663
          }
        },
        "bc4c02a2f9f14e0ca09422225ad451c9": {
          "model_module": "@jupyter-widgets/controls",
          "model_name": "HTMLModel",
          "model_module_version": "1.5.0",
          "state": {
            "_dom_classes": [],
            "_model_module": "@jupyter-widgets/controls",
            "_model_module_version": "1.5.0",
            "_model_name": "HTMLModel",
            "_view_count": null,
            "_view_module": "@jupyter-widgets/controls",
            "_view_module_version": "1.5.0",
            "_view_name": "HTMLView",
            "description": "",
            "description_tooltip": null,
            "layout": "IPY_MODEL_a751298a96ef4fe8b9674fc9afef93c5",
            "placeholder": "​",
            "style": "IPY_MODEL_e78a444ae1474367a4405ea7accf9e66",
            "value": " 415M/415M [00:06&lt;00:00, 66.0MB/s]"
          }
        },
        "bbe76834e7d34549a46ea417695e8f49": {
          "model_module": "@jupyter-widgets/base",
          "model_name": "LayoutModel",
          "model_module_version": "1.2.0",
          "state": {
            "_model_module": "@jupyter-widgets/base",
            "_model_module_version": "1.2.0",
            "_model_name": "LayoutModel",
            "_view_count": null,
            "_view_module": "@jupyter-widgets/base",
            "_view_module_version": "1.2.0",
            "_view_name": "LayoutView",
            "align_content": null,
            "align_items": null,
            "align_self": null,
            "border": null,
            "bottom": null,
            "display": null,
            "flex": null,
            "flex_flow": null,
            "grid_area": null,
            "grid_auto_columns": null,
            "grid_auto_flow": null,
            "grid_auto_rows": null,
            "grid_column": null,
            "grid_gap": null,
            "grid_row": null,
            "grid_template_areas": null,
            "grid_template_columns": null,
            "grid_template_rows": null,
            "height": null,
            "justify_content": null,
            "justify_items": null,
            "left": null,
            "margin": null,
            "max_height": null,
            "max_width": null,
            "min_height": null,
            "min_width": null,
            "object_fit": null,
            "object_position": null,
            "order": null,
            "overflow": null,
            "overflow_x": null,
            "overflow_y": null,
            "padding": null,
            "right": null,
            "top": null,
            "visibility": null,
            "width": null
          }
        },
        "23930eb578f44a9ca7b4eea843b11e35": {
          "model_module": "@jupyter-widgets/base",
          "model_name": "LayoutModel",
          "model_module_version": "1.2.0",
          "state": {
            "_model_module": "@jupyter-widgets/base",
            "_model_module_version": "1.2.0",
            "_model_name": "LayoutModel",
            "_view_count": null,
            "_view_module": "@jupyter-widgets/base",
            "_view_module_version": "1.2.0",
            "_view_name": "LayoutView",
            "align_content": null,
            "align_items": null,
            "align_self": null,
            "border": null,
            "bottom": null,
            "display": null,
            "flex": null,
            "flex_flow": null,
            "grid_area": null,
            "grid_auto_columns": null,
            "grid_auto_flow": null,
            "grid_auto_rows": null,
            "grid_column": null,
            "grid_gap": null,
            "grid_row": null,
            "grid_template_areas": null,
            "grid_template_columns": null,
            "grid_template_rows": null,
            "height": null,
            "justify_content": null,
            "justify_items": null,
            "left": null,
            "margin": null,
            "max_height": null,
            "max_width": null,
            "min_height": null,
            "min_width": null,
            "object_fit": null,
            "object_position": null,
            "order": null,
            "overflow": null,
            "overflow_x": null,
            "overflow_y": null,
            "padding": null,
            "right": null,
            "top": null,
            "visibility": null,
            "width": null
          }
        },
        "f01719f7a6ec4291949c96b7b9684286": {
          "model_module": "@jupyter-widgets/controls",
          "model_name": "DescriptionStyleModel",
          "model_module_version": "1.5.0",
          "state": {
            "_model_module": "@jupyter-widgets/controls",
            "_model_module_version": "1.5.0",
            "_model_name": "DescriptionStyleModel",
            "_view_count": null,
            "_view_module": "@jupyter-widgets/base",
            "_view_module_version": "1.2.0",
            "_view_name": "StyleView",
            "description_width": ""
          }
        },
        "48f336ee8c6d4489b10350ad0ac3a351": {
          "model_module": "@jupyter-widgets/base",
          "model_name": "LayoutModel",
          "model_module_version": "1.2.0",
          "state": {
            "_model_module": "@jupyter-widgets/base",
            "_model_module_version": "1.2.0",
            "_model_name": "LayoutModel",
            "_view_count": null,
            "_view_module": "@jupyter-widgets/base",
            "_view_module_version": "1.2.0",
            "_view_name": "LayoutView",
            "align_content": null,
            "align_items": null,
            "align_self": null,
            "border": null,
            "bottom": null,
            "display": null,
            "flex": null,
            "flex_flow": null,
            "grid_area": null,
            "grid_auto_columns": null,
            "grid_auto_flow": null,
            "grid_auto_rows": null,
            "grid_column": null,
            "grid_gap": null,
            "grid_row": null,
            "grid_template_areas": null,
            "grid_template_columns": null,
            "grid_template_rows": null,
            "height": null,
            "justify_content": null,
            "justify_items": null,
            "left": null,
            "margin": null,
            "max_height": null,
            "max_width": null,
            "min_height": null,
            "min_width": null,
            "object_fit": null,
            "object_position": null,
            "order": null,
            "overflow": null,
            "overflow_x": null,
            "overflow_y": null,
            "padding": null,
            "right": null,
            "top": null,
            "visibility": null,
            "width": null
          }
        },
        "dfb2da9e77924f969731d372ea4440a8": {
          "model_module": "@jupyter-widgets/controls",
          "model_name": "ProgressStyleModel",
          "model_module_version": "1.5.0",
          "state": {
            "_model_module": "@jupyter-widgets/controls",
            "_model_module_version": "1.5.0",
            "_model_name": "ProgressStyleModel",
            "_view_count": null,
            "_view_module": "@jupyter-widgets/base",
            "_view_module_version": "1.2.0",
            "_view_name": "StyleView",
            "bar_color": null,
            "description_width": ""
          }
        },
        "a751298a96ef4fe8b9674fc9afef93c5": {
          "model_module": "@jupyter-widgets/base",
          "model_name": "LayoutModel",
          "model_module_version": "1.2.0",
          "state": {
            "_model_module": "@jupyter-widgets/base",
            "_model_module_version": "1.2.0",
            "_model_name": "LayoutModel",
            "_view_count": null,
            "_view_module": "@jupyter-widgets/base",
            "_view_module_version": "1.2.0",
            "_view_name": "LayoutView",
            "align_content": null,
            "align_items": null,
            "align_self": null,
            "border": null,
            "bottom": null,
            "display": null,
            "flex": null,
            "flex_flow": null,
            "grid_area": null,
            "grid_auto_columns": null,
            "grid_auto_flow": null,
            "grid_auto_rows": null,
            "grid_column": null,
            "grid_gap": null,
            "grid_row": null,
            "grid_template_areas": null,
            "grid_template_columns": null,
            "grid_template_rows": null,
            "height": null,
            "justify_content": null,
            "justify_items": null,
            "left": null,
            "margin": null,
            "max_height": null,
            "max_width": null,
            "min_height": null,
            "min_width": null,
            "object_fit": null,
            "object_position": null,
            "order": null,
            "overflow": null,
            "overflow_x": null,
            "overflow_y": null,
            "padding": null,
            "right": null,
            "top": null,
            "visibility": null,
            "width": null
          }
        },
        "e78a444ae1474367a4405ea7accf9e66": {
          "model_module": "@jupyter-widgets/controls",
          "model_name": "DescriptionStyleModel",
          "model_module_version": "1.5.0",
          "state": {
            "_model_module": "@jupyter-widgets/controls",
            "_model_module_version": "1.5.0",
            "_model_name": "DescriptionStyleModel",
            "_view_count": null,
            "_view_module": "@jupyter-widgets/base",
            "_view_module_version": "1.2.0",
            "_view_name": "StyleView",
            "description_width": ""
          }
        }
      }
    }
  },
  "nbformat": 4,
  "nbformat_minor": 0
}