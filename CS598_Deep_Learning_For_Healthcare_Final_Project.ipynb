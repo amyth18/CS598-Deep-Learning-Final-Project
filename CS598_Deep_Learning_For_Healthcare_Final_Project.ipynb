{
  "cells": [
    {
      "cell_type": "markdown",
      "metadata": {
        "id": "view-in-github",
        "colab_type": "text"
      },
      "source": [
        "<a href=\"https://colab.research.google.com/github/amyth18/CS598-Deep-Learning-Final-Project/blob/main/CS598_Deep_Learning_For_Healthcare_Final_Project.ipynb\" target=\"_parent\"><img src=\"https://colab.research.google.com/assets/colab-badge.svg\" alt=\"Open In Colab\"/></a>"
      ]
    },
    {
      "cell_type": "code",
      "source": [
        "! pip install gensim --upgrade"
      ],
      "metadata": {
        "id": "EHtTRNjY6fjL",
        "outputId": "e40ad3c8-c639-48a2-b4c5-8f04a5c604fe",
        "colab": {
          "base_uri": "https://localhost:8080/"
        }
      },
      "execution_count": 29,
      "outputs": [
        {
          "output_type": "stream",
          "name": "stdout",
          "text": [
            "Requirement already satisfied: gensim in /usr/local/lib/python3.7/dist-packages (4.1.2)\n",
            "Requirement already satisfied: scipy>=0.18.1 in /usr/local/lib/python3.7/dist-packages (from gensim) (1.4.1)\n",
            "Requirement already satisfied: numpy>=1.17.0 in /usr/local/lib/python3.7/dist-packages (from gensim) (1.21.5)\n",
            "Requirement already satisfied: smart-open>=1.8.1 in /usr/local/lib/python3.7/dist-packages (from gensim) (5.2.1)\n"
          ]
        }
      ]
    },
    {
      "cell_type": "code",
      "source": [
        "import pandas as pd"
      ],
      "metadata": {
        "id": "yZM4PBDMRCc_"
      },
      "execution_count": 30,
      "outputs": []
    },
    {
      "cell_type": "code",
      "execution_count": 31,
      "metadata": {
        "colab": {
          "base_uri": "https://localhost:8080/"
        },
        "id": "tFlP8qR9EAEW",
        "outputId": "c86da171-9a69-409d-f03d-378078fb829e"
      },
      "outputs": [
        {
          "output_type": "stream",
          "name": "stdout",
          "text": [
            "Drive already mounted at /content/drive; to attempt to forcibly remount, call drive.mount(\"/content/drive\", force_remount=True).\n"
          ]
        }
      ],
      "source": [
        "from google.colab import drive\n",
        "drive.mount(\"/content/drive\")"
      ]
    },
    {
      "cell_type": "markdown",
      "metadata": {
        "id": "bZrO8Ao004k3"
      },
      "source": [
        "# Load Data"
      ]
    },
    {
      "cell_type": "code",
      "execution_count": 32,
      "metadata": {
        "colab": {
          "base_uri": "https://localhost:8080/"
        },
        "id": "pcubO8rgEqXh",
        "outputId": "804fb7ce-c952-43ef-b203-d888a4754b95"
      },
      "outputs": [
        {
          "output_type": "stream",
          "name": "stderr",
          "text": [
            "/usr/local/lib/python3.7/dist-packages/IPython/core/interactiveshell.py:2882: DtypeWarning: Columns (4,5) have mixed types.Specify dtype option on import or set low_memory=False.\n",
            "  exec(code_obj, self.user_global_ns, self.user_ns)\n"
          ]
        }
      ],
      "source": [
        "# read data\n",
        "df = pd.read_csv(\"/content/drive/My Drive/DLH Final Project/mimic3/NOTEEVENTS.csv\")"
      ]
    },
    {
      "cell_type": "code",
      "execution_count": 33,
      "metadata": {
        "id": "hpdFCQQNhsBr",
        "colab": {
          "base_uri": "https://localhost:8080/",
          "height": 295
        },
        "outputId": "a92ccd6b-b90f-405c-d7d8-22a3c8356897"
      },
      "outputs": [
        {
          "output_type": "execute_result",
          "data": {
            "text/plain": [
              "   ROW_ID  SUBJECT_ID   HADM_ID   CHARTDATE CHARTTIME STORETIME  \\\n",
              "0     174       22532  167853.0  2151-08-04       NaN       NaN   \n",
              "1     175       13702  107527.0  2118-06-14       NaN       NaN   \n",
              "\n",
              "            CATEGORY DESCRIPTION  CGID  ISERROR  \\\n",
              "0  Discharge summary      Report   NaN      NaN   \n",
              "1  Discharge summary      Report   NaN      NaN   \n",
              "\n",
              "                                                TEXT  \n",
              "0  Admission Date:  [**2151-7-16**]       Dischar...  \n",
              "1  Admission Date:  [**2118-6-2**]       Discharg...  "
            ],
            "text/html": [
              "\n",
              "  <div id=\"df-d87c8339-ac15-4940-b933-11e8a732fddf\">\n",
              "    <div class=\"colab-df-container\">\n",
              "      <div>\n",
              "<style scoped>\n",
              "    .dataframe tbody tr th:only-of-type {\n",
              "        vertical-align: middle;\n",
              "    }\n",
              "\n",
              "    .dataframe tbody tr th {\n",
              "        vertical-align: top;\n",
              "    }\n",
              "\n",
              "    .dataframe thead th {\n",
              "        text-align: right;\n",
              "    }\n",
              "</style>\n",
              "<table border=\"1\" class=\"dataframe\">\n",
              "  <thead>\n",
              "    <tr style=\"text-align: right;\">\n",
              "      <th></th>\n",
              "      <th>ROW_ID</th>\n",
              "      <th>SUBJECT_ID</th>\n",
              "      <th>HADM_ID</th>\n",
              "      <th>CHARTDATE</th>\n",
              "      <th>CHARTTIME</th>\n",
              "      <th>STORETIME</th>\n",
              "      <th>CATEGORY</th>\n",
              "      <th>DESCRIPTION</th>\n",
              "      <th>CGID</th>\n",
              "      <th>ISERROR</th>\n",
              "      <th>TEXT</th>\n",
              "    </tr>\n",
              "  </thead>\n",
              "  <tbody>\n",
              "    <tr>\n",
              "      <th>0</th>\n",
              "      <td>174</td>\n",
              "      <td>22532</td>\n",
              "      <td>167853.0</td>\n",
              "      <td>2151-08-04</td>\n",
              "      <td>NaN</td>\n",
              "      <td>NaN</td>\n",
              "      <td>Discharge summary</td>\n",
              "      <td>Report</td>\n",
              "      <td>NaN</td>\n",
              "      <td>NaN</td>\n",
              "      <td>Admission Date:  [**2151-7-16**]       Dischar...</td>\n",
              "    </tr>\n",
              "    <tr>\n",
              "      <th>1</th>\n",
              "      <td>175</td>\n",
              "      <td>13702</td>\n",
              "      <td>107527.0</td>\n",
              "      <td>2118-06-14</td>\n",
              "      <td>NaN</td>\n",
              "      <td>NaN</td>\n",
              "      <td>Discharge summary</td>\n",
              "      <td>Report</td>\n",
              "      <td>NaN</td>\n",
              "      <td>NaN</td>\n",
              "      <td>Admission Date:  [**2118-6-2**]       Discharg...</td>\n",
              "    </tr>\n",
              "  </tbody>\n",
              "</table>\n",
              "</div>\n",
              "      <button class=\"colab-df-convert\" onclick=\"convertToInteractive('df-d87c8339-ac15-4940-b933-11e8a732fddf')\"\n",
              "              title=\"Convert this dataframe to an interactive table.\"\n",
              "              style=\"display:none;\">\n",
              "        \n",
              "  <svg xmlns=\"http://www.w3.org/2000/svg\" height=\"24px\"viewBox=\"0 0 24 24\"\n",
              "       width=\"24px\">\n",
              "    <path d=\"M0 0h24v24H0V0z\" fill=\"none\"/>\n",
              "    <path d=\"M18.56 5.44l.94 2.06.94-2.06 2.06-.94-2.06-.94-.94-2.06-.94 2.06-2.06.94zm-11 1L8.5 8.5l.94-2.06 2.06-.94-2.06-.94L8.5 2.5l-.94 2.06-2.06.94zm10 10l.94 2.06.94-2.06 2.06-.94-2.06-.94-.94-2.06-.94 2.06-2.06.94z\"/><path d=\"M17.41 7.96l-1.37-1.37c-.4-.4-.92-.59-1.43-.59-.52 0-1.04.2-1.43.59L10.3 9.45l-7.72 7.72c-.78.78-.78 2.05 0 2.83L4 21.41c.39.39.9.59 1.41.59.51 0 1.02-.2 1.41-.59l7.78-7.78 2.81-2.81c.8-.78.8-2.07 0-2.86zM5.41 20L4 18.59l7.72-7.72 1.47 1.35L5.41 20z\"/>\n",
              "  </svg>\n",
              "      </button>\n",
              "      \n",
              "  <style>\n",
              "    .colab-df-container {\n",
              "      display:flex;\n",
              "      flex-wrap:wrap;\n",
              "      gap: 12px;\n",
              "    }\n",
              "\n",
              "    .colab-df-convert {\n",
              "      background-color: #E8F0FE;\n",
              "      border: none;\n",
              "      border-radius: 50%;\n",
              "      cursor: pointer;\n",
              "      display: none;\n",
              "      fill: #1967D2;\n",
              "      height: 32px;\n",
              "      padding: 0 0 0 0;\n",
              "      width: 32px;\n",
              "    }\n",
              "\n",
              "    .colab-df-convert:hover {\n",
              "      background-color: #E2EBFA;\n",
              "      box-shadow: 0px 1px 2px rgba(60, 64, 67, 0.3), 0px 1px 3px 1px rgba(60, 64, 67, 0.15);\n",
              "      fill: #174EA6;\n",
              "    }\n",
              "\n",
              "    [theme=dark] .colab-df-convert {\n",
              "      background-color: #3B4455;\n",
              "      fill: #D2E3FC;\n",
              "    }\n",
              "\n",
              "    [theme=dark] .colab-df-convert:hover {\n",
              "      background-color: #434B5C;\n",
              "      box-shadow: 0px 1px 3px 1px rgba(0, 0, 0, 0.15);\n",
              "      filter: drop-shadow(0px 1px 2px rgba(0, 0, 0, 0.3));\n",
              "      fill: #FFFFFF;\n",
              "    }\n",
              "  </style>\n",
              "\n",
              "      <script>\n",
              "        const buttonEl =\n",
              "          document.querySelector('#df-d87c8339-ac15-4940-b933-11e8a732fddf button.colab-df-convert');\n",
              "        buttonEl.style.display =\n",
              "          google.colab.kernel.accessAllowed ? 'block' : 'none';\n",
              "\n",
              "        async function convertToInteractive(key) {\n",
              "          const element = document.querySelector('#df-d87c8339-ac15-4940-b933-11e8a732fddf');\n",
              "          const dataTable =\n",
              "            await google.colab.kernel.invokeFunction('convertToInteractive',\n",
              "                                                     [key], {});\n",
              "          if (!dataTable) return;\n",
              "\n",
              "          const docLinkHtml = 'Like what you see? Visit the ' +\n",
              "            '<a target=\"_blank\" href=https://colab.research.google.com/notebooks/data_table.ipynb>data table notebook</a>'\n",
              "            + ' to learn more about interactive tables.';\n",
              "          element.innerHTML = '';\n",
              "          dataTable['output_type'] = 'display_data';\n",
              "          await google.colab.output.renderOutput(dataTable, element);\n",
              "          const docLink = document.createElement('div');\n",
              "          docLink.innerHTML = docLinkHtml;\n",
              "          element.appendChild(docLink);\n",
              "        }\n",
              "      </script>\n",
              "    </div>\n",
              "  </div>\n",
              "  "
            ]
          },
          "metadata": {},
          "execution_count": 33
        }
      ],
      "source": [
        "df.head(2)"
      ]
    },
    {
      "cell_type": "markdown",
      "metadata": {
        "id": "ASN9TUHWgnz7"
      },
      "source": [
        "# Data Preprocessing\n",
        "Need to focus on 2 tables\n",
        "1. NOTESEVENTS.csv\n",
        "2. DIAGNOSES_ICD.csv\n",
        "\n",
        "Join tables by <subject_id, hadm_id>\n",
        "\n",
        "Construct 2 datasets from \"TEXT\" field in NOTESEVENTS.csv for each <subject_id, hadm_id> pair (i.e discharge summary for that admission.)\n",
        "\n",
        "X1, y and X2, y\n",
        "x1 = sequence of vectors from word2vec \n",
        "x2 = sequence of vectors from tf-idf\n",
        "y = list of icd codes for <subject_id, hadm_id> i.e. diagnosis maded in ICU admission.\n",
        "\n",
        "Need to focus on 50 and 100 most commonly diagnosed diseases.\n",
        "\n",
        "## Common data preprocessing\n",
        "1. Use NLTK + MetaMap to extract only the symptom related entities (how to use MetaMap is unknown atm.)\n",
        "\n",
        "2. Filter out sections in discharge summaries that are related to symptoms only, ignore others to speed up things.\n",
        "\n",
        "3. Negative filters (e.g. \"no sign of breath problem\").\n",
        "\n",
        "## Data processing for X1 (Word2Vec)\n",
        "1. Generate Word2Vec embeddings (currently using Gensim) using \"TEXT\".\n",
        "\n",
        "## Data processing for X2 (TF-IDF)\n",
        "1. Generate TF-IDF vector for each symptom entity.\n",
        "\n",
        "## Data processing for y\n",
        "1. multi-hot encoding?\n",
        " \n",
        "\n",
        "\n"
      ]
    },
    {
      "cell_type": "code",
      "execution_count": 34,
      "metadata": {
        "id": "TV7TblwfIxta",
        "colab": {
          "base_uri": "https://localhost:8080/"
        },
        "outputId": "f846e084-175c-49ba-96e1-6c890c267e2f"
      },
      "outputs": [
        {
          "output_type": "stream",
          "name": "stdout",
          "text": [
            "[nltk_data] Downloading package stopwords to /root/nltk_data...\n",
            "[nltk_data]   Package stopwords is already up-to-date!\n"
          ]
        }
      ],
      "source": [
        "import re\n",
        "import nltk\n",
        "\n",
        "from nltk.corpus import stopwords\n",
        "nltk.download('stopwords')\n",
        "\n",
        "eng_stop_words =  stopwords.words('english')\n",
        "\n",
        "class MySentences(object):\n",
        "    def __init__(self, dframe):\n",
        "        self.dframe = dframe\n",
        "    \n",
        "    # TODO: Keeping only alpha numeric characters and spaces for now.\n",
        "    # need to make this better. Find some good libraries.\n",
        "    def sanitize_text(self, text):\n",
        "      test = text.strip()\n",
        "      text = re.sub(r'\\s\\s+', ' ', text)\n",
        "      text = re.sub(r'[^a-zA-z0-9\\/\\.\\?\\!\\s;,\\'\\-]', '', text)\n",
        "      text = re.sub(r'[\\.\\-\\/\\?\\!;,]', ' ', text)\n",
        "      text = re.sub(r'[\\[\\]]', '', text)\n",
        "      return text\n",
        "\n",
        "    # TODO: adding some basic checks again need to make it better.\n",
        "    def sanitize_words(self, sentence):\n",
        "      return [w for w in sentence if w not in eng_stop_words and not w.isdigit()]\n",
        "\n",
        "    def __iter__(self):\n",
        "        for idx in range(len(self.dframe)):\n",
        "          text = self.sanitize_text(self.dframe[\"TEXT\"][idx])\n",
        "          yield self.sanitize_words(text.split())"
      ]
    },
    {
      "cell_type": "code",
      "source": [
        "df_icd_codes = pd.read_csv(\"/content/drive/My Drive/DLH Final Project/mimic3/DIAGNOSES_ICD.csv\")"
      ],
      "metadata": {
        "id": "0DQMAoiAPJyh"
      },
      "execution_count": 35,
      "outputs": []
    },
    {
      "cell_type": "code",
      "source": [
        "df_icd_codes.head(2)"
      ],
      "metadata": {
        "colab": {
          "base_uri": "https://localhost:8080/",
          "height": 112
        },
        "id": "jSOWw_j0Pjbm",
        "outputId": "1260e26d-9523-44f0-ff76-8664754989f4"
      },
      "execution_count": 36,
      "outputs": [
        {
          "output_type": "execute_result",
          "data": {
            "text/plain": [
              "   ROW_ID  SUBJECT_ID  HADM_ID  SEQ_NUM ICD9_CODE\n",
              "0    1297         109   172335      1.0     40301\n",
              "1    1298         109   172335      2.0       486"
            ],
            "text/html": [
              "\n",
              "  <div id=\"df-6f4440de-0483-4247-9ea1-d31b06357655\">\n",
              "    <div class=\"colab-df-container\">\n",
              "      <div>\n",
              "<style scoped>\n",
              "    .dataframe tbody tr th:only-of-type {\n",
              "        vertical-align: middle;\n",
              "    }\n",
              "\n",
              "    .dataframe tbody tr th {\n",
              "        vertical-align: top;\n",
              "    }\n",
              "\n",
              "    .dataframe thead th {\n",
              "        text-align: right;\n",
              "    }\n",
              "</style>\n",
              "<table border=\"1\" class=\"dataframe\">\n",
              "  <thead>\n",
              "    <tr style=\"text-align: right;\">\n",
              "      <th></th>\n",
              "      <th>ROW_ID</th>\n",
              "      <th>SUBJECT_ID</th>\n",
              "      <th>HADM_ID</th>\n",
              "      <th>SEQ_NUM</th>\n",
              "      <th>ICD9_CODE</th>\n",
              "    </tr>\n",
              "  </thead>\n",
              "  <tbody>\n",
              "    <tr>\n",
              "      <th>0</th>\n",
              "      <td>1297</td>\n",
              "      <td>109</td>\n",
              "      <td>172335</td>\n",
              "      <td>1.0</td>\n",
              "      <td>40301</td>\n",
              "    </tr>\n",
              "    <tr>\n",
              "      <th>1</th>\n",
              "      <td>1298</td>\n",
              "      <td>109</td>\n",
              "      <td>172335</td>\n",
              "      <td>2.0</td>\n",
              "      <td>486</td>\n",
              "    </tr>\n",
              "  </tbody>\n",
              "</table>\n",
              "</div>\n",
              "      <button class=\"colab-df-convert\" onclick=\"convertToInteractive('df-6f4440de-0483-4247-9ea1-d31b06357655')\"\n",
              "              title=\"Convert this dataframe to an interactive table.\"\n",
              "              style=\"display:none;\">\n",
              "        \n",
              "  <svg xmlns=\"http://www.w3.org/2000/svg\" height=\"24px\"viewBox=\"0 0 24 24\"\n",
              "       width=\"24px\">\n",
              "    <path d=\"M0 0h24v24H0V0z\" fill=\"none\"/>\n",
              "    <path d=\"M18.56 5.44l.94 2.06.94-2.06 2.06-.94-2.06-.94-.94-2.06-.94 2.06-2.06.94zm-11 1L8.5 8.5l.94-2.06 2.06-.94-2.06-.94L8.5 2.5l-.94 2.06-2.06.94zm10 10l.94 2.06.94-2.06 2.06-.94-2.06-.94-.94-2.06-.94 2.06-2.06.94z\"/><path d=\"M17.41 7.96l-1.37-1.37c-.4-.4-.92-.59-1.43-.59-.52 0-1.04.2-1.43.59L10.3 9.45l-7.72 7.72c-.78.78-.78 2.05 0 2.83L4 21.41c.39.39.9.59 1.41.59.51 0 1.02-.2 1.41-.59l7.78-7.78 2.81-2.81c.8-.78.8-2.07 0-2.86zM5.41 20L4 18.59l7.72-7.72 1.47 1.35L5.41 20z\"/>\n",
              "  </svg>\n",
              "      </button>\n",
              "      \n",
              "  <style>\n",
              "    .colab-df-container {\n",
              "      display:flex;\n",
              "      flex-wrap:wrap;\n",
              "      gap: 12px;\n",
              "    }\n",
              "\n",
              "    .colab-df-convert {\n",
              "      background-color: #E8F0FE;\n",
              "      border: none;\n",
              "      border-radius: 50%;\n",
              "      cursor: pointer;\n",
              "      display: none;\n",
              "      fill: #1967D2;\n",
              "      height: 32px;\n",
              "      padding: 0 0 0 0;\n",
              "      width: 32px;\n",
              "    }\n",
              "\n",
              "    .colab-df-convert:hover {\n",
              "      background-color: #E2EBFA;\n",
              "      box-shadow: 0px 1px 2px rgba(60, 64, 67, 0.3), 0px 1px 3px 1px rgba(60, 64, 67, 0.15);\n",
              "      fill: #174EA6;\n",
              "    }\n",
              "\n",
              "    [theme=dark] .colab-df-convert {\n",
              "      background-color: #3B4455;\n",
              "      fill: #D2E3FC;\n",
              "    }\n",
              "\n",
              "    [theme=dark] .colab-df-convert:hover {\n",
              "      background-color: #434B5C;\n",
              "      box-shadow: 0px 1px 3px 1px rgba(0, 0, 0, 0.15);\n",
              "      filter: drop-shadow(0px 1px 2px rgba(0, 0, 0, 0.3));\n",
              "      fill: #FFFFFF;\n",
              "    }\n",
              "  </style>\n",
              "\n",
              "      <script>\n",
              "        const buttonEl =\n",
              "          document.querySelector('#df-6f4440de-0483-4247-9ea1-d31b06357655 button.colab-df-convert');\n",
              "        buttonEl.style.display =\n",
              "          google.colab.kernel.accessAllowed ? 'block' : 'none';\n",
              "\n",
              "        async function convertToInteractive(key) {\n",
              "          const element = document.querySelector('#df-6f4440de-0483-4247-9ea1-d31b06357655');\n",
              "          const dataTable =\n",
              "            await google.colab.kernel.invokeFunction('convertToInteractive',\n",
              "                                                     [key], {});\n",
              "          if (!dataTable) return;\n",
              "\n",
              "          const docLinkHtml = 'Like what you see? Visit the ' +\n",
              "            '<a target=\"_blank\" href=https://colab.research.google.com/notebooks/data_table.ipynb>data table notebook</a>'\n",
              "            + ' to learn more about interactive tables.';\n",
              "          element.innerHTML = '';\n",
              "          dataTable['output_type'] = 'display_data';\n",
              "          await google.colab.output.renderOutput(dataTable, element);\n",
              "          const docLink = document.createElement('div');\n",
              "          docLink.innerHTML = docLinkHtml;\n",
              "          element.appendChild(docLink);\n",
              "        }\n",
              "      </script>\n",
              "    </div>\n",
              "  </div>\n",
              "  "
            ]
          },
          "metadata": {},
          "execution_count": 36
        }
      ]
    },
    {
      "cell_type": "code",
      "source": [
        "counts = df_icd_codes[\"ICD9_CODE\"].value_counts().head(50)\n",
        "top_icd_codes = counts.index.to_list()\n",
        "df_admissions_with_top_diseases = df_icd_codes[df_icd_codes[\"ICD9_CODE\"].isin(top_icd_codes)]\n",
        "df_unique_admissions_with_top_diseases = df_admissions_with_top_diseases[[\"SUBJECT_ID\", \"HADM_ID\"]].drop_duplicates()"
      ],
      "metadata": {
        "id": "jNY4o2-_PsJD"
      },
      "execution_count": 37,
      "outputs": []
    },
    {
      "cell_type": "code",
      "source": [
        "len(df_unique_admissions_with_top_diseases)"
      ],
      "metadata": {
        "colab": {
          "base_uri": "https://localhost:8080/"
        },
        "id": "BwGkNFoe2Zku",
        "outputId": "d7a71bc4-125f-4d5e-947a-006eb59429d0"
      },
      "execution_count": 38,
      "outputs": [
        {
          "output_type": "execute_result",
          "data": {
            "text/plain": [
              "55078"
            ]
          },
          "metadata": {},
          "execution_count": 38
        }
      ]
    },
    {
      "cell_type": "code",
      "source": [
        "filtered_df = pd.merge(df, df_unique_admissions_with_top_diseases, on=[\"SUBJECT_ID\", \"HADM_ID\"])"
      ],
      "metadata": {
        "id": "BGIpZW0wfKaO"
      },
      "execution_count": 39,
      "outputs": []
    },
    {
      "cell_type": "code",
      "source": [
        "filtered_df_disc_sum = filtered_df[filtered_df[\"CATEGORY\"] == 'Discharge summary'].reset_index()\n",
        "print(len(filtered_df_disc_sum))\n",
        "print(filtered_df_disc_sum.head(5))"
      ],
      "metadata": {
        "colab": {
          "base_uri": "https://localhost:8080/"
        },
        "id": "uq8Tyrvl3kgR",
        "outputId": "57672621-1062-42a8-f8e1-92426a1cd23b"
      },
      "execution_count": 40,
      "outputs": [
        {
          "output_type": "stream",
          "name": "stdout",
          "text": [
            "55988\n",
            "   index  ROW_ID  SUBJECT_ID   HADM_ID   CHARTDATE CHARTTIME STORETIME  \\\n",
            "0      0     174       22532  167853.0  2151-08-04       NaN       NaN   \n",
            "1      1     170       22532  167853.0  2151-08-04       NaN       NaN   \n",
            "2     32     175       13702  107527.0  2118-06-14       NaN       NaN   \n",
            "3     79     176       13702  167118.0  2119-05-25       NaN       NaN   \n",
            "4    186     177       13702  196489.0  2124-08-18       NaN       NaN   \n",
            "\n",
            "            CATEGORY DESCRIPTION  CGID  ISERROR  \\\n",
            "0  Discharge summary      Report   NaN      NaN   \n",
            "1  Discharge summary      Report   NaN      NaN   \n",
            "2  Discharge summary      Report   NaN      NaN   \n",
            "3  Discharge summary      Report   NaN      NaN   \n",
            "4  Discharge summary      Report   NaN      NaN   \n",
            "\n",
            "                                                TEXT  \n",
            "0  Admission Date:  [**2151-7-16**]       Dischar...  \n",
            "1  Admission Date:  [**2151-7-16**]       Dischar...  \n",
            "2  Admission Date:  [**2118-6-2**]       Discharg...  \n",
            "3  Admission Date:  [**2119-5-4**]              D...  \n",
            "4  Admission Date:  [**2124-7-21**]              ...  \n"
          ]
        }
      ]
    },
    {
      "cell_type": "markdown",
      "metadata": {
        "id": "LtkOmANy0TNN"
      },
      "source": [
        "Test code for sentence generator"
      ]
    },
    {
      "cell_type": "markdown",
      "metadata": {
        "id": "Gg-GmTrg0i6h"
      },
      "source": [
        "Word2Vec training using gensim."
      ]
    },
    {
      "cell_type": "code",
      "execution_count": 43,
      "metadata": {
        "colab": {
          "base_uri": "https://localhost:8080/"
        },
        "id": "ExAuM0OwB9a5",
        "outputId": "7bc9418b-bf87-4c31-964b-dbcdccfdc868"
      },
      "outputs": [
        {
          "output_type": "stream",
          "name": "stdout",
          "text": [
            "total 3.9G\n",
            "-rw------- 1 root root  19M Mar 19  2019 DIAGNOSES_ICD.csv\n",
            "-rw------- 1 root root 3.8G Jun 14  2019 NOTEEVENTS.csv\n",
            "-rw------- 1 root root  51M Apr 14 07:48 word2vec-4.model\n",
            "-rw------- 1 root root  78M Apr 13 08:14 word2vec.model\n"
          ]
        }
      ],
      "source": [
        "!ls -lh \"/content/drive/My Drive/DLH Final Project/mimic3/\""
      ]
    },
    {
      "cell_type": "code",
      "source": [
        "# multi-hot encoding for icd_codes for a given admission\n",
        "\n",
        "series_admissions_with_top_diseases_grouped = \\\n",
        "df_admissions_with_top_diseases.groupby(['SUBJECT_ID', \n",
        "                                         'HADM_ID'])['ICD9_CODE'].apply(list)\n",
        "\n",
        "df_admissions_with_top_diseases_grouped = \\\n",
        "series_admissions_with_top_diseases_grouped.to_frame().reset_index()"
      ],
      "metadata": {
        "id": "gGwGhxO0K5Bv"
      },
      "execution_count": 44,
      "outputs": []
    },
    {
      "cell_type": "code",
      "source": [
        "sorted_top_icd_codes = sorted(top_icd_codes)\n",
        "icd_code_to_idx = dict((k, v) for v, k in enumerate(sorted_top_icd_codes))"
      ],
      "metadata": {
        "id": "n-MxiQuQTZWm"
      },
      "execution_count": 45,
      "outputs": []
    },
    {
      "cell_type": "code",
      "source": [
        "# new col to be added to dataframe\n",
        "multi_hot_ecoding_col = list()\n",
        "for idx in range(len(df_admissions_with_top_diseases_grouped)):\n",
        "  icd_codes = df_admissions_with_top_diseases_grouped.iloc[idx]['ICD9_CODE']\n",
        "  encoding = [0] * 50\n",
        "  for code in icd_codes:\n",
        "    encoding[icd_code_to_idx[code]] = 1    \n",
        "  multi_hot_ecoding_col.append(encoding)\n",
        "\n",
        "df_admissions_with_top_diseases_grouped['ICD9_CODE_ENCODED'] = multi_hot_ecoding_col"
      ],
      "metadata": {
        "id": "S7vIzsO9V-63"
      },
      "execution_count": 46,
      "outputs": []
    },
    {
      "cell_type": "code",
      "source": [
        "# create our final dataset by joining \n",
        "# df_admissions_with_top_diseases_grouped and filtered_df_disc_sum\n",
        "df_dataset = pd.merge(filtered_df_disc_sum, \n",
        "                      df_admissions_with_top_diseases_grouped, \n",
        "                      on=[\"SUBJECT_ID\", \"HADM_ID\"])"
      ],
      "metadata": {
        "id": "IS1LWaH4X6pa"
      },
      "execution_count": 48,
      "outputs": []
    },
    {
      "cell_type": "code",
      "source": [
        "# extract symptoms from the text, currently we treat all tokens as symptoms\n",
        "# need to add all the filters discussed in the paper.\n",
        "sgen = MySentences(df_dataset)\n",
        "symptom_col = list()\n",
        "for s in sgen:\n",
        "  symptom_col.append(s)\n",
        "  \n",
        "# add the new column to the dataset.\n",
        "df_dataset[\"SYMPTOMS\"] = symptom_col"
      ],
      "metadata": {
        "id": "GFO96uEPsVC6"
      },
      "execution_count": null,
      "outputs": []
    },
    {
      "cell_type": "markdown",
      "source": [
        "# Generate Word2Vec Embeddings"
      ],
      "metadata": {
        "id": "RIwaO1C1td27"
      }
    },
    {
      "cell_type": "code",
      "execution_count": 42,
      "metadata": {
        "id": "xElMsqPx0sc9"
      },
      "outputs": [],
      "source": [
        "# NOTE: commenting this part so that we dont run this by mistake.\n",
        "\n",
        "# import gensim\n",
        "# sgen = MySentences(df_dataset) # a memory-friendly iterator\n",
        "# model = gensim.models.Word2Vec(sgen, min_count=5, workers=4, sample=1e-05)\n",
        "# model.save(\"/content/drive/My Drive/DLH Final Project/mimic3/word2vec-4.model\")"
      ]
    },
    {
      "cell_type": "markdown",
      "source": [
        "# Construct dataset with Word2Vec embeddings"
      ],
      "metadata": {
        "id": "crLZigFVcbeZ"
      }
    },
    {
      "cell_type": "code",
      "source": [
        "from gensim.models import Word2Vec\n",
        "model = Word2Vec.load('/content/drive/My Drive/DLH Final Project/mimic3/word2vec-4.model')"
      ],
      "metadata": {
        "id": "CE5ABBKOcw21"
      },
      "execution_count": 51,
      "outputs": []
    },
    {
      "cell_type": "code",
      "source": [
        "vector = model.wv['hemorrhage']\n",
        "vector"
      ],
      "metadata": {
        "id": "duuzp2nudxTV"
      },
      "execution_count": null,
      "outputs": []
    },
    {
      "cell_type": "code",
      "source": [
        "model.wv.most_similar('hemorrhage', topn=10)"
      ],
      "metadata": {
        "id": "3LEcmQqId8gQ",
        "outputId": "5c67f0b1-8ef1-4410-a0c6-da4144372a40",
        "colab": {
          "base_uri": "https://localhost:8080/"
        }
      },
      "execution_count": 53,
      "outputs": [
        {
          "output_type": "execute_result",
          "data": {
            "text/plain": [
              "[('intraparenchymal', 0.902775228023529),\n",
              " ('subarachnoid', 0.8910377621650696),\n",
              " ('intraventricular', 0.8485040664672852),\n",
              " ('intracerebral', 0.8260278105735779),\n",
              " ('temporoparietal', 0.8176181316375732),\n",
              " ('thalamic', 0.8115888833999634),\n",
              " ('evolution', 0.8070071339607239),\n",
              " ('hemispheric', 0.8048758506774902),\n",
              " ('frontoparietal', 0.8016946911811829),\n",
              " ('intracranial', 0.7956364750862122)]"
            ]
          },
          "metadata": {},
          "execution_count": 53
        }
      ]
    },
    {
      "cell_type": "code",
      "source": [
        "X_word2vec = list()\n",
        "for idx in range(len(df_dataset)):\n",
        "  # ignore words in not vocabulary\n",
        "  symptoms = df_dataset[\"SYMPTOMS\"]\n",
        "  symptoms_emb = [model.wv[s] for s in symptoms if w in model.wv]\n",
        "  X_word2vec.append(symptoms_emb)\n",
        "\n",
        "# multi-hot encoding for ICD codes diagnosed.\n",
        "y = df_dataset['ICD9_CODE_ENCODED']"
      ],
      "metadata": {
        "id": "YQu3AEBEfbF3"
      },
      "execution_count": 54,
      "outputs": []
    },
    {
      "cell_type": "code",
      "source": [
        "import pickle\n",
        "pfile = open(\"/content/drive/My Drive/DLH Final Project/X_word2vec\", \"ab\")\n",
        "pickle.dump(X_word2vec, pfile)\n",
        "pfile.close()"
      ],
      "metadata": {
        "id": "QTY-rPP6l2zJ",
        "outputId": "c82b33a8-cff3-4daa-faf6-abd840c8a51d",
        "colab": {
          "base_uri": "https://localhost:8080/",
          "height": 222
        }
      },
      "execution_count": 1,
      "outputs": [
        {
          "output_type": "error",
          "ename": "NameError",
          "evalue": "ignored",
          "traceback": [
            "\u001b[0;31m---------------------------------------------------------------------------\u001b[0m",
            "\u001b[0;31mNameError\u001b[0m                                 Traceback (most recent call last)",
            "\u001b[0;32m<ipython-input-1-64b5e55cac97>\u001b[0m in \u001b[0;36m<module>\u001b[0;34m()\u001b[0m\n\u001b[1;32m      1\u001b[0m \u001b[0;32mimport\u001b[0m \u001b[0mpickle\u001b[0m\u001b[0;34m\u001b[0m\u001b[0;34m\u001b[0m\u001b[0m\n\u001b[1;32m      2\u001b[0m \u001b[0mpfile\u001b[0m \u001b[0;34m=\u001b[0m \u001b[0mopen\u001b[0m\u001b[0;34m(\u001b[0m\u001b[0;34m\"/content/drive/My Drive/DLH Final Project/X_word2vec\"\u001b[0m\u001b[0;34m,\u001b[0m \u001b[0;34m\"ab\"\u001b[0m\u001b[0;34m)\u001b[0m\u001b[0;34m\u001b[0m\u001b[0;34m\u001b[0m\u001b[0m\n\u001b[0;32m----> 3\u001b[0;31m \u001b[0mpickle\u001b[0m\u001b[0;34m.\u001b[0m\u001b[0mdump\u001b[0m\u001b[0;34m(\u001b[0m\u001b[0mX_word2vec\u001b[0m\u001b[0;34m,\u001b[0m \u001b[0mpfile\u001b[0m\u001b[0;34m)\u001b[0m\u001b[0;34m\u001b[0m\u001b[0;34m\u001b[0m\u001b[0m\n\u001b[0m\u001b[1;32m      4\u001b[0m \u001b[0mpfile\u001b[0m\u001b[0;34m.\u001b[0m\u001b[0mclose\u001b[0m\u001b[0;34m(\u001b[0m\u001b[0;34m)\u001b[0m\u001b[0;34m\u001b[0m\u001b[0;34m\u001b[0m\u001b[0m\n",
            "\u001b[0;31mNameError\u001b[0m: name 'X_word2vec' is not defined"
          ]
        }
      ]
    },
    {
      "cell_type": "markdown",
      "source": [
        "# Construct data with TF-IDF encoding"
      ],
      "metadata": {
        "id": "V8Q5MAs2xjDh"
      }
    },
    {
      "cell_type": "code",
      "source": [
        "import numpy as np\n",
        "import itertools\n",
        "\n",
        "vocab_size = len(model.wv)\n",
        "tf = np.zeros((len(model.wv), len(top_icd_codes)))\n",
        "sgen = MySentences(df_dataset)\n",
        "for idx, s in enumerate(sgen):\n",
        "  # XXX: TODO currently we treat all tokens from \"TEXT\" as sypmtoms\n",
        "  # get the icd codes for this discharge summary\n",
        "  icd_codes = df_dataset['ICD9_CODE'][idx]\n",
        "  # create a cross product of symptoms and icd codes\n",
        "  # and update tf matrix. tf matrix keeps count of how many \n",
        "  # (i.e frequency) times <symptom, icd code> pair occur in our dataset.\n",
        "  for pair in itertools.product(s, icd_codes):\n",
        "    # update count of each (symptom, icd_code) pair to compute TF\n",
        "    if pair[0] in model.wv:\n",
        "      tf[model.wv.get_index(pair[0])][icd_code_to_idx[pair[1]]] += 1\n",
        "\n",
        "# Complete the TF-IDF matrix computation.\n",
        "# Compute the number of ICD Codes (i.e diseaes) each \n",
        "# symptom is associated with.\n",
        "D_i = np.sum(tf > 0, axis=1)\n",
        "print(D_i.shape)\n",
        "\n",
        "log_N_Di = np.log(len(top_icd_codes)/D_i)\n",
        "tf_idf = (tf.T * log_N_Di).T\n",
        "print(tf_idf.shape)"
      ],
      "metadata": {
        "id": "YOGw0qxSxrZ3",
        "outputId": "8e7ed8e3-bf0a-4016-dbeb-0350028b4179",
        "colab": {
          "base_uri": "https://localhost:8080/"
        }
      },
      "execution_count": 65,
      "outputs": [
        {
          "output_type": "stream",
          "name": "stdout",
          "text": [
            "(64259,)\n",
            "(64259, 50)\n"
          ]
        }
      ]
    },
    {
      "cell_type": "code",
      "source": [
        "import pickle\n",
        "pfile = open(\"/content/drive/My Drive/DLH Final Project/tf-idf\", \"ab\")\n",
        "pickle.dump(tf_idf, pfile)\n",
        "pfile.close()"
      ],
      "metadata": {
        "id": "NfX2Y0FvZy9m"
      },
      "execution_count": 66,
      "outputs": []
    },
    {
      "cell_type": "code",
      "source": [
        "# build the X_tfidf dataset\n",
        "sgen = MySentences(df_dataset)\n",
        "for idx, s in enumerate(sgen):\n"
      ],
      "metadata": {
        "id": "W-9C5XBuiOJ3",
        "outputId": "5f0a3a1d-2fec-48c9-f2f8-a279c0584c86",
        "colab": {
          "base_uri": "https://localhost:8080/"
        }
      },
      "execution_count": 69,
      "outputs": [
        {
          "output_type": "stream",
          "name": "stdout",
          "text": [
            "total 25M\n",
            "-rw------- 1 root root  54K Apr 13 17:57 'CS598 Deep Learning For Healthcare Final Project'\n",
            "drwx------ 2 root root 4.0K Apr 13 18:46  metamap\n",
            "drwx------ 2 root root 4.0K Apr 14 07:48  mimic3\n",
            "-rw------- 1 root root  25M Apr 14 10:05  tf-idf\n"
          ]
        }
      ]
    }
  ],
  "metadata": {
    "colab": {
      "collapsed_sections": [],
      "name": "CS598 Deep Learning For Healthcare Final Project",
      "provenance": [],
      "machine_shape": "hm",
      "background_execution": "on",
      "include_colab_link": true
    },
    "kernelspec": {
      "display_name": "Python 3",
      "name": "python3"
    },
    "language_info": {
      "name": "python"
    }
  },
  "nbformat": 4,
  "nbformat_minor": 0
}